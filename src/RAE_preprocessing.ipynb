{
  "nbformat": 4,
  "nbformat_minor": 0,
  "metadata": {
    "colab": {
      "provenance": []
    },
    "kernelspec": {
      "name": "python3",
      "display_name": "Python 3"
    },
    "language_info": {
      "name": "python"
    }
  },
  "cells": [
    {
      "cell_type": "code",
      "source": [
        "import pandas as pd\n",
        "import numpy as np\n",
        "import sys,os\n",
        "from collections import Counter"
      ],
      "metadata": {
        "id": "EB1Y57-JH0AS"
      },
      "execution_count": null,
      "outputs": []
    },
    {
      "cell_type": "code",
      "source": [
        "!unzip /content/drive/MyDrive/initial_data.zip"
      ],
      "metadata": {
        "colab": {
          "base_uri": "https://localhost:8080/"
        },
        "id": "RB3izO9WIgez",
        "outputId": "1a2eff37-39f1-44f0-c27d-69af7ac3dbba"
      },
      "execution_count": null,
      "outputs": [
        {
          "output_type": "stream",
          "name": "stdout",
          "text": [
            "Archive:  /content/drive/MyDrive/initial_data.zip\n",
            "   creating: initial_data/NORMAL_PERMITS/\n",
            "  inflating: initial_data/NORMAL_PERMITS/Vevaioseis-APE.xlsx  \n",
            "  inflating: initial_data/NORMAL_PERMITS/ЛЖТРЧО-АГДИЧМ-ДРВА-АПД-OKTЧБРИОС-2023.xlsx  \n",
            "  inflating: initial_data/NORMAL_PERMITS/ЛЖТРЧО-АГДИЧМ-ДРВА-АПД-ИАМОУАРИОС-2023.xlsx  \n",
            "  inflating: initial_data/NORMAL_PERMITS/ЛЖТРЧО-АГДИЧМ-ДРВА-АПД-ИОУКИОС-2023.xlsx  \n",
            "  inflating: initial_data/NORMAL_PERMITS/ЛЖТРЧО-АГДИЧМ-ДРВА-АПД-ИОУМИОС-2023.xlsx  \n",
            "  inflating: initial_data/NORMAL_PERMITS/ЛЖТРЧО-АГДИЧМ-ДРВА-АПД-ЛАIOС-2023.xlsx  \n",
            "  inflating: initial_data/NORMAL_PERMITS/ЛЖТРЧО-АГДИЧМ-ДРВА-АПД-ЛАРТИОС-2023.xlsx  \n",
            "  inflating: initial_data/NORMAL_PERMITS/ЛЖТРЧО-АГДИЧМ-ДРВА-АПД-ЛАРТИОС-2024.xlsx  \n",
            "  inflating: initial_data/NORMAL_PERMITS/ЛЖТРЧО-АГДИЧМ-ДРВА-АПД-МОДЛБРИОС-2023.xlsx  \n",
            "  inflating: initial_data/NORMAL_PERMITS/ЛЖТРЧО-АГДИЧМ-ДРВА-АПД-СДПТДЛБРИОС-2023-1.xlsx  \n",
            "  inflating: initial_data/NORMAL_PERMITS/ЛЖТРЧО-АГДИЧМ-ДРВА-АПД-ФДБРОУАРИОС-2023.xlsx  \n",
            "  inflating: initial_data/NORMAL_PERMITS/ЛЖТРЧО-АГДИЧМ-ДРВА-АПД-ФДБРОУАРИОС-2024.xlsx  \n",
            "  inflating: initial_data/NORMAL_PERMITS/М.4685_1.xlsx  \n",
            "  inflating: initial_data/NORMAL_PERMITS/М.4685-ЛЖТРЧО-АГДИЧМ-ДРВА-АПД-АУВОУСТОС-2021.xlsx  \n",
            "  inflating: initial_data/NORMAL_PERMITS/М.4685-ЛЖТРЧО-АГДИЧМ-ДРВА-АПД-ГДЙДЛБРИОС-2022.xlsx  \n",
            "  inflating: initial_data/NORMAL_PERMITS/М.4685-ЛЖТРЧО-АГДИЧМ-ДРВА-АПД-ЛАЇОС-2021.xlsx  \n",
            "  inflating: initial_data/NORMAL_PERMITS/М.4685-ЛЖТРЧО-АГДИЧМ-ДРВА-АПД-ЛАРТИОС-2021-v1.xlsx  \n",
            "  inflating: initial_data/NORMAL_PERMITS/М.4685-ЛЖТРЧО-АГДИЧМ-ДРВА-АПД-ОЙТЧБРИОС-2021.xlsx  \n",
            "  inflating: initial_data/NORMAL_PERMITS/М.4685-ЛЖТРЧО-АГДИЧМ-ДРВА-АПД-СДПТДЛБРИОС-2022.xlsx  \n",
            "   creating: initial_data/SPECIAL_PERMITS/\n",
            "  inflating: initial_data/SPECIAL_PERMITS/1220s.xlsx  \n",
            "  inflating: initial_data/SPECIAL_PERMITS/ЛЖТРЧО-АГДИЧМ-ДИГИЙА-ДРВА-АПД-ИАМОУАРИОС-2023.xlsx  \n",
            "  inflating: initial_data/SPECIAL_PERMITS/ЛЖТРЧО-АГДИЧМ-ДИГИЙА-ДРВА-АПД-ИОУКИОС-2023.xlsx  \n",
            "  inflating: initial_data/SPECIAL_PERMITS/ЛЖТРЧО-АГДИЧМ-ДИГИЙА-ДРВА-АПД-ИОУМИОС-2023.xlsx  \n",
            "  inflating: initial_data/SPECIAL_PERMITS/ЛЖТРЧО-АГДИЧМ-ДИГИЙА-ДРВА-АПД-ЛАИОС-2023.xlsx  \n",
            "  inflating: initial_data/SPECIAL_PERMITS/ЛЖТРЧО-АГДИЧМ-ДИГИЙА-ДРВА-АПД-ЛАРТИОС-2023.xlsx  \n",
            "  inflating: initial_data/SPECIAL_PERMITS/ЛЖТРЧО-АГДИЧМ-ДИГИЙА-ДРВА-АПД-ЛАРТИОС-2024.xlsx  \n",
            "  inflating: initial_data/SPECIAL_PERMITS/ЛЖТРЧО-АГДИЧМ-ДИГИЙА-ДРВА-АПД-МОДЛБРИОС-2023.xlsx  \n",
            "  inflating: initial_data/SPECIAL_PERMITS/ЛЖТРЧО-АГДИЧМ-ДИГИЙА-ДРВА-АПД-ОЙТЧБРИОС-2023.xlsx  \n",
            "  inflating: initial_data/SPECIAL_PERMITS/ЛЖТРЧО-АГДИЧМ-ДИГИЙА-ДРВА-АПД-СДПТДЛБРИОС-2023.xlsx  \n",
            "  inflating: initial_data/SPECIAL_PERMITS/ЛЖТРЧО-АГДИЧМ-ДИГИЙА-ДРВА-АПД-ФДБРОУАРИОС-2023.xlsx  \n",
            "  inflating: initial_data/SPECIAL_PERMITS/ЛЖТРЧО-АГДИЧМ-ДИГИЙА-ДРВА-АПД-ФДБРОУАРИОС-2024.xlsx  \n",
            "  inflating: initial_data/SPECIAL_PERMITS/М.4685_3.xlsx  \n",
            "  inflating: initial_data/SPECIAL_PERMITS/М.4685-ЛЖТРЧО-АГДИЧМ-ДИГИЙА-ДРВА-АПД-АУВОУСТОС-2021.xlsx  \n",
            "  inflating: initial_data/SPECIAL_PERMITS/М.4685-ЛЖТРЧО-АГДИЧМ-ДИГИЙА-ДРВА-АПД-ГДЙДЛБРИОС-2022.xlsx  \n",
            "  inflating: initial_data/SPECIAL_PERMITS/М.4685-ЛЖТРЧО-АГДИЧМ-ДИГИЙА-ДРВА-АПД-ЛАЇОС-2021.xlsx  \n",
            "  inflating: initial_data/SPECIAL_PERMITS/М.4685-ЛЖТРЧО-АГДИЧМ-ДИГИЙА-ДРВА-АПД-ЛАРТИОС-2021.xlsx  \n",
            "  inflating: initial_data/SPECIAL_PERMITS/М.4685-ЛЖТРЧО-АГДИЧМ-ДИГИЙА-ДРВА-АПД-ОЙТЧБРИОС-2021.xlsx  \n",
            "  inflating: initial_data/SPECIAL_PERMITS/М.4685-ЛЖТРЧО-АГДИЧМ-ДИГИЙА-ДРВА-АПД-СДПТДЛБРИОС-2022.xlsx  \n"
          ]
        }
      ]
    },
    {
      "cell_type": "code",
      "source": [
        "# !unzip /content/drive/MyDrive/MARIOS_data.zip"
      ],
      "metadata": {
        "id": "aMWLd6fWI1pA"
      },
      "execution_count": null,
      "outputs": []
    },
    {
      "cell_type": "code",
      "source": [
        "def rename_cols(df):\n",
        "    df_copy = df.copy()\n",
        "    for col in  df_copy.columns:\n",
        "        if col == 'ΙΣΧΥΣ (MW)' :\n",
        "            df_copy.rename(columns={col:'ΜΕΓΙΣΤΗ ΙΣΧΥΣ (MW)'},inplace= True)\n",
        "        if col ==  'ΑΡ. ΒΕΒΑΙΩΣΗΣ ΡΑΕ':\n",
        "            df_copy.drop(columns=['ΑΡ. ΒΕΒΑΙΩΣΗΣ ΡΑΕ'],inplace=True)\n",
        "        if col ==  'ΑΡ. ΜΗΤΡΩΟΥ ΑΔΕΙΩΝ ΡΑΕ':\n",
        "            df_copy.rename(columns={col:'AΡΙΘΜΟΣ ΜΗΤΡΩΟΥ ΑΔΕΙΩΝ'},inplace= True)\n",
        "\n",
        "    return df_copy"
      ],
      "metadata": {
        "id": "vhY4xT3EKb9q"
      },
      "execution_count": null,
      "outputs": []
    },
    {
      "cell_type": "code",
      "source": [
        "NORMAL_PERMITS_path = './initial_data/NORMAL_PERMITS'\n",
        "SPECIAL_PERMIT_path = './initial_data/SPECIAL_PERMITS'\n",
        "\n",
        "path_list=[SPECIAL_PERMIT_path,NORMAL_PERMITS_path]\n",
        "# Για εργασία page exploratory\n",
        "columns_list_unique,tail_permits,count_nan_columns_list = [],[],[]\n",
        "length_per_file_list,name_file_list,drop_bebaiosi_rae =[],[],[]\n",
        "# End of page exploratory\n",
        "c=0\n",
        "# collect_column_names =[]\n",
        "# cols_number_list =[]\n",
        "df_list=[]\n",
        "summa=0\n",
        "\n",
        "for p in path_list:\n",
        "    for files in os.listdir(p):\n",
        "        print(files)\n",
        "        flag_self_productor = False\n",
        "        flag_contains = False\n",
        "        #\n",
        "        name_file_list.append(files)\n",
        "\n",
        "        temp_df = pd.read_excel(f'{p}/{files}',sheet_name='ΑΔΕΙΕΣ ΑΠΕ')\n",
        "        temp_df.columns = temp_df.iloc[0] # take the first row\n",
        "        columns_with_nan_names = [col for col in temp_df.columns if col!=col]\n",
        "        count_nan_columns_list.append(len(columns_with_nan_names))\n",
        "\n",
        "    #     print(len(columns_with_nan_names))\n",
        "        if len(columns_with_nan_names)!=0:\n",
        "            temp_df.drop(columns_with_nan_names,axis=1,inplace=True)\n",
        "\n",
        "        temp_df = temp_df.drop(0) # Drop the big starting title\n",
        "        temp_df.columns.name = None #Erase the index for columns beecause previously they were rows\n",
        "        temp_df.reset_index(inplace=True,drop=True) #Reset the index\n",
        "\n",
        "        if temp_df.tail(1).iloc[:,0].to_string(index=False)=='** Αυτοπαραγωγός': # Tελευταίο στοιχείο έχει στοιχείο αυτοπαραγωγός\n",
        "#             print('check this file')\n",
        "            # tail_permits.append(temp_df.tail(1).iloc[:,0].to_string(index=False))\n",
        "            flag_self_productor = True\n",
        "            temp_df.drop(temp_df.tail(1).index,inplace=True)\n",
        "\n",
        "        if 'Δεν συμπεριλαμβάνονται' in temp_df.tail(1).iloc[:,0].to_string(index=False):\n",
        "            #print('check double this file')\n",
        "            flag_contains = True\n",
        "            # tail_permits.append(temp_df.tail(1).iloc[:,0].to_string(index=False))\n",
        "            temp_df.drop(temp_df.tail(1).index,inplace=True)\n",
        "        temp_df.reset_index(inplace=True,drop=True) #Reset the index\n",
        "        #1 Δεν συμπεριλαμβάνονται υβριδικοί σταθμοί #2 ** Αυτοπαραγωγός\n",
        "        if flag_self_productor and flag_contains:\n",
        "          tail_permits.append('** Αυτοπαραγωγός , Δεν συμπεριλαμβάνονται υβριδικοί σταθμοί')\n",
        "        elif flag_self_productor:\n",
        "          tail_permits.append('** Αυτοπαραγωγός')\n",
        "        elif flag_contains:\n",
        "          tail_permits.append('Δεν συμπεριλαμβάνονται υβριδικοί σταθμοί')\n",
        "        else:\n",
        "          tail_permits.append(' ')\n",
        "\n",
        "\n",
        "        columns_list_unique.append(','.join(temp_df.columns))\n",
        "        drop_bebaiosi_rae.append(f\"Total:{len(temp_df)} Nan:{temp_df['ΑΡ. ΒΕΒΑΙΩΣΗΣ ΡΑΕ'].isna().sum()}\" if col=='ΑΡ. ΒΕΒΑΙΩΣΗΣ ΡΑΕ' else 'NOT EXIST' for col in temp_df.columns if col=='ΑΡ. ΒΕΒΑΙΩΣΗΣ ΡΑΕ')\n",
        "        f_temp_df = rename_cols(temp_df.copy())\n",
        "        print('Number of rows',len(f_temp_df),'Number of columns',len(f_temp_df.columns))\n",
        "        summa += len(f_temp_df)\n",
        "#         print(len(f_temp_df.columns))\n",
        "        if len(f_temp_df.columns)<15:\n",
        "            df_list.append(f_temp_df)\n",
        "            length_per_file_list.append(len(f_temp_df))"
      ],
      "metadata": {
        "colab": {
          "base_uri": "https://localhost:8080/"
        },
        "id": "r04M_JJCJa41",
        "outputId": "8e09f0ff-04b1-4642-8cf9-ce079d38fdf8"
      },
      "execution_count": null,
      "outputs": [
        {
          "output_type": "stream",
          "name": "stdout",
          "text": [
            "М.4685-ЛЖТРЧО-АГДИЧМ-ДИГИЙА-ДРВА-АПД-ГДЙДЛБРИОС-2022.xlsx\n",
            "Number of rows 198 Number of columns 13\n",
            "М.4685-ЛЖТРЧО-АГДИЧМ-ДИГИЙА-ДРВА-АПД-ЛАЇОС-2021.xlsx\n",
            "Number of rows 182 Number of columns 13\n",
            "ЛЖТРЧО-АГДИЧМ-ДИГИЙА-ДРВА-АПД-СДПТДЛБРИОС-2023.xlsx\n",
            "Number of rows 206 Number of columns 13\n",
            "ЛЖТРЧО-АГДИЧМ-ДИГИЙА-ДРВА-АПД-ОЙТЧБРИОС-2023.xlsx\n",
            "Number of rows 206 Number of columns 13\n",
            "1220s.xlsx\n",
            "Number of rows 184 Number of columns 13\n",
            "ЛЖТРЧО-АГДИЧМ-ДИГИЙА-ДРВА-АПД-ИАМОУАРИОС-2023.xlsx\n",
            "Number of rows 206 Number of columns 13\n",
            "М.4685-ЛЖТРЧО-АГДИЧМ-ДИГИЙА-ДРВА-АПД-СДПТДЛБРИОС-2022.xlsx\n",
            "Number of rows 198 Number of columns 13\n",
            "ЛЖТРЧО-АГДИЧМ-ДИГИЙА-ДРВА-АПД-ФДБРОУАРИОС-2024.xlsx\n",
            "Number of rows 200 Number of columns 13\n",
            "ЛЖТРЧО-АГДИЧМ-ДИГИЙА-ДРВА-АПД-ФДБРОУАРИОС-2023.xlsx\n",
            "Number of rows 205 Number of columns 13\n",
            "М.4685-ЛЖТРЧО-АГДИЧМ-ДИГИЙА-ДРВА-АПД-АУВОУСТОС-2021.xlsx\n",
            "Number of rows 182 Number of columns 13\n",
            "ЛЖТРЧО-АГДИЧМ-ДИГИЙА-ДРВА-АПД-ЛАРТИОС-2024.xlsx\n",
            "Number of rows 198 Number of columns 13\n",
            "ЛЖТРЧО-АГДИЧМ-ДИГИЙА-ДРВА-АПД-ИОУКИОС-2023.xlsx\n",
            "Number of rows 203 Number of columns 13\n",
            "ЛЖТРЧО-АГДИЧМ-ДИГИЙА-ДРВА-АПД-ИОУМИОС-2023.xlsx\n",
            "Number of rows 203 Number of columns 13\n",
            "М.4685-ЛЖТРЧО-АГДИЧМ-ДИГИЙА-ДРВА-АПД-ОЙТЧБРИОС-2021.xlsx\n",
            "Number of rows 193 Number of columns 13\n",
            "ЛЖТРЧО-АГДИЧМ-ДИГИЙА-ДРВА-АПД-ЛАИОС-2023.xlsx\n",
            "Number of rows 205 Number of columns 13\n",
            "М.4685_3.xlsx\n",
            "Number of rows 201 Number of columns 13\n",
            "М.4685-ЛЖТРЧО-АГДИЧМ-ДИГИЙА-ДРВА-АПД-ЛАРТИОС-2021.xlsx\n",
            "Number of rows 183 Number of columns 13\n",
            "ЛЖТРЧО-АГДИЧМ-ДИГИЙА-ДРВА-АПД-МОДЛБРИОС-2023.xlsx\n",
            "Number of rows 201 Number of columns 13\n",
            "ЛЖТРЧО-АГДИЧМ-ДИГИЙА-ДРВА-АПД-ЛАРТИОС-2023.xlsx\n",
            "Number of rows 205 Number of columns 13\n",
            "ЛЖТРЧО-АГДИЧМ-ДРВА-АПД-ЛАРТИОС-2024.xlsx\n",
            "Number of rows 5211 Number of columns 13\n",
            "ЛЖТРЧО-АГДИЧМ-ДРВА-АПД-ИАМОУАРИОС-2023.xlsx\n",
            "Number of rows 5231 Number of columns 13\n",
            "ЛЖТРЧО-АГДИЧМ-ДРВА-АПД-ИОУКИОС-2023.xlsx\n",
            "Number of rows 5403 Number of columns 13\n",
            "М.4685-ЛЖТРЧО-АГДИЧМ-ДРВА-АПД-ГДЙДЛБРИОС-2022.xlsx\n",
            "Number of rows 4819 Number of columns 13\n",
            "М.4685-ЛЖТРЧО-АГДИЧМ-ДРВА-АПД-АУВОУСТОС-2021.xlsx\n",
            "Number of rows 4839 Number of columns 13\n",
            "Vevaioseis-APE.xlsx\n",
            "Number of rows 2839 Number of columns 13\n",
            "ЛЖТРЧО-АГДИЧМ-ДРВА-АПД-ФДБРОУАРИОС-2024.xlsx\n",
            "Number of rows 5333 Number of columns 13\n",
            "М.4685-ЛЖТРЧО-АГДИЧМ-ДРВА-АПД-ОЙТЧБРИОС-2021.xlsx\n",
            "Number of rows 5184 Number of columns 13\n",
            "ЛЖТРЧО-АГДИЧМ-ДРВА-АПД-ИОУМИОС-2023.xlsx\n",
            "Number of rows 5390 Number of columns 13\n",
            "М.4685_1.xlsx\n",
            "Number of rows 5210 Number of columns 13\n",
            "ЛЖТРЧО-АГДИЧМ-ДРВА-АПД-ЛАIOС-2023.xlsx\n",
            "Number of rows 5336 Number of columns 13\n",
            "М.4685-ЛЖТРЧО-АГДИЧМ-ДРВА-АПД-ЛАЇОС-2021.xlsx\n",
            "Number of rows 4559 Number of columns 13\n",
            "М.4685-ЛЖТРЧО-АГДИЧМ-ДРВА-АПД-ЛАРТИОС-2021-v1.xlsx\n",
            "Number of rows 3323 Number of columns 13\n",
            "ЛЖТРЧО-АГДИЧМ-ДРВА-АПД-СДПТДЛБРИОС-2023-1.xlsx\n",
            "Number of rows 5395 Number of columns 13\n",
            "ЛЖТРЧО-АГДИЧМ-ДРВА-АПД-OKTЧБРИОС-2023.xlsx\n",
            "Number of rows 5469 Number of columns 13\n",
            "ЛЖТРЧО-АГДИЧМ-ДРВА-АПД-ФДБРОУАРИОС-2023.xlsx\n",
            "Number of rows 5250 Number of columns 13\n",
            "М.4685-ЛЖТРЧО-АГДИЧМ-ДРВА-АПД-СДПТДЛБРИОС-2022.xlsx\n",
            "Number of rows 4819 Number of columns 13\n",
            "ЛЖТРЧО-АГДИЧМ-ДРВА-АПД-ЛАРТИОС-2023.xlsx\n",
            "Number of rows 5316 Number of columns 13\n",
            "ЛЖТРЧО-АГДИЧМ-ДРВА-АПД-МОДЛБРИОС-2023.xlsx\n",
            "Number of rows 5410 Number of columns 13\n"
          ]
        }
      ]
    },
    {
      "cell_type": "code",
      "source": [
        "# from pprint import pprint\n",
        "# pprint(drop_bebaiosi_rae)"
      ],
      "metadata": {
        "id": "FtfH45tFZzjz"
      },
      "execution_count": null,
      "outputs": []
    },
    {
      "cell_type": "code",
      "source": [
        "# stringa_1 = ','.join(['ΑΡ. ΜΗΤΡΩΟΥ ΑΔΕΙΩΝ ΡΑΕ',' ΑΙΤΗΣΗ', 'ΠΕΡΙΦΕΡΕΙΑΚΗ ΕΝΟΤΗΤΑ', 'ΕΤΑΙΡΕΙΑ', 'ΔΗΜΟΣ' , 'ΤΕΧΝΟΛΟΓΙΑ',' ΠΕΡΙΦΕΡΕΙΑ', 'ΔΗΜΟΤΙΚΗ ΕΝΟΤΗΤΑ', 'ΗΜΕΡΟΜΗΝΙΑ ΛΗΞΗΣ ΑΔ.ΠΑΡΑΓΩΓΗΣ', 'ΙΣΧΥΣ (MW)', 'ΗΜΕΡΟΜΗΝΙΑ ΥΠΟΒΟΛΗΣ ΑΙΤΗΣΗΣ', 'ΘΕΣΗ', 'ΗΜΕΡΟΜΗΝΙΑ ΕΚΔ. ΑΔ.ΠΑΡΑΓΩΓΗΣ'])\n",
        "# print(stringa_1)\n"
      ],
      "metadata": {
        "id": "2RBWYV8tcxwT"
      },
      "execution_count": null,
      "outputs": []
    },
    {
      "cell_type": "code",
      "source": [
        "print(len(columns_list_unique),len(tail_permits),len(count_nan_columns_list),len(length_per_file_list),len(name_file_list),len(drop_bebaiosi_rae))"
      ],
      "metadata": {
        "colab": {
          "base_uri": "https://localhost:8080/"
        },
        "id": "DP2zBYfwXUgr",
        "outputId": "3f777888-4531-4d42-a3f5-7d3d2880f1c7"
      },
      "execution_count": null,
      "outputs": [
        {
          "output_type": "stream",
          "name": "stdout",
          "text": [
            "38 38 38 38 38 38\n"
          ]
        }
      ]
    },
    {
      "cell_type": "code",
      "source": [
        "# Datasets data frame\n",
        "#Only for the second project\n",
        "\n",
        "step_1_exploratory = {\n",
        "    'file name':name_file_list,\n",
        "    'total rows':length_per_file_list,\n",
        "    'tail values':tail_permits,\n",
        "    'number nan cols':count_nan_columns_list ,\n",
        "    'drop bebaiosi RAE':drop_bebaiosi_rae,\n",
        "\n",
        "}\n",
        "columns_list = [list(set(list(c))) for c in columns_list_unique]\n",
        "\n",
        "step_2_exploratory = {\n",
        "    'file name':name_file_list,\n",
        "    'file_columns':columns_list_unique\n",
        "}\n",
        "\n",
        "step_1_df = pd.DataFrame(data=step_1_exploratory)\n",
        "step_2_df = pd.DataFrame(data=step_2_exploratory)"
      ],
      "metadata": {
        "id": "gkqNTglUUMqx"
      },
      "execution_count": null,
      "outputs": []
    },
    {
      "cell_type": "code",
      "source": [
        "print(step_2_df.to_string())"
      ],
      "metadata": {
        "colab": {
          "base_uri": "https://localhost:8080/"
        },
        "id": "mfTCyQrDbfz0",
        "outputId": "5f1c6617-bef1-4f9e-f30a-2148443cca92"
      },
      "execution_count": null,
      "outputs": [
        {
          "output_type": "stream",
          "name": "stdout",
          "text": [
            "                                                     file name                                                                                                                                                                                                                                file_columns\n",
            "0    М.4685-ЛЖТРЧО-АГДИЧМ-ДИГИЙА-ДРВА-АПД-ГДЙДЛБРИОС-2022.xlsx                            ΑΙΤΗΣΗ,ΗΜΕΡΟΜΗΝΙΑ ΥΠΟΒΟΛΗΣ ΑΙΤΗΣΗΣ,ΕΤΑΙΡΕΙΑ,ΑΡ. ΜΗΤΡΩΟΥ ΑΔΕΙΩΝ ΡΑΕ,ΗΜΕΡΟΜΗΝΙΑ ΕΚΔ. ΑΔ.ΠΑΡΑΓΩΓΗΣ,ΗΜΕΡΟΜΗΝΙΑ ΛΗΞΗΣ ΑΔ.ΠΑΡΑΓΩΓΗΣ,ΠΕΡΙΦΕΡΕΙΑ,ΠΕΡΙΦΕΡΕΙΑΚΗ ΕΝΟΤΗΤΑ,ΔΗΜΟΣ ,ΔΗΜΟΤΙΚΗ ΕΝΟΤΗΤΑ,ΘΕΣΗ,ΙΣΧΥΣ (MW),ΤΕΧΝΟΛΟΓΙΑ\n",
            "1         М.4685-ЛЖТРЧО-АГДИЧМ-ДИГИЙА-ДРВА-АПД-ЛАЇОС-2021.xlsx                            ΑΙΤΗΣΗ,ΗΜΕΡΟΜΗΝΙΑ ΥΠΟΒΟΛΗΣ ΑΙΤΗΣΗΣ,ΕΤΑΙΡΕΙΑ,ΑΡ. ΜΗΤΡΩΟΥ ΑΔΕΙΩΝ ΡΑΕ,ΗΜΕΡΟΜΗΝΙΑ ΕΚΔ. ΑΔ.ΠΑΡΑΓΩΓΗΣ,ΗΜΕΡΟΜΗΝΙΑ ΛΗΞΗΣ ΑΔ.ΠΑΡΑΓΩΓΗΣ,ΠΕΡΙΦΕΡΕΙΑ,ΠΕΡΙΦΕΡΕΙΑΚΗ ΕΝΟΤΗΤΑ,ΔΗΜΟΣ ,ΔΗΜΟΤΙΚΗ ΕΝΟΤΗΤΑ,ΘΕΣΗ,ΙΣΧΥΣ (MW),ΤΕΧΝΟΛΟΓΙΑ\n",
            "2          ЛЖТРЧО-АГДИЧМ-ДИГИЙА-ДРВА-АПД-СДПТДЛБРИОС-2023.xlsx                            ΑΙΤΗΣΗ,ΗΜΕΡΟΜΗΝΙΑ ΥΠΟΒΟΛΗΣ ΑΙΤΗΣΗΣ,ΕΤΑΙΡΕΙΑ,ΑΡ. ΜΗΤΡΩΟΥ ΑΔΕΙΩΝ ΡΑΕ,ΗΜΕΡΟΜΗΝΙΑ ΕΚΔ. ΑΔ.ΠΑΡΑΓΩΓΗΣ,ΗΜΕΡΟΜΗΝΙΑ ΛΗΞΗΣ ΑΔ.ΠΑΡΑΓΩΓΗΣ,ΠΕΡΙΦΕΡΕΙΑ,ΠΕΡΙΦΕΡΕΙΑΚΗ ΕΝΟΤΗΤΑ,ΔΗΜΟΣ ,ΔΗΜΟΤΙΚΗ ΕΝΟΤΗΤΑ,ΘΕΣΗ,ΙΣΧΥΣ (MW),ΤΕΧΝΟΛΟΓΙΑ\n",
            "3            ЛЖТРЧО-АГДИЧМ-ДИГИЙА-ДРВА-АПД-ОЙТЧБРИОС-2023.xlsx                            ΑΙΤΗΣΗ,ΗΜΕΡΟΜΗΝΙΑ ΥΠΟΒΟΛΗΣ ΑΙΤΗΣΗΣ,ΕΤΑΙΡΕΙΑ,ΑΡ. ΜΗΤΡΩΟΥ ΑΔΕΙΩΝ ΡΑΕ,ΗΜΕΡΟΜΗΝΙΑ ΕΚΔ. ΑΔ.ΠΑΡΑΓΩΓΗΣ,ΗΜΕΡΟΜΗΝΙΑ ΛΗΞΗΣ ΑΔ.ΠΑΡΑΓΩΓΗΣ,ΠΕΡΙΦΕΡΕΙΑ,ΠΕΡΙΦΕΡΕΙΑΚΗ ΕΝΟΤΗΤΑ,ΔΗΜΟΣ ,ΔΗΜΟΤΙΚΗ ΕΝΟΤΗΤΑ,ΘΕΣΗ,ΙΣΧΥΣ (MW),ΤΕΧΝΟΛΟΓΙΑ\n",
            "4                                                   1220s.xlsx                            ΑΙΤΗΣΗ,ΗΜΕΡΟΜΗΝΙΑ ΥΠΟΒΟΛΗΣ ΑΙΤΗΣΗΣ,ΕΤΑΙΡΕΙΑ,ΑΡ. ΜΗΤΡΩΟΥ ΑΔΕΙΩΝ ΡΑΕ,ΗΜΕΡΟΜΗΝΙΑ ΕΚΔ. ΑΔ.ΠΑΡΑΓΩΓΗΣ,ΗΜΕΡΟΜΗΝΙΑ ΛΗΞΗΣ ΑΔ.ΠΑΡΑΓΩΓΗΣ,ΠΕΡΙΦΕΡΕΙΑ,ΠΕΡΙΦΕΡΕΙΑΚΗ ΕΝΟΤΗΤΑ,ΔΗΜΟΣ ,ΔΗΜΟΤΙΚΗ ΕΝΟΤΗΤΑ,ΘΕΣΗ,ΙΣΧΥΣ (MW),ΤΕΧΝΟΛΟΓΙΑ\n",
            "5           ЛЖТРЧО-АГДИЧМ-ДИГИЙА-ДРВА-АПД-ИАМОУАРИОС-2023.xlsx                            ΑΙΤΗΣΗ,ΗΜΕΡΟΜΗΝΙΑ ΥΠΟΒΟΛΗΣ ΑΙΤΗΣΗΣ,ΕΤΑΙΡΕΙΑ,ΑΡ. ΜΗΤΡΩΟΥ ΑΔΕΙΩΝ ΡΑΕ,ΗΜΕΡΟΜΗΝΙΑ ΕΚΔ. ΑΔ.ΠΑΡΑΓΩΓΗΣ,ΗΜΕΡΟΜΗΝΙΑ ΛΗΞΗΣ ΑΔ.ΠΑΡΑΓΩΓΗΣ,ΠΕΡΙΦΕΡΕΙΑ,ΠΕΡΙΦΕΡΕΙΑΚΗ ΕΝΟΤΗΤΑ,ΔΗΜΟΣ ,ΔΗΜΟΤΙΚΗ ΕΝΟΤΗΤΑ,ΘΕΣΗ,ΙΣΧΥΣ (MW),ΤΕΧΝΟΛΟΓΙΑ\n",
            "6   М.4685-ЛЖТРЧО-АГДИЧМ-ДИГИЙА-ДРВА-АПД-СДПТДЛБРИОС-2022.xlsx                            ΑΙΤΗΣΗ,ΗΜΕΡΟΜΗΝΙΑ ΥΠΟΒΟΛΗΣ ΑΙΤΗΣΗΣ,ΕΤΑΙΡΕΙΑ,ΑΡ. ΜΗΤΡΩΟΥ ΑΔΕΙΩΝ ΡΑΕ,ΗΜΕΡΟΜΗΝΙΑ ΕΚΔ. ΑΔ.ΠΑΡΑΓΩΓΗΣ,ΗΜΕΡΟΜΗΝΙΑ ΛΗΞΗΣ ΑΔ.ΠΑΡΑΓΩΓΗΣ,ΠΕΡΙΦΕΡΕΙΑ,ΠΕΡΙΦΕΡΕΙΑΚΗ ΕΝΟΤΗΤΑ,ΔΗΜΟΣ ,ΔΗΜΟΤΙΚΗ ΕΝΟΤΗΤΑ,ΘΕΣΗ,ΙΣΧΥΣ (MW),ΤΕΧΝΟΛΟΓΙΑ\n",
            "7          ЛЖТРЧО-АГДИЧМ-ДИГИЙА-ДРВА-АПД-ФДБРОУАРИОС-2024.xlsx                            ΑΙΤΗΣΗ,ΗΜΕΡΟΜΗΝΙΑ ΥΠΟΒΟΛΗΣ ΑΙΤΗΣΗΣ,ΕΤΑΙΡΕΙΑ,ΑΡ. ΜΗΤΡΩΟΥ ΑΔΕΙΩΝ ΡΑΕ,ΗΜΕΡΟΜΗΝΙΑ ΕΚΔ. ΑΔ.ΠΑΡΑΓΩΓΗΣ,ΗΜΕΡΟΜΗΝΙΑ ΛΗΞΗΣ ΑΔ.ΠΑΡΑΓΩΓΗΣ,ΠΕΡΙΦΕΡΕΙΑ,ΠΕΡΙΦΕΡΕΙΑΚΗ ΕΝΟΤΗΤΑ,ΔΗΜΟΣ ,ΔΗΜΟΤΙΚΗ ΕΝΟΤΗΤΑ,ΘΕΣΗ,ΙΣΧΥΣ (MW),ΤΕΧΝΟΛΟΓΙΑ\n",
            "8          ЛЖТРЧО-АГДИЧМ-ДИГИЙА-ДРВА-АПД-ФДБРОУАРИОС-2023.xlsx                            ΑΙΤΗΣΗ,ΗΜΕΡΟΜΗΝΙΑ ΥΠΟΒΟΛΗΣ ΑΙΤΗΣΗΣ,ΕΤΑΙΡΕΙΑ,ΑΡ. ΜΗΤΡΩΟΥ ΑΔΕΙΩΝ ΡΑΕ,ΗΜΕΡΟΜΗΝΙΑ ΕΚΔ. ΑΔ.ΠΑΡΑΓΩΓΗΣ,ΗΜΕΡΟΜΗΝΙΑ ΛΗΞΗΣ ΑΔ.ΠΑΡΑΓΩΓΗΣ,ΠΕΡΙΦΕΡΕΙΑ,ΠΕΡΙΦΕΡΕΙΑΚΗ ΕΝΟΤΗΤΑ,ΔΗΜΟΣ ,ΔΗΜΟΤΙΚΗ ΕΝΟΤΗΤΑ,ΘΕΣΗ,ΙΣΧΥΣ (MW),ΤΕΧΝΟΛΟΓΙΑ\n",
            "9     М.4685-ЛЖТРЧО-АГДИЧМ-ДИГИЙА-ДРВА-АПД-АУВОУСТОС-2021.xlsx                            ΑΙΤΗΣΗ,ΗΜΕΡΟΜΗΝΙΑ ΥΠΟΒΟΛΗΣ ΑΙΤΗΣΗΣ,ΕΤΑΙΡΕΙΑ,ΑΡ. ΜΗΤΡΩΟΥ ΑΔΕΙΩΝ ΡΑΕ,ΗΜΕΡΟΜΗΝΙΑ ΕΚΔ. ΑΔ.ΠΑΡΑΓΩΓΗΣ,ΗΜΕΡΟΜΗΝΙΑ ΛΗΞΗΣ ΑΔ.ΠΑΡΑΓΩΓΗΣ,ΠΕΡΙΦΕΡΕΙΑ,ΠΕΡΙΦΕΡΕΙΑΚΗ ΕΝΟΤΗΤΑ,ΔΗΜΟΣ ,ΔΗΜΟΤΙΚΗ ΕΝΟΤΗΤΑ,ΘΕΣΗ,ΙΣΧΥΣ (MW),ΤΕΧΝΟΛΟΓΙΑ\n",
            "10             ЛЖТРЧО-АГДИЧМ-ДИГИЙА-ДРВА-АПД-ЛАРТИОС-2024.xlsx                            ΑΙΤΗΣΗ,ΗΜΕΡΟΜΗΝΙΑ ΥΠΟΒΟΛΗΣ ΑΙΤΗΣΗΣ,ΕΤΑΙΡΕΙΑ,ΑΡ. ΜΗΤΡΩΟΥ ΑΔΕΙΩΝ ΡΑΕ,ΗΜΕΡΟΜΗΝΙΑ ΕΚΔ. ΑΔ.ΠΑΡΑΓΩΓΗΣ,ΗΜΕΡΟΜΗΝΙΑ ΛΗΞΗΣ ΑΔ.ΠΑΡΑΓΩΓΗΣ,ΠΕΡΙΦΕΡΕΙΑ,ΠΕΡΙΦΕΡΕΙΑΚΗ ΕΝΟΤΗΤΑ,ΔΗΜΟΣ ,ΔΗΜΟΤΙΚΗ ΕΝΟΤΗΤΑ,ΘΕΣΗ,ΙΣΧΥΣ (MW),ΤΕΧΝΟΛΟΓΙΑ\n",
            "11             ЛЖТРЧО-АГДИЧМ-ДИГИЙА-ДРВА-АПД-ИОУКИОС-2023.xlsx                            ΑΙΤΗΣΗ,ΗΜΕΡΟΜΗΝΙΑ ΥΠΟΒΟΛΗΣ ΑΙΤΗΣΗΣ,ΕΤΑΙΡΕΙΑ,ΑΡ. ΜΗΤΡΩΟΥ ΑΔΕΙΩΝ ΡΑΕ,ΗΜΕΡΟΜΗΝΙΑ ΕΚΔ. ΑΔ.ΠΑΡΑΓΩΓΗΣ,ΗΜΕΡΟΜΗΝΙΑ ΛΗΞΗΣ ΑΔ.ΠΑΡΑΓΩΓΗΣ,ΠΕΡΙΦΕΡΕΙΑ,ΠΕΡΙΦΕΡΕΙΑΚΗ ΕΝΟΤΗΤΑ,ΔΗΜΟΣ ,ΔΗΜΟΤΙΚΗ ΕΝΟΤΗΤΑ,ΘΕΣΗ,ΙΣΧΥΣ (MW),ΤΕΧΝΟΛΟΓΙΑ\n",
            "12             ЛЖТРЧО-АГДИЧМ-ДИГИЙА-ДРВА-АПД-ИОУМИОС-2023.xlsx                            ΑΙΤΗΣΗ,ΗΜΕΡΟΜΗΝΙΑ ΥΠΟΒΟΛΗΣ ΑΙΤΗΣΗΣ,ΕΤΑΙΡΕΙΑ,ΑΡ. ΜΗΤΡΩΟΥ ΑΔΕΙΩΝ ΡΑΕ,ΗΜΕΡΟΜΗΝΙΑ ΕΚΔ. ΑΔ.ΠΑΡΑΓΩΓΗΣ,ΗΜΕΡΟΜΗΝΙΑ ΛΗΞΗΣ ΑΔ.ΠΑΡΑΓΩΓΗΣ,ΠΕΡΙΦΕΡΕΙΑ,ΠΕΡΙΦΕΡΕΙΑΚΗ ΕΝΟΤΗΤΑ,ΔΗΜΟΣ ,ΔΗΜΟΤΙΚΗ ΕΝΟΤΗΤΑ,ΘΕΣΗ,ΙΣΧΥΣ (MW),ΤΕΧΝΟΛΟΓΙΑ\n",
            "13    М.4685-ЛЖТРЧО-АГДИЧМ-ДИГИЙА-ДРВА-АПД-ОЙТЧБРИОС-2021.xlsx                            ΑΙΤΗΣΗ,ΗΜΕΡΟΜΗΝΙΑ ΥΠΟΒΟΛΗΣ ΑΙΤΗΣΗΣ,ΕΤΑΙΡΕΙΑ,ΑΡ. ΜΗΤΡΩΟΥ ΑΔΕΙΩΝ ΡΑΕ,ΗΜΕΡΟΜΗΝΙΑ ΕΚΔ. ΑΔ.ΠΑΡΑΓΩΓΗΣ,ΗΜΕΡΟΜΗΝΙΑ ΛΗΞΗΣ ΑΔ.ΠΑΡΑΓΩΓΗΣ,ΠΕΡΙΦΕΡΕΙΑ,ΠΕΡΙΦΕΡΕΙΑΚΗ ΕΝΟΤΗΤΑ,ΔΗΜΟΣ ,ΔΗΜΟΤΙΚΗ ΕΝΟΤΗΤΑ,ΘΕΣΗ,ΙΣΧΥΣ (MW),ΤΕΧΝΟΛΟΓΙΑ\n",
            "14               ЛЖТРЧО-АГДИЧМ-ДИГИЙА-ДРВА-АПД-ЛАИОС-2023.xlsx                            ΑΙΤΗΣΗ,ΗΜΕΡΟΜΗΝΙΑ ΥΠΟΒΟΛΗΣ ΑΙΤΗΣΗΣ,ΕΤΑΙΡΕΙΑ,ΑΡ. ΜΗΤΡΩΟΥ ΑΔΕΙΩΝ ΡΑΕ,ΗΜΕΡΟΜΗΝΙΑ ΕΚΔ. ΑΔ.ΠΑΡΑΓΩΓΗΣ,ΗΜΕΡΟΜΗΝΙΑ ΛΗΞΗΣ ΑΔ.ΠΑΡΑΓΩΓΗΣ,ΠΕΡΙΦΕΡΕΙΑ,ΠΕΡΙΦΕΡΕΙΑΚΗ ΕΝΟΤΗΤΑ,ΔΗΜΟΣ ,ΔΗΜΟΤΙΚΗ ΕΝΟΤΗΤΑ,ΘΕΣΗ,ΙΣΧΥΣ (MW),ΤΕΧΝΟΛΟΓΙΑ\n",
            "15                                               М.4685_3.xlsx                            ΑΙΤΗΣΗ,ΗΜΕΡΟΜΗΝΙΑ ΥΠΟΒΟΛΗΣ ΑΙΤΗΣΗΣ,ΕΤΑΙΡΕΙΑ,ΑΡ. ΜΗΤΡΩΟΥ ΑΔΕΙΩΝ ΡΑΕ,ΗΜΕΡΟΜΗΝΙΑ ΕΚΔ. ΑΔ.ΠΑΡΑΓΩΓΗΣ,ΗΜΕΡΟΜΗΝΙΑ ΛΗΞΗΣ ΑΔ.ΠΑΡΑΓΩΓΗΣ,ΠΕΡΙΦΕΡΕΙΑ,ΠΕΡΙΦΕΡΕΙΑΚΗ ΕΝΟΤΗΤΑ,ΔΗΜΟΣ ,ΔΗΜΟΤΙΚΗ ΕΝΟΤΗΤΑ,ΘΕΣΗ,ΙΣΧΥΣ (MW),ΤΕΧΝΟΛΟΓΙΑ\n",
            "16      М.4685-ЛЖТРЧО-АГДИЧМ-ДИГИЙА-ДРВА-АПД-ЛАРТИОС-2021.xlsx                            ΑΙΤΗΣΗ,ΗΜΕΡΟΜΗΝΙΑ ΥΠΟΒΟΛΗΣ ΑΙΤΗΣΗΣ,ΕΤΑΙΡΕΙΑ,ΑΡ. ΜΗΤΡΩΟΥ ΑΔΕΙΩΝ ΡΑΕ,ΗΜΕΡΟΜΗΝΙΑ ΕΚΔ. ΑΔ.ΠΑΡΑΓΩΓΗΣ,ΗΜΕΡΟΜΗΝΙΑ ΛΗΞΗΣ ΑΔ.ΠΑΡΑΓΩΓΗΣ,ΠΕΡΙΦΕΡΕΙΑ,ΠΕΡΙΦΕΡΕΙΑΚΗ ΕΝΟΤΗΤΑ,ΔΗΜΟΣ ,ΔΗΜΟΤΙΚΗ ΕΝΟΤΗΤΑ,ΘΕΣΗ,ΙΣΧΥΣ (MW),ΤΕΧΝΟΛΟΓΙΑ\n",
            "17           ЛЖТРЧО-АГДИЧМ-ДИГИЙА-ДРВА-АПД-МОДЛБРИОС-2023.xlsx                            ΑΙΤΗΣΗ,ΗΜΕΡΟΜΗΝΙΑ ΥΠΟΒΟΛΗΣ ΑΙΤΗΣΗΣ,ΕΤΑΙΡΕΙΑ,ΑΡ. ΜΗΤΡΩΟΥ ΑΔΕΙΩΝ ΡΑΕ,ΗΜΕΡΟΜΗΝΙΑ ΕΚΔ. ΑΔ.ΠΑΡΑΓΩΓΗΣ,ΗΜΕΡΟΜΗΝΙΑ ΛΗΞΗΣ ΑΔ.ΠΑΡΑΓΩΓΗΣ,ΠΕΡΙΦΕΡΕΙΑ,ΠΕΡΙΦΕΡΕΙΑΚΗ ΕΝΟΤΗΤΑ,ΔΗΜΟΣ ,ΔΗΜΟΤΙΚΗ ΕΝΟΤΗΤΑ,ΘΕΣΗ,ΙΣΧΥΣ (MW),ΤΕΧΝΟΛΟΓΙΑ\n",
            "18             ЛЖТРЧО-АГДИЧМ-ДИГИЙА-ДРВА-АПД-ЛАРТИОС-2023.xlsx                            ΑΙΤΗΣΗ,ΗΜΕΡΟΜΗΝΙΑ ΥΠΟΒΟΛΗΣ ΑΙΤΗΣΗΣ,ΕΤΑΙΡΕΙΑ,ΑΡ. ΜΗΤΡΩΟΥ ΑΔΕΙΩΝ ΡΑΕ,ΗΜΕΡΟΜΗΝΙΑ ΕΚΔ. ΑΔ.ΠΑΡΑΓΩΓΗΣ,ΗΜΕΡΟΜΗΝΙΑ ΛΗΞΗΣ ΑΔ.ΠΑΡΑΓΩΓΗΣ,ΠΕΡΙΦΕΡΕΙΑ,ΠΕΡΙΦΕΡΕΙΑΚΗ ΕΝΟΤΗΤΑ,ΔΗΜΟΣ ,ΔΗΜΟΤΙΚΗ ΕΝΟΤΗΤΑ,ΘΕΣΗ,ΙΣΧΥΣ (MW),ΤΕΧΝΟΛΟΓΙΑ\n",
            "19                    ЛЖТРЧО-АГДИЧМ-ДРВА-АПД-ЛАРТИОС-2024.xlsx                    ΑΙΤΗΣΗ,ΗΜΕΡΟΜΗΝΙΑ ΥΠΟΒΟΛΗΣ ΑΙΤΗΣΗΣ,ΕΤΑΙΡΕΙΑ,AΡΙΘΜΟΣ ΜΗΤΡΩΟΥ ΑΔΕΙΩΝ,ΗΜΕΡΟΜΗΝΙΑ ΕΚΔ. ΑΔ.ΠΑΡΑΓΩΓΗΣ,ΗΜΕΡΟΜΗΝΙΑ ΛΗΞΗΣ ΑΔ.ΠΑΡΑΓΩΓΗΣ,ΠΕΡΙΦΕΡΕΙΑ,ΠΕΡΙΦΕΡΕΙΑΚΗ ΕΝΟΤΗΤΑ,ΔΗΜΟΣ ,ΔΗΜΟΤΙΚΗ ΕΝΟΤΗΤΑ,ΘΕΣΗ,ΜΕΓΙΣΤΗ ΙΣΧΥΣ (MW),ΤΕΧΝΟΛΟΓΙΑ\n",
            "20                 ЛЖТРЧО-АГДИЧМ-ДРВА-АПД-ИАМОУАРИОС-2023.xlsx                    ΑΙΤΗΣΗ,ΗΜΕΡΟΜΗΝΙΑ ΥΠΟΒΟΛΗΣ ΑΙΤΗΣΗΣ,ΕΤΑΙΡΕΙΑ,ΑΡ. ΜΗΤΡΩΟΥ ΑΔΕΙΩΝ ΡΑΕ,ΗΜΕΡΟΜΗΝΙΑ ΕΚΔ. ΑΔ.ΠΑΡΑΓΩΓΗΣ,ΗΜΕΡΟΜΗΝΙΑ ΛΗΞΗΣ ΑΔ.ΠΑΡΑΓΩΓΗΣ,ΠΕΡΙΦΕΡΕΙΑ,ΠΕΡΙΦΕΡΕΙΑΚΗ ΕΝΟΤΗΤΑ,ΔΗΜΟΣ ,ΔΗΜΟΤΙΚΗ ΕΝΟΤΗΤΑ,ΘΕΣΗ,ΜΕΓΙΣΤΗ ΙΣΧΥΣ (MW),ΤΕΧΝΟΛΟΓΙΑ\n",
            "21                    ЛЖТРЧО-АГДИЧМ-ДРВА-АПД-ИОУКИОС-2023.xlsx                    ΑΙΤΗΣΗ,ΗΜΕΡΟΜΗΝΙΑ ΥΠΟΒΟΛΗΣ ΑΙΤΗΣΗΣ,ΕΤΑΙΡΕΙΑ,AΡΙΘΜΟΣ ΜΗΤΡΩΟΥ ΑΔΕΙΩΝ,ΗΜΕΡΟΜΗΝΙΑ ΕΚΔ. ΑΔ.ΠΑΡΑΓΩΓΗΣ,ΗΜΕΡΟΜΗΝΙΑ ΛΗΞΗΣ ΑΔ.ΠΑΡΑΓΩΓΗΣ,ΠΕΡΙΦΕΡΕΙΑ,ΠΕΡΙΦΕΡΕΙΑΚΗ ΕΝΟΤΗΤΑ,ΔΗΜΟΣ ,ΔΗΜΟΤΙΚΗ ΕΝΟΤΗΤΑ,ΘΕΣΗ,ΜΕΓΙΣΤΗ ΙΣΧΥΣ (MW),ΤΕΧΝΟΛΟΓΙΑ\n",
            "22          М.4685-ЛЖТРЧО-АГДИЧМ-ДРВА-АПД-ГДЙДЛБРИОС-2022.xlsx                    ΑΙΤΗΣΗ,ΗΜΕΡΟΜΗΝΙΑ ΥΠΟΒΟΛΗΣ ΑΙΤΗΣΗΣ,ΕΤΑΙΡΕΙΑ,ΑΡ. ΜΗΤΡΩΟΥ ΑΔΕΙΩΝ ΡΑΕ,ΗΜΕΡΟΜΗΝΙΑ ΕΚΔ. ΑΔ.ΠΑΡΑΓΩΓΗΣ,ΗΜΕΡΟΜΗΝΙΑ ΛΗΞΗΣ ΑΔ.ΠΑΡΑΓΩΓΗΣ,ΠΕΡΙΦΕΡΕΙΑ,ΠΕΡΙΦΕΡΕΙΑΚΗ ΕΝΟΤΗΤΑ,ΔΗΜΟΣ ,ΔΗΜΟΤΙΚΗ ΕΝΟΤΗΤΑ,ΘΕΣΗ,ΜΕΓΙΣΤΗ ΙΣΧΥΣ (MW),ΤΕΧΝΟΛΟΓΙΑ\n",
            "23           М.4685-ЛЖТРЧО-АГДИЧМ-ДРВА-АПД-АУВОУСТОС-2021.xlsx  ΑΙΤΗΣΗ,ΗΜΕΡΟΜΗΝΙΑ ΥΠΟΒΟΛΗΣ ΑΙΤΗΣΗΣ,ΕΤΑΙΡΕΙΑ,ΑΡ. ΜΗΤΡΩΟΥ ΑΔΕΙΩΝ ΡΑΕ,ΑΡ. ΒΕΒΑΙΩΣΗΣ ΡΑΕ,ΗΜΕΡΟΜΗΝΙΑ ΕΚΔ. ΑΔ.ΠΑΡΑΓΩΓΗΣ,ΗΜΕΡΟΜΗΝΙΑ ΛΗΞΗΣ ΑΔ.ΠΑΡΑΓΩΓΗΣ,ΠΕΡΙΦΕΡΕΙΑ,ΠΕΡΙΦΕΡΕΙΑΚΗ ΕΝΟΤΗΤΑ,ΔΗΜΟΣ ,ΔΗΜΟΤΙΚΗ ΕΝΟΤΗΤΑ,ΘΕΣΗ,ΜΕΓΙΣΤΗ ΙΣΧΥΣ (MW),ΤΕΧΝΟΛΟΓΙΑ\n",
            "24                                         Vevaioseis-APE.xlsx  ΑΙΤΗΣΗ,ΗΜΕΡΟΜΗΝΙΑ ΥΠΟΒΟΛΗΣ ΑΙΤΗΣΗΣ,ΕΤΑΙΡΕΙΑ,ΑΡ. ΜΗΤΡΩΟΥ ΑΔΕΙΩΝ ΡΑΕ,ΑΡ. ΒΕΒΑΙΩΣΗΣ ΡΑΕ,ΗΜΕΡΟΜΗΝΙΑ ΕΚΔ. ΑΔ.ΠΑΡΑΓΩΓΗΣ,ΗΜΕΡΟΜΗΝΙΑ ΛΗΞΗΣ ΑΔ.ΠΑΡΑΓΩΓΗΣ,ΠΕΡΙΦΕΡΕΙΑ,ΠΕΡΙΦΕΡΕΙΑΚΗ ΕΝΟΤΗΤΑ,ΔΗΜΟΣ ,ΔΗΜΟΤΙΚΗ ΕΝΟΤΗΤΑ,ΘΕΣΗ,ΜΕΓΙΣΤΗ ΙΣΧΥΣ (MW),ΤΕΧΝΟΛΟΓΙΑ\n",
            "25                ЛЖТРЧО-АГДИЧМ-ДРВА-АПД-ФДБРОУАРИОС-2024.xlsx                    ΑΙΤΗΣΗ,ΗΜΕΡΟΜΗΝΙΑ ΥΠΟΒΟΛΗΣ ΑΙΤΗΣΗΣ,ΕΤΑΙΡΕΙΑ,AΡΙΘΜΟΣ ΜΗΤΡΩΟΥ ΑΔΕΙΩΝ,ΗΜΕΡΟΜΗΝΙΑ ΕΚΔ. ΑΔ.ΠΑΡΑΓΩΓΗΣ,ΗΜΕΡΟΜΗΝΙΑ ΛΗΞΗΣ ΑΔ.ΠΑΡΑΓΩΓΗΣ,ΠΕΡΙΦΕΡΕΙΑ,ΠΕΡΙΦΕΡΕΙΑΚΗ ΕΝΟΤΗΤΑ,ΔΗΜΟΣ ,ΔΗΜΟΤΙΚΗ ΕΝΟΤΗΤΑ,ΘΕΣΗ,ΜΕΓΙΣΤΗ ΙΣΧΥΣ (MW),ΤΕΧΝΟΛΟΓΙΑ\n",
            "26           М.4685-ЛЖТРЧО-АГДИЧМ-ДРВА-АПД-ОЙТЧБРИОС-2021.xlsx  ΑΙΤΗΣΗ,ΗΜΕΡΟΜΗΝΙΑ ΥΠΟΒΟΛΗΣ ΑΙΤΗΣΗΣ,ΕΤΑΙΡΕΙΑ,ΑΡ. ΜΗΤΡΩΟΥ ΑΔΕΙΩΝ ΡΑΕ,ΑΡ. ΒΕΒΑΙΩΣΗΣ ΡΑΕ,ΗΜΕΡΟΜΗΝΙΑ ΕΚΔ. ΑΔ.ΠΑΡΑΓΩΓΗΣ,ΗΜΕΡΟΜΗΝΙΑ ΛΗΞΗΣ ΑΔ.ΠΑΡΑΓΩΓΗΣ,ΠΕΡΙΦΕΡΕΙΑ,ΠΕΡΙΦΕΡΕΙΑΚΗ ΕΝΟΤΗΤΑ,ΔΗΜΟΣ ,ΔΗΜΟΤΙΚΗ ΕΝΟΤΗΤΑ,ΘΕΣΗ,ΜΕΓΙΣΤΗ ΙΣΧΥΣ (MW),ΤΕΧΝΟΛΟΓΙΑ\n",
            "27                    ЛЖТРЧО-АГДИЧМ-ДРВА-АПД-ИОУМИОС-2023.xlsx                    ΑΙΤΗΣΗ,ΗΜΕΡΟΜΗΝΙΑ ΥΠΟΒΟΛΗΣ ΑΙΤΗΣΗΣ,ΕΤΑΙΡΕΙΑ,AΡΙΘΜΟΣ ΜΗΤΡΩΟΥ ΑΔΕΙΩΝ,ΗΜΕΡΟΜΗΝΙΑ ΕΚΔ. ΑΔ.ΠΑΡΑΓΩΓΗΣ,ΗΜΕΡΟΜΗΝΙΑ ΛΗΞΗΣ ΑΔ.ΠΑΡΑΓΩΓΗΣ,ΠΕΡΙΦΕΡΕΙΑ,ΠΕΡΙΦΕΡΕΙΑΚΗ ΕΝΟΤΗΤΑ,ΔΗΜΟΣ ,ΔΗΜΟΤΙΚΗ ΕΝΟΤΗΤΑ,ΘΕΣΗ,ΜΕΓΙΣΤΗ ΙΣΧΥΣ (MW),ΤΕΧΝΟΛΟΓΙΑ\n",
            "28                                               М.4685_1.xlsx  ΑΙΤΗΣΗ,ΗΜΕΡΟΜΗΝΙΑ ΥΠΟΒΟΛΗΣ ΑΙΤΗΣΗΣ,ΕΤΑΙΡΕΙΑ,ΑΡ. ΜΗΤΡΩΟΥ ΑΔΕΙΩΝ ΡΑΕ,ΑΡ. ΒΕΒΑΙΩΣΗΣ ΡΑΕ,ΗΜΕΡΟΜΗΝΙΑ ΕΚΔ. ΑΔ.ΠΑΡΑΓΩΓΗΣ,ΗΜΕΡΟΜΗΝΙΑ ΛΗΞΗΣ ΑΔ.ΠΑΡΑΓΩΓΗΣ,ΠΕΡΙΦΕΡΕΙΑ,ΠΕΡΙΦΕΡΕΙΑΚΗ ΕΝΟΤΗΤΑ,ΔΗΜΟΣ ,ΔΗΜΟΤΙΚΗ ΕΝΟΤΗΤΑ,ΘΕΣΗ,ΜΕΓΙΣΤΗ ΙΣΧΥΣ (MW),ΤΕΧΝΟΛΟΓΙΑ\n",
            "29                      ЛЖТРЧО-АГДИЧМ-ДРВА-АПД-ЛАIOС-2023.xlsx                    ΑΙΤΗΣΗ,ΗΜΕΡΟΜΗΝΙΑ ΥΠΟΒΟΛΗΣ ΑΙΤΗΣΗΣ,ΕΤΑΙΡΕΙΑ,AΡΙΘΜΟΣ ΜΗΤΡΩΟΥ ΑΔΕΙΩΝ,ΗΜΕΡΟΜΗΝΙΑ ΕΚΔ. ΑΔ.ΠΑΡΑΓΩΓΗΣ,ΗΜΕΡΟΜΗΝΙΑ ΛΗΞΗΣ ΑΔ.ΠΑΡΑΓΩΓΗΣ,ΠΕΡΙΦΕΡΕΙΑ,ΠΕΡΙΦΕΡΕΙΑΚΗ ΕΝΟΤΗΤΑ,ΔΗΜΟΣ ,ΔΗΜΟΤΙΚΗ ΕΝΟΤΗΤΑ,ΘΕΣΗ,ΜΕΓΙΣΤΗ ΙΣΧΥΣ (MW),ΤΕΧΝΟΛΟΓΙΑ\n",
            "30               М.4685-ЛЖТРЧО-АГДИЧМ-ДРВА-АПД-ЛАЇОС-2021.xlsx  ΑΙΤΗΣΗ,ΗΜΕΡΟΜΗΝΙΑ ΥΠΟΒΟΛΗΣ ΑΙΤΗΣΗΣ,ΕΤΑΙΡΕΙΑ,ΑΡ. ΜΗΤΡΩΟΥ ΑΔΕΙΩΝ ΡΑΕ,ΑΡ. ΒΕΒΑΙΩΣΗΣ ΡΑΕ,ΗΜΕΡΟΜΗΝΙΑ ΕΚΔ. ΑΔ.ΠΑΡΑΓΩΓΗΣ,ΗΜΕΡΟΜΗΝΙΑ ΛΗΞΗΣ ΑΔ.ΠΑΡΑΓΩΓΗΣ,ΠΕΡΙΦΕΡΕΙΑ,ΠΕΡΙΦΕΡΕΙΑΚΗ ΕΝΟΤΗΤΑ,ΔΗΜΟΣ ,ΔΗΜΟΤΙΚΗ ΕΝΟΤΗΤΑ,ΘΕΣΗ,ΜΕΓΙΣΤΗ ΙΣΧΥΣ (MW),ΤΕΧΝΟΛΟΓΙΑ\n",
            "31          М.4685-ЛЖТРЧО-АГДИЧМ-ДРВА-АПД-ЛАРТИОС-2021-v1.xlsx  ΑΙΤΗΣΗ,ΗΜΕΡΟΜΗΝΙΑ ΥΠΟΒΟΛΗΣ ΑΙΤΗΣΗΣ,ΕΤΑΙΡΕΙΑ,ΑΡ. ΜΗΤΡΩΟΥ ΑΔΕΙΩΝ ΡΑΕ,ΑΡ. ΒΕΒΑΙΩΣΗΣ ΡΑΕ,ΗΜΕΡΟΜΗΝΙΑ ΕΚΔ. ΑΔ.ΠΑΡΑΓΩΓΗΣ,ΗΜΕΡΟΜΗΝΙΑ ΛΗΞΗΣ ΑΔ.ΠΑΡΑΓΩΓΗΣ,ΠΕΡΙΦΕΡΕΙΑ,ΠΕΡΙΦΕΡΕΙΑΚΗ ΕΝΟΤΗΤΑ,ΔΗΜΟΣ ,ΔΗΜΟΤΙΚΗ ΕΝΟΤΗΤΑ,ΘΕΣΗ,ΜΕΓΙΣΤΗ ΙΣΧΥΣ (MW),ΤΕΧΝΟΛΟΓΙΑ\n",
            "32              ЛЖТРЧО-АГДИЧМ-ДРВА-АПД-СДПТДЛБРИОС-2023-1.xlsx                    ΑΙΤΗΣΗ,ΗΜΕΡΟΜΗΝΙΑ ΥΠΟΒΟΛΗΣ ΑΙΤΗΣΗΣ,ΕΤΑΙΡΕΙΑ,AΡΙΘΜΟΣ ΜΗΤΡΩΟΥ ΑΔΕΙΩΝ,ΗΜΕΡΟΜΗΝΙΑ ΕΚΔ. ΑΔ.ΠΑΡΑΓΩΓΗΣ,ΗΜΕΡΟΜΗΝΙΑ ΛΗΞΗΣ ΑΔ.ΠΑΡΑΓΩΓΗΣ,ΠΕΡΙΦΕΡΕΙΑ,ΠΕΡΙΦΕΡΕΙΑΚΗ ΕΝΟΤΗΤΑ,ΔΗΜΟΣ ,ΔΗΜΟΤΙΚΗ ΕΝΟΤΗΤΑ,ΘΕΣΗ,ΜΕΓΙΣΤΗ ΙΣΧΥΣ (MW),ΤΕΧΝΟΛΟΓΙΑ\n",
            "33                  ЛЖТРЧО-АГДИЧМ-ДРВА-АПД-OKTЧБРИОС-2023.xlsx                    ΑΙΤΗΣΗ,ΗΜΕΡΟΜΗΝΙΑ ΥΠΟΒΟΛΗΣ ΑΙΤΗΣΗΣ,ΕΤΑΙΡΕΙΑ,AΡΙΘΜΟΣ ΜΗΤΡΩΟΥ ΑΔΕΙΩΝ,ΗΜΕΡΟΜΗΝΙΑ ΕΚΔ. ΑΔ.ΠΑΡΑΓΩΓΗΣ,ΗΜΕΡΟΜΗΝΙΑ ΛΗΞΗΣ ΑΔ.ΠΑΡΑΓΩΓΗΣ,ΠΕΡΙΦΕΡΕΙΑ,ΠΕΡΙΦΕΡΕΙΑΚΗ ΕΝΟΤΗΤΑ,ΔΗΜΟΣ ,ΔΗΜΟΤΙΚΗ ΕΝΟΤΗΤΑ,ΘΕΣΗ,ΜΕΓΙΣΤΗ ΙΣΧΥΣ (MW),ΤΕΧΝΟΛΟΓΙΑ\n",
            "34                ЛЖТРЧО-АГДИЧМ-ДРВА-АПД-ФДБРОУАРИОС-2023.xlsx                    ΑΙΤΗΣΗ,ΗΜΕΡΟΜΗΝΙΑ ΥΠΟΒΟΛΗΣ ΑΙΤΗΣΗΣ,ΕΤΑΙΡΕΙΑ,ΑΡ. ΜΗΤΡΩΟΥ ΑΔΕΙΩΝ ΡΑΕ,ΗΜΕΡΟΜΗΝΙΑ ΕΚΔ. ΑΔ.ΠΑΡΑΓΩΓΗΣ,ΗΜΕΡΟΜΗΝΙΑ ΛΗΞΗΣ ΑΔ.ΠΑΡΑΓΩΓΗΣ,ΠΕΡΙΦΕΡΕΙΑ,ΠΕΡΙΦΕΡΕΙΑΚΗ ΕΝΟΤΗΤΑ,ΔΗΜΟΣ ,ΔΗΜΟΤΙΚΗ ΕΝΟΤΗΤΑ,ΘΕΣΗ,ΜΕΓΙΣΤΗ ΙΣΧΥΣ (MW),ΤΕΧΝΟΛΟΓΙΑ\n",
            "35         М.4685-ЛЖТРЧО-АГДИЧМ-ДРВА-АПД-СДПТДЛБРИОС-2022.xlsx                    ΑΙΤΗΣΗ,ΗΜΕΡΟΜΗΝΙΑ ΥΠΟΒΟΛΗΣ ΑΙΤΗΣΗΣ,ΕΤΑΙΡΕΙΑ,ΑΡ. ΜΗΤΡΩΟΥ ΑΔΕΙΩΝ ΡΑΕ,ΗΜΕΡΟΜΗΝΙΑ ΕΚΔ. ΑΔ.ΠΑΡΑΓΩΓΗΣ,ΗΜΕΡΟΜΗΝΙΑ ΛΗΞΗΣ ΑΔ.ΠΑΡΑΓΩΓΗΣ,ΠΕΡΙΦΕΡΕΙΑ,ΠΕΡΙΦΕΡΕΙΑΚΗ ΕΝΟΤΗΤΑ,ΔΗΜΟΣ ,ΔΗΜΟΤΙΚΗ ΕΝΟΤΗΤΑ,ΘΕΣΗ,ΜΕΓΙΣΤΗ ΙΣΧΥΣ (MW),ΤΕΧΝΟΛΟΓΙΑ\n",
            "36                    ЛЖТРЧО-АГДИЧМ-ДРВА-АПД-ЛАРТИОС-2023.xlsx                    ΑΙΤΗΣΗ,ΗΜΕΡΟΜΗΝΙΑ ΥΠΟΒΟΛΗΣ ΑΙΤΗΣΗΣ,ΕΤΑΙΡΕΙΑ,AΡΙΘΜΟΣ ΜΗΤΡΩΟΥ ΑΔΕΙΩΝ,ΗΜΕΡΟΜΗΝΙΑ ΕΚΔ. ΑΔ.ΠΑΡΑΓΩΓΗΣ,ΗΜΕΡΟΜΗΝΙΑ ΛΗΞΗΣ ΑΔ.ΠΑΡΑΓΩΓΗΣ,ΠΕΡΙΦΕΡΕΙΑ,ΠΕΡΙΦΕΡΕΙΑΚΗ ΕΝΟΤΗΤΑ,ΔΗΜΟΣ ,ΔΗΜΟΤΙΚΗ ΕΝΟΤΗΤΑ,ΘΕΣΗ,ΜΕΓΙΣΤΗ ΙΣΧΥΣ (MW),ΤΕΧΝΟΛΟΓΙΑ\n",
            "37                  ЛЖТРЧО-АГДИЧМ-ДРВА-АПД-МОДЛБРИОС-2023.xlsx                    ΑΙΤΗΣΗ,ΗΜΕΡΟΜΗΝΙΑ ΥΠΟΒΟΛΗΣ ΑΙΤΗΣΗΣ,ΕΤΑΙΡΕΙΑ,AΡΙΘΜΟΣ ΜΗΤΡΩΟΥ ΑΔΕΙΩΝ,ΗΜΕΡΟΜΗΝΙΑ ΕΚΔ. ΑΔ.ΠΑΡΑΓΩΓΗΣ,ΗΜΕΡΟΜΗΝΙΑ ΛΗΞΗΣ ΑΔ.ΠΑΡΑΓΩΓΗΣ,ΠΕΡΙΦΕΡΕΙΑ,ΠΕΡΙΦΕΡΕΙΑΚΗ ΕΝΟΤΗΤΑ,ΔΗΜΟΣ ,ΔΗΜΟΤΙΚΗ ΕΝΟΤΗΤΑ,ΘΕΣΗ,ΜΕΓΙΣΤΗ ΙΣΧΥΣ (MW),ΤΕΧΝΟΛΟΓΙΑ\n"
          ]
        }
      ]
    },
    {
      "cell_type": "code",
      "source": [
        "step_1_df.to_csv('./exploratory_step_1.csv')\n",
        "step_2_df.to_csv('./exploratory_step_2.csv')"
      ],
      "metadata": {
        "id": "RG-LsNmpYsez"
      },
      "execution_count": null,
      "outputs": []
    },
    {
      "cell_type": "code",
      "source": [],
      "metadata": {
        "id": "VIGHe3AsfKbK"
      },
      "execution_count": null,
      "outputs": []
    },
    {
      "cell_type": "code",
      "source": [
        "print('TOTAL DATASET LINES',summa)"
      ],
      "metadata": {
        "colab": {
          "base_uri": "https://localhost:8080/"
        },
        "id": "nHNTK6NcLAae",
        "outputId": "235d5077-0680-45b7-948e-7a7c27046981"
      },
      "execution_count": null,
      "outputs": [
        {
          "output_type": "stream",
          "name": "stdout",
          "text": [
            "TOTAL DATASET LINES 98095\n"
          ]
        }
      ]
    },
    {
      "cell_type": "code",
      "source": [
        "cols_name_list =[]\n",
        "for el in df_list:\n",
        "    cols_name_list.extend(el.columns.tolist())"
      ],
      "metadata": {
        "id": "CtV8ZhtPPBdq"
      },
      "execution_count": null,
      "outputs": []
    },
    {
      "cell_type": "markdown",
      "source": [
        "# Dataframe το ένα κάτω απο το άλλο"
      ],
      "metadata": {
        "id": "oD0PzzNGPMxY"
      }
    },
    {
      "cell_type": "code",
      "source": [
        "pre_final_df = pd.concat(df_list,axis=0)\n",
        "pre_final_df.reset_index(inplace=True,drop=True)\n",
        "pre_final_df.to_csv('./exploratory_step_3.csv')"
      ],
      "metadata": {
        "id": "VIAP6CLDPBbE"
      },
      "execution_count": null,
      "outputs": []
    },
    {
      "cell_type": "code",
      "source": [
        "pre_final_df"
      ],
      "metadata": {
        "colab": {
          "base_uri": "https://localhost:8080/",
          "height": 895
        },
        "id": "xIac3C6NV1OP",
        "outputId": "8a0c711d-ad45-444a-d697-6088b794f01a"
      },
      "execution_count": null,
      "outputs": [
        {
          "output_type": "execute_result",
          "data": {
            "text/plain": [
              "         ΑΙΤΗΣΗ ΗΜΕΡΟΜΗΝΙΑ ΥΠΟΒΟΛΗΣ ΑΙΤΗΣΗΣ  \\\n",
              "0       Β-00279         2001-02-19 00:00:00   \n",
              "1       Γ-00798         2004-11-18 00:00:00   \n",
              "2       Γ-01329         2006-01-24 00:00:00   \n",
              "3       Γ-01089         2005-07-22 00:00:00   \n",
              "4       Γ-01328         2006-01-24 00:00:00   \n",
              "...         ...                         ...   \n",
              "98090  Γ-011867         2020-12-20 15:28:51   \n",
              "98091  Γ-014212  2022-06-23 10:54:27.155000   \n",
              "98092  Γ-014371  2022-06-28 17:32:53.453000   \n",
              "98093  Γ-012175         2021-02-03 11:24:16   \n",
              "98094  Γ-011253         2020-12-15 16:37:20   \n",
              "\n",
              "                                                ΕΤΑΙΡΕΙΑ  \\\n",
              "0                ΓΕΩΘΕΡΜΙΚΟΣ ΣΤΟΧΟΣ ΔΥΟ ΜΟΝΟΠΡΟΣΩΠΗ Α.Ε.   \n",
              "1                         ΤΕΡΝΑ ΕΝΕΡΓΕΙΑΚΗ ΑΙ ΓΙΩΡΓΗΣ ΑΕ   \n",
              "2                           ENEL GREEN POWER HELLAS A.E.   \n",
              "3                         ΤΕΡΝΑ ΕΝΕΡΓΕΙΑΚΗ ΑΙ ΓΙΩΡΓΗΣ ΑΕ   \n",
              "4                              ΑΙΟΛΙΚΑ ΠΑΡΚΑ ΠΛΑΤΑΝΟΣ ΑΕ   \n",
              "...                                                  ...   \n",
              "98090  NKZ ENERGY ΜΟΝΟΠΡΟΣΩΠΗ ΙΔΙΩΤΙΚΗ ΚΕΦΑΛΑΙΟΥΧΙΚΗ ...   \n",
              "98091                                     KALERO LIMITED   \n",
              "98092     ALPHA ΣΥΜΒΟΥΛΟΙ ΙΔΙΩΤΙΚΗ ΚΕΦΑΛΑΙΟΥΧΙΚΗ ΕΤΑΙΡΙΑ   \n",
              "98093                    KSK CAPITAL Ι Κ Ε / KSK CAPITAL   \n",
              "98094      Χ ΡΟΚΑΣ ΑΝΩΝΥΜΗ ΒΙΟΜΗΧΑΝΙΚΗ ΕΜΠΟΡΙΚΗ ΕΤΑΙΡΕΙΑ   \n",
              "\n",
              "      AΡΙΘΜΟΣ ΜΗΤΡΩΟΥ ΑΔΕΙΩΝ ΗΜΕΡΟΜΗΝΙΑ ΕΚΔ. ΑΔ.ΠΑΡΑΓΩΓΗΣ  \\\n",
              "0                   ΑΔ-00488          2003-03-04 00:00:00   \n",
              "1                   ΑΔ-00911          2006-03-23 00:00:00   \n",
              "2                   ΑΔ-00981          2006-10-02 00:00:00   \n",
              "3                   ΑΔ-00989          2006-10-16 00:00:00   \n",
              "4                   ΑΔ-01257          2009-06-16 00:00:00   \n",
              "...                      ...                          ...   \n",
              "98090              ΑΔ-010950          2023-10-09 14:13:22   \n",
              "98091              ΑΔ-010952          2023-10-13 15:22:43   \n",
              "98092              ΑΔ-010953          2023-10-13 15:24:18   \n",
              "98093              ΑΔ-010954          2023-10-30 10:52:03   \n",
              "98094              ΑΔ-010955          2023-10-30 10:52:32   \n",
              "\n",
              "      ΗΜΕΡΟΜΗΝΙΑ ΛΗΞΗΣ ΑΔ.ΠΑΡΑΓΩΓΗΣ                 ΠΕΡΙΦΕΡΕΙΑ  \\\n",
              "0               2028-03-04 00:00:00                  Β ΑΙΓΑΙΟΥ   \n",
              "1               2031-03-23 00:00:00                    ΑΤΤΙΚΗΣ   \n",
              "2               2031-10-02 00:00:00                 ΣΤ ΕΛΛΑΔΑΣ   \n",
              "3               2031-10-16 00:00:00                    ΑΤΤΙΚΗΣ   \n",
              "4               2034-06-16 00:00:00                 ΣΤ ΕΛΛΑΔΑΣ   \n",
              "...                             ...                        ...   \n",
              "98090           2048-10-09 14:13:22  ΘΕΣΣΑΛΙΑΣ,ΣΤΕΡΕΑΣ ΕΛΛΑΔΑΣ   \n",
              "98091           2048-10-13 15:22:43                  ΘΕΣΣΑΛΙΑΣ   \n",
              "98092           2048-10-13 15:24:18                  ΘΕΣΣΑΛΙΑΣ   \n",
              "98093           2048-10-30 10:52:03                  ΘΕΣΣΑΛΙΑΣ   \n",
              "98094           2048-10-30 10:52:32  ΘΕΣΣΑΛΙΑΣ,ΣΤΕΡΕΑΣ ΕΛΛΑΔΑΣ   \n",
              "\n",
              "      ΠΕΡΙΦΕΡΕΙΑΚΗ ΕΝΟΤΗΤΑ            ΔΗΜΟΣ                  ΔΗΜΟΤΙΚΗ ΕΝΟΤΗΤΑ  \\\n",
              "0                   ΛΕΣΒΟΥ            ΛΕΣΒΟΥ                           ΠΕΤΡΑΣ   \n",
              "1                  ΑΤΤΙΚΗΣ       ΛΑΥΡΕΩΤΙΚΗΣ                      ΛΑΥΡΕΩΤΙΚΗΣ   \n",
              "2                  ΕΥΒΟΙΑΣ          ΚΑΡΥΣΤΟΥ  ΚΑΡΥΣΤΟΥ ΚΑΙ ΚΟΙΝΟΤΗΤΑ ΚΑΦΗΡΕΩΣ   \n",
              "3                  ΑΤΤΙΚΗΣ             ΥΔΡΑΣ                            ΥΔΡΑΣ   \n",
              "4                  ΕΥΒΟΙΑΣ          ΚΑΡΥΣΤΟΥ                        ΜΑΡΜΑΡΙΟΥ   \n",
              "...                    ...               ...                              ...   \n",
              "98090  ΜΑΓΝΗΣΙΑΣ,ΦΘΙΩΤΙΔΑΣ  ΑΛΜΥΡΟΥ,ΣΤΥΛΙΔΟΣ                 ΑΛΜΥΡΟΥ,ΕΧΙΝΑΙΩΝ   \n",
              "98091             ΤΡΙΚΑΛΩΝ          ΜΕΤΕΩΡΩΝ                     ΑΣΠΡΟΠΟΤΑΜΟΥ   \n",
              "98092             ΤΡΙΚΑΛΩΝ          ΜΕΤΕΩΡΩΝ                     ΑΣΠΡΟΠΟΤΑΜΟΥ   \n",
              "98093            ΚΑΡΔΙΤΣΑΣ         ΚΑΡΔΙΤΣΑΣ                           ΙΤΑΜΟΥ   \n",
              "98094  ΜΑΓΝΗΣΙΑΣ,ΦΘΙΩΤΙΔΑΣ  ΑΛΜΥΡΟΥ,ΣΤΥΛΙΔΟΣ                 ΑΛΜΥΡΟΥ,ΕΧΙΝΑΙΩΝ   \n",
              "\n",
              "                             ΘΕΣΗ ΜΕΓΙΣΤΗ ΙΣΧΥΣ (MW) ΤΕΧΝΟΛΟΓΙΑ  \n",
              "0           ΣΤΥΨΗ/ΠΕΡΙΟΧΗ ΑΡΓΕΝΟΥ                  8  ΓΕΩΘΕΡΜΙΑ  \n",
              "1         ΝΗΣΙΔΑ ΑΓΙΟΣ ΓΕΩΡΓΙΟΣ Ι                 45    ΑΙΟΛΙΚΑ  \n",
              "2                     ΠΑΛΙΟΠΥΡΓΟΣ               13.8    ΑΙΟΛΙΚΑ  \n",
              "3          ΝΗΣΙΔΑ ΑΓΙΟΣ ΓΕΩΡΓΙΟΣ                  24    ΑΙΟΛΙΚΑ  \n",
              "4                        ΠΛΑΤΑΝΟΣ               13.8    ΑΙΟΛΙΚΑ  \n",
              "...                           ...                ...        ...  \n",
              "98090  ΓΕΡΑΚΟΒΟΥΝΙ - ΜΕΓΑΣ ΛΑΚΚΟΣ               31.8    ΑΙΟΛΙΚΑ  \n",
              "98091          ΡΕΜΑ ΣΚΛΗΝΙΑΣΩΤΙΚΟ               0.49       ΜΥΗΕ  \n",
              "98092     ΚΛΕΦΤΟΒΡΥΣΗ - Ρ. ΣΤΑΓΙΑ               0.49       ΜΥΗΕ  \n",
              "98093                      ΟΞΟΥΛΑ               1.06       ΜΥΗΕ  \n",
              "98094                 ΓΕΡΑΚΟΒΟΥΝΙ               37.4    ΑΙΟΛΙΚΑ  \n",
              "\n",
              "[98095 rows x 13 columns]"
            ],
            "text/html": [
              "\n",
              "  <div id=\"df-78ba4303-0ed1-4fc2-93ea-2e3a5a390542\" class=\"colab-df-container\">\n",
              "    <div>\n",
              "<style scoped>\n",
              "    .dataframe tbody tr th:only-of-type {\n",
              "        vertical-align: middle;\n",
              "    }\n",
              "\n",
              "    .dataframe tbody tr th {\n",
              "        vertical-align: top;\n",
              "    }\n",
              "\n",
              "    .dataframe thead th {\n",
              "        text-align: right;\n",
              "    }\n",
              "</style>\n",
              "<table border=\"1\" class=\"dataframe\">\n",
              "  <thead>\n",
              "    <tr style=\"text-align: right;\">\n",
              "      <th></th>\n",
              "      <th>ΑΙΤΗΣΗ</th>\n",
              "      <th>ΗΜΕΡΟΜΗΝΙΑ ΥΠΟΒΟΛΗΣ ΑΙΤΗΣΗΣ</th>\n",
              "      <th>ΕΤΑΙΡΕΙΑ</th>\n",
              "      <th>AΡΙΘΜΟΣ ΜΗΤΡΩΟΥ ΑΔΕΙΩΝ</th>\n",
              "      <th>ΗΜΕΡΟΜΗΝΙΑ ΕΚΔ. ΑΔ.ΠΑΡΑΓΩΓΗΣ</th>\n",
              "      <th>ΗΜΕΡΟΜΗΝΙΑ ΛΗΞΗΣ ΑΔ.ΠΑΡΑΓΩΓΗΣ</th>\n",
              "      <th>ΠΕΡΙΦΕΡΕΙΑ</th>\n",
              "      <th>ΠΕΡΙΦΕΡΕΙΑΚΗ ΕΝΟΤΗΤΑ</th>\n",
              "      <th>ΔΗΜΟΣ</th>\n",
              "      <th>ΔΗΜΟΤΙΚΗ ΕΝΟΤΗΤΑ</th>\n",
              "      <th>ΘΕΣΗ</th>\n",
              "      <th>ΜΕΓΙΣΤΗ ΙΣΧΥΣ (MW)</th>\n",
              "      <th>ΤΕΧΝΟΛΟΓΙΑ</th>\n",
              "    </tr>\n",
              "  </thead>\n",
              "  <tbody>\n",
              "    <tr>\n",
              "      <th>0</th>\n",
              "      <td>Β-00279</td>\n",
              "      <td>2001-02-19 00:00:00</td>\n",
              "      <td>ΓΕΩΘΕΡΜΙΚΟΣ ΣΤΟΧΟΣ ΔΥΟ ΜΟΝΟΠΡΟΣΩΠΗ Α.Ε.</td>\n",
              "      <td>ΑΔ-00488</td>\n",
              "      <td>2003-03-04 00:00:00</td>\n",
              "      <td>2028-03-04 00:00:00</td>\n",
              "      <td>Β ΑΙΓΑΙΟΥ</td>\n",
              "      <td>ΛΕΣΒΟΥ</td>\n",
              "      <td>ΛΕΣΒΟΥ</td>\n",
              "      <td>ΠΕΤΡΑΣ</td>\n",
              "      <td>ΣΤΥΨΗ/ΠΕΡΙΟΧΗ ΑΡΓΕΝΟΥ</td>\n",
              "      <td>8</td>\n",
              "      <td>ΓΕΩΘΕΡΜΙΑ</td>\n",
              "    </tr>\n",
              "    <tr>\n",
              "      <th>1</th>\n",
              "      <td>Γ-00798</td>\n",
              "      <td>2004-11-18 00:00:00</td>\n",
              "      <td>ΤΕΡΝΑ ΕΝΕΡΓΕΙΑΚΗ ΑΙ ΓΙΩΡΓΗΣ ΑΕ</td>\n",
              "      <td>ΑΔ-00911</td>\n",
              "      <td>2006-03-23 00:00:00</td>\n",
              "      <td>2031-03-23 00:00:00</td>\n",
              "      <td>ΑΤΤΙΚΗΣ</td>\n",
              "      <td>ΑΤΤΙΚΗΣ</td>\n",
              "      <td>ΛΑΥΡΕΩΤΙΚΗΣ</td>\n",
              "      <td>ΛΑΥΡΕΩΤΙΚΗΣ</td>\n",
              "      <td>ΝΗΣΙΔΑ ΑΓΙΟΣ ΓΕΩΡΓΙΟΣ Ι</td>\n",
              "      <td>45</td>\n",
              "      <td>ΑΙΟΛΙΚΑ</td>\n",
              "    </tr>\n",
              "    <tr>\n",
              "      <th>2</th>\n",
              "      <td>Γ-01329</td>\n",
              "      <td>2006-01-24 00:00:00</td>\n",
              "      <td>ENEL GREEN POWER HELLAS A.E.</td>\n",
              "      <td>ΑΔ-00981</td>\n",
              "      <td>2006-10-02 00:00:00</td>\n",
              "      <td>2031-10-02 00:00:00</td>\n",
              "      <td>ΣΤ ΕΛΛΑΔΑΣ</td>\n",
              "      <td>ΕΥΒΟΙΑΣ</td>\n",
              "      <td>ΚΑΡΥΣΤΟΥ</td>\n",
              "      <td>ΚΑΡΥΣΤΟΥ ΚΑΙ ΚΟΙΝΟΤΗΤΑ ΚΑΦΗΡΕΩΣ</td>\n",
              "      <td>ΠΑΛΙΟΠΥΡΓΟΣ</td>\n",
              "      <td>13.8</td>\n",
              "      <td>ΑΙΟΛΙΚΑ</td>\n",
              "    </tr>\n",
              "    <tr>\n",
              "      <th>3</th>\n",
              "      <td>Γ-01089</td>\n",
              "      <td>2005-07-22 00:00:00</td>\n",
              "      <td>ΤΕΡΝΑ ΕΝΕΡΓΕΙΑΚΗ ΑΙ ΓΙΩΡΓΗΣ ΑΕ</td>\n",
              "      <td>ΑΔ-00989</td>\n",
              "      <td>2006-10-16 00:00:00</td>\n",
              "      <td>2031-10-16 00:00:00</td>\n",
              "      <td>ΑΤΤΙΚΗΣ</td>\n",
              "      <td>ΑΤΤΙΚΗΣ</td>\n",
              "      <td>ΥΔΡΑΣ</td>\n",
              "      <td>ΥΔΡΑΣ</td>\n",
              "      <td>ΝΗΣΙΔΑ ΑΓΙΟΣ ΓΕΩΡΓΙΟΣ</td>\n",
              "      <td>24</td>\n",
              "      <td>ΑΙΟΛΙΚΑ</td>\n",
              "    </tr>\n",
              "    <tr>\n",
              "      <th>4</th>\n",
              "      <td>Γ-01328</td>\n",
              "      <td>2006-01-24 00:00:00</td>\n",
              "      <td>ΑΙΟΛΙΚΑ ΠΑΡΚΑ ΠΛΑΤΑΝΟΣ ΑΕ</td>\n",
              "      <td>ΑΔ-01257</td>\n",
              "      <td>2009-06-16 00:00:00</td>\n",
              "      <td>2034-06-16 00:00:00</td>\n",
              "      <td>ΣΤ ΕΛΛΑΔΑΣ</td>\n",
              "      <td>ΕΥΒΟΙΑΣ</td>\n",
              "      <td>ΚΑΡΥΣΤΟΥ</td>\n",
              "      <td>ΜΑΡΜΑΡΙΟΥ</td>\n",
              "      <td>ΠΛΑΤΑΝΟΣ</td>\n",
              "      <td>13.8</td>\n",
              "      <td>ΑΙΟΛΙΚΑ</td>\n",
              "    </tr>\n",
              "    <tr>\n",
              "      <th>...</th>\n",
              "      <td>...</td>\n",
              "      <td>...</td>\n",
              "      <td>...</td>\n",
              "      <td>...</td>\n",
              "      <td>...</td>\n",
              "      <td>...</td>\n",
              "      <td>...</td>\n",
              "      <td>...</td>\n",
              "      <td>...</td>\n",
              "      <td>...</td>\n",
              "      <td>...</td>\n",
              "      <td>...</td>\n",
              "      <td>...</td>\n",
              "    </tr>\n",
              "    <tr>\n",
              "      <th>98090</th>\n",
              "      <td>Γ-011867</td>\n",
              "      <td>2020-12-20 15:28:51</td>\n",
              "      <td>NKZ ENERGY ΜΟΝΟΠΡΟΣΩΠΗ ΙΔΙΩΤΙΚΗ ΚΕΦΑΛΑΙΟΥΧΙΚΗ ...</td>\n",
              "      <td>ΑΔ-010950</td>\n",
              "      <td>2023-10-09 14:13:22</td>\n",
              "      <td>2048-10-09 14:13:22</td>\n",
              "      <td>ΘΕΣΣΑΛΙΑΣ,ΣΤΕΡΕΑΣ ΕΛΛΑΔΑΣ</td>\n",
              "      <td>ΜΑΓΝΗΣΙΑΣ,ΦΘΙΩΤΙΔΑΣ</td>\n",
              "      <td>ΑΛΜΥΡΟΥ,ΣΤΥΛΙΔΟΣ</td>\n",
              "      <td>ΑΛΜΥΡΟΥ,ΕΧΙΝΑΙΩΝ</td>\n",
              "      <td>ΓΕΡΑΚΟΒΟΥΝΙ - ΜΕΓΑΣ ΛΑΚΚΟΣ</td>\n",
              "      <td>31.8</td>\n",
              "      <td>ΑΙΟΛΙΚΑ</td>\n",
              "    </tr>\n",
              "    <tr>\n",
              "      <th>98091</th>\n",
              "      <td>Γ-014212</td>\n",
              "      <td>2022-06-23 10:54:27.155000</td>\n",
              "      <td>KALERO LIMITED</td>\n",
              "      <td>ΑΔ-010952</td>\n",
              "      <td>2023-10-13 15:22:43</td>\n",
              "      <td>2048-10-13 15:22:43</td>\n",
              "      <td>ΘΕΣΣΑΛΙΑΣ</td>\n",
              "      <td>ΤΡΙΚΑΛΩΝ</td>\n",
              "      <td>ΜΕΤΕΩΡΩΝ</td>\n",
              "      <td>ΑΣΠΡΟΠΟΤΑΜΟΥ</td>\n",
              "      <td>ΡΕΜΑ ΣΚΛΗΝΙΑΣΩΤΙΚΟ</td>\n",
              "      <td>0.49</td>\n",
              "      <td>ΜΥΗΕ</td>\n",
              "    </tr>\n",
              "    <tr>\n",
              "      <th>98092</th>\n",
              "      <td>Γ-014371</td>\n",
              "      <td>2022-06-28 17:32:53.453000</td>\n",
              "      <td>ALPHA ΣΥΜΒΟΥΛΟΙ ΙΔΙΩΤΙΚΗ ΚΕΦΑΛΑΙΟΥΧΙΚΗ ΕΤΑΙΡΙΑ</td>\n",
              "      <td>ΑΔ-010953</td>\n",
              "      <td>2023-10-13 15:24:18</td>\n",
              "      <td>2048-10-13 15:24:18</td>\n",
              "      <td>ΘΕΣΣΑΛΙΑΣ</td>\n",
              "      <td>ΤΡΙΚΑΛΩΝ</td>\n",
              "      <td>ΜΕΤΕΩΡΩΝ</td>\n",
              "      <td>ΑΣΠΡΟΠΟΤΑΜΟΥ</td>\n",
              "      <td>ΚΛΕΦΤΟΒΡΥΣΗ - Ρ. ΣΤΑΓΙΑ</td>\n",
              "      <td>0.49</td>\n",
              "      <td>ΜΥΗΕ</td>\n",
              "    </tr>\n",
              "    <tr>\n",
              "      <th>98093</th>\n",
              "      <td>Γ-012175</td>\n",
              "      <td>2021-02-03 11:24:16</td>\n",
              "      <td>KSK CAPITAL Ι Κ Ε / KSK CAPITAL</td>\n",
              "      <td>ΑΔ-010954</td>\n",
              "      <td>2023-10-30 10:52:03</td>\n",
              "      <td>2048-10-30 10:52:03</td>\n",
              "      <td>ΘΕΣΣΑΛΙΑΣ</td>\n",
              "      <td>ΚΑΡΔΙΤΣΑΣ</td>\n",
              "      <td>ΚΑΡΔΙΤΣΑΣ</td>\n",
              "      <td>ΙΤΑΜΟΥ</td>\n",
              "      <td>ΟΞΟΥΛΑ</td>\n",
              "      <td>1.06</td>\n",
              "      <td>ΜΥΗΕ</td>\n",
              "    </tr>\n",
              "    <tr>\n",
              "      <th>98094</th>\n",
              "      <td>Γ-011253</td>\n",
              "      <td>2020-12-15 16:37:20</td>\n",
              "      <td>Χ ΡΟΚΑΣ ΑΝΩΝΥΜΗ ΒΙΟΜΗΧΑΝΙΚΗ ΕΜΠΟΡΙΚΗ ΕΤΑΙΡΕΙΑ</td>\n",
              "      <td>ΑΔ-010955</td>\n",
              "      <td>2023-10-30 10:52:32</td>\n",
              "      <td>2048-10-30 10:52:32</td>\n",
              "      <td>ΘΕΣΣΑΛΙΑΣ,ΣΤΕΡΕΑΣ ΕΛΛΑΔΑΣ</td>\n",
              "      <td>ΜΑΓΝΗΣΙΑΣ,ΦΘΙΩΤΙΔΑΣ</td>\n",
              "      <td>ΑΛΜΥΡΟΥ,ΣΤΥΛΙΔΟΣ</td>\n",
              "      <td>ΑΛΜΥΡΟΥ,ΕΧΙΝΑΙΩΝ</td>\n",
              "      <td>ΓΕΡΑΚΟΒΟΥΝΙ</td>\n",
              "      <td>37.4</td>\n",
              "      <td>ΑΙΟΛΙΚΑ</td>\n",
              "    </tr>\n",
              "  </tbody>\n",
              "</table>\n",
              "<p>98095 rows × 13 columns</p>\n",
              "</div>\n",
              "    <div class=\"colab-df-buttons\">\n",
              "\n",
              "  <div class=\"colab-df-container\">\n",
              "    <button class=\"colab-df-convert\" onclick=\"convertToInteractive('df-78ba4303-0ed1-4fc2-93ea-2e3a5a390542')\"\n",
              "            title=\"Convert this dataframe to an interactive table.\"\n",
              "            style=\"display:none;\">\n",
              "\n",
              "  <svg xmlns=\"http://www.w3.org/2000/svg\" height=\"24px\" viewBox=\"0 -960 960 960\">\n",
              "    <path d=\"M120-120v-720h720v720H120Zm60-500h600v-160H180v160Zm220 220h160v-160H400v160Zm0 220h160v-160H400v160ZM180-400h160v-160H180v160Zm440 0h160v-160H620v160ZM180-180h160v-160H180v160Zm440 0h160v-160H620v160Z\"/>\n",
              "  </svg>\n",
              "    </button>\n",
              "\n",
              "  <style>\n",
              "    .colab-df-container {\n",
              "      display:flex;\n",
              "      gap: 12px;\n",
              "    }\n",
              "\n",
              "    .colab-df-convert {\n",
              "      background-color: #E8F0FE;\n",
              "      border: none;\n",
              "      border-radius: 50%;\n",
              "      cursor: pointer;\n",
              "      display: none;\n",
              "      fill: #1967D2;\n",
              "      height: 32px;\n",
              "      padding: 0 0 0 0;\n",
              "      width: 32px;\n",
              "    }\n",
              "\n",
              "    .colab-df-convert:hover {\n",
              "      background-color: #E2EBFA;\n",
              "      box-shadow: 0px 1px 2px rgba(60, 64, 67, 0.3), 0px 1px 3px 1px rgba(60, 64, 67, 0.15);\n",
              "      fill: #174EA6;\n",
              "    }\n",
              "\n",
              "    .colab-df-buttons div {\n",
              "      margin-bottom: 4px;\n",
              "    }\n",
              "\n",
              "    [theme=dark] .colab-df-convert {\n",
              "      background-color: #3B4455;\n",
              "      fill: #D2E3FC;\n",
              "    }\n",
              "\n",
              "    [theme=dark] .colab-df-convert:hover {\n",
              "      background-color: #434B5C;\n",
              "      box-shadow: 0px 1px 3px 1px rgba(0, 0, 0, 0.15);\n",
              "      filter: drop-shadow(0px 1px 2px rgba(0, 0, 0, 0.3));\n",
              "      fill: #FFFFFF;\n",
              "    }\n",
              "  </style>\n",
              "\n",
              "    <script>\n",
              "      const buttonEl =\n",
              "        document.querySelector('#df-78ba4303-0ed1-4fc2-93ea-2e3a5a390542 button.colab-df-convert');\n",
              "      buttonEl.style.display =\n",
              "        google.colab.kernel.accessAllowed ? 'block' : 'none';\n",
              "\n",
              "      async function convertToInteractive(key) {\n",
              "        const element = document.querySelector('#df-78ba4303-0ed1-4fc2-93ea-2e3a5a390542');\n",
              "        const dataTable =\n",
              "          await google.colab.kernel.invokeFunction('convertToInteractive',\n",
              "                                                    [key], {});\n",
              "        if (!dataTable) return;\n",
              "\n",
              "        const docLinkHtml = 'Like what you see? Visit the ' +\n",
              "          '<a target=\"_blank\" href=https://colab.research.google.com/notebooks/data_table.ipynb>data table notebook</a>'\n",
              "          + ' to learn more about interactive tables.';\n",
              "        element.innerHTML = '';\n",
              "        dataTable['output_type'] = 'display_data';\n",
              "        await google.colab.output.renderOutput(dataTable, element);\n",
              "        const docLink = document.createElement('div');\n",
              "        docLink.innerHTML = docLinkHtml;\n",
              "        element.appendChild(docLink);\n",
              "      }\n",
              "    </script>\n",
              "  </div>\n",
              "\n",
              "\n",
              "<div id=\"df-20740733-e61c-4e4c-9810-493540bf8959\">\n",
              "  <button class=\"colab-df-quickchart\" onclick=\"quickchart('df-20740733-e61c-4e4c-9810-493540bf8959')\"\n",
              "            title=\"Suggest charts\"\n",
              "            style=\"display:none;\">\n",
              "\n",
              "<svg xmlns=\"http://www.w3.org/2000/svg\" height=\"24px\"viewBox=\"0 0 24 24\"\n",
              "     width=\"24px\">\n",
              "    <g>\n",
              "        <path d=\"M19 3H5c-1.1 0-2 .9-2 2v14c0 1.1.9 2 2 2h14c1.1 0 2-.9 2-2V5c0-1.1-.9-2-2-2zM9 17H7v-7h2v7zm4 0h-2V7h2v10zm4 0h-2v-4h2v4z\"/>\n",
              "    </g>\n",
              "</svg>\n",
              "  </button>\n",
              "\n",
              "<style>\n",
              "  .colab-df-quickchart {\n",
              "      --bg-color: #E8F0FE;\n",
              "      --fill-color: #1967D2;\n",
              "      --hover-bg-color: #E2EBFA;\n",
              "      --hover-fill-color: #174EA6;\n",
              "      --disabled-fill-color: #AAA;\n",
              "      --disabled-bg-color: #DDD;\n",
              "  }\n",
              "\n",
              "  [theme=dark] .colab-df-quickchart {\n",
              "      --bg-color: #3B4455;\n",
              "      --fill-color: #D2E3FC;\n",
              "      --hover-bg-color: #434B5C;\n",
              "      --hover-fill-color: #FFFFFF;\n",
              "      --disabled-bg-color: #3B4455;\n",
              "      --disabled-fill-color: #666;\n",
              "  }\n",
              "\n",
              "  .colab-df-quickchart {\n",
              "    background-color: var(--bg-color);\n",
              "    border: none;\n",
              "    border-radius: 50%;\n",
              "    cursor: pointer;\n",
              "    display: none;\n",
              "    fill: var(--fill-color);\n",
              "    height: 32px;\n",
              "    padding: 0;\n",
              "    width: 32px;\n",
              "  }\n",
              "\n",
              "  .colab-df-quickchart:hover {\n",
              "    background-color: var(--hover-bg-color);\n",
              "    box-shadow: 0 1px 2px rgba(60, 64, 67, 0.3), 0 1px 3px 1px rgba(60, 64, 67, 0.15);\n",
              "    fill: var(--button-hover-fill-color);\n",
              "  }\n",
              "\n",
              "  .colab-df-quickchart-complete:disabled,\n",
              "  .colab-df-quickchart-complete:disabled:hover {\n",
              "    background-color: var(--disabled-bg-color);\n",
              "    fill: var(--disabled-fill-color);\n",
              "    box-shadow: none;\n",
              "  }\n",
              "\n",
              "  .colab-df-spinner {\n",
              "    border: 2px solid var(--fill-color);\n",
              "    border-color: transparent;\n",
              "    border-bottom-color: var(--fill-color);\n",
              "    animation:\n",
              "      spin 1s steps(1) infinite;\n",
              "  }\n",
              "\n",
              "  @keyframes spin {\n",
              "    0% {\n",
              "      border-color: transparent;\n",
              "      border-bottom-color: var(--fill-color);\n",
              "      border-left-color: var(--fill-color);\n",
              "    }\n",
              "    20% {\n",
              "      border-color: transparent;\n",
              "      border-left-color: var(--fill-color);\n",
              "      border-top-color: var(--fill-color);\n",
              "    }\n",
              "    30% {\n",
              "      border-color: transparent;\n",
              "      border-left-color: var(--fill-color);\n",
              "      border-top-color: var(--fill-color);\n",
              "      border-right-color: var(--fill-color);\n",
              "    }\n",
              "    40% {\n",
              "      border-color: transparent;\n",
              "      border-right-color: var(--fill-color);\n",
              "      border-top-color: var(--fill-color);\n",
              "    }\n",
              "    60% {\n",
              "      border-color: transparent;\n",
              "      border-right-color: var(--fill-color);\n",
              "    }\n",
              "    80% {\n",
              "      border-color: transparent;\n",
              "      border-right-color: var(--fill-color);\n",
              "      border-bottom-color: var(--fill-color);\n",
              "    }\n",
              "    90% {\n",
              "      border-color: transparent;\n",
              "      border-bottom-color: var(--fill-color);\n",
              "    }\n",
              "  }\n",
              "</style>\n",
              "\n",
              "  <script>\n",
              "    async function quickchart(key) {\n",
              "      const quickchartButtonEl =\n",
              "        document.querySelector('#' + key + ' button');\n",
              "      quickchartButtonEl.disabled = true;  // To prevent multiple clicks.\n",
              "      quickchartButtonEl.classList.add('colab-df-spinner');\n",
              "      try {\n",
              "        const charts = await google.colab.kernel.invokeFunction(\n",
              "            'suggestCharts', [key], {});\n",
              "      } catch (error) {\n",
              "        console.error('Error during call to suggestCharts:', error);\n",
              "      }\n",
              "      quickchartButtonEl.classList.remove('colab-df-spinner');\n",
              "      quickchartButtonEl.classList.add('colab-df-quickchart-complete');\n",
              "    }\n",
              "    (() => {\n",
              "      let quickchartButtonEl =\n",
              "        document.querySelector('#df-20740733-e61c-4e4c-9810-493540bf8959 button');\n",
              "      quickchartButtonEl.style.display =\n",
              "        google.colab.kernel.accessAllowed ? 'block' : 'none';\n",
              "    })();\n",
              "  </script>\n",
              "</div>\n",
              "    </div>\n",
              "  </div>\n"
            ],
            "application/vnd.google.colaboratory.intrinsic+json": {
              "type": "dataframe",
              "variable_name": "pre_final_df",
              "summary": "{\n  \"name\": \"pre_final_df\",\n  \"rows\": 98095,\n  \"fields\": [\n    {\n      \"column\": \"\\u0391\\u0399\\u03a4\\u0397\\u03a3\\u0397\",\n      \"properties\": {\n        \"dtype\": \"category\",\n        \"num_unique_values\": 6861,\n        \"samples\": [\n          \"\\u0393-013182\",\n          \"\\u0393-06748\",\n          \"\\u0393-010649\"\n        ],\n        \"semantic_type\": \"\",\n        \"description\": \"\"\n      }\n    },\n    {\n      \"column\": \"\\u0397\\u039c\\u0395\\u03a1\\u039f\\u039c\\u0397\\u039d\\u0399\\u0391 \\u03a5\\u03a0\\u039f\\u0392\\u039f\\u039b\\u0397\\u03a3 \\u0391\\u0399\\u03a4\\u0397\\u03a3\\u0397\\u03a3\",\n      \"properties\": {\n        \"dtype\": \"date\",\n        \"min\": \"2001-01-02 00:00:00\",\n        \"max\": \"2023-10-10 22:11:12.930000\",\n        \"num_unique_values\": 1532,\n        \"samples\": [\n          \"2022-10-07 14:10:51\",\n          \"2001-07-25 00:00:00\",\n          \"2007-12-06 00:00:00\"\n        ],\n        \"semantic_type\": \"\",\n        \"description\": \"\"\n      }\n    },\n    {\n      \"column\": \"\\u0395\\u03a4\\u0391\\u0399\\u03a1\\u0395\\u0399\\u0391\",\n      \"properties\": {\n        \"dtype\": \"category\",\n        \"num_unique_values\": 4256,\n        \"samples\": [\n          \" OLYMPIC ENERGY  \\u039c\\u039f\\u039d\\u039f\\u03a0\\u03a1\\u039f\\u03a3\\u03a9\\u03a0\\u0397 \\u0399 \\u039a \\u0395\",\n          \"DESIOLI VENTURES LTD\",\n          \"\\u0395\\u0393\\u039d\\u0391\\u03a4\\u0399\\u0391 \\u0393\\u039a\\u03a1\\u039f\\u03a5\\u03a0  \\u0399.\\u039a.\\u0395. \"\n        ],\n        \"semantic_type\": \"\",\n        \"description\": \"\"\n      }\n    },\n    {\n      \"column\": \"A\\u03a1\\u0399\\u0398\\u039c\\u039f\\u03a3 \\u039c\\u0397\\u03a4\\u03a1\\u03a9\\u039f\\u03a5 \\u0391\\u0394\\u0395\\u0399\\u03a9\\u039d\",\n      \"properties\": {\n        \"dtype\": \"category\",\n        \"num_unique_values\": 6768,\n        \"samples\": [\n          \"\\u0391\\u0394-00410\",\n          \"\\u0391\\u0394-08059\",\n          \"\\u0391\\u0394-04886\"\n        ],\n        \"semantic_type\": \"\",\n        \"description\": \"\"\n      }\n    },\n    {\n      \"column\": \"\\u0397\\u039c\\u0395\\u03a1\\u039f\\u039c\\u0397\\u039d\\u0399\\u0391 \\u0395\\u039a\\u0394. \\u0391\\u0394.\\u03a0\\u0391\\u03a1\\u0391\\u0393\\u03a9\\u0393\\u0397\\u03a3\",\n      \"properties\": {\n        \"dtype\": \"category\",\n        \"num_unique_values\": 1867,\n        \"samples\": [\n          \"14/04/2021\",\n          \"08/12/2020\",\n          \"2022-11-25 13:25:33\"\n        ],\n        \"semantic_type\": \"\",\n        \"description\": \"\"\n      }\n    },\n    {\n      \"column\": \"\\u0397\\u039c\\u0395\\u03a1\\u039f\\u039c\\u0397\\u039d\\u0399\\u0391 \\u039b\\u0397\\u039e\\u0397\\u03a3 \\u0391\\u0394.\\u03a0\\u0391\\u03a1\\u0391\\u0393\\u03a9\\u0393\\u0397\\u03a3\",\n      \"properties\": {\n        \"dtype\": \"category\",\n        \"num_unique_values\": 1983,\n        \"samples\": [\n          \"2046-06-23 00:00:00\",\n          \"14/12/2046\",\n          \"2048-05-15 05:04:26\"\n        ],\n        \"semantic_type\": \"\",\n        \"description\": \"\"\n      }\n    },\n    {\n      \"column\": \"\\u03a0\\u0395\\u03a1\\u0399\\u03a6\\u0395\\u03a1\\u0395\\u0399\\u0391\",\n      \"properties\": {\n        \"dtype\": \"category\",\n        \"num_unique_values\": 67,\n        \"samples\": [\n          \"\\u0394\\u03a5\\u03a4\\u0399\\u039a\\u0397\\u03a3 \\u039c\\u0391\\u039a\\u0395\\u0394\\u039f\\u039d\\u0399\\u0391\\u03a3,\\u0398\\u0395\\u03a3\\u03a3\\u0391\\u039b\\u0399\\u0391\\u03a3\",\n          \"\\u03a0\\u0395\\u039b\\u039f\\u03a0\\u039f\\u039d\\u039d\\u0397\\u03a3\\u039f\\u03a5\",\n          \"\\u039a\\u03a1\\u0397\\u03a4\\u0397\\u03a3\"\n        ],\n        \"semantic_type\": \"\",\n        \"description\": \"\"\n      }\n    },\n    {\n      \"column\": \"\\u03a0\\u0395\\u03a1\\u0399\\u03a6\\u0395\\u03a1\\u0395\\u0399\\u0391\\u039a\\u0397 \\u0395\\u039d\\u039f\\u03a4\\u0397\\u03a4\\u0391\",\n      \"properties\": {\n        \"dtype\": \"category\",\n        \"num_unique_values\": 228,\n        \"samples\": [\n          \"\\u039a\\u0395\\u03a6/\\u039d\\u0399\\u0391\\u03a3\",\n          \"\\u039a\\u039f\\u03a1\\u0399\\u039d\\u0398\\u0399\\u0391\\u03a3\",\n          \"\\u0397\\u039c\\u0391\\u0398\\u0399\\u0391\\u03a3\"\n        ],\n        \"semantic_type\": \"\",\n        \"description\": \"\"\n      }\n    },\n    {\n      \"column\": \"\\u0394\\u0397\\u039c\\u039f\\u03a3 \",\n      \"properties\": {\n        \"dtype\": \"category\",\n        \"num_unique_values\": 762,\n        \"samples\": [\n          \"\\u03a6\\u039b\\u03a9\\u03a1\\u0399\\u039d\\u0391\\u03a3\",\n          \"\\u0391\\u039c\\u03a6\\u0399\\u039b\\u039f\\u03a7\\u0399\\u0391\\u03a3 - \\u0391\\u0393\\u03a1\\u0399\\u039d\\u0399\\u039f\\u03a5\",\n          \"\\u0399\\u0395\\u03a1\\u0391\\u03a0\\u0395\\u03a4\\u03a1\\u0391\\u03a3 - \\u03a3\\u0397\\u03a4\\u0395\\u0399\\u0391\\u03a3\"\n        ],\n        \"semantic_type\": \"\",\n        \"description\": \"\"\n      }\n    },\n    {\n      \"column\": \"\\u0394\\u0397\\u039c\\u039f\\u03a4\\u0399\\u039a\\u0397 \\u0395\\u039d\\u039f\\u03a4\\u0397\\u03a4\\u0391\",\n      \"properties\": {\n        \"dtype\": \"category\",\n        \"num_unique_values\": 1608,\n        \"samples\": [\n          \"\\u0399\\u0395\\u03a1\\u0391\\u03a0\\u0395\\u03a4\\u03a1\\u0391\\u03a3\",\n          \"\\u0391\\u039d\\u0391\\u03a4\\u039f\\u039b\\u0399\\u039a\\u039f\\u03a5 \\u03a3\\u0395\\u039b\\u0399\\u039d\\u039f\\u03a5 - \\u03a0\\u0395\\u039b\\u0395\\u039a\\u0391\\u039d\\u039f\\u03a5\",\n          \"\\u0397\\u03a1\\u0391\\u039a\\u039b\\u0395\\u03a9\\u03a4\\u03a9\\u039d  \\u03a3\\u0399\\u0391\\u03a4\\u0399\\u03a3\\u03a4\\u0391\\u03a3\"\n        ],\n        \"semantic_type\": \"\",\n        \"description\": \"\"\n      }\n    },\n    {\n      \"column\": \"\\u0398\\u0395\\u03a3\\u0397\",\n      \"properties\": {\n        \"dtype\": \"category\",\n        \"num_unique_values\": 5794,\n        \"samples\": [\n          \"\\u03a7\\u03a1\\u03a5\\u03a3\\u0391\\u03a5\\u0393\\u0397\",\n          \"\\u0392\\u0399\\u03a3\\u0391\\u039b\\u039f\\u03a5\\u0394\\u0391\",\n          \"\\u039a\\u039f\\u039a\\u0391\\u039b\\u0399\\u039d\\u0391 - \\u03a6\\u0399\\u0394\\u039f\\u03a3\\u039a\\u0391\\u039b\\u0391 - \\u03a0\\u03a1\\u039f\\u03a3\\u0397\\u039b\\u0399\\u0391\\u039a\\u039f - \\u03a0\\u039f\\u03a5\\u039b\\u0399\"\n        ],\n        \"semantic_type\": \"\",\n        \"description\": \"\"\n      }\n    },\n    {\n      \"column\": \"\\u039c\\u0395\\u0393\\u0399\\u03a3\\u03a4\\u0397 \\u0399\\u03a3\\u03a7\\u03a5\\u03a3 (MW)\",\n      \"properties\": {\n        \"dtype\": \"date\",\n        \"min\": 0,\n        \"max\": 754.71,\n        \"num_unique_values\": 2366,\n        \"samples\": [\n          50.803,\n          4.65,\n          0.33\n        ],\n        \"semantic_type\": \"\",\n        \"description\": \"\"\n      }\n    },\n    {\n      \"column\": \"\\u03a4\\u0395\\u03a7\\u039d\\u039f\\u039b\\u039f\\u0393\\u0399\\u0391\",\n      \"properties\": {\n        \"dtype\": \"category\",\n        \"num_unique_values\": 15,\n        \"samples\": [\n          \"\\u0392\\u0399\\u039f\\u039c\\u0391\\u0396\\u0391-\\u0392\\u0399\\u039f\\u0391\\u0395\\u03a1\\u0399\\u039f\",\n          \"\\u0392\\u0399\\u039f\\u039c\\u0391\\u0396\\u0391 - \\u0392\\u0399\\u039f\\u0391\\u0395\\u03a1\\u0399\\u039f\",\n          \"\\u0393\\u0395\\u03a9\\u0398\\u0395\\u03a1\\u039c\\u0399\\u0391\"\n        ],\n        \"semantic_type\": \"\",\n        \"description\": \"\"\n      }\n    }\n  ]\n}"
            }
          },
          "metadata": {},
          "execution_count": 43
        }
      ]
    },
    {
      "cell_type": "markdown",
      "source": [
        "Ερώτηση 1: Πώς ορίζουμε το duplicate γιατί μπορεί κάποιος να καταθέση\n",
        "Θεωρήσεις\n",
        "\n",
        "1.   Κάθε αίτηση είναι μοναδική. Δηλαδή δεν μπορώ στην ίδια περιοχή για την ίδια περίοδο ίδια τεχνολογία να έχω και ίδια αίτηση. Για κάθε πάρκο έχει άλλη αίτηση.\n",
        "2.   Το μοναδικό χαρακτηριστικό που παίρνει ο αιτών εφόσον γίνει δεκτή η αίτηση του είναι ο αριθμός μητρώου ΡΑΕ\n",
        "3. Επίσης υπάρχουν διάφορες εταιρίες με ποικιλία εξειδίκευσης αν θέλουμε να βγάλουμε χαρακτηριστικά αλλά δημιουρφείται θέμα με τα ονόματα (βλέπε παρακάτω)\n",
        "4.\n",
        "5.\n",
        "\n"
      ],
      "metadata": {
        "id": "-qa4pNSfPTkJ"
      }
    },
    {
      "cell_type": "code",
      "source": [
        "#Drop the duplicate values\n",
        "f_df = pre_final_df.drop_duplicates(keep='first')\n",
        "print('after dropping duplicates',len(f_df))\n",
        "f_df.to_csv('./after_removing_duplicates.csv')"
      ],
      "metadata": {
        "colab": {
          "base_uri": "https://localhost:8080/"
        },
        "id": "5Rzd6yViPBZA",
        "outputId": "8322376c-18e8-4c11-c876-2119d89f915f"
      },
      "execution_count": null,
      "outputs": [
        {
          "output_type": "stream",
          "name": "stdout",
          "text": [
            "after dropping duplicates 15538\n"
          ]
        }
      ]
    },
    {
      "cell_type": "markdown",
      "source": [
        "# Μοναδικότητα αίτησης"
      ],
      "metadata": {
        "id": "YbxzxUoMXWTf"
      }
    },
    {
      "cell_type": "code",
      "source": [
        "vals_count = f_df['ΑΙΤΗΣΗ'].value_counts()\n",
        "print('non unique',len(vals_count[vals_count!=1]),'unique',(len(vals_count[vals_count==1])),'total',len(vals_count))\n",
        "print(vals_count.head(5))"
      ],
      "metadata": {
        "colab": {
          "base_uri": "https://localhost:8080/"
        },
        "id": "-J7hB7YLPBWs",
        "outputId": "c5853bcb-53bf-4fdb-9c89-88915fa4541f"
      },
      "execution_count": null,
      "outputs": [
        {
          "output_type": "stream",
          "name": "stdout",
          "text": [
            "non unique 5063 unique 1798 total 6861\n",
            "ΑΙΤΗΣΗ\n",
            "Γ-08484     39\n",
            "Ι-68749     36\n",
            "I-68749     14\n",
            "Γ-013138     8\n",
            "Γ-06887      7\n",
            "Name: count, dtype: int64\n"
          ]
        }
      ]
    },
    {
      "cell_type": "markdown",
      "source": [
        "Παρατηρούνται τα εξής\n",
        "\n",
        "1.   Για διάφορες περιχές/τεχνολογίες και αριθμό μητρώου έχουμε τον ίδιο αριθμός αιτήσεων οπότε δεν μπορεί να θεωρηθεί αξιόπιστο χαρακτηριστικό και πρέπει να πεταχθεί\n",
        "\n"
      ],
      "metadata": {
        "id": "ZCMv1PUiYDCw"
      }
    },
    {
      "cell_type": "code",
      "source": [
        "test_df_aithsh = f_df.loc[f_df['ΑΙΤΗΣΗ']=='Ι-68749']\n",
        "print(test_df_aithsh)"
      ],
      "metadata": {
        "colab": {
          "base_uri": "https://localhost:8080/"
        },
        "id": "4LU_R0eVPBUj",
        "outputId": "ae29dd6e-d6b4-4765-9199-de876a809525"
      },
      "execution_count": null,
      "outputs": [
        {
          "output_type": "stream",
          "name": "stdout",
          "text": [
            "        ΑΙΤΗΣΗ ΗΜΕΡΟΜΗΝΙΑ ΥΠΟΒΟΛΗΣ ΑΙΤΗΣΗΣ  \\\n",
            "4272   Ι-68749         2008-03-05 00:00:00   \n",
            "4273   Ι-68749         2008-03-05 00:00:00   \n",
            "4274   Ι-68749         2008-03-05 00:00:00   \n",
            "4275   Ι-68749         2008-03-05 00:00:00   \n",
            "4276   Ι-68749         2008-03-05 00:00:00   \n",
            "4277   Ι-68749         2008-03-05 00:00:00   \n",
            "4278   Ι-68749         2008-03-05 00:00:00   \n",
            "4279   Ι-68749         2008-03-05 00:00:00   \n",
            "4280   Ι-68749         2008-03-05 00:00:00   \n",
            "4281   Ι-68749         2008-03-05 00:00:00   \n",
            "4282   Ι-68749         2008-03-05 00:00:00   \n",
            "4283   Ι-68749         2008-03-05 00:00:00   \n",
            "4284   Ι-68749         2008-03-05 00:00:00   \n",
            "4328   Ι-68749         2008-03-05 00:00:00   \n",
            "4449   Ι-68749         2008-03-05 00:00:00   \n",
            "9123   Ι-68749         2008-03-05 00:00:00   \n",
            "12429  Ι-68749         2008-03-05 00:00:00   \n",
            "12437  Ι-68749         2008-03-05 00:00:00   \n",
            "12438  Ι-68749         2008-03-05 00:00:00   \n",
            "12441  Ι-68749         2008-03-05 00:00:00   \n",
            "12452  Ι-68749         2008-03-05 00:00:00   \n",
            "12453  Ι-68749         2008-03-05 00:00:00   \n",
            "12454  Ι-68749         2008-03-05 00:00:00   \n",
            "12455  Ι-68749         2008-03-05 00:00:00   \n",
            "12456  Ι-68749         2008-03-05 00:00:00   \n",
            "12457  Ι-68749         2008-03-05 00:00:00   \n",
            "12458  Ι-68749         2008-03-05 00:00:00   \n",
            "12459  Ι-68749         2008-03-05 00:00:00   \n",
            "12461  Ι-68749         2008-03-05 00:00:00   \n",
            "12462  Ι-68749         2008-03-05 00:00:00   \n",
            "12463  Ι-68749         2008-03-05 00:00:00   \n",
            "12464  Ι-68749         2008-03-05 00:00:00   \n",
            "12465  Ι-68749         2008-03-05 00:00:00   \n",
            "12594  Ι-68749         2008-03-05 00:00:00   \n",
            "38591  Ι-68749         2008-03-05 00:00:00   \n",
            "67088  Ι-68749         2008-03-05 00:00:00   \n",
            "\n",
            "                                                ΕΤΑΙΡΕΙΑ  \\\n",
            "4272                                  ΔΕΗ ΑΝΑΝΕΩΣΙΜΕΣ ΑΕ   \n",
            "4273                                  ΔΕΗ ΑΝΑΝΕΩΣΙΜΕΣ ΑΕ   \n",
            "4274                                  ΔΕΗ ΑΝΑΝΕΩΣΙΜΕΣ ΑΕ   \n",
            "4275                                  ΔΕΗ ΑΝΑΝΕΩΣΙΜΕΣ ΑΕ   \n",
            "4276                                  ΔΕΗ ΑΝΑΝΕΩΣΙΜΕΣ ΑΕ   \n",
            "4277                                  ΔΕΗ ΑΝΑΝΕΩΣΙΜΕΣ ΑΕ   \n",
            "4278                                  ΔΕΗ ΑΝΑΝΕΩΣΙΜΕΣ ΑΕ   \n",
            "4279                                  ΔΕΗ ΑΝΑΝΕΩΣΙΜΕΣ ΑΕ   \n",
            "4280                                  ΔΕΗ ΑΝΑΝΕΩΣΙΜΕΣ ΑΕ   \n",
            "4281                                  ΔΕΗ ΑΝΑΝΕΩΣΙΜΕΣ ΑΕ   \n",
            "4282                                  ΔΕΗ ΑΝΑΝΕΩΣΙΜΕΣ ΑΕ   \n",
            "4283                                  ΔΕΗ ΑΝΑΝΕΩΣΙΜΕΣ ΑΕ   \n",
            "4284                                  ΔΕΗ ΑΝΑΝΕΩΣΙΜΕΣ ΑΕ   \n",
            "4328                                  ΔΕΗ ΑΝΑΝΕΩΣΙΜΕΣ ΑΕ   \n",
            "4449   ΑΝΩΝΥΜΗ ΕΤΑΙΡΕΙΑ ΔΙΑΧΕΙΡΙΣΗΣ ΑΝΑΝΕΩΣΙΜΩΝ ΠΗΓΩΝ...   \n",
            "9123                                  ΔΕΗ ΑΝΑΝΕΩΣΙΜΕΣ ΑΕ   \n",
            "12429  ΜΟΝΟΠΡΟΣΩΠΗ ΑΝΩΝΥΜΗ ΕΤΑΙΡΕΙΑ ΔΙΑΧΕΙΡΙΣΗΣ ΑΝΑΝΕ...   \n",
            "12437                                 ΔΕΗ ΑΝΑΝΕΩΣΙΜΕΣ ΑΕ   \n",
            "12438  ΜΟΝΟΠΡΟΣΩΠΗ ΑΝΩΝΥΜΗ ΕΤΑΙΡΕΙΑ ΔΙΑΧΕΙΡΙΣΗΣ ΑΝΑΝΕ...   \n",
            "12441  ΜΟΝΟΠΡΟΣΩΠΗ ΑΝΩΝΥΜΗ ΕΤΑΙΡΕΙΑ ΔΙΑΧΕΙΡΙΣΗΣ ΑΝΑΝΕ...   \n",
            "12452  ΜΟΝΟΠΡΟΣΩΠΗ ΑΝΩΝΥΜΗ ΕΤΑΙΡΕΙΑ ΔΙΑΧΕΙΡΙΣΗΣ ΑΝΑΝΕ...   \n",
            "12453  ΜΟΝΟΠΡΟΣΩΠΗ ΑΝΩΝΥΜΗ ΕΤΑΙΡΕΙΑ ΔΙΑΧΕΙΡΙΣΗΣ ΑΝΑΝΕ...   \n",
            "12454  ΜΟΝΟΠΡΟΣΩΠΗ ΑΝΩΝΥΜΗ ΕΤΑΙΡΕΙΑ ΔΙΑΧΕΙΡΙΣΗΣ ΑΝΑΝΕ...   \n",
            "12455  ΜΟΝΟΠΡΟΣΩΠΗ ΑΝΩΝΥΜΗ ΕΤΑΙΡΕΙΑ ΔΙΑΧΕΙΡΙΣΗΣ ΑΝΑΝΕ...   \n",
            "12456  ΜΟΝΟΠΡΟΣΩΠΗ ΑΝΩΝΥΜΗ ΕΤΑΙΡΕΙΑ ΔΙΑΧΕΙΡΙΣΗΣ ΑΝΑΝΕ...   \n",
            "12457  ΜΟΝΟΠΡΟΣΩΠΗ ΑΝΩΝΥΜΗ ΕΤΑΙΡΕΙΑ ΔΙΑΧΕΙΡΙΣΗΣ ΑΝΑΝΕ...   \n",
            "12458  ΜΟΝΟΠΡΟΣΩΠΗ ΑΝΩΝΥΜΗ ΕΤΑΙΡΕΙΑ ΔΙΑΧΕΙΡΙΣΗΣ ΑΝΑΝΕ...   \n",
            "12459  ΜΟΝΟΠΡΟΣΩΠΗ ΑΝΩΝΥΜΗ ΕΤΑΙΡΕΙΑ ΔΙΑΧΕΙΡΙΣΗΣ ΑΝΑΝΕ...   \n",
            "12461  ΜΟΝΟΠΡΟΣΩΠΗ ΑΝΩΝΥΜΗ ΕΤΑΙΡΕΙΑ ΔΙΑΧΕΙΡΙΣΗΣ ΑΝΑΝΕ...   \n",
            "12462  ΜΟΝΟΠΡΟΣΩΠΗ ΑΝΩΝΥΜΗ ΕΤΑΙΡΕΙΑ ΔΙΑΧΕΙΡΙΣΗΣ ΑΝΑΝΕ...   \n",
            "12463  ΜΟΝΟΠΡΟΣΩΠΗ ΑΝΩΝΥΜΗ ΕΤΑΙΡΕΙΑ ΔΙΑΧΕΙΡΙΣΗΣ ΑΝΑΝΕ...   \n",
            "12464                                 ΔΕΗ ΑΝΑΝΕΩΣΙΜΕΣ ΑΕ   \n",
            "12465  ΜΟΝΟΠΡΟΣΩΠΗ ΑΝΩΝΥΜΗ ΕΤΑΙΡΕΙΑ ΔΙΑΧΕΙΡΙΣΗΣ ΑΝΑΝΕ...   \n",
            "12594  ΜΟΝΟΠΡΟΣΩΠΗ ΑΝΩΝΥΜΗ ΕΤΑΙΡΕΙΑ ΔΙΑΧΕΙΡΙΣΗΣ ΑΝΑΝΕ...   \n",
            "38591                                 ΔΕΗ ΑΝΑΝΕΩΣΙΜΕΣ ΑΕ   \n",
            "67088                                 ΔΕΗ ΑΝΑΝΕΩΣΙΜΕΣ ΑΕ   \n",
            "\n",
            "      AΡΙΘΜΟΣ ΜΗΤΡΩΟΥ ΑΔΕΙΩΝ ΗΜΕΡΟΜΗΝΙΑ ΕΚΔ. ΑΔ.ΠΑΡΑΓΩΓΗΣ  \\\n",
            "4272                ΑΔ-01131          1993-12-31 00:00:00   \n",
            "4273                ΑΔ-01132          1999-12-31 00:00:00   \n",
            "4274                ΑΔ-01133          2008-10-27 00:00:00   \n",
            "4275                ΑΔ-01134          1991-12-31 00:00:00   \n",
            "4276                ΑΔ-01135          2008-10-27 00:00:00   \n",
            "4277                ΑΔ-01136          1992-12-31 00:00:00   \n",
            "4278                ΑΔ-01138          1992-12-31 00:00:00   \n",
            "4279                ΑΔ-01140          1992-12-31 00:00:00   \n",
            "4280                ΑΔ-01144          1990-12-31 00:00:00   \n",
            "4281                ΑΔ-01145          1999-12-31 00:00:00   \n",
            "4282                ΑΔ-01147          1991-12-31 00:00:00   \n",
            "4283                ΑΔ-01148          1992-12-31 00:00:00   \n",
            "4284                ΑΔ-01149          1992-12-31 00:00:00   \n",
            "4328                ΑΔ-01273          2009-06-11 00:00:00   \n",
            "4449                ΑΔ-01525          2010-04-01 00:00:00   \n",
            "9123                ΑΔ-01145          1999-12-31 00:00:00   \n",
            "12429               ΑΔ-01131          2008-10-27 00:00:00   \n",
            "12437               ΑΔ-01144          2008-10-27 00:00:00   \n",
            "12438               ΑΔ-01145          2008-10-27 00:00:00   \n",
            "12441               ΑΔ-01149          2008-10-27 00:00:00   \n",
            "12452               ΑΔ-01165          2008-12-01 00:00:00   \n",
            "12453               ΑΔ-01166          2008-12-01 00:00:00   \n",
            "12454               ΑΔ-01168          2008-12-01 00:00:00   \n",
            "12455               ΑΔ-01169          2008-12-01 00:00:00   \n",
            "12456               ΑΔ-01170          2008-12-01 00:00:00   \n",
            "12457               ΑΔ-01171          2008-12-01 00:00:00   \n",
            "12458               ΑΔ-01172          2008-12-01 00:00:00   \n",
            "12459               ΑΔ-01173          2008-12-01 00:00:00   \n",
            "12461               ΑΔ-01182          2008-12-18 00:00:00   \n",
            "12462               ΑΔ-01183          2008-12-18 00:00:00   \n",
            "12463               ΑΔ-01184          2008-12-18 00:00:00   \n",
            "12464               ΑΔ-01185          2008-12-18 00:00:00   \n",
            "12465               ΑΔ-01186          2008-12-18 00:00:00   \n",
            "12594               ΑΔ-01525          2010-04-01 00:00:00   \n",
            "38591               ΑΔ-01148          1992-12-31 00:00:00   \n",
            "67088               ΑΔ-01140          1992-12-31 00:00:00   \n",
            "\n",
            "      ΗΜΕΡΟΜΗΝΙΑ ΛΗΞΗΣ ΑΔ.ΠΑΡΑΓΩΓΗΣ          ΠΕΡΙΦΕΡΕΙΑ ΠΕΡΙΦΕΡΕΙΑΚΗ ΕΝΟΤΗΤΑ  \\\n",
            "4272            2037-01-25 00:00:00              ΚΡΗΤΗΣ             ΛΑΣΙΘΙΟΥ   \n",
            "4273            2024-12-31 00:00:00     ΒΟΡΕΙΟΥ ΑΙΓΑΙΟΥ               ΛΕΣΒΟΥ   \n",
            "4274            2036-01-27 00:00:00     ΒΟΡΕΙΟΥ ΑΙΓΑΙΟΥ                ΣΑΜΟΥ   \n",
            "4275            2036-01-27 00:00:00      ΝΟΤΙΟΥ ΑΙΓΑΙΟΥ          ΔΩΔΕΚΑΝΗΣΟΥ   \n",
            "4276            2036-02-16 00:00:00     ΒΟΡΕΙΟΥ ΑΙΓΑΙΟΥ                 ΧΙΟΥ   \n",
            "4277            2036-02-16 00:00:00     ΣΤΕΡΕΑΣ ΕΛΛΑΔΟΣ              ΕΥΒΟΙΑΣ   \n",
            "4278            2039-02-03 00:00:00     ΒΟΡΕΙΟΥ ΑΙΓΑΙΟΥ                 ΧΙΟΥ   \n",
            "4279            2039-01-20 00:00:00     ΒΟΡΕΙΟΥ ΑΙΓΑΙΟΥ                 ΧΙΟΥ   \n",
            "4280            2042-12-31 00:00:00      ΝΟΤΙΟΥ ΑΙΓΑΙΟΥ             ΚΥΚΛΑΔΩΝ   \n",
            "4281            2042-12-31 00:00:00      ΝΟΤΙΟΥ ΑΙΓΑΙΟΥ             ΚΥΚΛΑΔΩΝ   \n",
            "4282            2036-01-27 00:00:00     ΒΟΡΕΙΟΥ ΑΙΓΑΙΟΥ                ΣΑΜΟΥ   \n",
            "4283            2036-01-27 00:00:00     ΒΟΡΕΙΟΥ ΑΙΓΑΙΟΥ               ΛΕΣΒΟΥ   \n",
            "4284            2040-03-26 00:00:00      ΝΟΤΙΟΥ ΑΙΓΑΙΟΥ             ΚΥΚΛΑΔΩΝ   \n",
            "4328            2034-06-11 00:00:00           ΘΕΣΣΑΛΙΑΣ            ΚΑΡΔΙΤΣΑΣ   \n",
            "4449            2035-04-01 00:00:00  ΔΥΤΙΚΗΣ ΜΑΚΕΔΟΝΙΑΣ              ΚΟΖΑΝΗΣ   \n",
            "9123            2024-12-31 00:00:00      ΝΟΤΙΟΥ ΑΙΓΑΙΟΥ             ΚΥΚΛΑΔΩΝ   \n",
            "12429           2037-01-25 00:00:00              ΚΡΗΤΗΣ             ΛΑΣΙΘΙΟΥ   \n",
            "12437           2042-11-02 00:00:00           Ν ΑΙΓΑΙΟΥ             ΚΥΚΛΑΔΩΝ   \n",
            "12438           2042-11-02 00:00:00           Ν ΑΙΓΑΙΟΥ             ΚΥΚΛΑΔΩΝ   \n",
            "12441           2040-03-26 00:00:00           Ν ΑΙΓΑΙΟΥ             ΚΥΚΛΑΔΩΝ   \n",
            "12452           2043-12-31 00:00:00        Κ ΜΑΚΕΔΟΝΙΑΣ               ΣΕΡΡΩΝ   \n",
            "12453           2042-12-31 00:00:00              ΚΡΗΤΗΣ               ΧΑΝΙΩΝ   \n",
            "12454           2046-12-31 00:00:00        Κ ΜΑΚΕΔΟΝΙΑΣ              ΗΜΑΘΙΑΣ   \n",
            "12455           2023-12-31 00:00:00           Δ ΕΛΛΑΔΑΣ     ΑΙΤΩΛΟΑΚΑΡΝΑΝΙΑΣ   \n",
            "12456           2042-12-31 00:00:00        Κ ΜΑΚΕΔΟΝΙΑΣ              ΗΜΑΘΙΑΣ   \n",
            "12457           2038-12-31 00:00:00          ΣΤ ΕΛΛΑΔΑΣ              ΦΩΚΙΔΑΣ   \n",
            "12458           2030-12-01 00:00:00              ΚΡΗΤΗΣ             ΛΑΣΙΘΙΟΥ   \n",
            "12459           2030-12-01 00:00:00              ΚΡΗΤΗΣ             ΛΑΣΙΘΙΟΥ   \n",
            "12461           2027-12-31 00:00:00           ΘΕΣΣΑΛΙΑΣ             ΤΡΙΚΑΛΩΝ   \n",
            "12462           2027-12-31 00:00:00        Δ ΜΑΚΕΔΟΝΙΑΣ             ΦΛΩΡΙΝΑΣ   \n",
            "12463           2046-12-31 00:00:00             ΗΠΕΙΡΟΥ     ΠΡΕΒΕΖΗΣ - ΑΡΤΗΣ   \n",
            "12464           2022-12-31 00:00:00           Δ ΕΛΛΑΔΑΣ               ΑΧΑΙΑΣ   \n",
            "12465           2027-12-31 00:00:00        Κ ΜΑΚΕΔΟΝΙΑΣ              ΗΜΑΘΙΑΣ   \n",
            "12594           2035-04-01 00:00:00        Δ ΜΑΚΕΔΟΝΙΑΣ              ΚΟΖΑΝΗΣ   \n",
            "38591           2036-01-27 00:00:00     ΒΟΡΕΙΟΥ ΑΙΓΑΙΟΥ               ΛΗΜΝΟΥ   \n",
            "67088           2039-01-20 00:00:00     ΒΟΡΕΙΟΥ ΑΙΓΑΙΟΥ                 ΧΙΟΥ   \n",
            "\n",
            "                              ΔΗΜΟΣ            ΔΗΜΟΤΙΚΗ ΕΝΟΤΗΤΑ  \\\n",
            "4272                         ΣΗΤΕΙΑΣ                     ΙΤΑΝΟΥ   \n",
            "4273                          ΛΕΣΒΟΥ          ΕΡΕΣΟΥ - ΑΝΤΙΣΣΗΣ   \n",
            "4274                           ΣΑΜΟΥ                ΠΥΘΑΓΟΡΕΙΟΥ   \n",
            "4275                        ΚΑΡΠΑΘΟΥ                   ΚΑΡΠΑΘΟΥ   \n",
            "4276                            ΧΙΟΥ                     ΑΜΑΝΗΣ   \n",
            "4277                        ΚΑΡΥΣΤΟΥ       ΜΑΡΜΑΡΙΟΥ & ΚΑΡΥΣΤΟΥ   \n",
            "4278                           ΨΑΡΩΝ                      ΨΑΡΩΝ   \n",
            "4279                            ΧΙΟΥ                     ΑΜΑΝΗΣ   \n",
            "4280                          ΚΥΘΝΟΥ                     ΚΥΘΝΟΥ   \n",
            "4281                          ΚΥΘΝΟΥ                     ΚΥΘΝΟΥ   \n",
            "4282                         ΙΚΑΡΙΑΣ      ΑΓΙΟΥ ΚΗΡΥΚΟΥ ΙΚΑΡΙΑΣ   \n",
            "4283                          ΛΗΜΝΟΥ                   ΑΤΣΙΚΗΣ    \n",
            "4284                          ΑΝΔΡΟΥ            ΥΔΡΟΥΣΑΣ ΑΝΔΡΟΥ   \n",
            "4328                         ΣΟΦΑΔΩΝ                   ΤΑΜΑΣΙΟΥ   \n",
            "4449   ΣΕΡΒΙΩΝ - ΒΕΛΒΕΝΤΟΥ - ΚΟΖΑΝΗΣ      ΚΑΜΒΟΥΝΙΩΝ ΚΑΙ ΑΙΑΝΗΣ   \n",
            "9123                          ΚΥΘΝΟΥ                     ΚΥΘΝΟΥ   \n",
            "12429                        ΣΗΤΕΙΑΣ                     ΙΤΑΝΟΥ   \n",
            "12437                         ΚΥΘΝΟΥ                     ΚΥΘΝΟΥ   \n",
            "12438                         ΚΥΘΝΟΥ                     ΚΥΘΝΟΥ   \n",
            "12441                         ΑΝΔΡΟΥ            ΥΔΡΟΥΣΑΣ ΑΝΔΡΟΥ   \n",
            "12452                         ΣΕΡΡΩΝ                     ΣΕΡΡΩΝ   \n",
            "12453                     ΑΠΟΚΟΡΩΝΟΥ             ΓΕΩΡΓΙΟΥΠΟΛΕΩΣ   \n",
            "12454                        ΒΕΡΟΙΑΣ                    ΒΕΡΟΙΑΣ   \n",
            "12455                       ΑΓΡΙΝΙΟΥ                    ΣΤΡΑΤΟΥ   \n",
            "12456                        ΒΕΡΟΙΑΣ           ΑΠΟΣΤΟΛΟΥ ΠΑΥΛΟΥ   \n",
            "12457                         ΔΕΛΦΩΝ                   ΑΜΦΙΣΣΗΣ   \n",
            "12458                        ΣΗΤΕΙΑΣ                     ΙΤΑΝΟΥ   \n",
            "12459                        ΣΗΤΕΙΑΣ                     ΙΤΑΝΟΥ   \n",
            "12461                          ΠΥΛΗΣ                   ΝΕΡΑΙΔΑΣ   \n",
            "12462                       ΦΛΩΡΙΝΑΣ                    ΜΕΛΙΤΗΣ   \n",
            "12463                ΖΗΡΟΥ - ΑΡΤΑΙΩΝ  ΦΙΛΙΠΠΙΑΔΟΣ - ΞΗΡΟΒΟΥΝΙΟΥ   \n",
            "12464                        ΠΑΤΡΕΩΝ                    ΠΑΤΡΕΩΝ   \n",
            "12465                        ΒΕΡΟΙΑΣ                    ΒΕΡΟΙΑΣ   \n",
            "12594  ΣΕΡΒΙΩΝ - ΒΕΛΒΕΝΤΟΥ - ΚΟΖΑΝΗΣ      ΚΑΜΒΟΥΝΙΩΝ ΚΑΙ ΑΙΑΝΗΣ   \n",
            "38591                         ΛΗΜΝΟΥ                    ΜΟΥΔΡΟΥ   \n",
            "67088                           ΧΙΟΥ                     ΑΜΑΝΗΣ   \n",
            "\n",
            "                                                    ΘΕΣΗ ΜΕΓΙΣΤΗ ΙΣΧΥΣ (MW)  \\\n",
            "4272                                         ΜΟΝΗ ΤΟΠΛΟΥ                  6   \n",
            "4273                                               ΣΙΓΡΙ              2.025   \n",
            "4274                               ΑΓΙΑ ΤΡΙΑΔΑ - ΛΑΚΑΚΙΑ                1.8   \n",
            "4275                                       ΑΓΙΟΣ ΙΩΑΝΝΗΣ               0.45   \n",
            "4276                                             ΠΟΤΑΜΙΑ                0.9   \n",
            "4277                                             ΜΑΡΜΑΡΙ               4.83   \n",
            "4278                                      ΠΡΟΦΗΤΗΣ ΗΛΙΑΣ                1.8   \n",
            "4279                                            ΜΕΛΑΝΙΟΣ              2.475   \n",
            "4280                                               ΧΩΡΑ               0.165   \n",
            "4281                                         ΚΟΥΚΟΥΒΑΓΙΑ                0.5   \n",
            "4282                                            ΠΕΡΔΙΚΙ               0.385   \n",
            "4283                                ΑΓ. ΣΩΖΩΝ - ΕΠΕΚΤΑΣΗ                0.7   \n",
            "4284                                            ΚΑΛΥΒΑΡΙ              1.575   \n",
            "4328                          ΕΞΟΔΟΣ ΣΗΡΑΓΓΑΣ ΛΕΟΝΤΑΡΙΟΥ                 10   \n",
            "4449   ΠΟΤΑΜΟΣ ΑΛΙΑΚΜΟΝΑΣ - ΠΕΡΙΟΧΗ ΑΙΑΝΗΣ ΠΛΗΣΙΟΝ ΜΟ...                4.2   \n",
            "9123                                         ΚΟΥΚΟΥΒΑΓΙΑ                0.5   \n",
            "12429                                        ΜΟΝΗ ΤΟΠΛΟΥ                  6   \n",
            "12437                                              ΧΩΡΑ               0.165   \n",
            "12438                                        ΚΟΥΚΟΥΒΑΓΙΑ                0.5   \n",
            "12441                                           ΚΑΛΥΒΑΡΙ              1.575   \n",
            "12452  ΡΕΜΑ ΑΓΙΟΥ ΙΩΑΝΝΗ - ΠΑΡΑΠΛΕΥΡΩΣ ΤΗΣ ΜΟΝΗΣ ΤΙΜΙ...                0.6   \n",
            "12453     ΠΟΤΑΜΟΣ ΑΛΜΥΡΟΣ -ΠΕΡΙΟΧΗ ΠΗΓΩΝ ΠΟΤΑΜΟΥ ΑΛΜΥΡΟΥ                0.3   \n",
            "12454               ΠΟΤΑΜΟΣ ΤΡΙΠΟΤΑΜΟΣ - ΠΑΡΥΦΕΣ ΒΕΡΟΙΑΣ                1.8   \n",
            "12455                  ΠΟΤΑΜΟΣ ΑΧΕΛΩΟΣ - ΠΕΡΙΟΧΗ ΣΤΡΑΤΟΥ                6.2   \n",
            "12456                     ΑΡΔΕΥΤΙΚΗ ΔΙΩΡΥΓΑ Α0 ΑΛΙΑΚΜΟΝΑ               10.8   \n",
            "12457                             ΕΞΟΔΟΣ ΣΗΡΑΓΓΑΣ ΜΟΡΝΟΥ                8.5   \n",
            "12458                                        ΞΗΡΟΛΙΜΝΗ Ι                4.8   \n",
            "12459                                       ΞΗΡΟΛΙΜΝΗ ΙΙ                5.4   \n",
            "12461           ΠΟΤΑΜΟΣ ΑΧΕΛΩΟΣ - ΠΕΡΙΟΧΗ ΟΙΚΙΣΜΟΥ ΑΕΤΟΥ                1.6   \n",
            "12462      ΠΟΤΑΜΟΣ ΓΕΡΟΠΟΤΑΜΟΣ - ΠΕΡΙΟΧΗ ΟΙΚΙΣΜΟΥ ΣΚΟΠΟΣ                0.5   \n",
            "12463  ΠΟΤΑΜΟΣ ΛΟΥΡΟΣ - ΦΡΑΓΜΑ ΣΤΗΝ ΠΕΡΙΟΧΗ ΠΗΓΩΝ ΑΓ....                8.7   \n",
            "12464                       ΠΟΤΑΜΟΣ ΓΛΑΥΚΟΣ - ΡΟΥΦΡΑΚΤΗΣ                3.7   \n",
            "12465      ΠΟΤΑΜΟΣ ΑΛΙΑΚΜΟΝΑΣ - ΤΑΜΙΕΥΤΗΡΑΣ ΑΓ. ΒΑΡΒΑΡΑΣ               0.92   \n",
            "12594  ΠΟΤΑΜΟΣ ΑΛΙΑΚΜΟΝΑΣ - ΠΕΡΙΟΧΗ ΑΙΑΝΗΣ ΠΛΗΣΙΟΝ ΜΟ...                4.2   \n",
            "38591                               ΑΓΙΟΣ ΣΩΖΩΝ ΕΠΕΚΤΑΣΗ                0.7   \n",
            "67088                                           ΜΕΛΑΝΙΟΣ               2.45   \n",
            "\n",
            "      ΤΕΧΝΟΛΟΓΙΑ  \n",
            "4272     ΑΙΟΛΙΚΑ  \n",
            "4273     ΑΙΟΛΙΚΑ  \n",
            "4274     ΑΙΟΛΙΚΑ  \n",
            "4275     ΑΙΟΛΙΚΑ  \n",
            "4276     ΑΙΟΛΙΚΑ  \n",
            "4277     ΑΙΟΛΙΚΑ  \n",
            "4278     ΑΙΟΛΙΚΑ  \n",
            "4279     ΑΙΟΛΙΚΑ  \n",
            "4280     ΑΙΟΛΙΚΑ  \n",
            "4281     ΑΙΟΛΙΚΑ  \n",
            "4282     ΑΙΟΛΙΚΑ  \n",
            "4283     ΑΙΟΛΙΚΑ  \n",
            "4284     ΑΙΟΛΙΚΑ  \n",
            "4328        ΜΥΗΕ  \n",
            "4449        ΜΥΗΕ  \n",
            "9123     ΑΙΟΛΙΚΑ  \n",
            "12429    ΑΙΟΛΙΚΑ  \n",
            "12437    ΑΙΟΛΙΚΑ  \n",
            "12438    ΑΙΟΛΙΚΑ  \n",
            "12441    ΑΙΟΛΙΚΑ  \n",
            "12452       ΜΥΗΕ  \n",
            "12453       ΜΥΗΕ  \n",
            "12454       ΜΥΗΕ  \n",
            "12455       ΜΥΗΕ  \n",
            "12456       ΜΥΗΕ  \n",
            "12457       ΜΥΗΕ  \n",
            "12458    ΑΙΟΛΙΚΑ  \n",
            "12459    ΑΙΟΛΙΚΑ  \n",
            "12461       ΜΥΗΕ  \n",
            "12462       ΜΥΗΕ  \n",
            "12463       ΜΥΗΕ  \n",
            "12464       ΜΥΗΕ  \n",
            "12465       ΜΥΗΕ  \n",
            "12594       ΜΥΗΕ  \n",
            "38591    ΑΙΟΛΙΚΑ  \n",
            "67088    ΑΙΟΛΙΚΑ  \n"
          ]
        }
      ]
    },
    {
      "cell_type": "markdown",
      "source": [
        "# Διερεύνηση μοναδικότητας αριθμού μητρώου αδειών\n",
        "\n"
      ],
      "metadata": {
        "id": "3ija0qU5ZcNP"
      }
    },
    {
      "cell_type": "code",
      "source": [
        "vals_count_1 = f_df['AΡΙΘΜΟΣ ΜΗΤΡΩΟΥ ΑΔΕΙΩΝ'].value_counts()\n",
        "print('non unique',len(vals_count_1[vals_count_1!=1]),'unique',(len(vals_count_1[vals_count_1==1])),'total',len(vals_count_1))\n",
        "print(vals_count_1.head(10))"
      ],
      "metadata": {
        "colab": {
          "base_uri": "https://localhost:8080/"
        },
        "id": "j7SJ9MsPZyif",
        "outputId": "a7bb7675-75a9-4ede-cf79-f7ebc5b06e60"
      },
      "execution_count": null,
      "outputs": [
        {
          "output_type": "stream",
          "name": "stdout",
          "text": [
            "non unique 5166 unique 1602 total 6768\n",
            "AΡΙΘΜΟΣ ΜΗΤΡΩΟΥ ΑΔΕΙΩΝ\n",
            "00:00:00    8\n",
            "ΑΔ-07432    7\n",
            "ΑΔ-06798    7\n",
            "ΑΔ-06707    7\n",
            "ΑΔ-06710    7\n",
            "ΑΔ-06711    7\n",
            "ΑΔ-06712    7\n",
            "ΑΔ-06713    7\n",
            "ΑΔ-06714    7\n",
            "ΑΔ-08665    7\n",
            "Name: count, dtype: int64\n"
          ]
        }
      ]
    },
    {
      "cell_type": "markdown",
      "source": [
        "**ΣΧΟΛΙΑ**\n",
        "η διαφορά είναι στο\n",
        "\n",
        "\n",
        "1.   όνομα της εταιρείας\n",
        "2.   ημερομηνία έκδοση άδειας παραγωγής\n",
        "ΥΠΟΤΙΘΕΤΑΙ ΟΤΙ ΟΜΩΣ ΕΙΝΑΙ ΜΟΝΑΔΙΚΗ ΓΙΑ ΚΑΘΕ ΝΕΟ ΠΑΡΚΟ ΑΡΑ ΔΕΝ ΜΠΟΡΕΊ ΝΑ ΘΕΩΡΗΘΕΙ ΑΞΙΟΠΙΣΤΗ και πρέπει να πεταχθεί\n"
      ],
      "metadata": {
        "id": "BaKnlNQhaxg_"
      }
    },
    {
      "cell_type": "code",
      "source": [
        "test_df_mhtrwo_permits = f_df.loc[f_df['AΡΙΘΜΟΣ ΜΗΤΡΩΟΥ ΑΔΕΙΩΝ']=='ΑΔ-08665']\n",
        "print(test_df_mhtrwo_permits)"
      ],
      "metadata": {
        "colab": {
          "base_uri": "https://localhost:8080/"
        },
        "id": "v7PV4GQuPBSc",
        "outputId": "21d68e49-1124-4fb1-ccd3-87d6807ab963"
      },
      "execution_count": null,
      "outputs": [
        {
          "output_type": "stream",
          "name": "stdout",
          "text": [
            "         ΑΙΤΗΣΗ ΗΜΕΡΟΜΗΝΙΑ ΥΠΟΒΟΛΗΣ ΑΙΤΗΣΗΣ  \\\n",
            "8499   Γ-012268                  06/02/2021   \n",
            "15994  Γ-012268                  06/02/2021   \n",
            "21267  Γ-012268                  06/02/2021   \n",
            "32047  Γ-012268                  06/02/2021   \n",
            "36874  Γ-012268                  06/02/2021   \n",
            "42802  Γ-012268                  06/02/2021   \n",
            "81210  Γ-012268                  06/02/2021   \n",
            "\n",
            "                                                ΕΤΑΙΡΕΙΑ  \\\n",
            "8499    DEVELOPMENT FARIA GROUP ΙΔΙΩΤΙΚΗ ΚΕΦΑΛΑΙΟΥΧΙΚ...   \n",
            "15994                                ΠΡΙΜΕΡΑ ΕΝΕΡΤΖΙ Ε Ε   \n",
            "21267  VELANIDIA 1 ΜΟΝΟΠΡΟΣΩΠΗ Ι.Κ.Ε ΚΑΙ Δ.Τ. VELANID...   \n",
            "32047   DEVELOPMENT FARIA GROUP ΙΔΙΩΤΙΚΗ ΚΕΦΑΛΑΙΟΥΧΙΚ...   \n",
            "36874   DEVELOPMENT FARIA GROUP ΙΔΙΩΤΙΚΗ ΚΕΦΑΛΑΙΟΥΧΙΚ...   \n",
            "42802   DEVELOPMENT FARIA GROUP ΙΔΙΩΤΙΚΗ ΚΕΦΑΛΑΙΟΥΧΙΚ...   \n",
            "81210                                        ΔΑΝΑΗ ΒΕΜΟΥ   \n",
            "\n",
            "      AΡΙΘΜΟΣ ΜΗΤΡΩΟΥ ΑΔΕΙΩΝ ΗΜΕΡΟΜΗΝΙΑ ΕΚΔ. ΑΔ.ΠΑΡΑΓΩΓΗΣ  \\\n",
            "8499                ΑΔ-08665                   29/06/2021   \n",
            "15994               ΑΔ-08665          2021-06-29 00:00:00   \n",
            "21267               ΑΔ-08665          2021-06-29 00:00:00   \n",
            "32047               ΑΔ-08665          2021-06-29 00:00:00   \n",
            "36874               ΑΔ-08665          2021-06-29 00:00:00   \n",
            "42802               ΑΔ-08665                   29/06/2021   \n",
            "81210               ΑΔ-08665          2021-06-29 00:00:00   \n",
            "\n",
            "      ΗΜΕΡΟΜΗΝΙΑ ΛΗΞΗΣ ΑΔ.ΠΑΡΑΓΩΓΗΣ               ΠΕΡΙΦΕΡΕΙΑ  \\\n",
            "8499                     29/06/2046  ΑΝ. ΜΑΚΕΔΟΝΙΑΣ & ΘΡΑΚΗΣ   \n",
            "15994           2046-06-29 00:00:00     ΑΝ ΜΑΚΕΔΟΝΙΑΣ ΘΡΑΚΗΣ   \n",
            "21267           2046-06-29 00:00:00     ΑΝ ΜΑΚΕΔΟΝΙΑΣ ΘΡΑΚΗΣ   \n",
            "32047           2046-06-29 00:00:00     ΑΝ ΜΑΚΕΔΟΝΙΑΣ ΘΡΑΚΗΣ   \n",
            "36874           2046-06-29 00:00:00     ΑΝ ΜΑΚΕΔΟΝΙΑΣ ΘΡΑΚΗΣ   \n",
            "42802                    29/06/2046  ΑΝ. ΜΑΚΕΔΟΝΙΑΣ & ΘΡΑΚΗΣ   \n",
            "81210           2046-06-29 00:00:00     ΑΝ ΜΑΚΕΔΟΝΙΑΣ ΘΡΑΚΗΣ   \n",
            "\n",
            "      ΠΕΡΙΦΕΡΕΙΑΚΗ ΕΝΟΤΗΤΑ  ΔΗΜΟΣ  ΔΗΜΟΤΙΚΗ ΕΝΟΤΗΤΑ           ΘΕΣΗ  \\\n",
            "8499               ΡΟΔΟΠΗΣ  ΙΑΣΜΟΥ           ΙΑΣΜΟΥ       ΑΜΒΡΟΣΙΑ   \n",
            "15994              ΡΟΔΟΠΗΣ  ΙΑΣΜΟΥ           ΣΩΣΤΟΥ  ΞΕΡΟΚΕΦΑΛΟΣ 2   \n",
            "21267              ΡΟΔΟΠΗΣ  ΙΑΣΜΟΥ           ΣΩΣΤΟΥ  ΞΕΡΟΚΕΦΑΛΟΣ 2   \n",
            "32047              ΡΟΔΟΠΗΣ  ΙΑΣΜΟΥ           ΙΑΣΜΟΥ  ΞΕΡΟΚΕΦΑΛΟΣ 2   \n",
            "36874              ΡΟΔΟΠΗΣ  ΙΑΣΜΟΥ           ΣΩΣΤΟΥ  ΞΕΡΟΚΕΦΑΛΟΣ 2   \n",
            "42802              ΡΟΔΟΠΗΣ  ΙΑΣΜΟΥ           ΙΑΣΜΟΥ  ΞΕΡΟΚΕΦΑΛΟΣ 2   \n",
            "81210              ΡΟΔΟΠΗΣ  ΙΑΣΜΟΥ           ΣΩΣΤΟΥ  ΞΕΡΟΚΕΦΑΛΟΣ 2   \n",
            "\n",
            "      ΜΕΓΙΣΤΗ ΙΣΧΥΣ (MW) ΤΕΧΝΟΛΟΓΙΑ  \n",
            "8499                   6    ΑΙΟΛΙΚΑ  \n",
            "15994                  6    ΑΙΟΛΙΚΑ  \n",
            "21267                  6    ΑΙΟΛΙΚΑ  \n",
            "32047                  6    ΑΙΟΛΙΚΑ  \n",
            "36874                  6    ΑΙΟΛΙΚΑ  \n",
            "42802                  6    ΑΙΟΛΙΚΑ  \n",
            "81210                  6    ΑΙΟΛΙΚΑ  \n"
          ]
        }
      ]
    },
    {
      "cell_type": "code",
      "source": [
        "#FIXING TIMESTAMPS\n",
        "from collections import Counter\n",
        "f_df[\"ΗΜΕΡΟΜΗΝΙΑ ΥΠΟΒΟΛΗΣ ΑΙΤΗΣΗΣ\"] =  pd.to_datetime(f_df[\"ΗΜΕΡΟΜΗΝΙΑ ΥΠΟΒΟΛΗΣ ΑΙΤΗΣΗΣ\"],format='%Y-%m-%d %H:%M:%S', errors='coerce')\n",
        "f_df[\"ΗΜΕΡΟΜΗΝΙΑ ΕΚΔ. ΑΔ.ΠΑΡΑΓΩΓΗΣ\"] = pd.to_datetime(f_df[\"ΗΜΕΡΟΜΗΝΙΑ ΕΚΔ. ΑΔ.ΠΑΡΑΓΩΓΗΣ\"],format='%Y-%m-%d %H:%M:%S', errors='coerce')\n",
        "f_df[\"ΗΜΕΡΟΜΗΝΙΑ ΛΗΞΗΣ ΑΔ.ΠΑΡΑΓΩΓΗΣ\"] = pd.to_datetime(f_df[\"ΗΜΕΡΟΜΗΝΙΑ ΛΗΞΗΣ ΑΔ.ΠΑΡΑΓΩΓΗΣ\"],format='%Y-%m-%d %H:%M:%S', errors='coerce')\n",
        "\n",
        "f_df['ΗΜΕΡΟΜΗΝΙΑ ΥΠΟΒΟΛΗ-ΕΚΔ. ΑΔ.ΠΑΡΑΓΩΓΗΣ'] = f_df['ΗΜΕΡΟΜΗΝΙΑ ΕΚΔ. ΑΔ.ΠΑΡΑΓΩΓΗΣ'] - f_df['ΗΜΕΡΟΜΗΝΙΑ ΥΠΟΒΟΛΗΣ ΑΙΤΗΣΗΣ']\n",
        "f_df['ΗΜΕΡΟΜΗΝΙΑ ΥΠΟΒΟΛΗ-ΕΚΔ. ΑΔ.ΠΑΡΑΓΩΓΗΣ'] = f_df['ΗΜΕΡΟΜΗΝΙΑ ΥΠΟΒΟΛΗ-ΕΚΔ. ΑΔ.ΠΑΡΑΓΩΓΗΣ'].dt.total_seconds().astype(float)\n",
        "f_df['ΗΜΕΡΟΜΗΝΙΑ ΕΚΔ.-ΛΗΞΗ ΑΔ.ΠΑΡΑΓΩΓΗΣ'] = f_df['ΗΜΕΡΟΜΗΝΙΑ ΛΗΞΗΣ ΑΔ.ΠΑΡΑΓΩΓΗΣ'] - f_df['ΗΜΕΡΟΜΗΝΙΑ ΕΚΔ. ΑΔ.ΠΑΡΑΓΩΓΗΣ']\n",
        "f_df['ΗΜΕΡΟΜΗΝΙΑ ΕΚΔ.-ΛΗΞΗ ΑΔ.ΠΑΡΑΓΩΓΗΣ'] = f_df['ΗΜΕΡΟΜΗΝΙΑ ΕΚΔ.-ΛΗΞΗ ΑΔ.ΠΑΡΑΓΩΓΗΣ'].dt.total_seconds().astype(float)\n",
        "f_df['ΗΜΕΡΟΜΗΝΙΑ ΕΚΔ.-ΛΗΞΗ ΑΔ.ΠΑΡΑΓΩΓΗΣ']=f_df['ΗΜΕΡΟΜΗΝΙΑ ΕΚΔ.-ΛΗΞΗ ΑΔ.ΠΑΡΑΓΩΓΗΣ'].round()/(3600*24*365)"
      ],
      "metadata": {
        "id": "J5Ys_-4RPBQO"
      },
      "execution_count": null,
      "outputs": []
    },
    {
      "cell_type": "markdown",
      "source": [
        "#   Σχόλια για ημερομηνίες\n",
        "\n",
        "\n",
        "**ΗΜΕΡΟΜΗΝΙΑ ΥΠΟΒΟΛΗΣ -ΕΚΔΟΣΗ**\n",
        "1.   Η πλειοψηφία των τιμών είναι nan 6847\n",
        "2.   Toδεύτερο μεγαλύτερο νούμερο δείχνει ότι η σχέση μεταξύ αίτηση και έκδωσης είναι 1 χρόνος\n",
        "Επειδή κυριαρχούν τα nan δεν μπορούμε να βασιστούμε σε αυτήν την στήλη\n",
        "\n",
        "Απο την άλλη για την έκδωση λήξη παρατηρείται ότι:\n",
        "\n",
        "1.   Οι περισσότερες τιμές έχουν διαφοράς 25 χρόνια άρα μπορούμε να διορθώσουμε τις nan values ή αρνητικές τιμές που έχουν περαστεί λανθασμένα\n",
        "επομένβς ημερομηνία έκδοσης είναι αξιόπιστη\n"
      ],
      "metadata": {
        "id": "25q6M4PPcZ_C"
      }
    },
    {
      "cell_type": "code",
      "source": [
        "issuance_app_list = f_df['ΗΜΕΡΟΜΗΝΙΑ ΥΠΟΒΟΛΗ-ΕΚΔ. ΑΔ.ΠΑΡΑΓΩΓΗΣ'].values\n",
        "issuance_app_list = issuance_app_list/(3600*24*365) # Μετα\n",
        "issuance_app_list = issuance_app_list.round()\n",
        "print('COUNTER\\n',Counter(issuance_app_list).most_common(),'\\n MAX',max(issuance_app_list))\n",
        "terminate_issuance= f_df['ΗΜΕΡΟΜΗΝΙΑ ΕΚΔ.-ΛΗΞΗ ΑΔ.ΠΑΡΑΓΩΓΗΣ'].values\n",
        "# terminate_issuance = terminate_issuance/(3600*24*365) # Μετα\n",
        "terminate_issuance = terminate_issuance.round()\n",
        "print(terminate_issuance)\n",
        "count_issuance_app = Counter(issuance_app_list)\n",
        "print(count_issuance_app.most_common())"
      ],
      "metadata": {
        "colab": {
          "base_uri": "https://localhost:8080/"
        },
        "id": "lhpOjLK2PBN6",
        "outputId": "3b5b4d67-2441-4233-a755-887b8a150846"
      },
      "execution_count": null,
      "outputs": [
        {
          "output_type": "stream",
          "name": "stdout",
          "text": [
            "COUNTER\n",
            " [(1.0, 3460), (2.0, 1870), (0.0, 1510), (3.0, 956), (4.0, 280), (5.0, 143), (6.0, 105), (8.0, 73), (7.0, 59), (9.0, 53), (12.0, 40), (14.0, 37), (10.0, 23), (19.0, 22), (13.0, 14), (11.0, 10), (-15.0, 8), (-8.0, 3), (-16.0, 3), (-11.0, 3), (-5.0, 3), (15.0, 3), (16.0, 3), (-14.0, 2), (-7.0, 2), (17.0, 2), (-17.0, 1), (-9.0, 1), (-19.0, 1), (-10.0, 1), (nan, 1), (nan, 1), (nan, 1), (nan, 1), (nan, 1), (nan, 1), (nan, 1), (nan, 1), (nan, 1), (nan, 1), (nan, 1), (nan, 1), (nan, 1), (nan, 1), (nan, 1), (nan, 1), (nan, 1), (nan, 1), (nan, 1), (nan, 1), (nan, 1), (nan, 1), (nan, 1), (nan, 1), (nan, 1), (nan, 1), (nan, 1), (nan, 1), (nan, 1), (nan, 1), (nan, 1), (nan, 1), (nan, 1), (nan, 1), (nan, 1), (nan, 1), (nan, 1), (nan, 1), (nan, 1), (nan, 1), (nan, 1), (nan, 1), (nan, 1), (nan, 1), (nan, 1), (nan, 1), (nan, 1), (nan, 1), (nan, 1), (nan, 1), (nan, 1), (nan, 1), (nan, 1), (nan, 1), (nan, 1), (nan, 1), (nan, 1), (nan, 1), (nan, 1), (nan, 1), (nan, 1), (nan, 1), (nan, 1), (nan, 1), (nan, 1), (nan, 1), (nan, 1), (nan, 1), (nan, 1), (nan, 1), (nan, 1), (nan, 1), (nan, 1), (nan, 1), (nan, 1), (nan, 1), (nan, 1), (nan, 1), (nan, 1), (nan, 1), (nan, 1), (nan, 1), (nan, 1), (nan, 1), (nan, 1), (nan, 1), (nan, 1), (nan, 1), (nan, 1), (nan, 1), (nan, 1), (nan, 1), (nan, 1), (nan, 1), (nan, 1), (nan, 1), (nan, 1), (nan, 1), (nan, 1), (nan, 1), (nan, 1), (nan, 1), (nan, 1), (nan, 1), (nan, 1), (nan, 1), (nan, 1), (nan, 1), (nan, 1), (nan, 1), (nan, 1), (nan, 1), (nan, 1), (nan, 1), (nan, 1), (nan, 1), (nan, 1), (nan, 1), (nan, 1), (nan, 1), (nan, 1), (nan, 1), (nan, 1), (nan, 1), (nan, 1), (nan, 1), (nan, 1), (nan, 1), (nan, 1), (nan, 1), (nan, 1), (nan, 1), (nan, 1), (nan, 1), (nan, 1), (nan, 1), (nan, 1), (nan, 1), (nan, 1), (nan, 1), (nan, 1), (nan, 1), (nan, 1), (nan, 1), (nan, 1), (nan, 1), (nan, 1), (nan, 1), (nan, 1), (nan, 1), (nan, 1), (nan, 1), (nan, 1), (nan, 1), (nan, 1), (nan, 1), (nan, 1), (nan, 1), (nan, 1), (nan, 1), (nan, 1), (nan, 1), (nan, 1), (nan, 1), (nan, 1), (nan, 1), (nan, 1), (nan, 1), (nan, 1), (nan, 1), (nan, 1), (nan, 1), (nan, 1), (nan, 1), (nan, 1), (nan, 1), (nan, 1), (nan, 1), (nan, 1), (nan, 1), (nan, 1), (nan, 1), (nan, 1), (nan, 1), (nan, 1), (nan, 1), (nan, 1), (nan, 1), (nan, 1), (nan, 1), (nan, 1), (nan, 1), (nan, 1), (nan, 1), (nan, 1), (nan, 1), (nan, 1), (nan, 1), (nan, 1), (nan, 1), (nan, 1), (nan, 1), (nan, 1), (nan, 1), (nan, 1), (nan, 1), (nan, 1), (nan, 1), (nan, 1), (nan, 1), (nan, 1), (nan, 1), (nan, 1), (nan, 1), (nan, 1), (nan, 1), (nan, 1), (nan, 1), (nan, 1), (nan, 1), (nan, 1), (nan, 1), (nan, 1), (nan, 1), (nan, 1), (nan, 1), (nan, 1), (nan, 1), (nan, 1), (nan, 1), (nan, 1), (nan, 1), (nan, 1), (nan, 1), (nan, 1), (nan, 1), (nan, 1), (nan, 1), (nan, 1), (nan, 1), (nan, 1), (nan, 1), (nan, 1), (nan, 1), (nan, 1), (nan, 1), (nan, 1), (nan, 1), (nan, 1), (nan, 1), (nan, 1), (nan, 1), (nan, 1), (nan, 1), (nan, 1), (nan, 1), (nan, 1), (nan, 1), (nan, 1), (nan, 1), (nan, 1), (nan, 1), (nan, 1), (nan, 1), (nan, 1), (nan, 1), (nan, 1), (nan, 1), (nan, 1), (nan, 1), (nan, 1), (nan, 1), (nan, 1), (nan, 1), (nan, 1), (nan, 1), (nan, 1), (nan, 1), (nan, 1), (nan, 1), (nan, 1), (nan, 1), (nan, 1), (nan, 1), (nan, 1), (nan, 1), (nan, 1), (nan, 1), (nan, 1), (nan, 1), (nan, 1), (nan, 1), (nan, 1), (nan, 1), (nan, 1), (nan, 1), (nan, 1), (nan, 1), (nan, 1), (nan, 1), (nan, 1), (nan, 1), (nan, 1), (nan, 1), (nan, 1), (nan, 1), (nan, 1), (nan, 1), (nan, 1), (nan, 1), (nan, 1), (nan, 1), (nan, 1), (nan, 1), (nan, 1), (nan, 1), (nan, 1), (nan, 1), (nan, 1), (nan, 1), (nan, 1), (nan, 1), (nan, 1), (nan, 1), (nan, 1), (nan, 1), (nan, 1), (nan, 1), (nan, 1), (nan, 1), (nan, 1), (nan, 1), (nan, 1), (nan, 1), (nan, 1), (nan, 1), (nan, 1), (nan, 1), (nan, 1), (nan, 1), (nan, 1), (nan, 1), (nan, 1), (nan, 1), (nan, 1), (nan, 1), (nan, 1), (nan, 1), (nan, 1), (nan, 1), (nan, 1), (nan, 1), (nan, 1), (nan, 1), (nan, 1), (nan, 1), (nan, 1), (nan, 1), (nan, 1), (nan, 1), (nan, 1), (nan, 1), (nan, 1), (nan, 1), (nan, 1), (nan, 1), (nan, 1), (nan, 1), (nan, 1), (nan, 1), (nan, 1), (nan, 1), (nan, 1), (nan, 1), (nan, 1), (nan, 1), (nan, 1), (nan, 1), (nan, 1), (nan, 1), (nan, 1), (nan, 1), (nan, 1), (nan, 1), (nan, 1), (nan, 1), (nan, 1), (nan, 1), (nan, 1), (nan, 1), (nan, 1), (nan, 1), (nan, 1), (nan, 1), (nan, 1), (nan, 1), (nan, 1), (nan, 1), (nan, 1), (nan, 1), (nan, 1), (nan, 1), (nan, 1), (nan, 1), (nan, 1), (nan, 1), (nan, 1), (nan, 1), (nan, 1), (nan, 1), (nan, 1), (nan, 1), (nan, 1), (nan, 1), (nan, 1), (nan, 1), (nan, 1), (nan, 1), (nan, 1), (nan, 1), (nan, 1), (nan, 1), (nan, 1), (nan, 1), (nan, 1), (nan, 1), (nan, 1), (nan, 1), (nan, 1), (nan, 1), (nan, 1), (nan, 1), (nan, 1), (nan, 1), (nan, 1), (nan, 1), (nan, 1), (nan, 1), (nan, 1), (nan, 1), (nan, 1), (nan, 1), (nan, 1), (nan, 1), (nan, 1), (nan, 1), (nan, 1), (nan, 1), (nan, 1), (nan, 1), (nan, 1), (nan, 1), (nan, 1), (nan, 1), (nan, 1), (nan, 1), (nan, 1), (nan, 1), (nan, 1), (nan, 1), (nan, 1), (nan, 1), (nan, 1), (nan, 1), (nan, 1), (nan, 1), (nan, 1), (nan, 1), (nan, 1), (nan, 1), (nan, 1), (nan, 1), (nan, 1), (nan, 1), (nan, 1), (nan, 1), (nan, 1), (nan, 1), (nan, 1), (nan, 1), (nan, 1), (nan, 1), (nan, 1), (nan, 1), (nan, 1), (nan, 1), (nan, 1), (nan, 1), (nan, 1), (nan, 1), (nan, 1), (nan, 1), (nan, 1), (nan, 1), (nan, 1), (nan, 1), (nan, 1), (nan, 1), (nan, 1), (nan, 1), (nan, 1), (nan, 1), (nan, 1), (nan, 1), (nan, 1), (nan, 1), (nan, 1), (nan, 1), (nan, 1), (nan, 1), (nan, 1), (nan, 1), (nan, 1), (nan, 1), (nan, 1), (nan, 1), (nan, 1), (nan, 1), (nan, 1), (nan, 1), (nan, 1), (nan, 1), (nan, 1), (nan, 1), (nan, 1), (nan, 1), (nan, 1), (nan, 1), (nan, 1), (nan, 1), (nan, 1), (nan, 1), (nan, 1), (nan, 1), (nan, 1), (nan, 1), (nan, 1), (nan, 1), (nan, 1), (nan, 1), (nan, 1), (nan, 1), (nan, 1), (nan, 1), (nan, 1), (nan, 1), (nan, 1), (nan, 1), (nan, 1), (nan, 1), (nan, 1), (nan, 1), (nan, 1), (nan, 1), (nan, 1), (nan, 1), (nan, 1), (nan, 1), (nan, 1), (nan, 1), (nan, 1), (nan, 1), (nan, 1), (nan, 1), (nan, 1), (nan, 1), (nan, 1), (nan, 1), (nan, 1), (nan, 1), (nan, 1), (nan, 1), (nan, 1), (nan, 1), (nan, 1), (nan, 1), (nan, 1), (nan, 1), (nan, 1), (nan, 1), (nan, 1), (nan, 1), (nan, 1), (nan, 1), (nan, 1), (nan, 1), (nan, 1), (nan, 1), (nan, 1), (nan, 1), (nan, 1), (nan, 1), (nan, 1), (nan, 1), (nan, 1), (nan, 1), (nan, 1), (nan, 1), (nan, 1), (nan, 1), (nan, 1), (nan, 1), (nan, 1), (nan, 1), (nan, 1), (nan, 1), (nan, 1), (nan, 1), (nan, 1), (nan, 1), (nan, 1), (nan, 1), (nan, 1), (nan, 1), (nan, 1), (nan, 1), (nan, 1), (nan, 1), (nan, 1), (nan, 1), (nan, 1), (nan, 1), (nan, 1), (nan, 1), (nan, 1), (nan, 1), (nan, 1), (nan, 1), (nan, 1), (nan, 1), (nan, 1), (nan, 1), (nan, 1), (nan, 1), (nan, 1), (nan, 1), (nan, 1), (nan, 1), (nan, 1), (nan, 1), (nan, 1), (nan, 1), (nan, 1), (nan, 1), (nan, 1), (nan, 1), (nan, 1), (nan, 1), (nan, 1), (nan, 1), (nan, 1), (nan, 1), (nan, 1), (nan, 1), (nan, 1), (nan, 1), (nan, 1), (nan, 1), (nan, 1), (nan, 1), (nan, 1), (nan, 1), (nan, 1), (nan, 1), (nan, 1), (nan, 1), (nan, 1), (nan, 1), (nan, 1), (nan, 1), (nan, 1), (nan, 1), (nan, 1), (nan, 1), (nan, 1), (nan, 1), (nan, 1), (nan, 1), (nan, 1), (nan, 1), (nan, 1), (nan, 1), (nan, 1), (nan, 1), (nan, 1), (nan, 1), (nan, 1), (nan, 1), (nan, 1), (nan, 1), (nan, 1), (nan, 1), (nan, 1), (nan, 1), (nan, 1), (nan, 1), (nan, 1), (nan, 1), (nan, 1), (nan, 1), (nan, 1), (nan, 1), (nan, 1), (nan, 1), (nan, 1), (nan, 1), (nan, 1), (nan, 1), (nan, 1), (nan, 1), (nan, 1), (nan, 1), (nan, 1), (nan, 1), (nan, 1), (nan, 1), (nan, 1), (nan, 1), (nan, 1), (nan, 1), (nan, 1), (nan, 1), (nan, 1), (nan, 1), (nan, 1), (nan, 1), (nan, 1), (nan, 1), (nan, 1), (nan, 1), (nan, 1), (nan, 1), (nan, 1), (nan, 1), (nan, 1), (nan, 1), (nan, 1), (nan, 1), (nan, 1), (nan, 1), (nan, 1), (nan, 1), (nan, 1), (nan, 1), (nan, 1), (nan, 1), (nan, 1), (nan, 1), (nan, 1), (nan, 1), (nan, 1), (nan, 1), (nan, 1), (nan, 1), (nan, 1), (nan, 1), (nan, 1), (nan, 1), (nan, 1), (nan, 1), (nan, 1), (nan, 1), (nan, 1), (nan, 1), (nan, 1), (nan, 1), (nan, 1), (nan, 1), (nan, 1), (nan, 1), (nan, 1), (nan, 1), (nan, 1), (nan, 1), (nan, 1), (nan, 1), (nan, 1), (nan, 1), (nan, 1), (nan, 1), (nan, 1), (nan, 1), (nan, 1), (nan, 1), (nan, 1), (nan, 1), (nan, 1), (nan, 1), (nan, 1), (nan, 1), (nan, 1), (nan, 1), (nan, 1), (nan, 1), (nan, 1), (nan, 1), (nan, 1), (nan, 1), (nan, 1), (nan, 1), (nan, 1), (nan, 1), (nan, 1), (nan, 1), (nan, 1), (nan, 1), (nan, 1), (nan, 1), (nan, 1), (nan, 1), (nan, 1), (nan, 1), (nan, 1), (nan, 1), (nan, 1), (nan, 1), (nan, 1), (nan, 1), (nan, 1), (nan, 1), (nan, 1), (nan, 1), (nan, 1), (nan, 1), (nan, 1), (nan, 1), (nan, 1), (nan, 1), (nan, 1), (nan, 1), (nan, 1), (nan, 1), (nan, 1), (nan, 1), (nan, 1), (nan, 1), (nan, 1), (nan, 1), (nan, 1), (nan, 1), (nan, 1), (nan, 1), (nan, 1), (nan, 1), (nan, 1), (nan, 1), (nan, 1), (nan, 1), (nan, 1), (nan, 1), (nan, 1), (nan, 1), (nan, 1), (nan, 1), (nan, 1), (nan, 1), (nan, 1), (nan, 1), (nan, 1), (nan, 1), (nan, 1), (nan, 1), (nan, 1), (nan, 1), (nan, 1), (nan, 1), (nan, 1), (nan, 1), (nan, 1), (nan, 1), (nan, 1), (nan, 1), (nan, 1), (nan, 1), (nan, 1), (nan, 1), (nan, 1), (nan, 1), (nan, 1), (nan, 1), (nan, 1), (nan, 1), (nan, 1), (nan, 1), (nan, 1), (nan, 1), (nan, 1), (nan, 1), (nan, 1), (nan, 1), (nan, 1), (nan, 1), (nan, 1), (nan, 1), (nan, 1), (nan, 1), (nan, 1), (nan, 1), (nan, 1), (nan, 1), (nan, 1), (nan, 1), (nan, 1), (nan, 1), (nan, 1), (nan, 1), (nan, 1), (nan, 1), (nan, 1), (nan, 1), (nan, 1), (nan, 1), (nan, 1), (nan, 1), (nan, 1), (nan, 1), (nan, 1), (nan, 1), (nan, 1), (nan, 1), (nan, 1), (nan, 1), (nan, 1), (nan, 1), (nan, 1), (nan, 1), (nan, 1), (nan, 1), (nan, 1), (nan, 1), (nan, 1), (nan, 1), (nan, 1), (nan, 1), (nan, 1), (nan, 1), (nan, 1), (nan, 1), (nan, 1), (nan, 1), (nan, 1), (nan, 1), (nan, 1), (nan, 1), (nan, 1), (nan, 1), (nan, 1), (nan, 1), (nan, 1), (nan, 1), (nan, 1), (nan, 1), (nan, 1), (nan, 1), (nan, 1), (nan, 1), (nan, 1), (nan, 1), (nan, 1), (nan, 1), (nan, 1), (nan, 1), (nan, 1), (nan, 1), (nan, 1), (nan, 1), (nan, 1), (nan, 1), (nan, 1), (nan, 1), (nan, 1), (nan, 1), (nan, 1), (nan, 1), (nan, 1), (nan, 1), (nan, 1), (nan, 1), (nan, 1), (nan, 1), (nan, 1), (nan, 1), (nan, 1), (nan, 1), (nan, 1), (nan, 1), (nan, 1), (nan, 1), (nan, 1), (nan, 1), (nan, 1), (nan, 1), (nan, 1), (nan, 1), (nan, 1), (nan, 1), (nan, 1), (nan, 1), (nan, 1), (nan, 1), (nan, 1), (nan, 1), (nan, 1), (nan, 1), (nan, 1), (nan, 1), (nan, 1), (nan, 1), (nan, 1), (nan, 1), (nan, 1), (nan, 1), (nan, 1), (nan, 1), (nan, 1), (nan, 1), (nan, 1), (nan, 1), (nan, 1), (nan, 1), (nan, 1), (nan, 1), (nan, 1), (nan, 1), (nan, 1), (nan, 1), (nan, 1), (nan, 1), (nan, 1), (nan, 1), (nan, 1), (nan, 1), (nan, 1), (nan, 1), (nan, 1), (nan, 1), (nan, 1), (nan, 1), (nan, 1), (nan, 1), (nan, 1), (nan, 1), (nan, 1), (nan, 1), (nan, 1), (nan, 1), (nan, 1), (nan, 1), (nan, 1), (nan, 1), (nan, 1), (nan, 1), (nan, 1), (nan, 1), (nan, 1), (nan, 1), (nan, 1), (nan, 1), (nan, 1), (nan, 1), (nan, 1), (nan, 1), (nan, 1), (nan, 1), (nan, 1), (nan, 1), (nan, 1), (nan, 1), (nan, 1), (nan, 1), (nan, 1), (nan, 1), (nan, 1), (nan, 1), (nan, 1), (nan, 1), (nan, 1), (nan, 1), (nan, 1), (nan, 1), (nan, 1), (nan, 1), (nan, 1), (nan, 1), (nan, 1), (nan, 1), (nan, 1), (nan, 1), (nan, 1), (nan, 1), (nan, 1), (nan, 1), (nan, 1), (nan, 1), (nan, 1), (nan, 1), (nan, 1), (nan, 1), (nan, 1), (nan, 1), (nan, 1), (nan, 1), (nan, 1), (nan, 1), (nan, 1), (nan, 1), (nan, 1), (nan, 1), (nan, 1), (nan, 1), (nan, 1), (nan, 1), (nan, 1), (nan, 1), (nan, 1), (nan, 1), (nan, 1), (nan, 1), (nan, 1), (nan, 1), (nan, 1), (nan, 1), (nan, 1), (nan, 1), (nan, 1), (nan, 1), (nan, 1), (nan, 1), (nan, 1), (nan, 1), (nan, 1), (nan, 1), (nan, 1), (nan, 1), (nan, 1), (nan, 1), (nan, 1), (nan, 1), (nan, 1), (nan, 1), (nan, 1), (nan, 1), (nan, 1), (nan, 1), (nan, 1), (nan, 1), (nan, 1), (nan, 1), (nan, 1), (nan, 1), (nan, 1), (nan, 1), (nan, 1), (nan, 1), (nan, 1), (nan, 1), (nan, 1), (nan, 1), (nan, 1), (nan, 1), (nan, 1), (nan, 1), (nan, 1), (nan, 1), (nan, 1), (nan, 1), (nan, 1), (nan, 1), (nan, 1), (nan, 1), (nan, 1), (nan, 1), (nan, 1), (nan, 1), (nan, 1), (nan, 1), (nan, 1), (nan, 1), (nan, 1), (nan, 1), (nan, 1), (nan, 1), (nan, 1), (nan, 1), (nan, 1), (nan, 1), (nan, 1), (nan, 1), (nan, 1), (nan, 1), (nan, 1), (nan, 1), (nan, 1), (nan, 1), (nan, 1), (nan, 1), (nan, 1), (nan, 1), (nan, 1), (nan, 1), (nan, 1), (nan, 1), (nan, 1), (nan, 1), (nan, 1), (nan, 1), (nan, 1), (nan, 1), (nan, 1), (nan, 1), (nan, 1), (nan, 1), (nan, 1), (nan, 1), (nan, 1), (nan, 1), (nan, 1), (nan, 1), (nan, 1), (nan, 1), (nan, 1), (nan, 1), (nan, 1), (nan, 1), (nan, 1), (nan, 1), (nan, 1), (nan, 1), (nan, 1), (nan, 1), (nan, 1), (nan, 1), (nan, 1), (nan, 1), (nan, 1), (nan, 1), (nan, 1), (nan, 1), (nan, 1), (nan, 1), (nan, 1), (nan, 1), (nan, 1), (nan, 1), (nan, 1), (nan, 1), (nan, 1), (nan, 1), (nan, 1), (nan, 1), (nan, 1), (nan, 1), (nan, 1), (nan, 1), (nan, 1), (nan, 1), (nan, 1), (nan, 1), (nan, 1), (nan, 1), (nan, 1), (nan, 1), (nan, 1), (nan, 1), (nan, 1), (nan, 1), (nan, 1), (nan, 1), (nan, 1), (nan, 1), (nan, 1), (nan, 1), (nan, 1), (nan, 1), (nan, 1), (nan, 1), (nan, 1), (nan, 1), (nan, 1), (nan, 1), (nan, 1), (nan, 1), (nan, 1), (nan, 1), (nan, 1), (nan, 1), (nan, 1), (nan, 1), (nan, 1), (nan, 1), (nan, 1), (nan, 1), (nan, 1), (nan, 1), (nan, 1), (nan, 1), (nan, 1), (nan, 1), (nan, 1), (nan, 1), (nan, 1), (nan, 1), (nan, 1), (nan, 1), (nan, 1), (nan, 1), (nan, 1), (nan, 1), (nan, 1), (nan, 1), (nan, 1), (nan, 1), (nan, 1), (nan, 1), (nan, 1), (nan, 1), (nan, 1), (nan, 1), (nan, 1), (nan, 1), (nan, 1), (nan, 1), (nan, 1), (nan, 1), (nan, 1), (nan, 1), (nan, 1), (nan, 1), (nan, 1), (nan, 1), (nan, 1), (nan, 1), (nan, 1), (nan, 1), (nan, 1), (nan, 1), (nan, 1), (nan, 1), (nan, 1), (nan, 1), (nan, 1), (nan, 1), (nan, 1), (nan, 1), (nan, 1), (nan, 1), (nan, 1), (nan, 1), (nan, 1), (nan, 1), (nan, 1), (nan, 1), (nan, 1), (nan, 1), (nan, 1), (nan, 1), (nan, 1), (nan, 1), (nan, 1), (nan, 1), (nan, 1), (nan, 1), (nan, 1), (nan, 1), (nan, 1), (nan, 1), (nan, 1), (nan, 1), (nan, 1), (nan, 1), (nan, 1), (nan, 1), (nan, 1), (nan, 1), (nan, 1), (nan, 1), (nan, 1), (nan, 1), (nan, 1), (nan, 1), (nan, 1), (nan, 1), (nan, 1), (nan, 1), (nan, 1), (nan, 1), (nan, 1), (nan, 1), (nan, 1), (nan, 1), (nan, 1), (nan, 1), (nan, 1), (nan, 1), (nan, 1), (nan, 1), (nan, 1), (nan, 1), (nan, 1), (nan, 1), (nan, 1), (nan, 1), (nan, 1), (nan, 1), (nan, 1), (nan, 1), (nan, 1), (nan, 1), (nan, 1), (nan, 1), (nan, 1), (nan, 1), (nan, 1), (nan, 1), (nan, 1), (nan, 1), (nan, 1), (nan, 1), (nan, 1), (nan, 1), (nan, 1), (nan, 1), (nan, 1), (nan, 1), (nan, 1), (nan, 1), (nan, 1), (nan, 1), (nan, 1), (nan, 1), (nan, 1), (nan, 1), (nan, 1), (nan, 1), (nan, 1), (nan, 1), (nan, 1), (nan, 1), (nan, 1), (nan, 1), (nan, 1), (nan, 1), (nan, 1), (nan, 1), (nan, 1), (nan, 1), (nan, 1), (nan, 1), (nan, 1), (nan, 1), (nan, 1), (nan, 1), (nan, 1), (nan, 1), (nan, 1), (nan, 1), (nan, 1), (nan, 1), (nan, 1), (nan, 1), (nan, 1), (nan, 1), (nan, 1), (nan, 1), (nan, 1), (nan, 1), (nan, 1), (nan, 1), (nan, 1), (nan, 1), (nan, 1), (nan, 1), (nan, 1), (nan, 1), (nan, 1), (nan, 1), (nan, 1), (nan, 1), (nan, 1), (nan, 1), (nan, 1), (nan, 1), (nan, 1), (nan, 1), (nan, 1), (nan, 1), (nan, 1), (nan, 1), (nan, 1), (nan, 1), (nan, 1), (nan, 1), (nan, 1), (nan, 1), (nan, 1), (nan, 1), (nan, 1), (nan, 1), (nan, 1), (nan, 1), (nan, 1), (nan, 1), (nan, 1), (nan, 1), (nan, 1), (nan, 1), (nan, 1), (nan, 1), (nan, 1), (nan, 1), (nan, 1), (nan, 1), (nan, 1), (nan, 1), (nan, 1), (nan, 1), (nan, 1), (nan, 1), (nan, 1), (nan, 1), (nan, 1), (nan, 1), (nan, 1), (nan, 1), (nan, 1), (nan, 1), (nan, 1), (nan, 1), (nan, 1), (nan, 1), (nan, 1), (nan, 1), (nan, 1), (nan, 1), (nan, 1), (nan, 1), (nan, 1), (nan, 1), (nan, 1), (nan, 1), (nan, 1), (nan, 1), (nan, 1), (nan, 1), (nan, 1), (nan, 1), (nan, 1), (nan, 1), (nan, 1), (nan, 1), (nan, 1), (nan, 1), (nan, 1), (nan, 1), (nan, 1), (nan, 1), (nan, 1), (nan, 1), (nan, 1), (nan, 1), (nan, 1), (nan, 1), (nan, 1), (nan, 1), (nan, 1), (nan, 1), (nan, 1), (nan, 1), (nan, 1), (nan, 1), (nan, 1), (nan, 1), (nan, 1), (nan, 1), (nan, 1), (nan, 1), (nan, 1), (nan, 1), (nan, 1), (nan, 1), (nan, 1), (nan, 1), (nan, 1), (nan, 1), (nan, 1), (nan, 1), (nan, 1), (nan, 1), (nan, 1), (nan, 1), (nan, 1), (nan, 1), (nan, 1), (nan, 1), (nan, 1), (nan, 1), (nan, 1), (nan, 1), (nan, 1), (nan, 1), (nan, 1), (nan, 1), (nan, 1), (nan, 1), (nan, 1), (nan, 1), (nan, 1), (nan, 1), (nan, 1), (nan, 1), (nan, 1), (nan, 1), (nan, 1), (nan, 1), (nan, 1), (nan, 1), (nan, 1), (nan, 1), (nan, 1), (nan, 1), (nan, 1), (nan, 1), (nan, 1), (nan, 1), (nan, 1), (nan, 1), (nan, 1), (nan, 1), (nan, 1), (nan, 1), (nan, 1), (nan, 1), (nan, 1), (nan, 1), (nan, 1), (nan, 1), (nan, 1), (nan, 1), (nan, 1), (nan, 1), (nan, 1), (nan, 1), (nan, 1), (nan, 1), (nan, 1), (nan, 1), (nan, 1), (nan, 1), (nan, 1), (nan, 1), (nan, 1), (nan, 1), (nan, 1), (nan, 1), (nan, 1), (nan, 1), (nan, 1), (nan, 1), (nan, 1), (nan, 1), (nan, 1), (nan, 1), (nan, 1), (nan, 1), (nan, 1), (nan, 1), (nan, 1), (nan, 1), (nan, 1), (nan, 1), (nan, 1), (nan, 1), (nan, 1), (nan, 1), (nan, 1), (nan, 1), (nan, 1), (nan, 1), (nan, 1), (nan, 1), (nan, 1), (nan, 1), (nan, 1), (nan, 1), (nan, 1), (nan, 1), (nan, 1), (nan, 1), (nan, 1), (nan, 1), (nan, 1), (nan, 1), (nan, 1), (nan, 1), (nan, 1), (nan, 1), (nan, 1), (nan, 1), (nan, 1), (nan, 1), (nan, 1), (nan, 1), (nan, 1), (nan, 1), (nan, 1), (nan, 1), (nan, 1), (nan, 1), (nan, 1), (nan, 1), (nan, 1), (nan, 1), (nan, 1), (nan, 1), (nan, 1), (nan, 1), (nan, 1), (nan, 1), (nan, 1), (nan, 1), (nan, 1), (nan, 1), (nan, 1), (nan, 1), (nan, 1), (nan, 1), (nan, 1), (nan, 1), (nan, 1), (nan, 1), (nan, 1), (nan, 1), (nan, 1), (nan, 1), (nan, 1), (nan, 1), (nan, 1), (nan, 1), (nan, 1), (nan, 1), (nan, 1), (nan, 1), (nan, 1), (nan, 1), (nan, 1), (nan, 1), (nan, 1), (nan, 1), (nan, 1), (nan, 1), (nan, 1), (nan, 1), (nan, 1), (nan, 1), (nan, 1), (nan, 1), (nan, 1), (nan, 1), (nan, 1), (nan, 1), (nan, 1), (nan, 1), (nan, 1), (nan, 1), (nan, 1), (nan, 1), (nan, 1), (nan, 1), (nan, 1), (nan, 1), (nan, 1), (nan, 1), (nan, 1), (nan, 1), (nan, 1), (nan, 1), (nan, 1), (nan, 1), (nan, 1), (nan, 1), (nan, 1), (nan, 1), (nan, 1), (nan, 1), (nan, 1), (nan, 1), (nan, 1), (nan, 1), (nan, 1), (nan, 1), (nan, 1), (nan, 1), (nan, 1), (nan, 1), (nan, 1), (nan, 1), (nan, 1), (nan, 1), (nan, 1), (nan, 1), (nan, 1), (nan, 1), (nan, 1), (nan, 1), (nan, 1), (nan, 1), (nan, 1), (nan, 1), (nan, 1), (nan, 1), (nan, 1), (nan, 1), (nan, 1), (nan, 1), (nan, 1), (nan, 1), (nan, 1), (nan, 1), (nan, 1), (nan, 1), (nan, 1), (nan, 1), (nan, 1), (nan, 1), (nan, 1), (nan, 1), (nan, 1), (nan, 1), (nan, 1), (nan, 1), (nan, 1), (nan, 1), (nan, 1), (nan, 1), (nan, 1), (nan, 1), (nan, 1), (nan, 1), (nan, 1), (nan, 1), (nan, 1), (nan, 1), (nan, 1), (nan, 1), (nan, 1), (nan, 1), (nan, 1), (nan, 1), (nan, 1), (nan, 1), (nan, 1), (nan, 1), (nan, 1), (nan, 1), (nan, 1), (nan, 1), (nan, 1), (nan, 1), (nan, 1), (nan, 1), (nan, 1), (nan, 1), (nan, 1), (nan, 1), (nan, 1), (nan, 1), (nan, 1), (nan, 1), (nan, 1), (nan, 1), (nan, 1), (nan, 1), (nan, 1), (nan, 1), (nan, 1), (nan, 1), (nan, 1), (nan, 1), (nan, 1), (nan, 1), (nan, 1), (nan, 1), (nan, 1), (nan, 1), (nan, 1), (nan, 1), (nan, 1), (nan, 1), (nan, 1), (nan, 1), (nan, 1), (nan, 1), (nan, 1), (nan, 1), (nan, 1), (nan, 1), (nan, 1), (nan, 1), (nan, 1), (nan, 1), (nan, 1), (nan, 1), (nan, 1), (nan, 1), (nan, 1), (nan, 1), (nan, 1), (nan, 1), (nan, 1), (nan, 1), (nan, 1), (nan, 1), (nan, 1), (nan, 1), (nan, 1), (nan, 1), (nan, 1), (nan, 1), (nan, 1), (nan, 1), (nan, 1), (nan, 1), (nan, 1), (nan, 1), (nan, 1), (nan, 1), (nan, 1), (nan, 1), (nan, 1), (nan, 1), (nan, 1), (nan, 1), (nan, 1), (nan, 1), (nan, 1), (nan, 1), (nan, 1), (nan, 1), (nan, 1), (nan, 1), (nan, 1), (nan, 1), (nan, 1), (nan, 1), (nan, 1), (nan, 1), (nan, 1), (nan, 1), (nan, 1), (nan, 1), (nan, 1), (nan, 1), (nan, 1), (nan, 1), (nan, 1), (nan, 1), (nan, 1), (nan, 1), (nan, 1), (nan, 1), (nan, 1), (nan, 1), (nan, 1), (nan, 1), (nan, 1), (nan, 1), (nan, 1), (nan, 1), (nan, 1), (nan, 1), (nan, 1), (nan, 1), (nan, 1), (nan, 1), (nan, 1), (nan, 1), (nan, 1), (nan, 1), (nan, 1), (nan, 1), (nan, 1), (nan, 1), (nan, 1), (nan, 1), (nan, 1), (nan, 1), (nan, 1), (nan, 1), (nan, 1), (nan, 1), (nan, 1), (nan, 1), (nan, 1), (nan, 1), (nan, 1), (nan, 1), (nan, 1), (nan, 1), (nan, 1), (nan, 1), (nan, 1), (nan, 1), (nan, 1), (nan, 1), (nan, 1), (nan, 1), (nan, 1), (nan, 1), (nan, 1), (nan, 1), (nan, 1), (nan, 1), (nan, 1), (nan, 1), (nan, 1), (nan, 1), (nan, 1), (nan, 1), (nan, 1), (nan, 1), (nan, 1), (nan, 1), (nan, 1), (nan, 1), (nan, 1), (nan, 1), (nan, 1), (nan, 1), (nan, 1), (nan, 1), (nan, 1), (nan, 1), (nan, 1), (nan, 1), (nan, 1), (nan, 1), (nan, 1), (nan, 1), (nan, 1), (nan, 1), (nan, 1), (nan, 1), (nan, 1), (nan, 1), (nan, 1), (nan, 1), (nan, 1), (nan, 1), (nan, 1), (nan, 1), (nan, 1), (nan, 1), (nan, 1), (nan, 1), (nan, 1), (nan, 1), (nan, 1), (nan, 1), (nan, 1), (nan, 1), (nan, 1), (nan, 1), (nan, 1), (nan, 1), (nan, 1), (nan, 1), (nan, 1), (nan, 1), (nan, 1), (nan, 1), (nan, 1), (nan, 1), (nan, 1), (nan, 1), (nan, 1), (nan, 1), (nan, 1), (nan, 1), (nan, 1), (nan, 1), (nan, 1), (nan, 1), (nan, 1), (nan, 1), (nan, 1), (nan, 1), (nan, 1), (nan, 1), (nan, 1), (nan, 1), (nan, 1), (nan, 1), (nan, 1), (nan, 1), (nan, 1), (nan, 1), (nan, 1), (nan, 1), (nan, 1), (nan, 1), (nan, 1), (nan, 1), (nan, 1), (nan, 1), (nan, 1), (nan, 1), (nan, 1), (nan, 1), (nan, 1), (nan, 1), (nan, 1), (nan, 1), (nan, 1), (nan, 1), (nan, 1), (nan, 1), (nan, 1), (nan, 1), (nan, 1), (nan, 1), (nan, 1), (nan, 1), (nan, 1), (nan, 1), (nan, 1), (nan, 1), (nan, 1), (nan, 1), (nan, 1), (nan, 1), (nan, 1), (nan, 1), (nan, 1), (nan, 1), (nan, 1), (nan, 1), (nan, 1), (nan, 1), (nan, 1), (nan, 1), (nan, 1), (nan, 1), (nan, 1), (nan, 1), (nan, 1), (nan, 1), (nan, 1), (nan, 1), (nan, 1), (nan, 1), (nan, 1), (nan, 1), (nan, 1), (nan, 1), (nan, 1), (nan, 1), (nan, 1), (nan, 1), (nan, 1), (nan, 1), (nan, 1), (nan, 1), (nan, 1), (nan, 1), (nan, 1), (nan, 1), (nan, 1), (nan, 1), (nan, 1), (nan, 1), (nan, 1), (nan, 1), (nan, 1), (nan, 1), (nan, 1), (nan, 1), (nan, 1), (nan, 1), (nan, 1), (nan, 1), (nan, 1), (nan, 1), (nan, 1), (nan, 1), (nan, 1), (nan, 1), (nan, 1), (nan, 1), (nan, 1), (nan, 1), (nan, 1), (nan, 1), (nan, 1), (nan, 1), (nan, 1), (nan, 1), (nan, 1), (nan, 1), (nan, 1), (nan, 1), (nan, 1), (nan, 1), (nan, 1), (nan, 1), (nan, 1), (nan, 1), (nan, 1), (nan, 1), (nan, 1), (nan, 1), (nan, 1), (nan, 1), (nan, 1), (nan, 1), (nan, 1), (nan, 1), (nan, 1), (nan, 1), (nan, 1), (nan, 1), (nan, 1), (nan, 1), (nan, 1), (nan, 1), (nan, 1), (nan, 1), (nan, 1), (nan, 1), (nan, 1), (nan, 1), (nan, 1), (nan, 1), (nan, 1), (nan, 1), (nan, 1), (nan, 1), (nan, 1), (nan, 1), (nan, 1), (nan, 1), (nan, 1), (nan, 1), (nan, 1), (nan, 1), (nan, 1), (nan, 1), (nan, 1), (nan, 1), (nan, 1), (nan, 1), (nan, 1), (nan, 1), (nan, 1), (nan, 1), (nan, 1), (nan, 1), (nan, 1), (nan, 1), (nan, 1), (nan, 1), (nan, 1), (nan, 1), (nan, 1), (nan, 1), (nan, 1), (nan, 1), (nan, 1), (nan, 1), (nan, 1), (nan, 1), (nan, 1), (nan, 1), (nan, 1), (nan, 1), (nan, 1), (nan, 1), (nan, 1), (nan, 1), (nan, 1), (nan, 1), (nan, 1), (nan, 1), (nan, 1), (nan, 1), (nan, 1), (nan, 1), (nan, 1), (nan, 1), (nan, 1), (nan, 1), (nan, 1), (nan, 1), (nan, 1), (nan, 1), (nan, 1), (nan, 1), (nan, 1), (nan, 1), (nan, 1), (nan, 1), (nan, 1), (nan, 1), (nan, 1), (nan, 1), (nan, 1), (nan, 1), (nan, 1), (nan, 1), (nan, 1), (nan, 1), (nan, 1), (nan, 1), (nan, 1), (nan, 1), (nan, 1), (nan, 1), (nan, 1), (nan, 1), (nan, 1), (nan, 1), (nan, 1), (nan, 1), (nan, 1), (nan, 1), (nan, 1), (nan, 1), (nan, 1), (nan, 1), (nan, 1), (nan, 1), (nan, 1), (nan, 1), (nan, 1), (nan, 1), (nan, 1), (nan, 1), (nan, 1), (nan, 1), (nan, 1), (nan, 1), (nan, 1), (nan, 1), (nan, 1), (nan, 1), (nan, 1), (nan, 1), (nan, 1), (nan, 1), (nan, 1), (nan, 1), (nan, 1), (nan, 1), (nan, 1), (nan, 1), (nan, 1), (nan, 1), (nan, 1), (nan, 1), (nan, 1), (nan, 1), (nan, 1), (nan, 1), (nan, 1), (nan, 1), (nan, 1), (nan, 1), (nan, 1), (nan, 1), (nan, 1), (nan, 1), (nan, 1), (nan, 1), (nan, 1), (nan, 1), (nan, 1), (nan, 1), (nan, 1), (nan, 1), (nan, 1), (nan, 1), (nan, 1), (nan, 1), (nan, 1), (nan, 1), (nan, 1), (nan, 1), (nan, 1), (nan, 1), (nan, 1), (nan, 1), (nan, 1), (nan, 1), (nan, 1), (nan, 1), (nan, 1), (nan, 1), (nan, 1), (nan, 1), (nan, 1), (nan, 1), (nan, 1), (nan, 1), (nan, 1), (nan, 1), (nan, 1), (nan, 1), (nan, 1), (nan, 1), (nan, 1), (nan, 1), (nan, 1), (nan, 1), (nan, 1), (nan, 1), (nan, 1), (nan, 1), (nan, 1), (nan, 1), (nan, 1), (nan, 1), (nan, 1), (nan, 1), (nan, 1), (nan, 1), (nan, 1), (nan, 1), (nan, 1), (nan, 1), (nan, 1), (nan, 1), (nan, 1), (nan, 1), (nan, 1), (nan, 1), (nan, 1), (nan, 1), (nan, 1), (nan, 1), (nan, 1), (nan, 1), (nan, 1), (nan, 1), (nan, 1), (nan, 1), (nan, 1), (nan, 1), (nan, 1), (nan, 1), (nan, 1), (nan, 1), (nan, 1), (nan, 1), (nan, 1), (nan, 1), (nan, 1), (nan, 1), (nan, 1), (nan, 1), (nan, 1), (nan, 1), (nan, 1), (nan, 1), (nan, 1), (nan, 1), (nan, 1), (nan, 1), (nan, 1), (nan, 1), (nan, 1), (nan, 1), (nan, 1), (nan, 1), (nan, 1), (nan, 1), (nan, 1), (nan, 1), (nan, 1), (nan, 1), (nan, 1), (nan, 1), (nan, 1), (nan, 1), (nan, 1), (nan, 1), (nan, 1), (nan, 1), (nan, 1), (nan, 1), (nan, 1), (nan, 1), (nan, 1), (nan, 1), (nan, 1), (nan, 1), (nan, 1), (nan, 1), (nan, 1), (nan, 1), (nan, 1), (nan, 1), (nan, 1), (nan, 1), (nan, 1), (nan, 1), (nan, 1), (nan, 1), (nan, 1), (nan, 1), (nan, 1), (nan, 1), (nan, 1), (nan, 1), (nan, 1), (nan, 1), (nan, 1), (nan, 1), (nan, 1), (nan, 1), (nan, 1), (nan, 1), (nan, 1), (nan, 1), (nan, 1), (nan, 1), (nan, 1), (nan, 1), (nan, 1), (nan, 1), (nan, 1), (nan, 1), (nan, 1), (nan, 1), (nan, 1), (nan, 1), (nan, 1), (nan, 1), (nan, 1), (nan, 1), (nan, 1), (nan, 1), (nan, 1), (nan, 1), (nan, 1), (nan, 1), (nan, 1), (nan, 1), (nan, 1), (nan, 1), (nan, 1), (nan, 1), (nan, 1), (nan, 1), (nan, 1), (nan, 1), (nan, 1), (nan, 1), (nan, 1), (nan, 1), (nan, 1), (nan, 1), (nan, 1), (nan, 1), (nan, 1), (nan, 1), (nan, 1), (nan, 1), (nan, 1), (nan, 1), (nan, 1), (nan, 1), (nan, 1), (nan, 1), (nan, 1), (nan, 1), (nan, 1), (nan, 1), (nan, 1), (nan, 1), (nan, 1), (nan, 1), (nan, 1), (nan, 1), (nan, 1), (nan, 1), (nan, 1), (nan, 1), (nan, 1), (nan, 1), (nan, 1), (nan, 1), (nan, 1), (nan, 1), (nan, 1), (nan, 1), (nan, 1), (nan, 1), (nan, 1), (nan, 1), (nan, 1), (nan, 1), (nan, 1), (nan, 1), (nan, 1), (nan, 1), (nan, 1), (nan, 1), (nan, 1), (nan, 1), (nan, 1), (nan, 1), (nan, 1), (nan, 1), (nan, 1), (nan, 1), (nan, 1), (nan, 1), (nan, 1), (nan, 1), (nan, 1), (nan, 1), (nan, 1), (nan, 1), (nan, 1), (nan, 1), (nan, 1), (nan, 1), (nan, 1), (nan, 1), (nan, 1), (nan, 1), (nan, 1), (nan, 1), (nan, 1), (nan, 1), (nan, 1), (nan, 1), (nan, 1), (nan, 1), (nan, 1), (nan, 1), (nan, 1), (nan, 1), (nan, 1), (nan, 1), (nan, 1), (nan, 1), (nan, 1), (nan, 1), (nan, 1), (nan, 1), (nan, 1), (nan, 1), (nan, 1), (nan, 1), (nan, 1), (nan, 1), (nan, 1), (nan, 1), (nan, 1), (nan, 1), (nan, 1), (nan, 1), (nan, 1), (nan, 1), (nan, 1), (nan, 1), (nan, 1), (nan, 1), (nan, 1), (nan, 1), (nan, 1), (nan, 1), (nan, 1), (nan, 1), (nan, 1), (nan, 1), (nan, 1), (nan, 1), (nan, 1), (nan, 1), (nan, 1), (nan, 1), (nan, 1), (nan, 1), (nan, 1), (nan, 1), (nan, 1), (nan, 1), (nan, 1), (nan, 1), (nan, 1), (nan, 1), (nan, 1), (nan, 1), (nan, 1), (nan, 1), (nan, 1), (nan, 1), (nan, 1), (nan, 1), (nan, 1), (nan, 1), (nan, 1), (nan, 1), (nan, 1), (nan, 1), (nan, 1), (nan, 1), (nan, 1), (nan, 1), (nan, 1), (nan, 1), (nan, 1), (nan, 1), (nan, 1), (nan, 1), (nan, 1), (nan, 1), (nan, 1), (nan, 1), (nan, 1), (nan, 1), (nan, 1), (nan, 1), (nan, 1), (nan, 1), (nan, 1), (nan, 1), (nan, 1), (nan, 1), (nan, 1), (nan, 1), (nan, 1), (nan, 1), (nan, 1), (nan, 1), (nan, 1), (nan, 1), (nan, 1), (nan, 1), (nan, 1), (nan, 1), (nan, 1), (nan, 1), (nan, 1), (nan, 1), (nan, 1), (nan, 1), (nan, 1), (nan, 1), (nan, 1), (nan, 1), (nan, 1), (nan, 1), (nan, 1), (nan, 1), (nan, 1), (nan, 1), (nan, 1), (nan, 1), (nan, 1), (nan, 1), (nan, 1), (nan, 1), (nan, 1), (nan, 1), (nan, 1), (nan, 1), (nan, 1), (nan, 1), (nan, 1), (nan, 1), (nan, 1), (nan, 1), (nan, 1), (nan, 1), (nan, 1), (nan, 1), (nan, 1), (nan, 1), (nan, 1), (nan, 1), (nan, 1), (nan, 1), (nan, 1), (nan, 1), (nan, 1), (nan, 1), (nan, 1), (nan, 1), (nan, 1), (nan, 1), (nan, 1), (nan, 1), (nan, 1), (nan, 1), (nan, 1), (nan, 1), (nan, 1), (nan, 1), (nan, 1), (nan, 1), (nan, 1), (nan, 1), (nan, 1), (nan, 1), (nan, 1), (nan, 1), (nan, 1), (nan, 1), (nan, 1), (nan, 1), (nan, 1), (nan, 1), (nan, 1), (nan, 1), (nan, 1), (nan, 1), (nan, 1), (nan, 1), (nan, 1), (nan, 1), (nan, 1), (nan, 1), (nan, 1), (nan, 1), (nan, 1), (nan, 1), (nan, 1), (nan, 1), (nan, 1), (nan, 1), (nan, 1), (nan, 1), (nan, 1), (nan, 1), (nan, 1), (nan, 1), (nan, 1), (nan, 1), (nan, 1), (nan, 1), (nan, 1), (nan, 1), (nan, 1), (nan, 1), (nan, 1), (nan, 1), (nan, 1), (nan, 1), (nan, 1), (nan, 1), (nan, 1), (nan, 1), (nan, 1), (nan, 1), (nan, 1), (nan, 1), (nan, 1), (nan, 1), (nan, 1), (nan, 1), (nan, 1), (nan, 1), (nan, 1), (nan, 1), (nan, 1), (nan, 1), (nan, 1), (nan, 1), (nan, 1), (nan, 1), (nan, 1), (nan, 1), (nan, 1), (nan, 1), (nan, 1), (nan, 1), (nan, 1), (nan, 1), (nan, 1), (nan, 1), (nan, 1), (nan, 1), (nan, 1), (nan, 1), (nan, 1), (nan, 1), (nan, 1), (nan, 1), (nan, 1), (nan, 1), (nan, 1), (nan, 1), (nan, 1), (nan, 1), (nan, 1), (nan, 1), (nan, 1), (nan, 1), (nan, 1), (nan, 1), (nan, 1), (nan, 1), (nan, 1), (nan, 1), (nan, 1), (nan, 1), (nan, 1), (nan, 1), (nan, 1), (nan, 1), (nan, 1), (nan, 1), (nan, 1), (nan, 1), (nan, 1), (nan, 1), (nan, 1), (nan, 1), (nan, 1), (nan, 1), (nan, 1), (nan, 1), (nan, 1), (nan, 1), (nan, 1), (nan, 1), (nan, 1), (nan, 1), (nan, 1), (nan, 1), (nan, 1), (nan, 1), (nan, 1), (nan, 1), (nan, 1), (nan, 1), (nan, 1), (nan, 1), (nan, 1), (nan, 1), (nan, 1), (nan, 1), (nan, 1), (nan, 1), (nan, 1), (nan, 1), (nan, 1), (nan, 1), (nan, 1), (nan, 1), (nan, 1), (nan, 1), (nan, 1), (nan, 1), (nan, 1), (nan, 1), (nan, 1), (nan, 1), (nan, 1), (nan, 1), (nan, 1), (nan, 1), (nan, 1), (nan, 1), (nan, 1), (nan, 1), (nan, 1), (nan, 1), (nan, 1), (nan, 1), (nan, 1), (nan, 1), (nan, 1), (nan, 1), (nan, 1), (nan, 1), (nan, 1), (nan, 1), (nan, 1), (nan, 1), (nan, 1), (nan, 1), (nan, 1), (nan, 1), (nan, 1), (nan, 1), (nan, 1), (nan, 1), (nan, 1), (nan, 1), (nan, 1), (nan, 1), (nan, 1), (nan, 1), (nan, 1), (nan, 1), (nan, 1), (nan, 1), (nan, 1), (nan, 1), (nan, 1), (nan, 1), (nan, 1), (nan, 1), (nan, 1), (nan, 1), (nan, 1), (nan, 1), (nan, 1), (nan, 1), (nan, 1), (nan, 1), (nan, 1), (nan, 1), (nan, 1), (nan, 1), (nan, 1), (nan, 1), (nan, 1), (nan, 1), (nan, 1), (nan, 1), (nan, 1), (nan, 1), (nan, 1), (nan, 1), (nan, 1), (nan, 1), (nan, 1), (nan, 1), (nan, 1), (nan, 1), (nan, 1), (nan, 1), (nan, 1), (nan, 1), (nan, 1), (nan, 1), (nan, 1), (nan, 1), (nan, 1), (nan, 1), (nan, 1), (nan, 1), (nan, 1), (nan, 1), (nan, 1), (nan, 1), (nan, 1), (nan, 1), (nan, 1), (nan, 1), (nan, 1), (nan, 1), (nan, 1), (nan, 1), (nan, 1), (nan, 1), (nan, 1), (nan, 1), (nan, 1), (nan, 1), (nan, 1), (nan, 1), (nan, 1), (nan, 1), (nan, 1), (nan, 1), (nan, 1), (nan, 1), (nan, 1), (nan, 1), (nan, 1), (nan, 1), (nan, 1), (nan, 1), (nan, 1), (nan, 1), (nan, 1), (nan, 1), (nan, 1), (nan, 1), (nan, 1), (nan, 1), (nan, 1), (nan, 1), (nan, 1), (nan, 1), (nan, 1), (nan, 1), (nan, 1), (nan, 1), (nan, 1), (nan, 1), (nan, 1), (nan, 1), (nan, 1), (nan, 1), (nan, 1), (nan, 1), (nan, 1), (nan, 1), (nan, 1), (nan, 1), (nan, 1), (nan, 1), (nan, 1), (nan, 1), (nan, 1), (nan, 1), (nan, 1), (nan, 1), (nan, 1), (nan, 1), (nan, 1), (nan, 1), (nan, 1), (nan, 1), (nan, 1), (nan, 1), (nan, 1), (nan, 1), (nan, 1), (nan, 1), (nan, 1), (nan, 1), (nan, 1), (nan, 1), (nan, 1), (nan, 1), (nan, 1), (nan, 1), (nan, 1), (nan, 1), (nan, 1), (nan, 1), (nan, 1), (nan, 1), (nan, 1), (nan, 1), (nan, 1), (nan, 1), (nan, 1), (nan, 1), (nan, 1), (nan, 1), (nan, 1), (nan, 1), (nan, 1), (nan, 1), (nan, 1), (nan, 1), (nan, 1), (nan, 1), (nan, 1), (nan, 1), (nan, 1), (nan, 1), (nan, 1), (nan, 1), (nan, 1), (nan, 1), (nan, 1), (nan, 1), (nan, 1), (nan, 1), (nan, 1), (nan, 1), (nan, 1), (nan, 1), (nan, 1), (nan, 1), (nan, 1), (nan, 1), (nan, 1), (nan, 1), (nan, 1), (nan, 1), (nan, 1), (nan, 1), (nan, 1), (nan, 1), (nan, 1), (nan, 1), (nan, 1), (nan, 1), (nan, 1), (nan, 1), (nan, 1), (nan, 1), (nan, 1), (nan, 1), (nan, 1), (nan, 1), (nan, 1), (nan, 1), (nan, 1), (nan, 1), (nan, 1), (nan, 1), (nan, 1), (nan, 1), (nan, 1), (nan, 1), (nan, 1), (nan, 1), (nan, 1), (nan, 1), (nan, 1), (nan, 1), (nan, 1), (nan, 1), (nan, 1), (nan, 1), (nan, 1), (nan, 1), (nan, 1), (nan, 1), (nan, 1), (nan, 1), (nan, 1), (nan, 1), (nan, 1), (nan, 1), (nan, 1), (nan, 1), (nan, 1), (nan, 1), (nan, 1), (nan, 1), (nan, 1), (nan, 1), (nan, 1), (nan, 1), (nan, 1), (nan, 1), (nan, 1), (nan, 1), (nan, 1), (nan, 1), (nan, 1), (nan, 1), (nan, 1), (nan, 1), (nan, 1), (nan, 1), (nan, 1), (nan, 1), (nan, 1), (nan, 1), (nan, 1), (nan, 1), (nan, 1), (nan, 1), (nan, 1), (nan, 1), (nan, 1), (nan, 1), (nan, 1), (nan, 1), (nan, 1), (nan, 1), (nan, 1), (nan, 1), (nan, 1), (nan, 1), (nan, 1), (nan, 1), (nan, 1), (nan, 1), (nan, 1), (nan, 1), (nan, 1), (nan, 1), (nan, 1), (nan, 1), (nan, 1), (nan, 1), (nan, 1), (nan, 1), (nan, 1), (nan, 1), (nan, 1), (nan, 1), (nan, 1), (nan, 1), (nan, 1), (nan, 1), (nan, 1), (nan, 1), (nan, 1), (nan, 1), (nan, 1), (nan, 1), (nan, 1), (nan, 1), (nan, 1), (nan, 1), (nan, 1), (nan, 1), (nan, 1), (nan, 1), (nan, 1), (nan, 1), (nan, 1), (nan, 1), (nan, 1), (nan, 1), (nan, 1), (nan, 1), (nan, 1), (nan, 1), (nan, 1), (nan, 1), (nan, 1), (nan, 1), (nan, 1), (nan, 1), (nan, 1), (nan, 1), (nan, 1), (nan, 1), (nan, 1), (nan, 1), (nan, 1), (nan, 1), (nan, 1), (nan, 1), (nan, 1), (nan, 1), (nan, 1), (nan, 1), (nan, 1), (nan, 1), (nan, 1), (nan, 1), (nan, 1), (nan, 1), (nan, 1), (nan, 1), (nan, 1), (nan, 1), (nan, 1), (nan, 1), (nan, 1), (nan, 1), (nan, 1), (nan, 1), (nan, 1), (nan, 1), (nan, 1), (nan, 1), (nan, 1), (nan, 1), (nan, 1), (nan, 1), (nan, 1), (nan, 1), (nan, 1), (nan, 1), (nan, 1), (nan, 1), (nan, 1), (nan, 1), (nan, 1), (nan, 1), (nan, 1), (nan, 1), (nan, 1), (nan, 1), (nan, 1), (nan, 1), (nan, 1), (nan, 1), (nan, 1), (nan, 1), (nan, 1), (nan, 1), (nan, 1), (nan, 1), (nan, 1), (nan, 1), (nan, 1), (nan, 1), (nan, 1), (nan, 1), (nan, 1), (nan, 1), (nan, 1), (nan, 1), (nan, 1), (nan, 1), (nan, 1), (nan, 1), (nan, 1), (nan, 1), (nan, 1), (nan, 1), (nan, 1), (nan, 1), (nan, 1), (nan, 1), (nan, 1), (nan, 1), (nan, 1), (nan, 1), (nan, 1), (nan, 1), (nan, 1), (nan, 1), (nan, 1), (nan, 1), (nan, 1), (nan, 1), (nan, 1), (nan, 1), (nan, 1), (nan, 1), (nan, 1), (nan, 1), (nan, 1), (nan, 1), (nan, 1), (nan, 1), (nan, 1), (nan, 1), (nan, 1), (nan, 1), (nan, 1), (nan, 1), (nan, 1), (nan, 1), (nan, 1), (nan, 1), (nan, 1), (nan, 1), (nan, 1), (nan, 1), (nan, 1), (nan, 1), (nan, 1), (nan, 1), (nan, 1), (nan, 1), (nan, 1), (nan, 1), (nan, 1), (nan, 1), (nan, 1), (nan, 1), (nan, 1), (nan, 1), (nan, 1), (nan, 1), (nan, 1), (nan, 1), (nan, 1), (nan, 1), (nan, 1), (nan, 1), (nan, 1), (nan, 1), (nan, 1), (nan, 1), (nan, 1), (nan, 1), (nan, 1), (nan, 1), (nan, 1), (nan, 1), (nan, 1), (nan, 1), (nan, 1), (nan, 1), (nan, 1), (nan, 1), (nan, 1), (nan, 1), (nan, 1), (nan, 1), (nan, 1), (nan, 1), (nan, 1), (nan, 1), (nan, 1), (nan, 1), (nan, 1), (nan, 1), (nan, 1), (nan, 1), (nan, 1), (nan, 1), (nan, 1), (nan, 1), (nan, 1), (nan, 1), (nan, 1), (nan, 1), (nan, 1), (nan, 1), (nan, 1), (nan, 1), (nan, 1), (nan, 1), (nan, 1), (nan, 1), (nan, 1), (nan, 1), (nan, 1), (nan, 1), (nan, 1), (nan, 1), (nan, 1), (nan, 1), (nan, 1), (nan, 1), (nan, 1), (nan, 1), (nan, 1), (nan, 1), (nan, 1), (nan, 1), (nan, 1), (nan, 1), (nan, 1), (nan, 1), (nan, 1), (nan, 1), (nan, 1), (nan, 1), (nan, 1), (nan, 1), (nan, 1), (nan, 1), (nan, 1), (nan, 1), (nan, 1), (nan, 1), (nan, 1), (nan, 1), (nan, 1), (nan, 1), (nan, 1), (nan, 1), (nan, 1), (nan, 1), (nan, 1), (nan, 1), (nan, 1), (nan, 1), (nan, 1), (nan, 1), (nan, 1), (nan, 1), (nan, 1), (nan, 1), (nan, 1), (nan, 1), (nan, 1), (nan, 1), (nan, 1), (nan, 1), (nan, 1), (nan, 1), (nan, 1), (nan, 1), (nan, 1), (nan, 1), (nan, 1), (nan, 1), (nan, 1), (nan, 1), (nan, 1), (nan, 1), (nan, 1), (nan, 1), (nan, 1), (nan, 1), (nan, 1), (nan, 1), (nan, 1), (nan, 1), (nan, 1), (nan, 1), (nan, 1), (nan, 1), (nan, 1), (nan, 1), (nan, 1), (nan, 1), (nan, 1), (nan, 1), (nan, 1), (nan, 1), (nan, 1), (nan, 1), (nan, 1), (nan, 1), (nan, 1), (nan, 1), (nan, 1), (nan, 1), (nan, 1), (nan, 1), (nan, 1), (nan, 1), (nan, 1), (nan, 1), (nan, 1), (nan, 1), (nan, 1), (nan, 1), (nan, 1), (nan, 1), (nan, 1), (nan, 1), (nan, 1), (nan, 1), (nan, 1), (nan, 1), (nan, 1), (nan, 1), (nan, 1), (nan, 1), (nan, 1), (nan, 1), (nan, 1), (nan, 1), (nan, 1), (nan, 1), (nan, 1), (nan, 1), (nan, 1), (nan, 1), (nan, 1), (nan, 1), (nan, 1), (nan, 1), (nan, 1), (nan, 1), (nan, 1), (nan, 1), (nan, 1), (nan, 1), (nan, 1), (nan, 1), (nan, 1), (nan, 1), (nan, 1), (nan, 1), (nan, 1), (nan, 1), (nan, 1), (nan, 1), (nan, 1), (nan, 1), (nan, 1), (nan, 1), (nan, 1), (nan, 1), (nan, 1), (nan, 1), (nan, 1), (nan, 1), (nan, 1), (nan, 1), (nan, 1), (nan, 1), (nan, 1), (nan, 1), (nan, 1), (nan, 1), (nan, 1), (nan, 1), (nan, 1), (nan, 1), (nan, 1), (nan, 1), (nan, 1), (nan, 1), (nan, 1), (nan, 1), (nan, 1), (nan, 1), (nan, 1), (nan, 1), (nan, 1), (nan, 1), (nan, 1), (nan, 1), (nan, 1), (nan, 1), (nan, 1), (nan, 1), (nan, 1), (nan, 1), (nan, 1), (nan, 1), (nan, 1), (nan, 1), (nan, 1), (nan, 1), (nan, 1), (nan, 1), (nan, 1), (nan, 1), (nan, 1), (nan, 1), (nan, 1), (nan, 1), (nan, 1), (nan, 1), (nan, 1), (nan, 1), (nan, 1), (nan, 1), (nan, 1), (nan, 1), (nan, 1), (nan, 1), (nan, 1), (nan, 1), (nan, 1), (nan, 1), (nan, 1), (nan, 1), (nan, 1), (nan, 1), (nan, 1), (nan, 1), (nan, 1), (nan, 1), (nan, 1), (nan, 1), (nan, 1), (nan, 1), (nan, 1), (nan, 1), (nan, 1), (nan, 1), (nan, 1), (nan, 1), (nan, 1), (nan, 1), (nan, 1), (nan, 1), (nan, 1), (nan, 1), (nan, 1), (nan, 1), (nan, 1), (nan, 1), (nan, 1), (nan, 1), (nan, 1), (nan, 1), (nan, 1), (nan, 1), (nan, 1), (nan, 1), (nan, 1), (nan, 1), (nan, 1), (nan, 1), (nan, 1), (nan, 1), (nan, 1), (nan, 1), (nan, 1), (nan, 1), (nan, 1), (nan, 1), (nan, 1), (nan, 1), (nan, 1), (nan, 1), (nan, 1), (nan, 1), (nan, 1), (nan, 1), (nan, 1), (nan, 1), (nan, 1), (nan, 1), (nan, 1), (nan, 1), (nan, 1), (nan, 1), (nan, 1), (nan, 1), (nan, 1), (nan, 1), (nan, 1), (nan, 1), (nan, 1), (nan, 1), (nan, 1), (nan, 1), (nan, 1), (nan, 1), (nan, 1), (nan, 1), (nan, 1), (nan, 1), (nan, 1), (nan, 1), (nan, 1), (nan, 1), (nan, 1), (nan, 1), (nan, 1), (nan, 1), (nan, 1), (nan, 1), (nan, 1), (nan, 1), (nan, 1), (nan, 1), (nan, 1), (nan, 1), (nan, 1), (nan, 1), (nan, 1), (nan, 1), (nan, 1), (nan, 1), (nan, 1), (nan, 1), (nan, 1), (nan, 1), (nan, 1), (nan, 1), (nan, 1), (nan, 1), (nan, 1), (nan, 1), (nan, 1), (nan, 1), (nan, 1), (nan, 1), (nan, 1), (nan, 1), (nan, 1), (nan, 1), (nan, 1), (nan, 1), (nan, 1), (nan, 1), (nan, 1), (nan, 1), (nan, 1), (nan, 1), (nan, 1), (nan, 1), (nan, 1), (nan, 1), (nan, 1), (nan, 1), (nan, 1), (nan, 1), (nan, 1), (nan, 1), (nan, 1), (nan, 1), (nan, 1), (nan, 1), (nan, 1), (nan, 1), (nan, 1), (nan, 1), (nan, 1), (nan, 1), (nan, 1), (nan, 1), (nan, 1), (nan, 1), (nan, 1), (nan, 1), (nan, 1), (nan, 1), (nan, 1), (nan, 1), (nan, 1), (nan, 1), (nan, 1), (nan, 1), (nan, 1), (nan, 1), (nan, 1), (nan, 1), (nan, 1), (nan, 1), (nan, 1), (nan, 1), (nan, 1), (nan, 1), (nan, 1), (nan, 1), (nan, 1), (nan, 1), (nan, 1), (nan, 1), (nan, 1), (nan, 1), (nan, 1), (nan, 1), (nan, 1), (nan, 1), (nan, 1), (nan, 1), (nan, 1), (nan, 1), (nan, 1), (nan, 1), (nan, 1), (nan, 1), (nan, 1), (nan, 1), (nan, 1), (nan, 1), (nan, 1), (nan, 1), (nan, 1), (nan, 1), (nan, 1), (nan, 1), (nan, 1), (nan, 1), (nan, 1), (nan, 1), (nan, 1), (nan, 1), (nan, 1), (nan, 1), (nan, 1), (nan, 1), (nan, 1), (nan, 1), (nan, 1), (nan, 1), (nan, 1), (nan, 1), (nan, 1), (nan, 1), (nan, 1), (nan, 1), (nan, 1), (nan, 1), (nan, 1), (nan, 1), (nan, 1), (nan, 1), (nan, 1), (nan, 1), (nan, 1), (nan, 1), (nan, 1), (nan, 1), (nan, 1), (nan, 1), (nan, 1), (nan, 1), (nan, 1), (nan, 1), (nan, 1), (nan, 1), (nan, 1), (nan, 1), (nan, 1), (nan, 1), (nan, 1), (nan, 1), (nan, 1), (nan, 1), (nan, 1), (nan, 1), (nan, 1), (nan, 1), (nan, 1), (nan, 1), (nan, 1), (nan, 1), (nan, 1), (nan, 1), (nan, 1), (nan, 1), (nan, 1), (nan, 1), (nan, 1), (nan, 1), (nan, 1), (nan, 1), (nan, 1), (nan, 1), (nan, 1), (nan, 1), (nan, 1), (nan, 1), (nan, 1), (nan, 1), (nan, 1), (nan, 1), (nan, 1), (nan, 1), (nan, 1), (nan, 1), (nan, 1), (nan, 1), (nan, 1), (nan, 1), (nan, 1), (nan, 1), (nan, 1), (nan, 1), (nan, 1), (nan, 1), (nan, 1), (nan, 1), (nan, 1), (nan, 1), (nan, 1), (nan, 1), (nan, 1), (nan, 1), (nan, 1), (nan, 1), (nan, 1), (nan, 1), (nan, 1), (nan, 1), (nan, 1), (nan, 1), (nan, 1), (nan, 1), (nan, 1), (nan, 1), (nan, 1), (nan, 1), (nan, 1), (nan, 1), (nan, 1), (nan, 1), (nan, 1), (nan, 1), (nan, 1), (nan, 1), (nan, 1), (nan, 1), (nan, 1), (nan, 1), (nan, 1), (nan, 1), (nan, 1), (nan, 1), (nan, 1), (nan, 1), (nan, 1), (nan, 1), (nan, 1), (nan, 1), (nan, 1), (nan, 1), (nan, 1), (nan, 1), (nan, 1), (nan, 1), (nan, 1), (nan, 1), (nan, 1), (nan, 1), (nan, 1), (nan, 1), (nan, 1), (nan, 1), (nan, 1), (nan, 1), (nan, 1), (nan, 1), (nan, 1), (nan, 1), (nan, 1), (nan, 1), (nan, 1), (nan, 1), (nan, 1), (nan, 1), (nan, 1), (nan, 1), (nan, 1), (nan, 1), (nan, 1), (nan, 1), (nan, 1), (nan, 1), (nan, 1), (nan, 1), (nan, 1), (nan, 1), (nan, 1), (nan, 1), (nan, 1), (nan, 1), (nan, 1), (nan, 1), (nan, 1), (nan, 1), (nan, 1), (nan, 1), (nan, 1), (nan, 1), (nan, 1), (nan, 1), (nan, 1), (nan, 1), (nan, 1), (nan, 1), (nan, 1), (nan, 1), (nan, 1), (nan, 1), (nan, 1), (nan, 1), (nan, 1), (nan, 1), (nan, 1), (nan, 1), (nan, 1), (nan, 1), (nan, 1), (nan, 1), (nan, 1), (nan, 1), (nan, 1), (nan, 1), (nan, 1), (nan, 1), (nan, 1), (nan, 1), (nan, 1), (nan, 1), (nan, 1), (nan, 1), (nan, 1), (nan, 1), (nan, 1), (nan, 1), (nan, 1), (nan, 1), (nan, 1), (nan, 1), (nan, 1), (nan, 1), (nan, 1), (nan, 1), (nan, 1), (nan, 1), (nan, 1), (nan, 1), (nan, 1), (nan, 1), (nan, 1), (nan, 1), (nan, 1), (nan, 1), (nan, 1), (nan, 1), (nan, 1), (nan, 1), (nan, 1), (nan, 1), (nan, 1), (nan, 1), (nan, 1), (nan, 1), (nan, 1), (nan, 1), (nan, 1), (nan, 1), (nan, 1), (nan, 1), (nan, 1), (nan, 1), (nan, 1), (nan, 1), (nan, 1), (nan, 1), (nan, 1), (nan, 1), (nan, 1), (nan, 1), (nan, 1), (nan, 1), (nan, 1), (nan, 1), (nan, 1), (nan, 1), (nan, 1), (nan, 1), (nan, 1), (nan, 1), (nan, 1), (nan, 1), (nan, 1), (nan, 1), (nan, 1), (nan, 1), (nan, 1), (nan, 1), (nan, 1), (nan, 1), (nan, 1), (nan, 1), (nan, 1), (nan, 1), (nan, 1), (nan, 1), (nan, 1), (nan, 1), (nan, 1), (nan, 1), (nan, 1), (nan, 1), (nan, 1), (nan, 1), (nan, 1), (nan, 1), (nan, 1), (nan, 1), (nan, 1), (nan, 1), (nan, 1), (nan, 1), (nan, 1), (nan, 1), (nan, 1), (nan, 1), (nan, 1), (nan, 1), (nan, 1), (nan, 1), (nan, 1), (nan, 1), (nan, 1), (nan, 1), (nan, 1), (nan, 1), (nan, 1), (nan, 1), (nan, 1), (nan, 1), (nan, 1), (nan, 1), (nan, 1), (nan, 1), (nan, 1), (nan, 1), (nan, 1), (nan, 1), (nan, 1), (nan, 1), (nan, 1), (nan, 1), (nan, 1), (nan, 1), (nan, 1), (nan, 1), (nan, 1), (nan, 1), (nan, 1), (nan, 1), (nan, 1), (nan, 1), (nan, 1), (nan, 1), (nan, 1), (nan, 1), (nan, 1), (nan, 1), (nan, 1), (nan, 1), (nan, 1), (nan, 1), (nan, 1), (nan, 1), (nan, 1), (nan, 1), (nan, 1), (nan, 1), (nan, 1), (nan, 1), (nan, 1), (nan, 1), (nan, 1), (nan, 1), (nan, 1), (nan, 1), (nan, 1), (nan, 1), (nan, 1), (nan, 1), (nan, 1), (nan, 1), (nan, 1), (nan, 1), (nan, 1), (nan, 1), (nan, 1), (nan, 1), (nan, 1), (nan, 1), (nan, 1), (nan, 1), (nan, 1), (nan, 1), (nan, 1), (nan, 1), (nan, 1), (nan, 1), (nan, 1), (nan, 1), (nan, 1), (nan, 1), (nan, 1), (nan, 1), (nan, 1), (nan, 1), (nan, 1), (nan, 1), (nan, 1), (nan, 1), (nan, 1), (nan, 1), (nan, 1), (nan, 1), (nan, 1), (nan, 1), (nan, 1), (nan, 1), (nan, 1), (nan, 1), (nan, 1), (nan, 1), (nan, 1), (nan, 1), (nan, 1), (nan, 1), (nan, 1), (nan, 1), (nan, 1), (nan, 1), (nan, 1), (nan, 1), (nan, 1), (nan, 1), (nan, 1), (nan, 1), (nan, 1), (nan, 1), (nan, 1), (nan, 1), (nan, 1), (nan, 1), (nan, 1), (nan, 1), (nan, 1), (nan, 1), (nan, 1), (nan, 1), (nan, 1), (nan, 1), (nan, 1), (nan, 1), (nan, 1), (nan, 1), (nan, 1), (nan, 1), (nan, 1), (nan, 1), (nan, 1), (nan, 1), (nan, 1), (nan, 1), (nan, 1), (nan, 1), (nan, 1), (nan, 1), (nan, 1), (nan, 1), (nan, 1), (nan, 1), (nan, 1), (nan, 1), (nan, 1), (nan, 1), (nan, 1), (nan, 1), (nan, 1), (nan, 1), (nan, 1), (nan, 1), (nan, 1), (nan, 1), (nan, 1), (nan, 1), (nan, 1), (nan, 1), (nan, 1), (nan, 1), (nan, 1), (nan, 1), (nan, 1), (nan, 1), (nan, 1), (nan, 1), (nan, 1), (nan, 1), (nan, 1), (nan, 1), (nan, 1), (nan, 1), (nan, 1), (nan, 1), (nan, 1), (nan, 1), (nan, 1), (nan, 1), (nan, 1), (nan, 1), (nan, 1), (nan, 1), (nan, 1), (nan, 1), (nan, 1), (nan, 1), (nan, 1), (nan, 1), (nan, 1), (nan, 1), (nan, 1), (nan, 1), (nan, 1), (nan, 1), (nan, 1), (nan, 1), (nan, 1), (nan, 1), (nan, 1), (nan, 1), (nan, 1), (nan, 1), (nan, 1), (nan, 1), (nan, 1), (nan, 1), (nan, 1), (nan, 1), (nan, 1), (nan, 1), (nan, 1), (nan, 1), (nan, 1), (nan, 1), (nan, 1), (nan, 1), (nan, 1), (nan, 1), (nan, 1), (nan, 1), (nan, 1), (nan, 1), (nan, 1), (nan, 1), (nan, 1), (nan, 1), (nan, 1), (nan, 1), (nan, 1), (nan, 1), (nan, 1), (nan, 1), (nan, 1), (nan, 1), (nan, 1), (nan, 1), (nan, 1), (nan, 1), (nan, 1), (nan, 1), (nan, 1), (nan, 1), (nan, 1), (nan, 1), (nan, 1), (nan, 1), (nan, 1), (nan, 1), (nan, 1), (nan, 1), (nan, 1), (nan, 1), (nan, 1), (nan, 1), (nan, 1), (nan, 1), (nan, 1), (nan, 1), (nan, 1), (nan, 1), (nan, 1), (nan, 1), (nan, 1), (nan, 1), (nan, 1), (nan, 1), (nan, 1), (nan, 1), (nan, 1), (nan, 1), (nan, 1), (nan, 1), (nan, 1), (nan, 1), (nan, 1), (nan, 1), (nan, 1), (nan, 1), (nan, 1), (nan, 1), (nan, 1), (nan, 1), (nan, 1), (nan, 1), (nan, 1), (nan, 1), (nan, 1), (nan, 1), (nan, 1), (nan, 1), (nan, 1), (nan, 1), (nan, 1), (nan, 1), (nan, 1), (nan, 1), (nan, 1), (nan, 1), (nan, 1), (nan, 1), (nan, 1), (nan, 1), (nan, 1), (nan, 1), (nan, 1), (nan, 1), (nan, 1), (nan, 1), (nan, 1), (nan, 1), (nan, 1), (nan, 1), (nan, 1), (nan, 1), (nan, 1), (nan, 1), (nan, 1), (nan, 1), (nan, 1), (nan, 1), (nan, 1), (nan, 1), (nan, 1), (nan, 1), (nan, 1), (nan, 1), (nan, 1), (nan, 1), (nan, 1), (nan, 1), (nan, 1), (nan, 1), (nan, 1), (nan, 1), (nan, 1), (nan, 1), (nan, 1), (nan, 1), (nan, 1), (nan, 1), (nan, 1), (nan, 1), (nan, 1), (nan, 1), (nan, 1), (nan, 1), (nan, 1), (nan, 1), (nan, 1), (nan, 1), (nan, 1), (nan, 1), (nan, 1), (nan, 1), (nan, 1), (nan, 1), (nan, 1), (nan, 1), (nan, 1), (nan, 1), (nan, 1), (nan, 1), (nan, 1), (nan, 1), (nan, 1), (nan, 1), (nan, 1), (nan, 1), (nan, 1), (nan, 1), (nan, 1), (nan, 1), (nan, 1), (nan, 1), (nan, 1), (nan, 1), (nan, 1), (nan, 1), (nan, 1), (nan, 1), (nan, 1), (nan, 1), (nan, 1), (nan, 1), (nan, 1), (nan, 1), (nan, 1), (nan, 1), (nan, 1), (nan, 1), (nan, 1), (nan, 1), (nan, 1), (nan, 1), (nan, 1), (nan, 1), (nan, 1), (nan, 1), (nan, 1), (nan, 1), (nan, 1), (nan, 1), (nan, 1), (nan, 1), (nan, 1), (nan, 1), (nan, 1), (nan, 1), (nan, 1), (nan, 1), (nan, 1), (nan, 1), (nan, 1), (nan, 1), (nan, 1), (nan, 1), (nan, 1), (nan, 1), (nan, 1), (nan, 1), (nan, 1), (nan, 1), (nan, 1), (nan, 1), (nan, 1), (nan, 1), (nan, 1), (nan, 1), (nan, 1), (nan, 1), (nan, 1), (nan, 1), (nan, 1), (nan, 1), (nan, 1), (nan, 1), (nan, 1), (nan, 1), (nan, 1), (nan, 1), (nan, 1), (nan, 1), (nan, 1), (nan, 1), (nan, 1), (nan, 1), (nan, 1), (nan, 1), (nan, 1), (nan, 1), (nan, 1), (nan, 1), (nan, 1), (nan, 1), (nan, 1), (nan, 1), (nan, 1), (nan, 1), (nan, 1), (nan, 1), (nan, 1), (nan, 1), (nan, 1), (nan, 1), (nan, 1), (nan, 1), (nan, 1), (nan, 1), (nan, 1), (nan, 1), (nan, 1), (nan, 1), (nan, 1), (nan, 1), (nan, 1), (nan, 1), (nan, 1), (nan, 1), (nan, 1), (nan, 1), (nan, 1), (nan, 1), (nan, 1), (nan, 1), (nan, 1), (nan, 1), (nan, 1), (nan, 1), (nan, 1), (nan, 1), (nan, 1), (nan, 1), (nan, 1), (nan, 1), (nan, 1), (nan, 1), (nan, 1), (nan, 1), (nan, 1), (nan, 1), (nan, 1), (nan, 1), (nan, 1), (nan, 1), (nan, 1), (nan, 1), (nan, 1), (nan, 1), (nan, 1), (nan, 1), (nan, 1), (nan, 1), (nan, 1), (nan, 1), (nan, 1), (nan, 1), (nan, 1), (nan, 1), (nan, 1), (nan, 1), (nan, 1), (nan, 1), (nan, 1), (nan, 1), (nan, 1), (nan, 1), (nan, 1), (nan, 1), (nan, 1), (nan, 1), (nan, 1), (nan, 1), (nan, 1), (nan, 1), (nan, 1), (nan, 1), (nan, 1), (nan, 1), (nan, 1), (nan, 1), (nan, 1), (nan, 1), (nan, 1), (nan, 1), (nan, 1), (nan, 1), (nan, 1), (nan, 1), (nan, 1), (nan, 1), (nan, 1), (nan, 1), (nan, 1), (nan, 1), (nan, 1), (nan, 1), (nan, 1), (nan, 1), (nan, 1), (nan, 1), (nan, 1), (nan, 1), (nan, 1), (nan, 1), (nan, 1), (nan, 1), (nan, 1), (nan, 1), (nan, 1), (nan, 1), (nan, 1), (nan, 1), (nan, 1), (nan, 1), (nan, 1), (nan, 1), (nan, 1), (nan, 1), (nan, 1), (nan, 1), (nan, 1), (nan, 1), (nan, 1), (nan, 1), (nan, 1), (nan, 1), (nan, 1), (nan, 1), (nan, 1), (nan, 1), (nan, 1), (nan, 1), (nan, 1), (nan, 1), (nan, 1), (nan, 1), (nan, 1), (nan, 1), (nan, 1), (nan, 1), (nan, 1), (nan, 1), (nan, 1), (nan, 1), (nan, 1), (nan, 1), (nan, 1), (nan, 1), (nan, 1), (nan, 1), (nan, 1), (nan, 1), (nan, 1), (nan, 1), (nan, 1), (nan, 1), (nan, 1), (nan, 1), (nan, 1), (nan, 1), (nan, 1), (nan, 1), (nan, 1), (nan, 1), (nan, 1), (nan, 1), (nan, 1), (nan, 1), (nan, 1), (nan, 1), (nan, 1), (nan, 1), (nan, 1), (nan, 1), (nan, 1), (nan, 1), (nan, 1), (nan, 1), (nan, 1), (nan, 1), (nan, 1), (nan, 1), (nan, 1), (nan, 1), (nan, 1), (nan, 1), (nan, 1), (nan, 1), (nan, 1), (nan, 1), (nan, 1), (nan, 1), (nan, 1), (nan, 1), (nan, 1), (nan, 1), (nan, 1), (nan, 1), (nan, 1), (nan, 1), (nan, 1), (nan, 1), (nan, 1), (nan, 1), (nan, 1), (nan, 1), (nan, 1), (nan, 1), (nan, 1), (nan, 1), (nan, 1), (nan, 1), (nan, 1), (nan, 1), (nan, 1), (nan, 1), (nan, 1), (nan, 1), (nan, 1), (nan, 1), (nan, 1), (nan, 1), (nan, 1), (nan, 1), (nan, 1), (nan, 1), (nan, 1), (nan, 1), (nan, 1), (nan, 1), (nan, 1), (nan, 1), (nan, 1), (nan, 1), (nan, 1), (nan, 1), (nan, 1), (nan, 1), (nan, 1), (nan, 1), (nan, 1), (nan, 1), (nan, 1), (nan, 1), (nan, 1), (nan, 1), (nan, 1), (nan, 1), (nan, 1), (nan, 1), (nan, 1), (nan, 1), (nan, 1), (nan, 1), (nan, 1), (nan, 1), (nan, 1), (nan, 1), (nan, 1), (nan, 1), (nan, 1), (nan, 1), (nan, 1), (nan, 1), (nan, 1), (nan, 1), (nan, 1), (nan, 1), (nan, 1), (nan, 1), (nan, 1), (nan, 1), (nan, 1), (nan, 1), (nan, 1), (nan, 1), (nan, 1), (nan, 1), (nan, 1), (nan, 1), (nan, 1), (nan, 1), (nan, 1), (nan, 1), (nan, 1), (nan, 1), (nan, 1), (nan, 1), (nan, 1), (nan, 1), (nan, 1), (nan, 1), (nan, 1), (nan, 1), (nan, 1), (nan, 1), (nan, 1), (nan, 1), (nan, 1), (nan, 1), (nan, 1), (nan, 1), (nan, 1), (nan, 1), (nan, 1), (nan, 1), (nan, 1), (nan, 1), (nan, 1), (nan, 1), (nan, 1), (nan, 1), (nan, 1), (nan, 1), (nan, 1), (nan, 1), (nan, 1), (nan, 1), (nan, 1), (nan, 1), (nan, 1), (nan, 1), (nan, 1), (nan, 1), (nan, 1), (nan, 1), (nan, 1), (nan, 1), (nan, 1), (nan, 1), (nan, 1), (nan, 1), (nan, 1), (nan, 1), (nan, 1), (nan, 1), (nan, 1), (nan, 1), (nan, 1), (nan, 1), (nan, 1), (nan, 1), (nan, 1), (nan, 1), (nan, 1), (nan, 1), (nan, 1), (nan, 1), (nan, 1), (nan, 1), (nan, 1), (nan, 1), (nan, 1), (nan, 1), (nan, 1), (nan, 1), (nan, 1), (nan, 1), (nan, 1), (nan, 1), (nan, 1), (nan, 1), (nan, 1), (nan, 1), (nan, 1), (nan, 1), (nan, 1), (nan, 1), (nan, 1), (nan, 1), (nan, 1), (nan, 1), (nan, 1), (nan, 1), (nan, 1), (nan, 1), (nan, 1), (nan, 1), (nan, 1), (nan, 1), (nan, 1), (nan, 1), (nan, 1), (nan, 1), (nan, 1), (nan, 1), (nan, 1), (nan, 1), (nan, 1), (nan, 1), (nan, 1), (nan, 1), (nan, 1), (nan, 1), (nan, 1), (nan, 1), (nan, 1), (nan, 1), (nan, 1), (nan, 1), (nan, 1), (nan, 1), (nan, 1), (nan, 1), (nan, 1), (nan, 1), (nan, 1), (nan, 1), (nan, 1), (nan, 1), (nan, 1), (nan, 1), (nan, 1), (nan, 1), (nan, 1), (nan, 1), (nan, 1), (nan, 1), (nan, 1), (nan, 1), (nan, 1), (nan, 1), (nan, 1), (nan, 1), (nan, 1), (nan, 1), (nan, 1), (nan, 1), (nan, 1), (nan, 1), (nan, 1), (nan, 1), (nan, 1), (nan, 1), (nan, 1), (nan, 1), (nan, 1), (nan, 1), (nan, 1), (nan, 1), (nan, 1), (nan, 1), (nan, 1), (nan, 1), (nan, 1), (nan, 1), (nan, 1), (nan, 1), (nan, 1), (nan, 1), (nan, 1), (nan, 1), (nan, 1), (nan, 1), (nan, 1), (nan, 1), (nan, 1), (nan, 1), (nan, 1), (nan, 1), (nan, 1), (nan, 1), (nan, 1), (nan, 1), (nan, 1), (nan, 1), (nan, 1), (nan, 1), (nan, 1), (nan, 1), (nan, 1), (nan, 1), (nan, 1), (nan, 1), (nan, 1), (nan, 1), (nan, 1), (nan, 1), (nan, 1), (nan, 1), (nan, 1), (nan, 1), (nan, 1), (nan, 1), (nan, 1), (nan, 1), (nan, 1), (nan, 1), (nan, 1), (nan, 1), (nan, 1), (nan, 1), (nan, 1), (nan, 1), (nan, 1), (nan, 1), (nan, 1), (nan, 1), (nan, 1), (nan, 1), (nan, 1), (nan, 1), (nan, 1), (nan, 1), (nan, 1), (nan, 1), (nan, 1), (nan, 1), (nan, 1), (nan, 1), (nan, 1), (nan, 1), (nan, 1), (nan, 1), (nan, 1), (nan, 1), (nan, 1), (nan, 1), (nan, 1), (nan, 1), (nan, 1), (nan, 1), (nan, 1), (nan, 1), (nan, 1), (nan, 1), (nan, 1), (nan, 1), (nan, 1), (nan, 1), (nan, 1), (nan, 1), (nan, 1), (nan, 1), (nan, 1), (nan, 1), (nan, 1), (nan, 1), (nan, 1), (nan, 1), (nan, 1), (nan, 1), (nan, 1), (nan, 1), (nan, 1), (nan, 1), (nan, 1), (nan, 1), (nan, 1), (nan, 1), (nan, 1), (nan, 1), (nan, 1), (nan, 1), (nan, 1), (nan, 1), (nan, 1), (nan, 1), (nan, 1), (nan, 1), (nan, 1), (nan, 1), (nan, 1), (nan, 1), (nan, 1), (nan, 1), (nan, 1), (nan, 1), (nan, 1), (nan, 1), (nan, 1), (nan, 1), (nan, 1), (nan, 1), (nan, 1), (nan, 1), (nan, 1), (nan, 1), (nan, 1), (nan, 1), (nan, 1), (nan, 1), (nan, 1), (nan, 1), (nan, 1), (nan, 1), (nan, 1), (nan, 1), (nan, 1), (nan, 1), (nan, 1), (nan, 1), (nan, 1), (nan, 1), (nan, 1), (nan, 1), (nan, 1), (nan, 1), (nan, 1), (nan, 1), (nan, 1), (nan, 1), (nan, 1), (nan, 1), (nan, 1), (nan, 1), (nan, 1), (nan, 1), (nan, 1), (nan, 1), (nan, 1), (nan, 1), (nan, 1), (nan, 1), (nan, 1), (nan, 1), (nan, 1), (nan, 1), (nan, 1), (nan, 1), (nan, 1), (nan, 1), (nan, 1), (nan, 1), (nan, 1), (nan, 1), (nan, 1), (nan, 1), (nan, 1), (nan, 1), (nan, 1), (nan, 1), (nan, 1), (nan, 1), (nan, 1), (nan, 1), (nan, 1), (nan, 1), (nan, 1), (nan, 1), (nan, 1), (nan, 1), (nan, 1), (nan, 1), (nan, 1), (nan, 1), (nan, 1), (nan, 1), (nan, 1), (nan, 1), (nan, 1), (nan, 1), (nan, 1), (nan, 1), (nan, 1), (nan, 1), (nan, 1), (nan, 1), (nan, 1), (nan, 1), (nan, 1), (nan, 1), (nan, 1), (nan, 1), (nan, 1), (nan, 1), (nan, 1), (nan, 1), (nan, 1), (nan, 1), (nan, 1), (nan, 1), (nan, 1), (nan, 1), (nan, 1), (nan, 1), (nan, 1), (nan, 1), (nan, 1), (nan, 1), (nan, 1), (nan, 1), (nan, 1), (nan, 1), (nan, 1), (nan, 1), (nan, 1), (nan, 1), (nan, 1), (nan, 1), (nan, 1), (nan, 1), (nan, 1), (nan, 1), (nan, 1), (nan, 1), (nan, 1), (nan, 1), (nan, 1), (nan, 1), (nan, 1), (nan, 1), (nan, 1), (nan, 1), (nan, 1), (nan, 1), (nan, 1), (nan, 1), (nan, 1), (nan, 1), (nan, 1), (nan, 1), (nan, 1), (nan, 1), (nan, 1), (nan, 1), (nan, 1), (nan, 1), (nan, 1), (nan, 1), (nan, 1), (nan, 1), (nan, 1), (nan, 1), (nan, 1), (nan, 1), (nan, 1), (nan, 1), (nan, 1), (nan, 1), (nan, 1), (nan, 1), (nan, 1), (nan, 1), (nan, 1), (nan, 1), (nan, 1), (nan, 1), (nan, 1), (nan, 1), (nan, 1), (nan, 1), (nan, 1), (nan, 1), (nan, 1), (nan, 1), (nan, 1), (nan, 1), (nan, 1), (nan, 1), (nan, 1), (nan, 1), (nan, 1), (nan, 1), (nan, 1), (nan, 1), (nan, 1), (nan, 1), (nan, 1), (nan, 1), (nan, 1), (nan, 1), (nan, 1), (nan, 1), (nan, 1), (nan, 1), (nan, 1), (nan, 1), (nan, 1), (nan, 1), (nan, 1), (nan, 1), (nan, 1), (nan, 1), (nan, 1), (nan, 1), (nan, 1), (nan, 1), (nan, 1), (nan, 1), (nan, 1), (nan, 1), (nan, 1), (nan, 1), (nan, 1), (nan, 1), (nan, 1), (nan, 1), (nan, 1), (nan, 1), (nan, 1), (nan, 1), (nan, 1), (nan, 1), (nan, 1), (nan, 1), (nan, 1), (nan, 1), (nan, 1), (nan, 1), (nan, 1), (nan, 1), (nan, 1), (nan, 1), (nan, 1), (nan, 1), (nan, 1), (nan, 1), (nan, 1), (nan, 1), (nan, 1), (nan, 1), (nan, 1), (nan, 1), (nan, 1), (nan, 1), (nan, 1), (nan, 1), (nan, 1), (nan, 1), (nan, 1), (nan, 1), (nan, 1), (nan, 1), (nan, 1), (nan, 1), (nan, 1), (nan, 1), (nan, 1), (nan, 1), (nan, 1), (nan, 1), (nan, 1), (nan, 1), (nan, 1), (nan, 1), (nan, 1), (nan, 1), (nan, 1), (nan, 1), (nan, 1), (nan, 1), (nan, 1), (nan, 1), (nan, 1), (nan, 1), (nan, 1), (nan, 1), (nan, 1), (nan, 1), (nan, 1), (nan, 1), (nan, 1), (nan, 1), (nan, 1), (nan, 1), (nan, 1), (nan, 1), (nan, 1), (nan, 1), (nan, 1), (nan, 1), (nan, 1), (nan, 1), (nan, 1), (nan, 1), (nan, 1), (nan, 1), (nan, 1), (nan, 1), (nan, 1), (nan, 1), (nan, 1), (nan, 1), (nan, 1), (nan, 1), (nan, 1), (nan, 1), (nan, 1), (nan, 1), (nan, 1), (nan, 1), (nan, 1), (nan, 1), (nan, 1), (nan, 1), (nan, 1), (nan, 1), (nan, 1), (nan, 1), (nan, 1), (nan, 1), (nan, 1), (nan, 1), (nan, 1), (nan, 1), (nan, 1), (nan, 1), (nan, 1), (nan, 1), (nan, 1), (nan, 1), (nan, 1), (nan, 1), (nan, 1), (nan, 1), (nan, 1), (nan, 1), (nan, 1), (nan, 1), (nan, 1), (nan, 1), (nan, 1), (nan, 1), (nan, 1), (nan, 1), (nan, 1), (nan, 1), (nan, 1), (nan, 1), (nan, 1), (nan, 1), (nan, 1), (nan, 1), (nan, 1), (nan, 1), (nan, 1), (nan, 1), (nan, 1), (nan, 1), (nan, 1), (nan, 1), (nan, 1), (nan, 1), (nan, 1), (nan, 1), (nan, 1), (nan, 1), (nan, 1), (nan, 1), (nan, 1), (nan, 1), (nan, 1), (nan, 1), (nan, 1), (nan, 1), (nan, 1), (nan, 1), (nan, 1), (nan, 1), (nan, 1), (nan, 1), (nan, 1), (nan, 1), (nan, 1), (nan, 1), (nan, 1), (nan, 1), (nan, 1), (nan, 1), (nan, 1), (nan, 1), (nan, 1), (nan, 1), (nan, 1), (nan, 1), (nan, 1), (nan, 1), (nan, 1), (nan, 1), (nan, 1), (nan, 1), (nan, 1), (nan, 1), (nan, 1), (nan, 1), (nan, 1), (nan, 1), (nan, 1), (nan, 1), (nan, 1), (nan, 1), (nan, 1), (nan, 1), (nan, 1), (nan, 1), (nan, 1), (nan, 1), (nan, 1), (nan, 1), (nan, 1), (nan, 1), (nan, 1), (nan, 1), (nan, 1), (nan, 1), (nan, 1), (nan, 1), (nan, 1), (nan, 1), (nan, 1), (nan, 1), (nan, 1), (nan, 1), (nan, 1), (nan, 1), (nan, 1), (nan, 1), (nan, 1), (nan, 1), (nan, 1), (nan, 1), (nan, 1), (nan, 1), (nan, 1), (nan, 1), (nan, 1), (nan, 1), (nan, 1), (nan, 1), (nan, 1), (nan, 1), (nan, 1), (nan, 1), (nan, 1), (nan, 1), (nan, 1), (nan, 1), (nan, 1), (nan, 1), (nan, 1), (nan, 1), (nan, 1), (nan, 1), (nan, 1), (nan, 1), (nan, 1), (nan, 1), (nan, 1), (nan, 1), (nan, 1), (nan, 1), (nan, 1), (nan, 1), (nan, 1), (nan, 1), (nan, 1), (nan, 1), (nan, 1), (nan, 1), (nan, 1), (nan, 1), (nan, 1), (nan, 1), (nan, 1), (nan, 1), (nan, 1), (nan, 1), (nan, 1), (nan, 1), (nan, 1), (nan, 1), (nan, 1), (nan, 1), (nan, 1), (nan, 1), (nan, 1), (nan, 1), (nan, 1), (nan, 1), (nan, 1), (nan, 1), (nan, 1), (nan, 1), (nan, 1), (nan, 1), (nan, 1), (nan, 1), (nan, 1), (nan, 1), (nan, 1), (nan, 1), (nan, 1), (nan, 1), (nan, 1), (nan, 1), (nan, 1), (nan, 1), (nan, 1), (nan, 1), (nan, 1), (nan, 1), (nan, 1), (nan, 1), (nan, 1), (nan, 1), (nan, 1), (nan, 1), (nan, 1), (nan, 1), (nan, 1), (nan, 1), (nan, 1), (nan, 1), (nan, 1), (nan, 1), (nan, 1), (nan, 1), (nan, 1), (nan, 1), (nan, 1), (nan, 1), (nan, 1), (nan, 1), (nan, 1), (nan, 1), (nan, 1), (nan, 1), (nan, 1), (nan, 1), (nan, 1), (nan, 1), (nan, 1), (nan, 1), (nan, 1), (nan, 1), (nan, 1), (nan, 1), (nan, 1), (nan, 1), (nan, 1), (nan, 1), (nan, 1), (nan, 1), (nan, 1), (nan, 1), (nan, 1), (nan, 1), (nan, 1), (nan, 1), (nan, 1), (nan, 1), (nan, 1), (nan, 1), (nan, 1), (nan, 1), (nan, 1), (nan, 1), (nan, 1), (nan, 1), (nan, 1), (nan, 1), (nan, 1), (nan, 1), (nan, 1), (nan, 1), (nan, 1), (nan, 1), (nan, 1), (nan, 1), (nan, 1), (nan, 1), (nan, 1), (nan, 1), (nan, 1), (nan, 1), (nan, 1), (nan, 1), (nan, 1), (nan, 1), (nan, 1), (nan, 1), (nan, 1), (nan, 1), (nan, 1), (nan, 1), (nan, 1), (nan, 1), (nan, 1), (nan, 1), (nan, 1), (nan, 1), (nan, 1), (nan, 1), (nan, 1), (nan, 1), (nan, 1), (nan, 1), (nan, 1), (nan, 1), (nan, 1), (nan, 1), (nan, 1), (nan, 1), (nan, 1), (nan, 1), (nan, 1), (nan, 1), (nan, 1), (nan, 1), (nan, 1), (nan, 1), (nan, 1), (nan, 1), (nan, 1), (nan, 1), (nan, 1), (nan, 1), (nan, 1), (nan, 1), (nan, 1), (nan, 1), (nan, 1), (nan, 1), (nan, 1), (nan, 1), (nan, 1), (nan, 1), (nan, 1), (nan, 1), (nan, 1), (nan, 1), (nan, 1), (nan, 1), (nan, 1), (nan, 1), (nan, 1), (nan, 1), (nan, 1), (nan, 1), (nan, 1), (nan, 1), (nan, 1), (nan, 1), (nan, 1), (nan, 1), (nan, 1), (nan, 1), (nan, 1), (nan, 1), (nan, 1), (nan, 1), (nan, 1), (nan, 1), (nan, 1), (nan, 1), (nan, 1), (nan, 1), (nan, 1), (nan, 1), (nan, 1), (nan, 1), (nan, 1), (nan, 1), (nan, 1), (nan, 1), (nan, 1), (nan, 1), (nan, 1), (nan, 1), (nan, 1), (nan, 1), (nan, 1), (nan, 1), (nan, 1), (nan, 1), (nan, 1), (nan, 1), (nan, 1), (nan, 1), (nan, 1), (nan, 1), (nan, 1), (nan, 1), (nan, 1), (nan, 1), (nan, 1), (nan, 1), (nan, 1), (nan, 1), (nan, 1), (nan, 1), (nan, 1), (nan, 1), (nan, 1), (nan, 1), (nan, 1), (nan, 1), (nan, 1), (nan, 1), (nan, 1), (nan, 1), (nan, 1), (nan, 1), (nan, 1), (nan, 1), (nan, 1), (nan, 1), (nan, 1), (nan, 1), (nan, 1), (nan, 1), (nan, 1), (nan, 1), (nan, 1), (nan, 1), (nan, 1), (nan, 1), (nan, 1), (nan, 1), (nan, 1), (nan, 1), (nan, 1), (nan, 1), (nan, 1), (nan, 1), (nan, 1), (nan, 1), (nan, 1), (nan, 1), (nan, 1), (nan, 1), (nan, 1), (nan, 1), (nan, 1), (nan, 1), (nan, 1), (nan, 1), (nan, 1), (nan, 1), (nan, 1), (nan, 1), (nan, 1), (nan, 1), (nan, 1), (nan, 1), (nan, 1), (nan, 1), (nan, 1), (nan, 1), (nan, 1), (nan, 1), (nan, 1), (nan, 1), (nan, 1), (nan, 1), (nan, 1), (nan, 1), (nan, 1), (nan, 1), (nan, 1), (nan, 1), (nan, 1), (nan, 1), (nan, 1), (nan, 1), (nan, 1), (nan, 1), (nan, 1), (nan, 1), (nan, 1), (nan, 1), (nan, 1), (nan, 1), (nan, 1), (nan, 1), (nan, 1), (nan, 1), (nan, 1), (nan, 1), (nan, 1), (nan, 1), (nan, 1), (nan, 1), (nan, 1), (nan, 1), (nan, 1), (nan, 1), (nan, 1), (nan, 1), (nan, 1), (nan, 1), (nan, 1), (nan, 1), (nan, 1), (nan, 1), (nan, 1), (nan, 1), (nan, 1), (nan, 1), (nan, 1), (nan, 1), (nan, 1), (nan, 1), (nan, 1), (nan, 1), (nan, 1), (nan, 1), (nan, 1), (nan, 1), (nan, 1), (nan, 1), (nan, 1), (nan, 1), (nan, 1), (nan, 1), (nan, 1), (nan, 1), (nan, 1), (nan, 1), (nan, 1), (nan, 1), (nan, 1), (nan, 1), (nan, 1), (nan, 1), (nan, 1), (nan, 1), (nan, 1), (nan, 1), (nan, 1), (nan, 1), (nan, 1), (nan, 1), (nan, 1), (nan, 1), (nan, 1), (nan, 1), (nan, 1), (nan, 1), (nan, 1), (nan, 1), (nan, 1), (nan, 1), (nan, 1), (nan, 1), (nan, 1), (nan, 1), (nan, 1), (nan, 1), (nan, 1), (nan, 1), (nan, 1), (nan, 1), (nan, 1), (nan, 1), (nan, 1), (nan, 1), (nan, 1), (nan, 1), (nan, 1), (nan, 1), (nan, 1), (nan, 1), (nan, 1), (nan, 1), (nan, 1), (nan, 1), (nan, 1), (nan, 1), (nan, 1), (nan, 1), (nan, 1), (nan, 1), (nan, 1), (nan, 1), (nan, 1), (nan, 1), (nan, 1), (nan, 1), (nan, 1), (nan, 1), (nan, 1), (nan, 1), (nan, 1), (nan, 1), (nan, 1), (nan, 1), (nan, 1), (nan, 1), (nan, 1), (nan, 1), (nan, 1), (nan, 1), (nan, 1), (nan, 1), (nan, 1), (nan, 1), (nan, 1), (nan, 1), (nan, 1), (nan, 1), (nan, 1), (nan, 1), (nan, 1), (nan, 1), (nan, 1), (nan, 1), (nan, 1), (nan, 1), (nan, 1), (nan, 1), (nan, 1), (nan, 1), (nan, 1), (nan, 1), (nan, 1), (nan, 1), (nan, 1), (nan, 1), (nan, 1), (nan, 1), (nan, 1), (nan, 1), (nan, 1), (nan, 1), (nan, 1), (nan, 1), (nan, 1), (nan, 1), (nan, 1), (nan, 1), (nan, 1), (nan, 1), (nan, 1), (nan, 1), (nan, 1), (nan, 1), (nan, 1), (nan, 1), (nan, 1), (nan, 1), (nan, 1), (nan, 1), (nan, 1), (nan, 1), (nan, 1), (nan, 1), (nan, 1), (nan, 1), (nan, 1), (nan, 1), (nan, 1), (nan, 1), (nan, 1), (nan, 1), (nan, 1), (nan, 1), (nan, 1), (nan, 1), (nan, 1), (nan, 1), (nan, 1), (nan, 1), (nan, 1), (nan, 1), (nan, 1), (nan, 1), (nan, 1), (nan, 1), (nan, 1), (nan, 1), (nan, 1), (nan, 1), (nan, 1), (nan, 1), (nan, 1), (nan, 1), (nan, 1), (nan, 1), (nan, 1), (nan, 1), (nan, 1), (nan, 1), (nan, 1), (nan, 1), (nan, 1), (nan, 1), (nan, 1), (nan, 1), (nan, 1), (nan, 1), (nan, 1), (nan, 1), (nan, 1), (nan, 1), (nan, 1), (nan, 1), (nan, 1), (nan, 1), (nan, 1), (nan, 1), (nan, 1), (nan, 1), (nan, 1), (nan, 1), (nan, 1), (nan, 1), (nan, 1), (nan, 1), (nan, 1), (nan, 1), (nan, 1), (nan, 1), (nan, 1), (nan, 1), (nan, 1), (nan, 1), (nan, 1), (nan, 1), (nan, 1), (nan, 1), (nan, 1), (nan, 1), (nan, 1), (nan, 1), (nan, 1), (nan, 1), (nan, 1), (nan, 1), (nan, 1), (nan, 1), (nan, 1), (nan, 1), (nan, 1), (nan, 1), (nan, 1), (nan, 1), (nan, 1), (nan, 1), (nan, 1), (nan, 1), (nan, 1), (nan, 1), (nan, 1), (nan, 1), (nan, 1), (nan, 1), (nan, 1), (nan, 1), (nan, 1), (nan, 1), (nan, 1), (nan, 1), (nan, 1), (nan, 1), (nan, 1), (nan, 1), (nan, 1), (nan, 1), (nan, 1), (nan, 1), (nan, 1), (nan, 1), (nan, 1), (nan, 1), (nan, 1), (nan, 1), (nan, 1), (nan, 1), (nan, 1), (nan, 1), (nan, 1), (nan, 1), (nan, 1), (nan, 1), (nan, 1), (nan, 1), (nan, 1), (nan, 1), (nan, 1), (nan, 1), (nan, 1), (nan, 1), (nan, 1), (nan, 1), (nan, 1), (nan, 1), (nan, 1), (nan, 1), (nan, 1), (nan, 1), (nan, 1), (nan, 1), (nan, 1), (nan, 1), (nan, 1), (nan, 1), (nan, 1), (nan, 1), (nan, 1), (nan, 1), (nan, 1), (nan, 1), (nan, 1), (nan, 1), (nan, 1), (nan, 1), (nan, 1), (nan, 1), (nan, 1), (nan, 1), (nan, 1), (nan, 1), (nan, 1), (nan, 1), (nan, 1), (nan, 1), (nan, 1), (nan, 1), (nan, 1), (nan, 1), (nan, 1), (nan, 1), (nan, 1), (nan, 1), (nan, 1), (nan, 1), (nan, 1), (nan, 1), (nan, 1), (nan, 1), (nan, 1), (nan, 1), (nan, 1), (nan, 1), (nan, 1), (nan, 1), (nan, 1), (nan, 1), (nan, 1), (nan, 1), (nan, 1), (nan, 1), (nan, 1), (nan, 1), (nan, 1), (nan, 1), (nan, 1), (nan, 1), (nan, 1), (nan, 1), (nan, 1), (nan, 1), (nan, 1), (nan, 1), (nan, 1), (nan, 1), (nan, 1), (nan, 1), (nan, 1), (nan, 1), (nan, 1), (nan, 1), (nan, 1), (nan, 1), (nan, 1), (nan, 1), (nan, 1), (nan, 1), (nan, 1), (nan, 1), (nan, 1), (nan, 1), (nan, 1), (nan, 1), (nan, 1), (nan, 1), (nan, 1), (nan, 1), (nan, 1), (nan, 1), (nan, 1), (nan, 1), (nan, 1), (nan, 1), (nan, 1), (nan, 1), (nan, 1), (nan, 1), (nan, 1), (nan, 1), (nan, 1), (nan, 1), (nan, 1), (nan, 1), (nan, 1), (nan, 1), (nan, 1), (nan, 1), (nan, 1), (nan, 1), (nan, 1), (nan, 1), (nan, 1), (nan, 1), (nan, 1), (nan, 1), (nan, 1), (nan, 1), (nan, 1), (nan, 1), (nan, 1), (nan, 1), (nan, 1), (nan, 1), (nan, 1), (nan, 1), (nan, 1), (nan, 1), (nan, 1), (nan, 1), (nan, 1), (nan, 1), (nan, 1), (nan, 1), (nan, 1), (nan, 1), (nan, 1), (nan, 1), (nan, 1), (nan, 1), (nan, 1), (nan, 1), (nan, 1), (nan, 1), (nan, 1), (nan, 1), (nan, 1), (nan, 1), (nan, 1), (nan, 1), (nan, 1), (nan, 1), (nan, 1), (nan, 1), (nan, 1), (nan, 1), (nan, 1), (nan, 1), (nan, 1), (nan, 1), (nan, 1), (nan, 1), (nan, 1), (nan, 1), (nan, 1), (nan, 1), (nan, 1), (nan, 1), (nan, 1), (nan, 1), (nan, 1), (nan, 1), (nan, 1), (nan, 1), (nan, 1), (nan, 1), (nan, 1), (nan, 1), (nan, 1), (nan, 1), (nan, 1), (nan, 1), (nan, 1), (nan, 1), (nan, 1), (nan, 1), (nan, 1), (nan, 1), (nan, 1), (nan, 1), (nan, 1), (nan, 1), (nan, 1), (nan, 1), (nan, 1), (nan, 1), (nan, 1), (nan, 1), (nan, 1), (nan, 1), (nan, 1), (nan, 1), (nan, 1), (nan, 1), (nan, 1), (nan, 1), (nan, 1), (nan, 1), (nan, 1), (nan, 1), (nan, 1), (nan, 1), (nan, 1), (nan, 1), (nan, 1), (nan, 1), (nan, 1), (nan, 1), (nan, 1), (nan, 1), (nan, 1), (nan, 1), (nan, 1), (nan, 1), (nan, 1), (nan, 1), (nan, 1), (nan, 1), (nan, 1), (nan, 1), (nan, 1), (nan, 1), (nan, 1), (nan, 1), (nan, 1), (nan, 1), (nan, 1), (nan, 1), (nan, 1), (nan, 1), (nan, 1), (nan, 1), (nan, 1), (nan, 1), (nan, 1), (nan, 1), (nan, 1), (nan, 1), (nan, 1), (nan, 1), (nan, 1), (nan, 1), (nan, 1), (nan, 1), (nan, 1), (nan, 1), (nan, 1), (nan, 1), (nan, 1), (nan, 1), (nan, 1), (nan, 1), (nan, 1), (nan, 1), (nan, 1), (nan, 1), (nan, 1), (nan, 1), (nan, 1), (nan, 1), (nan, 1), (nan, 1), (nan, 1), (nan, 1), (nan, 1), (nan, 1), (nan, 1), (nan, 1), (nan, 1), (nan, 1), (nan, 1), (nan, 1), (nan, 1), (nan, 1), (nan, 1), (nan, 1), (nan, 1), (nan, 1), (nan, 1), (nan, 1), (nan, 1), (nan, 1), (nan, 1), (nan, 1), (nan, 1), (nan, 1), (nan, 1), (nan, 1), (nan, 1), (nan, 1), (nan, 1), (nan, 1), (nan, 1), (nan, 1), (nan, 1), (nan, 1), (nan, 1), (nan, 1), (nan, 1), (nan, 1), (nan, 1), (nan, 1), (nan, 1), (nan, 1), (nan, 1), (nan, 1), (nan, 1), (nan, 1), (nan, 1), (nan, 1), (nan, 1), (nan, 1), (nan, 1), (nan, 1), (nan, 1), (nan, 1), (nan, 1), (nan, 1), (nan, 1), (nan, 1), (nan, 1), (nan, 1), (nan, 1), (nan, 1), (nan, 1), (nan, 1), (nan, 1), (nan, 1), (nan, 1), (nan, 1), (nan, 1), (nan, 1), (nan, 1), (nan, 1), (nan, 1), (nan, 1), (nan, 1), (nan, 1), (nan, 1), (nan, 1), (nan, 1), (nan, 1), (nan, 1), (nan, 1), (nan, 1), (nan, 1), (nan, 1), (nan, 1), (nan, 1), (nan, 1), (nan, 1), (nan, 1), (nan, 1), (nan, 1), (nan, 1), (nan, 1), (nan, 1), (nan, 1), (nan, 1), (nan, 1), (nan, 1), (nan, 1), (nan, 1), (nan, 1), (nan, 1), (nan, 1), (nan, 1), (nan, 1), (nan, 1), (nan, 1), (nan, 1), (nan, 1), (nan, 1), (nan, 1), (nan, 1), (nan, 1), (nan, 1), (nan, 1), (nan, 1), (nan, 1), (nan, 1), (nan, 1), (nan, 1), (nan, 1), (nan, 1), (nan, 1), (nan, 1), (nan, 1), (nan, 1), (nan, 1), (nan, 1), (nan, 1), (nan, 1), (nan, 1), (nan, 1), (nan, 1), (nan, 1), (nan, 1), (nan, 1), (nan, 1), (nan, 1), (nan, 1), (nan, 1), (nan, 1), (nan, 1), (nan, 1), (nan, 1), (nan, 1), (nan, 1), (nan, 1), (nan, 1), (nan, 1), (nan, 1), (nan, 1), (nan, 1), (nan, 1), (nan, 1), (nan, 1), (nan, 1), (nan, 1), (nan, 1), (nan, 1), (nan, 1), (nan, 1), (nan, 1), (nan, 1), (nan, 1), (nan, 1), (nan, 1), (nan, 1), (nan, 1), (nan, 1), (nan, 1), (nan, 1), (nan, 1), (nan, 1), (nan, 1), (nan, 1), (nan, 1), (nan, 1), (nan, 1), (nan, 1), (nan, 1), (nan, 1), (nan, 1)] \n",
            " MAX 19.0\n",
            "[25. 15. 15. ... 25. 25. 25.]\n",
            "[(1.0, 3460), (2.0, 1870), (0.0, 1510), (3.0, 956), (4.0, 280), (5.0, 143), (6.0, 105), (8.0, 73), (7.0, 59), (9.0, 53), (12.0, 40), (14.0, 37), (10.0, 23), (19.0, 22), (13.0, 14), (11.0, 10), (-15.0, 8), (-8.0, 3), (-16.0, 3), (-11.0, 3), (-5.0, 3), (15.0, 3), (16.0, 3), (-14.0, 2), (-7.0, 2), (17.0, 2), (-17.0, 1), (-9.0, 1), (-19.0, 1), (-10.0, 1), (nan, 1), (nan, 1), (nan, 1), (nan, 1), (nan, 1), (nan, 1), (nan, 1), (nan, 1), (nan, 1), (nan, 1), (nan, 1), (nan, 1), (nan, 1), (nan, 1), (nan, 1), (nan, 1), (nan, 1), (nan, 1), (nan, 1), (nan, 1), (nan, 1), (nan, 1), (nan, 1), (nan, 1), (nan, 1), (nan, 1), (nan, 1), (nan, 1), (nan, 1), (nan, 1), (nan, 1), (nan, 1), (nan, 1), (nan, 1), (nan, 1), (nan, 1), (nan, 1), (nan, 1), (nan, 1), (nan, 1), (nan, 1), (nan, 1), (nan, 1), (nan, 1), (nan, 1), (nan, 1), (nan, 1), (nan, 1), (nan, 1), (nan, 1), (nan, 1), (nan, 1), (nan, 1), (nan, 1), (nan, 1), (nan, 1), (nan, 1), (nan, 1), (nan, 1), (nan, 1), (nan, 1), (nan, 1), (nan, 1), (nan, 1), (nan, 1), (nan, 1), (nan, 1), (nan, 1), (nan, 1), (nan, 1), (nan, 1), (nan, 1), (nan, 1), (nan, 1), (nan, 1), (nan, 1), (nan, 1), (nan, 1), (nan, 1), (nan, 1), (nan, 1), (nan, 1), (nan, 1), (nan, 1), (nan, 1), (nan, 1), (nan, 1), (nan, 1), (nan, 1), (nan, 1), (nan, 1), (nan, 1), (nan, 1), (nan, 1), (nan, 1), (nan, 1), (nan, 1), (nan, 1), (nan, 1), (nan, 1), (nan, 1), (nan, 1), (nan, 1), (nan, 1), (nan, 1), (nan, 1), (nan, 1), (nan, 1), (nan, 1), (nan, 1), (nan, 1), (nan, 1), (nan, 1), (nan, 1), (nan, 1), (nan, 1), (nan, 1), (nan, 1), (nan, 1), (nan, 1), (nan, 1), (nan, 1), (nan, 1), (nan, 1), (nan, 1), (nan, 1), (nan, 1), (nan, 1), (nan, 1), (nan, 1), (nan, 1), (nan, 1), (nan, 1), (nan, 1), (nan, 1), (nan, 1), (nan, 1), (nan, 1), (nan, 1), (nan, 1), (nan, 1), (nan, 1), (nan, 1), (nan, 1), (nan, 1), (nan, 1), (nan, 1), (nan, 1), (nan, 1), (nan, 1), (nan, 1), (nan, 1), (nan, 1), (nan, 1), (nan, 1), (nan, 1), (nan, 1), (nan, 1), (nan, 1), (nan, 1), (nan, 1), (nan, 1), (nan, 1), (nan, 1), (nan, 1), (nan, 1), (nan, 1), (nan, 1), (nan, 1), (nan, 1), (nan, 1), (nan, 1), (nan, 1), (nan, 1), (nan, 1), (nan, 1), (nan, 1), (nan, 1), (nan, 1), (nan, 1), (nan, 1), (nan, 1), (nan, 1), (nan, 1), (nan, 1), (nan, 1), (nan, 1), (nan, 1), (nan, 1), (nan, 1), (nan, 1), (nan, 1), (nan, 1), (nan, 1), (nan, 1), (nan, 1), (nan, 1), (nan, 1), (nan, 1), (nan, 1), (nan, 1), (nan, 1), (nan, 1), (nan, 1), (nan, 1), (nan, 1), (nan, 1), (nan, 1), (nan, 1), (nan, 1), (nan, 1), (nan, 1), (nan, 1), (nan, 1), (nan, 1), (nan, 1), (nan, 1), (nan, 1), (nan, 1), (nan, 1), (nan, 1), (nan, 1), (nan, 1), (nan, 1), (nan, 1), (nan, 1), (nan, 1), (nan, 1), (nan, 1), (nan, 1), (nan, 1), (nan, 1), (nan, 1), (nan, 1), (nan, 1), (nan, 1), (nan, 1), (nan, 1), (nan, 1), (nan, 1), (nan, 1), (nan, 1), (nan, 1), (nan, 1), (nan, 1), (nan, 1), (nan, 1), (nan, 1), (nan, 1), (nan, 1), (nan, 1), (nan, 1), (nan, 1), (nan, 1), (nan, 1), (nan, 1), (nan, 1), (nan, 1), (nan, 1), (nan, 1), (nan, 1), (nan, 1), (nan, 1), (nan, 1), (nan, 1), (nan, 1), (nan, 1), (nan, 1), (nan, 1), (nan, 1), (nan, 1), (nan, 1), (nan, 1), (nan, 1), (nan, 1), (nan, 1), (nan, 1), (nan, 1), (nan, 1), (nan, 1), (nan, 1), (nan, 1), (nan, 1), (nan, 1), (nan, 1), (nan, 1), (nan, 1), (nan, 1), (nan, 1), (nan, 1), (nan, 1), (nan, 1), (nan, 1), (nan, 1), (nan, 1), (nan, 1), (nan, 1), (nan, 1), (nan, 1), (nan, 1), (nan, 1), (nan, 1), (nan, 1), (nan, 1), (nan, 1), (nan, 1), (nan, 1), (nan, 1), (nan, 1), (nan, 1), (nan, 1), (nan, 1), (nan, 1), (nan, 1), (nan, 1), (nan, 1), (nan, 1), (nan, 1), (nan, 1), (nan, 1), (nan, 1), (nan, 1), (nan, 1), (nan, 1), (nan, 1), (nan, 1), (nan, 1), (nan, 1), (nan, 1), (nan, 1), (nan, 1), (nan, 1), (nan, 1), (nan, 1), (nan, 1), (nan, 1), (nan, 1), (nan, 1), (nan, 1), (nan, 1), (nan, 1), (nan, 1), (nan, 1), (nan, 1), (nan, 1), (nan, 1), (nan, 1), (nan, 1), (nan, 1), (nan, 1), (nan, 1), (nan, 1), (nan, 1), (nan, 1), (nan, 1), (nan, 1), (nan, 1), (nan, 1), (nan, 1), (nan, 1), (nan, 1), (nan, 1), (nan, 1), (nan, 1), (nan, 1), (nan, 1), (nan, 1), (nan, 1), (nan, 1), (nan, 1), (nan, 1), (nan, 1), (nan, 1), (nan, 1), (nan, 1), (nan, 1), (nan, 1), (nan, 1), (nan, 1), (nan, 1), (nan, 1), (nan, 1), (nan, 1), (nan, 1), (nan, 1), (nan, 1), (nan, 1), (nan, 1), (nan, 1), (nan, 1), (nan, 1), (nan, 1), (nan, 1), (nan, 1), (nan, 1), (nan, 1), (nan, 1), (nan, 1), (nan, 1), (nan, 1), (nan, 1), (nan, 1), (nan, 1), (nan, 1), (nan, 1), (nan, 1), (nan, 1), (nan, 1), (nan, 1), (nan, 1), (nan, 1), (nan, 1), (nan, 1), (nan, 1), (nan, 1), (nan, 1), (nan, 1), (nan, 1), (nan, 1), (nan, 1), (nan, 1), (nan, 1), (nan, 1), (nan, 1), (nan, 1), (nan, 1), (nan, 1), (nan, 1), (nan, 1), (nan, 1), (nan, 1), (nan, 1), (nan, 1), (nan, 1), (nan, 1), (nan, 1), (nan, 1), (nan, 1), (nan, 1), (nan, 1), (nan, 1), (nan, 1), (nan, 1), (nan, 1), (nan, 1), (nan, 1), (nan, 1), (nan, 1), (nan, 1), (nan, 1), (nan, 1), (nan, 1), (nan, 1), (nan, 1), (nan, 1), (nan, 1), (nan, 1), (nan, 1), (nan, 1), (nan, 1), (nan, 1), (nan, 1), (nan, 1), (nan, 1), (nan, 1), (nan, 1), (nan, 1), (nan, 1), (nan, 1), (nan, 1), (nan, 1), (nan, 1), (nan, 1), (nan, 1), (nan, 1), (nan, 1), (nan, 1), (nan, 1), (nan, 1), (nan, 1), (nan, 1), (nan, 1), (nan, 1), (nan, 1), (nan, 1), (nan, 1), (nan, 1), (nan, 1), (nan, 1), (nan, 1), (nan, 1), (nan, 1), (nan, 1), (nan, 1), (nan, 1), (nan, 1), (nan, 1), (nan, 1), (nan, 1), (nan, 1), (nan, 1), (nan, 1), (nan, 1), (nan, 1), (nan, 1), (nan, 1), (nan, 1), (nan, 1), (nan, 1), (nan, 1), (nan, 1), (nan, 1), (nan, 1), (nan, 1), (nan, 1), (nan, 1), (nan, 1), (nan, 1), (nan, 1), (nan, 1), (nan, 1), (nan, 1), (nan, 1), (nan, 1), (nan, 1), (nan, 1), (nan, 1), (nan, 1), (nan, 1), (nan, 1), (nan, 1), (nan, 1), (nan, 1), (nan, 1), (nan, 1), (nan, 1), (nan, 1), (nan, 1), (nan, 1), (nan, 1), (nan, 1), (nan, 1), (nan, 1), (nan, 1), (nan, 1), (nan, 1), (nan, 1), (nan, 1), (nan, 1), (nan, 1), (nan, 1), (nan, 1), (nan, 1), (nan, 1), (nan, 1), (nan, 1), (nan, 1), (nan, 1), (nan, 1), (nan, 1), (nan, 1), (nan, 1), (nan, 1), (nan, 1), (nan, 1), (nan, 1), (nan, 1), (nan, 1), (nan, 1), (nan, 1), (nan, 1), (nan, 1), (nan, 1), (nan, 1), (nan, 1), (nan, 1), (nan, 1), (nan, 1), (nan, 1), (nan, 1), (nan, 1), (nan, 1), (nan, 1), (nan, 1), (nan, 1), (nan, 1), (nan, 1), (nan, 1), (nan, 1), (nan, 1), (nan, 1), (nan, 1), (nan, 1), (nan, 1), (nan, 1), (nan, 1), (nan, 1), (nan, 1), (nan, 1), (nan, 1), (nan, 1), (nan, 1), (nan, 1), (nan, 1), (nan, 1), (nan, 1), (nan, 1), (nan, 1), (nan, 1), (nan, 1), (nan, 1), (nan, 1), (nan, 1), (nan, 1), (nan, 1), (nan, 1), (nan, 1), (nan, 1), (nan, 1), (nan, 1), (nan, 1), (nan, 1), (nan, 1), (nan, 1), (nan, 1), (nan, 1), (nan, 1), (nan, 1), (nan, 1), (nan, 1), (nan, 1), (nan, 1), (nan, 1), (nan, 1), (nan, 1), (nan, 1), (nan, 1), (nan, 1), (nan, 1), (nan, 1), (nan, 1), (nan, 1), (nan, 1), (nan, 1), (nan, 1), (nan, 1), (nan, 1), (nan, 1), (nan, 1), (nan, 1), (nan, 1), (nan, 1), (nan, 1), (nan, 1), (nan, 1), (nan, 1), (nan, 1), (nan, 1), (nan, 1), (nan, 1), (nan, 1), (nan, 1), (nan, 1), (nan, 1), (nan, 1), (nan, 1), (nan, 1), (nan, 1), (nan, 1), (nan, 1), (nan, 1), (nan, 1), (nan, 1), (nan, 1), (nan, 1), (nan, 1), (nan, 1), (nan, 1), (nan, 1), (nan, 1), (nan, 1), (nan, 1), (nan, 1), (nan, 1), (nan, 1), (nan, 1), (nan, 1), (nan, 1), (nan, 1), (nan, 1), (nan, 1), (nan, 1), (nan, 1), (nan, 1), (nan, 1), (nan, 1), (nan, 1), (nan, 1), (nan, 1), (nan, 1), (nan, 1), (nan, 1), (nan, 1), (nan, 1), (nan, 1), (nan, 1), (nan, 1), (nan, 1), (nan, 1), (nan, 1), (nan, 1), (nan, 1), (nan, 1), (nan, 1), (nan, 1), (nan, 1), (nan, 1), (nan, 1), (nan, 1), (nan, 1), (nan, 1), (nan, 1), (nan, 1), (nan, 1), (nan, 1), (nan, 1), (nan, 1), (nan, 1), (nan, 1), (nan, 1), (nan, 1), (nan, 1), (nan, 1), (nan, 1), (nan, 1), (nan, 1), (nan, 1), (nan, 1), (nan, 1), (nan, 1), (nan, 1), (nan, 1), (nan, 1), (nan, 1), (nan, 1), (nan, 1), (nan, 1), (nan, 1), (nan, 1), (nan, 1), (nan, 1), (nan, 1), (nan, 1), (nan, 1), (nan, 1), (nan, 1), (nan, 1), (nan, 1), (nan, 1), (nan, 1), (nan, 1), (nan, 1), (nan, 1), (nan, 1), (nan, 1), (nan, 1), (nan, 1), (nan, 1), (nan, 1), (nan, 1), (nan, 1), (nan, 1), (nan, 1), (nan, 1), (nan, 1), (nan, 1), (nan, 1), (nan, 1), (nan, 1), (nan, 1), (nan, 1), (nan, 1), (nan, 1), (nan, 1), (nan, 1), (nan, 1), (nan, 1), (nan, 1), (nan, 1), (nan, 1), (nan, 1), (nan, 1), (nan, 1), (nan, 1), (nan, 1), (nan, 1), (nan, 1), (nan, 1), (nan, 1), (nan, 1), (nan, 1), (nan, 1), (nan, 1), (nan, 1), (nan, 1), (nan, 1), (nan, 1), (nan, 1), (nan, 1), (nan, 1), (nan, 1), (nan, 1), (nan, 1), (nan, 1), (nan, 1), (nan, 1), (nan, 1), (nan, 1), (nan, 1), (nan, 1), (nan, 1), (nan, 1), (nan, 1), (nan, 1), (nan, 1), (nan, 1), (nan, 1), (nan, 1), (nan, 1), (nan, 1), (nan, 1), (nan, 1), (nan, 1), (nan, 1), (nan, 1), (nan, 1), (nan, 1), (nan, 1), (nan, 1), (nan, 1), (nan, 1), (nan, 1), (nan, 1), (nan, 1), (nan, 1), (nan, 1), (nan, 1), (nan, 1), (nan, 1), (nan, 1), (nan, 1), (nan, 1), (nan, 1), (nan, 1), (nan, 1), (nan, 1), (nan, 1), (nan, 1), (nan, 1), (nan, 1), (nan, 1), (nan, 1), (nan, 1), (nan, 1), (nan, 1), (nan, 1), (nan, 1), (nan, 1), (nan, 1), (nan, 1), (nan, 1), (nan, 1), (nan, 1), (nan, 1), (nan, 1), (nan, 1), (nan, 1), (nan, 1), (nan, 1), (nan, 1), (nan, 1), (nan, 1), (nan, 1), (nan, 1), (nan, 1), (nan, 1), (nan, 1), (nan, 1), (nan, 1), (nan, 1), (nan, 1), (nan, 1), (nan, 1), (nan, 1), (nan, 1), (nan, 1), (nan, 1), (nan, 1), (nan, 1), (nan, 1), (nan, 1), (nan, 1), (nan, 1), (nan, 1), (nan, 1), (nan, 1), (nan, 1), (nan, 1), (nan, 1), (nan, 1), (nan, 1), (nan, 1), (nan, 1), (nan, 1), (nan, 1), (nan, 1), (nan, 1), (nan, 1), (nan, 1), (nan, 1), (nan, 1), (nan, 1), (nan, 1), (nan, 1), (nan, 1), (nan, 1), (nan, 1), (nan, 1), (nan, 1), (nan, 1), (nan, 1), (nan, 1), (nan, 1), (nan, 1), (nan, 1), (nan, 1), (nan, 1), (nan, 1), (nan, 1), (nan, 1), (nan, 1), (nan, 1), (nan, 1), (nan, 1), (nan, 1), (nan, 1), (nan, 1), (nan, 1), (nan, 1), (nan, 1), (nan, 1), (nan, 1), (nan, 1), (nan, 1), (nan, 1), (nan, 1), (nan, 1), (nan, 1), (nan, 1), (nan, 1), (nan, 1), (nan, 1), (nan, 1), (nan, 1), (nan, 1), (nan, 1), (nan, 1), (nan, 1), (nan, 1), (nan, 1), (nan, 1), (nan, 1), (nan, 1), (nan, 1), (nan, 1), (nan, 1), (nan, 1), (nan, 1), (nan, 1), (nan, 1), (nan, 1), (nan, 1), (nan, 1), (nan, 1), (nan, 1), (nan, 1), (nan, 1), (nan, 1), (nan, 1), (nan, 1), (nan, 1), (nan, 1), (nan, 1), (nan, 1), (nan, 1), (nan, 1), (nan, 1), (nan, 1), (nan, 1), (nan, 1), (nan, 1), (nan, 1), (nan, 1), (nan, 1), (nan, 1), (nan, 1), (nan, 1), (nan, 1), (nan, 1), (nan, 1), (nan, 1), (nan, 1), (nan, 1), (nan, 1), (nan, 1), (nan, 1), (nan, 1), (nan, 1), (nan, 1), (nan, 1), (nan, 1), (nan, 1), (nan, 1), (nan, 1), (nan, 1), (nan, 1), (nan, 1), (nan, 1), (nan, 1), (nan, 1), (nan, 1), (nan, 1), (nan, 1), (nan, 1), (nan, 1), (nan, 1), (nan, 1), (nan, 1), (nan, 1), (nan, 1), (nan, 1), (nan, 1), (nan, 1), (nan, 1), (nan, 1), (nan, 1), (nan, 1), (nan, 1), (nan, 1), (nan, 1), (nan, 1), (nan, 1), (nan, 1), (nan, 1), (nan, 1), (nan, 1), (nan, 1), (nan, 1), (nan, 1), (nan, 1), (nan, 1), (nan, 1), (nan, 1), (nan, 1), (nan, 1), (nan, 1), (nan, 1), (nan, 1), (nan, 1), (nan, 1), (nan, 1), (nan, 1), (nan, 1), (nan, 1), (nan, 1), (nan, 1), (nan, 1), (nan, 1), (nan, 1), (nan, 1), (nan, 1), (nan, 1), (nan, 1), (nan, 1), (nan, 1), (nan, 1), (nan, 1), (nan, 1), (nan, 1), (nan, 1), (nan, 1), (nan, 1), (nan, 1), (nan, 1), (nan, 1), (nan, 1), (nan, 1), (nan, 1), (nan, 1), (nan, 1), (nan, 1), (nan, 1), (nan, 1), (nan, 1), (nan, 1), (nan, 1), (nan, 1), (nan, 1), (nan, 1), (nan, 1), (nan, 1), (nan, 1), (nan, 1), (nan, 1), (nan, 1), (nan, 1), (nan, 1), (nan, 1), (nan, 1), (nan, 1), (nan, 1), (nan, 1), (nan, 1), (nan, 1), (nan, 1), (nan, 1), (nan, 1), (nan, 1), (nan, 1), (nan, 1), (nan, 1), (nan, 1), (nan, 1), (nan, 1), (nan, 1), (nan, 1), (nan, 1), (nan, 1), (nan, 1), (nan, 1), (nan, 1), (nan, 1), (nan, 1), (nan, 1), (nan, 1), (nan, 1), (nan, 1), (nan, 1), (nan, 1), (nan, 1), (nan, 1), (nan, 1), (nan, 1), (nan, 1), (nan, 1), (nan, 1), (nan, 1), (nan, 1), (nan, 1), (nan, 1), (nan, 1), (nan, 1), (nan, 1), (nan, 1), (nan, 1), (nan, 1), (nan, 1), (nan, 1), (nan, 1), (nan, 1), (nan, 1), (nan, 1), (nan, 1), (nan, 1), (nan, 1), (nan, 1), (nan, 1), (nan, 1), (nan, 1), (nan, 1), (nan, 1), (nan, 1), (nan, 1), (nan, 1), (nan, 1), (nan, 1), (nan, 1), (nan, 1), (nan, 1), (nan, 1), (nan, 1), (nan, 1), (nan, 1), (nan, 1), (nan, 1), (nan, 1), (nan, 1), (nan, 1), (nan, 1), (nan, 1), (nan, 1), (nan, 1), (nan, 1), (nan, 1), (nan, 1), (nan, 1), (nan, 1), (nan, 1), (nan, 1), (nan, 1), (nan, 1), (nan, 1), (nan, 1), (nan, 1), (nan, 1), (nan, 1), (nan, 1), (nan, 1), (nan, 1), (nan, 1), (nan, 1), (nan, 1), (nan, 1), (nan, 1), (nan, 1), (nan, 1), (nan, 1), (nan, 1), (nan, 1), (nan, 1), (nan, 1), (nan, 1), (nan, 1), (nan, 1), (nan, 1), (nan, 1), (nan, 1), (nan, 1), (nan, 1), (nan, 1), (nan, 1), (nan, 1), (nan, 1), (nan, 1), (nan, 1), (nan, 1), (nan, 1), (nan, 1), (nan, 1), (nan, 1), (nan, 1), (nan, 1), (nan, 1), (nan, 1), (nan, 1), (nan, 1), (nan, 1), (nan, 1), (nan, 1), (nan, 1), (nan, 1), (nan, 1), (nan, 1), (nan, 1), (nan, 1), (nan, 1), (nan, 1), (nan, 1), (nan, 1), (nan, 1), (nan, 1), (nan, 1), (nan, 1), (nan, 1), (nan, 1), (nan, 1), (nan, 1), (nan, 1), (nan, 1), (nan, 1), (nan, 1), (nan, 1), (nan, 1), (nan, 1), (nan, 1), (nan, 1), (nan, 1), (nan, 1), (nan, 1), (nan, 1), (nan, 1), (nan, 1), (nan, 1), (nan, 1), (nan, 1), (nan, 1), (nan, 1), (nan, 1), (nan, 1), (nan, 1), (nan, 1), (nan, 1), (nan, 1), (nan, 1), (nan, 1), (nan, 1), (nan, 1), (nan, 1), (nan, 1), (nan, 1), (nan, 1), (nan, 1), (nan, 1), (nan, 1), (nan, 1), (nan, 1), (nan, 1), (nan, 1), (nan, 1), (nan, 1), (nan, 1), (nan, 1), (nan, 1), (nan, 1), (nan, 1), (nan, 1), (nan, 1), (nan, 1), (nan, 1), (nan, 1), (nan, 1), (nan, 1), (nan, 1), (nan, 1), (nan, 1), (nan, 1), (nan, 1), (nan, 1), (nan, 1), (nan, 1), (nan, 1), (nan, 1), (nan, 1), (nan, 1), (nan, 1), (nan, 1), (nan, 1), (nan, 1), (nan, 1), (nan, 1), (nan, 1), (nan, 1), (nan, 1), (nan, 1), (nan, 1), (nan, 1), (nan, 1), (nan, 1), (nan, 1), (nan, 1), (nan, 1), (nan, 1), (nan, 1), (nan, 1), (nan, 1), (nan, 1), (nan, 1), (nan, 1), (nan, 1), (nan, 1), (nan, 1), (nan, 1), (nan, 1), (nan, 1), (nan, 1), (nan, 1), (nan, 1), (nan, 1), (nan, 1), (nan, 1), (nan, 1), (nan, 1), (nan, 1), (nan, 1), (nan, 1), (nan, 1), (nan, 1), (nan, 1), (nan, 1), (nan, 1), (nan, 1), (nan, 1), (nan, 1), (nan, 1), (nan, 1), (nan, 1), (nan, 1), (nan, 1), (nan, 1), (nan, 1), (nan, 1), (nan, 1), (nan, 1), (nan, 1), (nan, 1), (nan, 1), (nan, 1), (nan, 1), (nan, 1), (nan, 1), (nan, 1), (nan, 1), (nan, 1), (nan, 1), (nan, 1), (nan, 1), (nan, 1), (nan, 1), (nan, 1), (nan, 1), (nan, 1), (nan, 1), (nan, 1), (nan, 1), (nan, 1), (nan, 1), (nan, 1), (nan, 1), (nan, 1), (nan, 1), (nan, 1), (nan, 1), (nan, 1), (nan, 1), (nan, 1), (nan, 1), (nan, 1), (nan, 1), (nan, 1), (nan, 1), (nan, 1), (nan, 1), (nan, 1), (nan, 1), (nan, 1), (nan, 1), (nan, 1), (nan, 1), (nan, 1), (nan, 1), (nan, 1), (nan, 1), (nan, 1), (nan, 1), (nan, 1), (nan, 1), (nan, 1), (nan, 1), (nan, 1), (nan, 1), (nan, 1), (nan, 1), (nan, 1), (nan, 1), (nan, 1), (nan, 1), (nan, 1), (nan, 1), (nan, 1), (nan, 1), (nan, 1), (nan, 1), (nan, 1), (nan, 1), (nan, 1), (nan, 1), (nan, 1), (nan, 1), (nan, 1), (nan, 1), (nan, 1), (nan, 1), (nan, 1), (nan, 1), (nan, 1), (nan, 1), (nan, 1), (nan, 1), (nan, 1), (nan, 1), (nan, 1), (nan, 1), (nan, 1), (nan, 1), (nan, 1), (nan, 1), (nan, 1), (nan, 1), (nan, 1), (nan, 1), (nan, 1), (nan, 1), (nan, 1), (nan, 1), (nan, 1), (nan, 1), (nan, 1), (nan, 1), (nan, 1), (nan, 1), (nan, 1), (nan, 1), (nan, 1), (nan, 1), (nan, 1), (nan, 1), (nan, 1), (nan, 1), (nan, 1), (nan, 1), (nan, 1), (nan, 1), (nan, 1), (nan, 1), (nan, 1), (nan, 1), (nan, 1), (nan, 1), (nan, 1), (nan, 1), (nan, 1), (nan, 1), (nan, 1), (nan, 1), (nan, 1), (nan, 1), (nan, 1), (nan, 1), (nan, 1), (nan, 1), (nan, 1), (nan, 1), (nan, 1), (nan, 1), (nan, 1), (nan, 1), (nan, 1), (nan, 1), (nan, 1), (nan, 1), (nan, 1), (nan, 1), (nan, 1), (nan, 1), (nan, 1), (nan, 1), (nan, 1), (nan, 1), (nan, 1), (nan, 1), (nan, 1), (nan, 1), (nan, 1), (nan, 1), (nan, 1), (nan, 1), (nan, 1), (nan, 1), (nan, 1), (nan, 1), (nan, 1), (nan, 1), (nan, 1), (nan, 1), (nan, 1), (nan, 1), (nan, 1), (nan, 1), (nan, 1), (nan, 1), (nan, 1), (nan, 1), (nan, 1), (nan, 1), (nan, 1), (nan, 1), (nan, 1), (nan, 1), (nan, 1), (nan, 1), (nan, 1), (nan, 1), (nan, 1), (nan, 1), (nan, 1), (nan, 1), (nan, 1), (nan, 1), (nan, 1), (nan, 1), (nan, 1), (nan, 1), (nan, 1), (nan, 1), (nan, 1), (nan, 1), (nan, 1), (nan, 1), (nan, 1), (nan, 1), (nan, 1), (nan, 1), (nan, 1), (nan, 1), (nan, 1), (nan, 1), (nan, 1), (nan, 1), (nan, 1), (nan, 1), (nan, 1), (nan, 1), (nan, 1), (nan, 1), (nan, 1), (nan, 1), (nan, 1), (nan, 1), (nan, 1), (nan, 1), (nan, 1), (nan, 1), (nan, 1), (nan, 1), (nan, 1), (nan, 1), (nan, 1), (nan, 1), (nan, 1), (nan, 1), (nan, 1), (nan, 1), (nan, 1), (nan, 1), (nan, 1), (nan, 1), (nan, 1), (nan, 1), (nan, 1), (nan, 1), (nan, 1), (nan, 1), (nan, 1), (nan, 1), (nan, 1), (nan, 1), (nan, 1), (nan, 1), (nan, 1), (nan, 1), (nan, 1), (nan, 1), (nan, 1), (nan, 1), (nan, 1), (nan, 1), (nan, 1), (nan, 1), (nan, 1), (nan, 1), (nan, 1), (nan, 1), (nan, 1), (nan, 1), (nan, 1), (nan, 1), (nan, 1), (nan, 1), (nan, 1), (nan, 1), (nan, 1), (nan, 1), (nan, 1), (nan, 1), (nan, 1), (nan, 1), (nan, 1), (nan, 1), (nan, 1), (nan, 1), (nan, 1), (nan, 1), (nan, 1), (nan, 1), (nan, 1), (nan, 1), (nan, 1), (nan, 1), (nan, 1), (nan, 1), (nan, 1), (nan, 1), (nan, 1), (nan, 1), (nan, 1), (nan, 1), (nan, 1), (nan, 1), (nan, 1), (nan, 1), (nan, 1), (nan, 1), (nan, 1), (nan, 1), (nan, 1), (nan, 1), (nan, 1), (nan, 1), (nan, 1), (nan, 1), (nan, 1), (nan, 1), (nan, 1), (nan, 1), (nan, 1), (nan, 1), (nan, 1), (nan, 1), (nan, 1), (nan, 1), (nan, 1), (nan, 1), (nan, 1), (nan, 1), (nan, 1), (nan, 1), (nan, 1), (nan, 1), (nan, 1), (nan, 1), (nan, 1), (nan, 1), (nan, 1), (nan, 1), (nan, 1), (nan, 1), (nan, 1), (nan, 1), (nan, 1), (nan, 1), (nan, 1), (nan, 1), (nan, 1), (nan, 1), (nan, 1), (nan, 1), (nan, 1), (nan, 1), (nan, 1), (nan, 1), (nan, 1), (nan, 1), (nan, 1), (nan, 1), (nan, 1), (nan, 1), (nan, 1), (nan, 1), (nan, 1), (nan, 1), (nan, 1), (nan, 1), (nan, 1), (nan, 1), (nan, 1), (nan, 1), (nan, 1), (nan, 1), (nan, 1), (nan, 1), (nan, 1), (nan, 1), (nan, 1), (nan, 1), (nan, 1), (nan, 1), (nan, 1), (nan, 1), (nan, 1), (nan, 1), (nan, 1), (nan, 1), (nan, 1), (nan, 1), (nan, 1), (nan, 1), (nan, 1), (nan, 1), (nan, 1), (nan, 1), (nan, 1), (nan, 1), (nan, 1), (nan, 1), (nan, 1), (nan, 1), (nan, 1), (nan, 1), (nan, 1), (nan, 1), (nan, 1), (nan, 1), (nan, 1), (nan, 1), (nan, 1), (nan, 1), (nan, 1), (nan, 1), (nan, 1), (nan, 1), (nan, 1), (nan, 1), (nan, 1), (nan, 1), (nan, 1), (nan, 1), (nan, 1), (nan, 1), (nan, 1), (nan, 1), (nan, 1), (nan, 1), (nan, 1), (nan, 1), (nan, 1), (nan, 1), (nan, 1), (nan, 1), (nan, 1), (nan, 1), (nan, 1), (nan, 1), (nan, 1), (nan, 1), (nan, 1), (nan, 1), (nan, 1), (nan, 1), (nan, 1), (nan, 1), (nan, 1), (nan, 1), (nan, 1), (nan, 1), (nan, 1), (nan, 1), (nan, 1), (nan, 1), (nan, 1), (nan, 1), (nan, 1), (nan, 1), (nan, 1), (nan, 1), (nan, 1), (nan, 1), (nan, 1), (nan, 1), (nan, 1), (nan, 1), (nan, 1), (nan, 1), (nan, 1), (nan, 1), (nan, 1), (nan, 1), (nan, 1), (nan, 1), (nan, 1), (nan, 1), (nan, 1), (nan, 1), (nan, 1), (nan, 1), (nan, 1), (nan, 1), (nan, 1), (nan, 1), (nan, 1), (nan, 1), (nan, 1), (nan, 1), (nan, 1), (nan, 1), (nan, 1), (nan, 1), (nan, 1), (nan, 1), (nan, 1), (nan, 1), (nan, 1), (nan, 1), (nan, 1), (nan, 1), (nan, 1), (nan, 1), (nan, 1), (nan, 1), (nan, 1), (nan, 1), (nan, 1), (nan, 1), (nan, 1), (nan, 1), (nan, 1), (nan, 1), (nan, 1), (nan, 1), (nan, 1), (nan, 1), (nan, 1), (nan, 1), (nan, 1), (nan, 1), (nan, 1), (nan, 1), (nan, 1), (nan, 1), (nan, 1), (nan, 1), (nan, 1), (nan, 1), (nan, 1), (nan, 1), (nan, 1), (nan, 1), (nan, 1), (nan, 1), (nan, 1), (nan, 1), (nan, 1), (nan, 1), (nan, 1), (nan, 1), (nan, 1), (nan, 1), (nan, 1), (nan, 1), (nan, 1), (nan, 1), (nan, 1), (nan, 1), (nan, 1), (nan, 1), (nan, 1), (nan, 1), (nan, 1), (nan, 1), (nan, 1), (nan, 1), (nan, 1), (nan, 1), (nan, 1), (nan, 1), (nan, 1), (nan, 1), (nan, 1), (nan, 1), (nan, 1), (nan, 1), (nan, 1), (nan, 1), (nan, 1), (nan, 1), (nan, 1), (nan, 1), (nan, 1), (nan, 1), (nan, 1), (nan, 1), (nan, 1), (nan, 1), (nan, 1), (nan, 1), (nan, 1), (nan, 1), (nan, 1), (nan, 1), (nan, 1), (nan, 1), (nan, 1), (nan, 1), (nan, 1), (nan, 1), (nan, 1), (nan, 1), (nan, 1), (nan, 1), (nan, 1), (nan, 1), (nan, 1), (nan, 1), (nan, 1), (nan, 1), (nan, 1), (nan, 1), (nan, 1), (nan, 1), (nan, 1), (nan, 1), (nan, 1), (nan, 1), (nan, 1), (nan, 1), (nan, 1), (nan, 1), (nan, 1), (nan, 1), (nan, 1), (nan, 1), (nan, 1), (nan, 1), (nan, 1), (nan, 1), (nan, 1), (nan, 1), (nan, 1), (nan, 1), (nan, 1), (nan, 1), (nan, 1), (nan, 1), (nan, 1), (nan, 1), (nan, 1), (nan, 1), (nan, 1), (nan, 1), (nan, 1), (nan, 1), (nan, 1), (nan, 1), (nan, 1), (nan, 1), (nan, 1), (nan, 1), (nan, 1), (nan, 1), (nan, 1), (nan, 1), (nan, 1), (nan, 1), (nan, 1), (nan, 1), (nan, 1), (nan, 1), (nan, 1), (nan, 1), (nan, 1), (nan, 1), (nan, 1), (nan, 1), (nan, 1), (nan, 1), (nan, 1), (nan, 1), (nan, 1), (nan, 1), (nan, 1), (nan, 1), (nan, 1), (nan, 1), (nan, 1), (nan, 1), (nan, 1), (nan, 1), (nan, 1), (nan, 1), (nan, 1), (nan, 1), (nan, 1), (nan, 1), (nan, 1), (nan, 1), (nan, 1), (nan, 1), (nan, 1), (nan, 1), (nan, 1), (nan, 1), (nan, 1), (nan, 1), (nan, 1), (nan, 1), (nan, 1), (nan, 1), (nan, 1), (nan, 1), (nan, 1), (nan, 1), (nan, 1), (nan, 1), (nan, 1), (nan, 1), (nan, 1), (nan, 1), (nan, 1), (nan, 1), (nan, 1), (nan, 1), (nan, 1), (nan, 1), (nan, 1), (nan, 1), (nan, 1), (nan, 1), (nan, 1), (nan, 1), (nan, 1), (nan, 1), (nan, 1), (nan, 1), (nan, 1), (nan, 1), (nan, 1), (nan, 1), (nan, 1), (nan, 1), (nan, 1), (nan, 1), (nan, 1), (nan, 1), (nan, 1), (nan, 1), (nan, 1), (nan, 1), (nan, 1), (nan, 1), (nan, 1), (nan, 1), (nan, 1), (nan, 1), (nan, 1), (nan, 1), (nan, 1), (nan, 1), (nan, 1), (nan, 1), (nan, 1), (nan, 1), (nan, 1), (nan, 1), (nan, 1), (nan, 1), (nan, 1), (nan, 1), (nan, 1), (nan, 1), (nan, 1), (nan, 1), (nan, 1), (nan, 1), (nan, 1), (nan, 1), (nan, 1), (nan, 1), (nan, 1), (nan, 1), (nan, 1), (nan, 1), (nan, 1), (nan, 1), (nan, 1), (nan, 1), (nan, 1), (nan, 1), (nan, 1), (nan, 1), (nan, 1), (nan, 1), (nan, 1), (nan, 1), (nan, 1), (nan, 1), (nan, 1), (nan, 1), (nan, 1), (nan, 1), (nan, 1), (nan, 1), (nan, 1), (nan, 1), (nan, 1), (nan, 1), (nan, 1), (nan, 1), (nan, 1), (nan, 1), (nan, 1), (nan, 1), (nan, 1), (nan, 1), (nan, 1), (nan, 1), (nan, 1), (nan, 1), (nan, 1), (nan, 1), (nan, 1), (nan, 1), (nan, 1), (nan, 1), (nan, 1), (nan, 1), (nan, 1), (nan, 1), (nan, 1), (nan, 1), (nan, 1), (nan, 1), (nan, 1), (nan, 1), (nan, 1), (nan, 1), (nan, 1), (nan, 1), (nan, 1), (nan, 1), (nan, 1), (nan, 1), (nan, 1), (nan, 1), (nan, 1), (nan, 1), (nan, 1), (nan, 1), (nan, 1), (nan, 1), (nan, 1), (nan, 1), (nan, 1), (nan, 1), (nan, 1), (nan, 1), (nan, 1), (nan, 1), (nan, 1), (nan, 1), (nan, 1), (nan, 1), (nan, 1), (nan, 1), (nan, 1), (nan, 1), (nan, 1), (nan, 1), (nan, 1), (nan, 1), (nan, 1), (nan, 1), (nan, 1), (nan, 1), (nan, 1), (nan, 1), (nan, 1), (nan, 1), (nan, 1), (nan, 1), (nan, 1), (nan, 1), (nan, 1), (nan, 1), (nan, 1), (nan, 1), (nan, 1), (nan, 1), (nan, 1), (nan, 1), (nan, 1), (nan, 1), (nan, 1), (nan, 1), (nan, 1), (nan, 1), (nan, 1), (nan, 1), (nan, 1), (nan, 1), (nan, 1), (nan, 1), (nan, 1), (nan, 1), (nan, 1), (nan, 1), (nan, 1), (nan, 1), (nan, 1), (nan, 1), (nan, 1), (nan, 1), (nan, 1), (nan, 1), (nan, 1), (nan, 1), (nan, 1), (nan, 1), (nan, 1), (nan, 1), (nan, 1), (nan, 1), (nan, 1), (nan, 1), (nan, 1), (nan, 1), (nan, 1), (nan, 1), (nan, 1), (nan, 1), (nan, 1), (nan, 1), (nan, 1), (nan, 1), (nan, 1), (nan, 1), (nan, 1), (nan, 1), (nan, 1), (nan, 1), (nan, 1), (nan, 1), (nan, 1), (nan, 1), (nan, 1), (nan, 1), (nan, 1), (nan, 1), (nan, 1), (nan, 1), (nan, 1), (nan, 1), (nan, 1), (nan, 1), (nan, 1), (nan, 1), (nan, 1), (nan, 1), (nan, 1), (nan, 1), (nan, 1), (nan, 1), (nan, 1), (nan, 1), (nan, 1), (nan, 1), (nan, 1), (nan, 1), (nan, 1), (nan, 1), (nan, 1), (nan, 1), (nan, 1), (nan, 1), (nan, 1), (nan, 1), (nan, 1), (nan, 1), (nan, 1), (nan, 1), (nan, 1), (nan, 1), (nan, 1), (nan, 1), (nan, 1), (nan, 1), (nan, 1), (nan, 1), (nan, 1), (nan, 1), (nan, 1), (nan, 1), (nan, 1), (nan, 1), (nan, 1), (nan, 1), (nan, 1), (nan, 1), (nan, 1), (nan, 1), (nan, 1), (nan, 1), (nan, 1), (nan, 1), (nan, 1), (nan, 1), (nan, 1), (nan, 1), (nan, 1), (nan, 1), (nan, 1), (nan, 1), (nan, 1), (nan, 1), (nan, 1), (nan, 1), (nan, 1), (nan, 1), (nan, 1), (nan, 1), (nan, 1), (nan, 1), (nan, 1), (nan, 1), (nan, 1), (nan, 1), (nan, 1), (nan, 1), (nan, 1), (nan, 1), (nan, 1), (nan, 1), (nan, 1), (nan, 1), (nan, 1), (nan, 1), (nan, 1), (nan, 1), (nan, 1), (nan, 1), (nan, 1), (nan, 1), (nan, 1), (nan, 1), (nan, 1), (nan, 1), (nan, 1), (nan, 1), (nan, 1), (nan, 1), (nan, 1), (nan, 1), (nan, 1), (nan, 1), (nan, 1), (nan, 1), (nan, 1), (nan, 1), (nan, 1), (nan, 1), (nan, 1), (nan, 1), (nan, 1), (nan, 1), (nan, 1), (nan, 1), (nan, 1), (nan, 1), (nan, 1), (nan, 1), (nan, 1), (nan, 1), (nan, 1), (nan, 1), (nan, 1), (nan, 1), (nan, 1), (nan, 1), (nan, 1), (nan, 1), (nan, 1), (nan, 1), (nan, 1), (nan, 1), (nan, 1), (nan, 1), (nan, 1), (nan, 1), (nan, 1), (nan, 1), (nan, 1), (nan, 1), (nan, 1), (nan, 1), (nan, 1), (nan, 1), (nan, 1), (nan, 1), (nan, 1), (nan, 1), (nan, 1), (nan, 1), (nan, 1), (nan, 1), (nan, 1), (nan, 1), (nan, 1), (nan, 1), (nan, 1), (nan, 1), (nan, 1), (nan, 1), (nan, 1), (nan, 1), (nan, 1), (nan, 1), (nan, 1), (nan, 1), (nan, 1), (nan, 1), (nan, 1), (nan, 1), (nan, 1), (nan, 1), (nan, 1), (nan, 1), (nan, 1), (nan, 1), (nan, 1), (nan, 1), (nan, 1), (nan, 1), (nan, 1), (nan, 1), (nan, 1), (nan, 1), (nan, 1), (nan, 1), (nan, 1), (nan, 1), (nan, 1), (nan, 1), (nan, 1), (nan, 1), (nan, 1), (nan, 1), (nan, 1), (nan, 1), (nan, 1), (nan, 1), (nan, 1), (nan, 1), (nan, 1), (nan, 1), (nan, 1), (nan, 1), (nan, 1), (nan, 1), (nan, 1), (nan, 1), (nan, 1), (nan, 1), (nan, 1), (nan, 1), (nan, 1), (nan, 1), (nan, 1), (nan, 1), (nan, 1), (nan, 1), (nan, 1), (nan, 1), (nan, 1), (nan, 1), (nan, 1), (nan, 1), (nan, 1), (nan, 1), (nan, 1), (nan, 1), (nan, 1), (nan, 1), (nan, 1), (nan, 1), (nan, 1), (nan, 1), (nan, 1), (nan, 1), (nan, 1), (nan, 1), (nan, 1), (nan, 1), (nan, 1), (nan, 1), (nan, 1), (nan, 1), (nan, 1), (nan, 1), (nan, 1), (nan, 1), (nan, 1), (nan, 1), (nan, 1), (nan, 1), (nan, 1), (nan, 1), (nan, 1), (nan, 1), (nan, 1), (nan, 1), (nan, 1), (nan, 1), (nan, 1), (nan, 1), (nan, 1), (nan, 1), (nan, 1), (nan, 1), (nan, 1), (nan, 1), (nan, 1), (nan, 1), (nan, 1), (nan, 1), (nan, 1), (nan, 1), (nan, 1), (nan, 1), (nan, 1), (nan, 1), (nan, 1), (nan, 1), (nan, 1), (nan, 1), (nan, 1), (nan, 1), (nan, 1), (nan, 1), (nan, 1), (nan, 1), (nan, 1), (nan, 1), (nan, 1), (nan, 1), (nan, 1), (nan, 1), (nan, 1), (nan, 1), (nan, 1), (nan, 1), (nan, 1), (nan, 1), (nan, 1), (nan, 1), (nan, 1), (nan, 1), (nan, 1), (nan, 1), (nan, 1), (nan, 1), (nan, 1), (nan, 1), (nan, 1), (nan, 1), (nan, 1), (nan, 1), (nan, 1), (nan, 1), (nan, 1), (nan, 1), (nan, 1), (nan, 1), (nan, 1), (nan, 1), (nan, 1), (nan, 1), (nan, 1), (nan, 1), (nan, 1), (nan, 1), (nan, 1), (nan, 1), (nan, 1), (nan, 1), (nan, 1), (nan, 1), (nan, 1), (nan, 1), (nan, 1), (nan, 1), (nan, 1), (nan, 1), (nan, 1), (nan, 1), (nan, 1), (nan, 1), (nan, 1), (nan, 1), (nan, 1), (nan, 1), (nan, 1), (nan, 1), (nan, 1), (nan, 1), (nan, 1), (nan, 1), (nan, 1), (nan, 1), (nan, 1), (nan, 1), (nan, 1), (nan, 1), (nan, 1), (nan, 1), (nan, 1), (nan, 1), (nan, 1), (nan, 1), (nan, 1), (nan, 1), (nan, 1), (nan, 1), (nan, 1), (nan, 1), (nan, 1), (nan, 1), (nan, 1), (nan, 1), (nan, 1), (nan, 1), (nan, 1), (nan, 1), (nan, 1), (nan, 1), (nan, 1), (nan, 1), (nan, 1), (nan, 1), (nan, 1), (nan, 1), (nan, 1), (nan, 1), (nan, 1), (nan, 1), (nan, 1), (nan, 1), (nan, 1), (nan, 1), (nan, 1), (nan, 1), (nan, 1), (nan, 1), (nan, 1), (nan, 1), (nan, 1), (nan, 1), (nan, 1), (nan, 1), (nan, 1), (nan, 1), (nan, 1), (nan, 1), (nan, 1), (nan, 1), (nan, 1), (nan, 1), (nan, 1), (nan, 1), (nan, 1), (nan, 1), (nan, 1), (nan, 1), (nan, 1), (nan, 1), (nan, 1), (nan, 1), (nan, 1), (nan, 1), (nan, 1), (nan, 1), (nan, 1), (nan, 1), (nan, 1), (nan, 1), (nan, 1), (nan, 1), (nan, 1), (nan, 1), (nan, 1), (nan, 1), (nan, 1), (nan, 1), (nan, 1), (nan, 1), (nan, 1), (nan, 1), (nan, 1), (nan, 1), (nan, 1), (nan, 1), (nan, 1), (nan, 1), (nan, 1), (nan, 1), (nan, 1), (nan, 1), (nan, 1), (nan, 1), (nan, 1), (nan, 1), (nan, 1), (nan, 1), (nan, 1), (nan, 1), (nan, 1), (nan, 1), (nan, 1), (nan, 1), (nan, 1), (nan, 1), (nan, 1), (nan, 1), (nan, 1), (nan, 1), (nan, 1), (nan, 1), (nan, 1), (nan, 1), (nan, 1), (nan, 1), (nan, 1), (nan, 1), (nan, 1), (nan, 1), (nan, 1), (nan, 1), (nan, 1), (nan, 1), (nan, 1), (nan, 1), (nan, 1), (nan, 1), (nan, 1), (nan, 1), (nan, 1), (nan, 1), (nan, 1), (nan, 1), (nan, 1), (nan, 1), (nan, 1), (nan, 1), (nan, 1), (nan, 1), (nan, 1), (nan, 1), (nan, 1), (nan, 1), (nan, 1), (nan, 1), (nan, 1), (nan, 1), (nan, 1), (nan, 1), (nan, 1), (nan, 1), (nan, 1), (nan, 1), (nan, 1), (nan, 1), (nan, 1), (nan, 1), (nan, 1), (nan, 1), (nan, 1), (nan, 1), (nan, 1), (nan, 1), (nan, 1), (nan, 1), (nan, 1), (nan, 1), (nan, 1), (nan, 1), (nan, 1), (nan, 1), (nan, 1), (nan, 1), (nan, 1), (nan, 1), (nan, 1), (nan, 1), (nan, 1), (nan, 1), (nan, 1), (nan, 1), (nan, 1), (nan, 1), (nan, 1), (nan, 1), (nan, 1), (nan, 1), (nan, 1), (nan, 1), (nan, 1), (nan, 1), (nan, 1), (nan, 1), (nan, 1), (nan, 1), (nan, 1), (nan, 1), (nan, 1), (nan, 1), (nan, 1), (nan, 1), (nan, 1), (nan, 1), (nan, 1), (nan, 1), (nan, 1), (nan, 1), (nan, 1), (nan, 1), (nan, 1), (nan, 1), (nan, 1), (nan, 1), (nan, 1), (nan, 1), (nan, 1), (nan, 1), (nan, 1), (nan, 1), (nan, 1), (nan, 1), (nan, 1), (nan, 1), (nan, 1), (nan, 1), (nan, 1), (nan, 1), (nan, 1), (nan, 1), (nan, 1), (nan, 1), (nan, 1), (nan, 1), (nan, 1), (nan, 1), (nan, 1), (nan, 1), (nan, 1), (nan, 1), (nan, 1), (nan, 1), (nan, 1), (nan, 1), (nan, 1), (nan, 1), (nan, 1), (nan, 1), (nan, 1), (nan, 1), (nan, 1), (nan, 1), (nan, 1), (nan, 1), (nan, 1), (nan, 1), (nan, 1), (nan, 1), (nan, 1), (nan, 1), (nan, 1), (nan, 1), (nan, 1), (nan, 1), (nan, 1), (nan, 1), (nan, 1), (nan, 1), (nan, 1), (nan, 1), (nan, 1), (nan, 1), (nan, 1), (nan, 1), (nan, 1), (nan, 1), (nan, 1), (nan, 1), (nan, 1), (nan, 1), (nan, 1), (nan, 1), (nan, 1), (nan, 1), (nan, 1), (nan, 1), (nan, 1), (nan, 1), (nan, 1), (nan, 1), (nan, 1), (nan, 1), (nan, 1), (nan, 1), (nan, 1), (nan, 1), (nan, 1), (nan, 1), (nan, 1), (nan, 1), (nan, 1), (nan, 1), (nan, 1), (nan, 1), (nan, 1), (nan, 1), (nan, 1), (nan, 1), (nan, 1), (nan, 1), (nan, 1), (nan, 1), (nan, 1), (nan, 1), (nan, 1), (nan, 1), (nan, 1), (nan, 1), (nan, 1), (nan, 1), (nan, 1), (nan, 1), (nan, 1), (nan, 1), (nan, 1), (nan, 1), (nan, 1), (nan, 1), (nan, 1), (nan, 1), (nan, 1), (nan, 1), (nan, 1), (nan, 1), (nan, 1), (nan, 1), (nan, 1), (nan, 1), (nan, 1), (nan, 1), (nan, 1), (nan, 1), (nan, 1), (nan, 1), (nan, 1), (nan, 1), (nan, 1), (nan, 1), (nan, 1), (nan, 1), (nan, 1), (nan, 1), (nan, 1), (nan, 1), (nan, 1), (nan, 1), (nan, 1), (nan, 1), (nan, 1), (nan, 1), (nan, 1), (nan, 1), (nan, 1), (nan, 1), (nan, 1), (nan, 1), (nan, 1), (nan, 1), (nan, 1), (nan, 1), (nan, 1), (nan, 1), (nan, 1), (nan, 1), (nan, 1), (nan, 1), (nan, 1), (nan, 1), (nan, 1), (nan, 1), (nan, 1), (nan, 1), (nan, 1), (nan, 1), (nan, 1), (nan, 1), (nan, 1), (nan, 1), (nan, 1), (nan, 1), (nan, 1), (nan, 1), (nan, 1), (nan, 1), (nan, 1), (nan, 1), (nan, 1), (nan, 1), (nan, 1), (nan, 1), (nan, 1), (nan, 1), (nan, 1), (nan, 1), (nan, 1), (nan, 1), (nan, 1), (nan, 1), (nan, 1), (nan, 1), (nan, 1), (nan, 1), (nan, 1), (nan, 1), (nan, 1), (nan, 1), (nan, 1), (nan, 1), (nan, 1), (nan, 1), (nan, 1), (nan, 1), (nan, 1), (nan, 1), (nan, 1), (nan, 1), (nan, 1), (nan, 1), (nan, 1), (nan, 1), (nan, 1), (nan, 1), (nan, 1), (nan, 1), (nan, 1), (nan, 1), (nan, 1), (nan, 1), (nan, 1), (nan, 1), (nan, 1), (nan, 1), (nan, 1), (nan, 1), (nan, 1), (nan, 1), (nan, 1), (nan, 1), (nan, 1), (nan, 1), (nan, 1), (nan, 1), (nan, 1), (nan, 1), (nan, 1), (nan, 1), (nan, 1), (nan, 1), (nan, 1), (nan, 1), (nan, 1), (nan, 1), (nan, 1), (nan, 1), (nan, 1), (nan, 1), (nan, 1), (nan, 1), (nan, 1), (nan, 1), (nan, 1), (nan, 1), (nan, 1), (nan, 1), (nan, 1), (nan, 1), (nan, 1), (nan, 1), (nan, 1), (nan, 1), (nan, 1), (nan, 1), (nan, 1), (nan, 1), (nan, 1), (nan, 1), (nan, 1), (nan, 1), (nan, 1), (nan, 1), (nan, 1), (nan, 1), (nan, 1), (nan, 1), (nan, 1), (nan, 1), (nan, 1), (nan, 1), (nan, 1), (nan, 1), (nan, 1), (nan, 1), (nan, 1), (nan, 1), (nan, 1), (nan, 1), (nan, 1), (nan, 1), (nan, 1), (nan, 1), (nan, 1), (nan, 1), (nan, 1), (nan, 1), (nan, 1), (nan, 1), (nan, 1), (nan, 1), (nan, 1), (nan, 1), (nan, 1), (nan, 1), (nan, 1), (nan, 1), (nan, 1), (nan, 1), (nan, 1), (nan, 1), (nan, 1), (nan, 1), (nan, 1), (nan, 1), (nan, 1), (nan, 1), (nan, 1), (nan, 1), (nan, 1), (nan, 1), (nan, 1), (nan, 1), (nan, 1), (nan, 1), (nan, 1), (nan, 1), (nan, 1), (nan, 1), (nan, 1), (nan, 1), (nan, 1), (nan, 1), (nan, 1), (nan, 1), (nan, 1), (nan, 1), (nan, 1), (nan, 1), (nan, 1), (nan, 1), (nan, 1), (nan, 1), (nan, 1), (nan, 1), (nan, 1), (nan, 1), (nan, 1), (nan, 1), (nan, 1), (nan, 1), (nan, 1), (nan, 1), (nan, 1), (nan, 1), (nan, 1), (nan, 1), (nan, 1), (nan, 1), (nan, 1), (nan, 1), (nan, 1), (nan, 1), (nan, 1), (nan, 1), (nan, 1), (nan, 1), (nan, 1), (nan, 1), (nan, 1), (nan, 1), (nan, 1), (nan, 1), (nan, 1), (nan, 1), (nan, 1), (nan, 1), (nan, 1), (nan, 1), (nan, 1), (nan, 1), (nan, 1), (nan, 1), (nan, 1), (nan, 1), (nan, 1), (nan, 1), (nan, 1), (nan, 1), (nan, 1), (nan, 1), (nan, 1), (nan, 1), (nan, 1), (nan, 1), (nan, 1), (nan, 1), (nan, 1), (nan, 1), (nan, 1), (nan, 1), (nan, 1), (nan, 1), (nan, 1), (nan, 1), (nan, 1), (nan, 1), (nan, 1), (nan, 1), (nan, 1), (nan, 1), (nan, 1), (nan, 1), (nan, 1), (nan, 1), (nan, 1), (nan, 1), (nan, 1), (nan, 1), (nan, 1), (nan, 1), (nan, 1), (nan, 1), (nan, 1), (nan, 1), (nan, 1), (nan, 1), (nan, 1), (nan, 1), (nan, 1), (nan, 1), (nan, 1), (nan, 1), (nan, 1), (nan, 1), (nan, 1), (nan, 1), (nan, 1), (nan, 1), (nan, 1), (nan, 1), (nan, 1), (nan, 1), (nan, 1), (nan, 1), (nan, 1), (nan, 1), (nan, 1), (nan, 1), (nan, 1), (nan, 1), (nan, 1), (nan, 1), (nan, 1), (nan, 1), (nan, 1), (nan, 1), (nan, 1), (nan, 1), (nan, 1), (nan, 1), (nan, 1), (nan, 1), (nan, 1), (nan, 1), (nan, 1), (nan, 1), (nan, 1), (nan, 1), (nan, 1), (nan, 1), (nan, 1), (nan, 1), (nan, 1), (nan, 1), (nan, 1), (nan, 1), (nan, 1), (nan, 1), (nan, 1), (nan, 1), (nan, 1), (nan, 1), (nan, 1), (nan, 1), (nan, 1), (nan, 1), (nan, 1), (nan, 1), (nan, 1), (nan, 1), (nan, 1), (nan, 1), (nan, 1), (nan, 1), (nan, 1), (nan, 1), (nan, 1), (nan, 1), (nan, 1), (nan, 1), (nan, 1), (nan, 1), (nan, 1), (nan, 1), (nan, 1), (nan, 1), (nan, 1), (nan, 1), (nan, 1), (nan, 1), (nan, 1), (nan, 1), (nan, 1), (nan, 1), (nan, 1), (nan, 1), (nan, 1), (nan, 1), (nan, 1), (nan, 1), (nan, 1), (nan, 1), (nan, 1), (nan, 1), (nan, 1), (nan, 1), (nan, 1), (nan, 1), (nan, 1), (nan, 1), (nan, 1), (nan, 1), (nan, 1), (nan, 1), (nan, 1), (nan, 1), (nan, 1), (nan, 1), (nan, 1), (nan, 1), (nan, 1), (nan, 1), (nan, 1), (nan, 1), (nan, 1), (nan, 1), (nan, 1), (nan, 1), (nan, 1), (nan, 1), (nan, 1), (nan, 1), (nan, 1), (nan, 1), (nan, 1), (nan, 1), (nan, 1), (nan, 1), (nan, 1), (nan, 1), (nan, 1), (nan, 1), (nan, 1), (nan, 1), (nan, 1), (nan, 1), (nan, 1), (nan, 1), (nan, 1), (nan, 1), (nan, 1), (nan, 1), (nan, 1), (nan, 1), (nan, 1), (nan, 1), (nan, 1), (nan, 1), (nan, 1), (nan, 1), (nan, 1), (nan, 1), (nan, 1), (nan, 1), (nan, 1), (nan, 1), (nan, 1), (nan, 1), (nan, 1), (nan, 1), (nan, 1), (nan, 1), (nan, 1), (nan, 1), (nan, 1), (nan, 1), (nan, 1), (nan, 1), (nan, 1), (nan, 1), (nan, 1), (nan, 1), (nan, 1), (nan, 1), (nan, 1), (nan, 1), (nan, 1), (nan, 1), (nan, 1), (nan, 1), (nan, 1), (nan, 1), (nan, 1), (nan, 1), (nan, 1), (nan, 1), (nan, 1), (nan, 1), (nan, 1), (nan, 1), (nan, 1), (nan, 1), (nan, 1), (nan, 1), (nan, 1), (nan, 1), (nan, 1), (nan, 1), (nan, 1), (nan, 1), (nan, 1), (nan, 1), (nan, 1), (nan, 1), (nan, 1), (nan, 1), (nan, 1), (nan, 1), (nan, 1), (nan, 1), (nan, 1), (nan, 1), (nan, 1), (nan, 1), (nan, 1), (nan, 1), (nan, 1), (nan, 1), (nan, 1), (nan, 1), (nan, 1), (nan, 1), (nan, 1), (nan, 1), (nan, 1), (nan, 1), (nan, 1), (nan, 1), (nan, 1), (nan, 1), (nan, 1), (nan, 1), (nan, 1), (nan, 1), (nan, 1), (nan, 1), (nan, 1), (nan, 1), (nan, 1), (nan, 1), (nan, 1), (nan, 1), (nan, 1), (nan, 1), (nan, 1), (nan, 1), (nan, 1), (nan, 1), (nan, 1), (nan, 1), (nan, 1), (nan, 1), (nan, 1), (nan, 1), (nan, 1), (nan, 1), (nan, 1), (nan, 1), (nan, 1), (nan, 1), (nan, 1), (nan, 1), (nan, 1), (nan, 1), (nan, 1), (nan, 1), (nan, 1), (nan, 1), (nan, 1), (nan, 1), (nan, 1), (nan, 1), (nan, 1), (nan, 1), (nan, 1), (nan, 1), (nan, 1), (nan, 1), (nan, 1), (nan, 1), (nan, 1), (nan, 1), (nan, 1), (nan, 1), (nan, 1), (nan, 1), (nan, 1), (nan, 1), (nan, 1), (nan, 1), (nan, 1), (nan, 1), (nan, 1), (nan, 1), (nan, 1), (nan, 1), (nan, 1), (nan, 1), (nan, 1), (nan, 1), (nan, 1), (nan, 1), (nan, 1), (nan, 1), (nan, 1), (nan, 1), (nan, 1), (nan, 1), (nan, 1), (nan, 1), (nan, 1), (nan, 1), (nan, 1), (nan, 1), (nan, 1), (nan, 1), (nan, 1), (nan, 1), (nan, 1), (nan, 1), (nan, 1), (nan, 1), (nan, 1), (nan, 1), (nan, 1), (nan, 1), (nan, 1), (nan, 1), (nan, 1), (nan, 1), (nan, 1), (nan, 1), (nan, 1), (nan, 1), (nan, 1), (nan, 1), (nan, 1), (nan, 1), (nan, 1), (nan, 1), (nan, 1), (nan, 1), (nan, 1), (nan, 1), (nan, 1), (nan, 1), (nan, 1), (nan, 1), (nan, 1), (nan, 1), (nan, 1), (nan, 1), (nan, 1), (nan, 1), (nan, 1), (nan, 1), (nan, 1), (nan, 1), (nan, 1), (nan, 1), (nan, 1), (nan, 1), (nan, 1), (nan, 1), (nan, 1), (nan, 1), (nan, 1), (nan, 1), (nan, 1), (nan, 1), (nan, 1), (nan, 1), (nan, 1), (nan, 1), (nan, 1), (nan, 1), (nan, 1), (nan, 1), (nan, 1), (nan, 1), (nan, 1), (nan, 1), (nan, 1), (nan, 1), (nan, 1), (nan, 1), (nan, 1), (nan, 1), (nan, 1), (nan, 1), (nan, 1), (nan, 1), (nan, 1), (nan, 1), (nan, 1), (nan, 1), (nan, 1), (nan, 1), (nan, 1), (nan, 1), (nan, 1), (nan, 1), (nan, 1), (nan, 1), (nan, 1), (nan, 1), (nan, 1), (nan, 1), (nan, 1), (nan, 1), (nan, 1), (nan, 1), (nan, 1), (nan, 1), (nan, 1), (nan, 1), (nan, 1), (nan, 1), (nan, 1), (nan, 1), (nan, 1), (nan, 1), (nan, 1), (nan, 1), (nan, 1), (nan, 1), (nan, 1), (nan, 1), (nan, 1), (nan, 1), (nan, 1), (nan, 1), (nan, 1), (nan, 1), (nan, 1), (nan, 1), (nan, 1), (nan, 1), (nan, 1), (nan, 1), (nan, 1), (nan, 1), (nan, 1), (nan, 1), (nan, 1), (nan, 1), (nan, 1), (nan, 1), (nan, 1), (nan, 1), (nan, 1), (nan, 1), (nan, 1), (nan, 1), (nan, 1), (nan, 1), (nan, 1), (nan, 1), (nan, 1), (nan, 1), (nan, 1), (nan, 1), (nan, 1), (nan, 1), (nan, 1), (nan, 1), (nan, 1), (nan, 1), (nan, 1), (nan, 1), (nan, 1), (nan, 1), (nan, 1), (nan, 1), (nan, 1), (nan, 1), (nan, 1), (nan, 1), (nan, 1), (nan, 1), (nan, 1), (nan, 1), (nan, 1), (nan, 1), (nan, 1), (nan, 1), (nan, 1), (nan, 1), (nan, 1), (nan, 1), (nan, 1), (nan, 1), (nan, 1), (nan, 1), (nan, 1), (nan, 1), (nan, 1), (nan, 1), (nan, 1), (nan, 1), (nan, 1), (nan, 1), (nan, 1), (nan, 1), (nan, 1), (nan, 1), (nan, 1), (nan, 1), (nan, 1), (nan, 1), (nan, 1), (nan, 1), (nan, 1), (nan, 1), (nan, 1), (nan, 1), (nan, 1), (nan, 1), (nan, 1), (nan, 1), (nan, 1), (nan, 1), (nan, 1), (nan, 1), (nan, 1), (nan, 1), (nan, 1), (nan, 1), (nan, 1), (nan, 1), (nan, 1), (nan, 1), (nan, 1), (nan, 1), (nan, 1), (nan, 1), (nan, 1), (nan, 1), (nan, 1), (nan, 1), (nan, 1), (nan, 1), (nan, 1), (nan, 1), (nan, 1), (nan, 1), (nan, 1), (nan, 1), (nan, 1), (nan, 1), (nan, 1), (nan, 1), (nan, 1), (nan, 1), (nan, 1), (nan, 1), (nan, 1), (nan, 1), (nan, 1), (nan, 1), (nan, 1), (nan, 1), (nan, 1), (nan, 1), (nan, 1), (nan, 1), (nan, 1), (nan, 1), (nan, 1), (nan, 1), (nan, 1), (nan, 1), (nan, 1), (nan, 1), (nan, 1), (nan, 1), (nan, 1), (nan, 1), (nan, 1), (nan, 1), (nan, 1), (nan, 1), (nan, 1), (nan, 1), (nan, 1), (nan, 1), (nan, 1), (nan, 1), (nan, 1), (nan, 1), (nan, 1), (nan, 1), (nan, 1), (nan, 1), (nan, 1), (nan, 1), (nan, 1), (nan, 1), (nan, 1), (nan, 1), (nan, 1), (nan, 1), (nan, 1), (nan, 1), (nan, 1), (nan, 1), (nan, 1), (nan, 1), (nan, 1), (nan, 1), (nan, 1), (nan, 1), (nan, 1), (nan, 1), (nan, 1), (nan, 1), (nan, 1), (nan, 1), (nan, 1), (nan, 1), (nan, 1), (nan, 1), (nan, 1), (nan, 1), (nan, 1), (nan, 1), (nan, 1), (nan, 1), (nan, 1), (nan, 1), (nan, 1), (nan, 1), (nan, 1), (nan, 1), (nan, 1), (nan, 1), (nan, 1), (nan, 1), (nan, 1), (nan, 1), (nan, 1), (nan, 1), (nan, 1), (nan, 1), (nan, 1), (nan, 1), (nan, 1), (nan, 1), (nan, 1), (nan, 1), (nan, 1), (nan, 1), (nan, 1), (nan, 1), (nan, 1), (nan, 1), (nan, 1), (nan, 1), (nan, 1), (nan, 1), (nan, 1), (nan, 1), (nan, 1), (nan, 1), (nan, 1), (nan, 1), (nan, 1), (nan, 1), (nan, 1), (nan, 1), (nan, 1), (nan, 1), (nan, 1), (nan, 1), (nan, 1), (nan, 1), (nan, 1), (nan, 1), (nan, 1), (nan, 1), (nan, 1), (nan, 1), (nan, 1), (nan, 1), (nan, 1), (nan, 1), (nan, 1), (nan, 1), (nan, 1), (nan, 1), (nan, 1), (nan, 1), (nan, 1), (nan, 1), (nan, 1), (nan, 1), (nan, 1), (nan, 1), (nan, 1), (nan, 1), (nan, 1), (nan, 1), (nan, 1), (nan, 1), (nan, 1), (nan, 1), (nan, 1), (nan, 1), (nan, 1), (nan, 1), (nan, 1), (nan, 1), (nan, 1), (nan, 1), (nan, 1), (nan, 1), (nan, 1), (nan, 1), (nan, 1), (nan, 1), (nan, 1), (nan, 1), (nan, 1), (nan, 1), (nan, 1), (nan, 1), (nan, 1), (nan, 1), (nan, 1), (nan, 1), (nan, 1), (nan, 1), (nan, 1), (nan, 1), (nan, 1), (nan, 1), (nan, 1), (nan, 1), (nan, 1), (nan, 1), (nan, 1), (nan, 1), (nan, 1), (nan, 1), (nan, 1), (nan, 1), (nan, 1), (nan, 1), (nan, 1), (nan, 1), (nan, 1), (nan, 1), (nan, 1), (nan, 1), (nan, 1), (nan, 1), (nan, 1), (nan, 1), (nan, 1), (nan, 1), (nan, 1), (nan, 1), (nan, 1), (nan, 1), (nan, 1), (nan, 1), (nan, 1), (nan, 1), (nan, 1), (nan, 1), (nan, 1), (nan, 1), (nan, 1), (nan, 1), (nan, 1), (nan, 1), (nan, 1), (nan, 1), (nan, 1), (nan, 1), (nan, 1), (nan, 1), (nan, 1), (nan, 1), (nan, 1), (nan, 1), (nan, 1), (nan, 1), (nan, 1), (nan, 1), (nan, 1), (nan, 1), (nan, 1), (nan, 1), (nan, 1), (nan, 1), (nan, 1), (nan, 1), (nan, 1), (nan, 1), (nan, 1), (nan, 1), (nan, 1), (nan, 1), (nan, 1), (nan, 1), (nan, 1), (nan, 1), (nan, 1), (nan, 1), (nan, 1), (nan, 1), (nan, 1), (nan, 1), (nan, 1), (nan, 1), (nan, 1), (nan, 1), (nan, 1), (nan, 1), (nan, 1), (nan, 1), (nan, 1), (nan, 1), (nan, 1), (nan, 1), (nan, 1), (nan, 1), (nan, 1), (nan, 1), (nan, 1), (nan, 1), (nan, 1), (nan, 1), (nan, 1), (nan, 1), (nan, 1), (nan, 1), (nan, 1), (nan, 1), (nan, 1), (nan, 1), (nan, 1), (nan, 1), (nan, 1), (nan, 1), (nan, 1), (nan, 1), (nan, 1), (nan, 1), (nan, 1), (nan, 1), (nan, 1), (nan, 1), (nan, 1), (nan, 1), (nan, 1), (nan, 1), (nan, 1), (nan, 1), (nan, 1), (nan, 1), (nan, 1), (nan, 1), (nan, 1), (nan, 1), (nan, 1), (nan, 1), (nan, 1), (nan, 1), (nan, 1), (nan, 1), (nan, 1), (nan, 1), (nan, 1), (nan, 1), (nan, 1), (nan, 1), (nan, 1), (nan, 1), (nan, 1), (nan, 1), (nan, 1), (nan, 1), (nan, 1), (nan, 1), (nan, 1), (nan, 1), (nan, 1), (nan, 1), (nan, 1), (nan, 1), (nan, 1), (nan, 1), (nan, 1), (nan, 1), (nan, 1), (nan, 1), (nan, 1), (nan, 1), (nan, 1), (nan, 1), (nan, 1), (nan, 1), (nan, 1), (nan, 1), (nan, 1), (nan, 1), (nan, 1), (nan, 1), (nan, 1), (nan, 1), (nan, 1), (nan, 1), (nan, 1), (nan, 1), (nan, 1), (nan, 1), (nan, 1), (nan, 1), (nan, 1), (nan, 1), (nan, 1), (nan, 1), (nan, 1), (nan, 1), (nan, 1), (nan, 1), (nan, 1), (nan, 1), (nan, 1), (nan, 1), (nan, 1), (nan, 1), (nan, 1), (nan, 1), (nan, 1), (nan, 1), (nan, 1), (nan, 1), (nan, 1), (nan, 1), (nan, 1), (nan, 1), (nan, 1), (nan, 1), (nan, 1), (nan, 1), (nan, 1), (nan, 1), (nan, 1), (nan, 1), (nan, 1), (nan, 1), (nan, 1), (nan, 1), (nan, 1), (nan, 1), (nan, 1), (nan, 1), (nan, 1), (nan, 1), (nan, 1), (nan, 1), (nan, 1), (nan, 1), (nan, 1), (nan, 1), (nan, 1), (nan, 1), (nan, 1), (nan, 1), (nan, 1), (nan, 1), (nan, 1), (nan, 1), (nan, 1), (nan, 1), (nan, 1), (nan, 1), (nan, 1), (nan, 1), (nan, 1), (nan, 1), (nan, 1), (nan, 1), (nan, 1), (nan, 1), (nan, 1), (nan, 1), (nan, 1), (nan, 1), (nan, 1), (nan, 1), (nan, 1), (nan, 1), (nan, 1), (nan, 1), (nan, 1), (nan, 1), (nan, 1), (nan, 1), (nan, 1), (nan, 1), (nan, 1), (nan, 1), (nan, 1), (nan, 1), (nan, 1), (nan, 1), (nan, 1), (nan, 1), (nan, 1), (nan, 1), (nan, 1), (nan, 1), (nan, 1), (nan, 1), (nan, 1), (nan, 1), (nan, 1), (nan, 1), (nan, 1), (nan, 1), (nan, 1), (nan, 1), (nan, 1), (nan, 1), (nan, 1), (nan, 1), (nan, 1), (nan, 1), (nan, 1), (nan, 1), (nan, 1), (nan, 1), (nan, 1), (nan, 1), (nan, 1), (nan, 1), (nan, 1), (nan, 1), (nan, 1), (nan, 1), (nan, 1), (nan, 1), (nan, 1), (nan, 1), (nan, 1), (nan, 1), (nan, 1), (nan, 1), (nan, 1), (nan, 1), (nan, 1), (nan, 1), (nan, 1), (nan, 1), (nan, 1), (nan, 1), (nan, 1), (nan, 1), (nan, 1), (nan, 1), (nan, 1), (nan, 1), (nan, 1), (nan, 1), (nan, 1), (nan, 1), (nan, 1), (nan, 1), (nan, 1), (nan, 1), (nan, 1), (nan, 1), (nan, 1), (nan, 1), (nan, 1), (nan, 1), (nan, 1), (nan, 1), (nan, 1), (nan, 1), (nan, 1), (nan, 1), (nan, 1), (nan, 1), (nan, 1), (nan, 1), (nan, 1), (nan, 1), (nan, 1), (nan, 1), (nan, 1), (nan, 1), (nan, 1), (nan, 1), (nan, 1), (nan, 1), (nan, 1), (nan, 1), (nan, 1), (nan, 1), (nan, 1), (nan, 1), (nan, 1), (nan, 1), (nan, 1), (nan, 1), (nan, 1), (nan, 1), (nan, 1), (nan, 1), (nan, 1), (nan, 1), (nan, 1), (nan, 1), (nan, 1), (nan, 1), (nan, 1), (nan, 1), (nan, 1), (nan, 1), (nan, 1), (nan, 1), (nan, 1), (nan, 1), (nan, 1), (nan, 1), (nan, 1), (nan, 1), (nan, 1), (nan, 1), (nan, 1), (nan, 1), (nan, 1), (nan, 1), (nan, 1), (nan, 1), (nan, 1), (nan, 1), (nan, 1), (nan, 1), (nan, 1), (nan, 1), (nan, 1), (nan, 1), (nan, 1), (nan, 1), (nan, 1), (nan, 1), (nan, 1), (nan, 1), (nan, 1), (nan, 1), (nan, 1), (nan, 1), (nan, 1), (nan, 1), (nan, 1), (nan, 1), (nan, 1), (nan, 1), (nan, 1), (nan, 1), (nan, 1), (nan, 1), (nan, 1), (nan, 1), (nan, 1), (nan, 1), (nan, 1), (nan, 1), (nan, 1), (nan, 1), (nan, 1), (nan, 1), (nan, 1), (nan, 1), (nan, 1), (nan, 1), (nan, 1), (nan, 1), (nan, 1), (nan, 1), (nan, 1), (nan, 1), (nan, 1), (nan, 1), (nan, 1), (nan, 1), (nan, 1), (nan, 1), (nan, 1), (nan, 1), (nan, 1), (nan, 1), (nan, 1), (nan, 1), (nan, 1), (nan, 1), (nan, 1), (nan, 1), (nan, 1), (nan, 1), (nan, 1), (nan, 1), (nan, 1), (nan, 1), (nan, 1), (nan, 1), (nan, 1), (nan, 1), (nan, 1), (nan, 1), (nan, 1), (nan, 1), (nan, 1), (nan, 1), (nan, 1), (nan, 1), (nan, 1), (nan, 1), (nan, 1), (nan, 1), (nan, 1), (nan, 1), (nan, 1), (nan, 1), (nan, 1), (nan, 1), (nan, 1), (nan, 1), (nan, 1), (nan, 1), (nan, 1), (nan, 1), (nan, 1), (nan, 1), (nan, 1), (nan, 1), (nan, 1), (nan, 1), (nan, 1), (nan, 1), (nan, 1), (nan, 1), (nan, 1), (nan, 1), (nan, 1), (nan, 1), (nan, 1), (nan, 1), (nan, 1), (nan, 1), (nan, 1), (nan, 1), (nan, 1), (nan, 1), (nan, 1), (nan, 1), (nan, 1), (nan, 1), (nan, 1), (nan, 1), (nan, 1), (nan, 1), (nan, 1), (nan, 1), (nan, 1), (nan, 1), (nan, 1), (nan, 1), (nan, 1), (nan, 1), (nan, 1), (nan, 1), (nan, 1), (nan, 1), (nan, 1), (nan, 1), (nan, 1), (nan, 1), (nan, 1), (nan, 1), (nan, 1), (nan, 1), (nan, 1), (nan, 1), (nan, 1), (nan, 1), (nan, 1), (nan, 1), (nan, 1), (nan, 1), (nan, 1), (nan, 1), (nan, 1), (nan, 1), (nan, 1), (nan, 1), (nan, 1), (nan, 1), (nan, 1), (nan, 1), (nan, 1), (nan, 1), (nan, 1), (nan, 1), (nan, 1), (nan, 1), (nan, 1), (nan, 1), (nan, 1), (nan, 1), (nan, 1), (nan, 1), (nan, 1), (nan, 1), (nan, 1), (nan, 1), (nan, 1), (nan, 1), (nan, 1), (nan, 1), (nan, 1), (nan, 1), (nan, 1), (nan, 1), (nan, 1), (nan, 1), (nan, 1), (nan, 1), (nan, 1), (nan, 1), (nan, 1), (nan, 1), (nan, 1), (nan, 1), (nan, 1), (nan, 1), (nan, 1), (nan, 1), (nan, 1), (nan, 1), (nan, 1), (nan, 1), (nan, 1), (nan, 1), (nan, 1), (nan, 1), (nan, 1), (nan, 1), (nan, 1), (nan, 1), (nan, 1), (nan, 1), (nan, 1), (nan, 1), (nan, 1), (nan, 1), (nan, 1), (nan, 1), (nan, 1), (nan, 1), (nan, 1), (nan, 1), (nan, 1), (nan, 1), (nan, 1), (nan, 1), (nan, 1), (nan, 1), (nan, 1), (nan, 1), (nan, 1), (nan, 1), (nan, 1), (nan, 1), (nan, 1), (nan, 1), (nan, 1), (nan, 1), (nan, 1), (nan, 1), (nan, 1), (nan, 1), (nan, 1), (nan, 1), (nan, 1), (nan, 1), (nan, 1), (nan, 1), (nan, 1), (nan, 1), (nan, 1), (nan, 1), (nan, 1), (nan, 1), (nan, 1), (nan, 1), (nan, 1), (nan, 1), (nan, 1), (nan, 1), (nan, 1), (nan, 1), (nan, 1), (nan, 1), (nan, 1), (nan, 1), (nan, 1), (nan, 1), (nan, 1), (nan, 1), (nan, 1), (nan, 1), (nan, 1), (nan, 1), (nan, 1), (nan, 1), (nan, 1), (nan, 1), (nan, 1), (nan, 1), (nan, 1), (nan, 1), (nan, 1), (nan, 1), (nan, 1), (nan, 1), (nan, 1), (nan, 1), (nan, 1), (nan, 1), (nan, 1), (nan, 1), (nan, 1), (nan, 1), (nan, 1), (nan, 1), (nan, 1), (nan, 1), (nan, 1), (nan, 1), (nan, 1), (nan, 1), (nan, 1), (nan, 1), (nan, 1), (nan, 1), (nan, 1), (nan, 1), (nan, 1), (nan, 1), (nan, 1), (nan, 1), (nan, 1), (nan, 1), (nan, 1), (nan, 1), (nan, 1), (nan, 1), (nan, 1), (nan, 1), (nan, 1), (nan, 1), (nan, 1), (nan, 1), (nan, 1), (nan, 1), (nan, 1), (nan, 1), (nan, 1), (nan, 1), (nan, 1), (nan, 1), (nan, 1), (nan, 1), (nan, 1), (nan, 1), (nan, 1), (nan, 1), (nan, 1), (nan, 1), (nan, 1), (nan, 1), (nan, 1), (nan, 1), (nan, 1), (nan, 1), (nan, 1), (nan, 1), (nan, 1), (nan, 1), (nan, 1), (nan, 1), (nan, 1), (nan, 1), (nan, 1), (nan, 1), (nan, 1), (nan, 1), (nan, 1), (nan, 1), (nan, 1), (nan, 1), (nan, 1), (nan, 1), (nan, 1), (nan, 1), (nan, 1), (nan, 1), (nan, 1), (nan, 1), (nan, 1), (nan, 1), (nan, 1), (nan, 1), (nan, 1), (nan, 1), (nan, 1), (nan, 1), (nan, 1), (nan, 1), (nan, 1), (nan, 1), (nan, 1), (nan, 1), (nan, 1), (nan, 1), (nan, 1), (nan, 1), (nan, 1), (nan, 1), (nan, 1), (nan, 1), (nan, 1), (nan, 1), (nan, 1), (nan, 1), (nan, 1), (nan, 1), (nan, 1), (nan, 1), (nan, 1), (nan, 1), (nan, 1), (nan, 1), (nan, 1), (nan, 1), (nan, 1), (nan, 1), (nan, 1), (nan, 1), (nan, 1), (nan, 1), (nan, 1), (nan, 1), (nan, 1), (nan, 1), (nan, 1), (nan, 1), (nan, 1), (nan, 1), (nan, 1), (nan, 1), (nan, 1), (nan, 1), (nan, 1), (nan, 1), (nan, 1), (nan, 1), (nan, 1), (nan, 1), (nan, 1), (nan, 1), (nan, 1), (nan, 1), (nan, 1), (nan, 1), (nan, 1), (nan, 1), (nan, 1), (nan, 1), (nan, 1), (nan, 1), (nan, 1), (nan, 1), (nan, 1), (nan, 1), (nan, 1), (nan, 1), (nan, 1), (nan, 1), (nan, 1), (nan, 1), (nan, 1), (nan, 1), (nan, 1), (nan, 1), (nan, 1), (nan, 1), (nan, 1), (nan, 1), (nan, 1), (nan, 1), (nan, 1), (nan, 1), (nan, 1), (nan, 1), (nan, 1), (nan, 1), (nan, 1), (nan, 1), (nan, 1), (nan, 1), (nan, 1), (nan, 1), (nan, 1), (nan, 1), (nan, 1), (nan, 1), (nan, 1), (nan, 1), (nan, 1), (nan, 1), (nan, 1), (nan, 1), (nan, 1), (nan, 1), (nan, 1), (nan, 1), (nan, 1), (nan, 1), (nan, 1), (nan, 1), (nan, 1), (nan, 1), (nan, 1), (nan, 1), (nan, 1), (nan, 1), (nan, 1), (nan, 1), (nan, 1), (nan, 1), (nan, 1), (nan, 1), (nan, 1), (nan, 1), (nan, 1), (nan, 1), (nan, 1), (nan, 1), (nan, 1), (nan, 1), (nan, 1), (nan, 1), (nan, 1), (nan, 1), (nan, 1), (nan, 1), (nan, 1), (nan, 1), (nan, 1), (nan, 1), (nan, 1), (nan, 1), (nan, 1), (nan, 1), (nan, 1), (nan, 1), (nan, 1), (nan, 1), (nan, 1), (nan, 1), (nan, 1), (nan, 1), (nan, 1), (nan, 1), (nan, 1), (nan, 1), (nan, 1), (nan, 1), (nan, 1), (nan, 1), (nan, 1), (nan, 1), (nan, 1), (nan, 1), (nan, 1), (nan, 1), (nan, 1), (nan, 1), (nan, 1), (nan, 1), (nan, 1), (nan, 1), (nan, 1), (nan, 1), (nan, 1), (nan, 1), (nan, 1), (nan, 1), (nan, 1), (nan, 1), (nan, 1), (nan, 1), (nan, 1), (nan, 1), (nan, 1), (nan, 1), (nan, 1), (nan, 1), (nan, 1), (nan, 1), (nan, 1), (nan, 1), (nan, 1), (nan, 1), (nan, 1), (nan, 1), (nan, 1), (nan, 1), (nan, 1), (nan, 1), (nan, 1), (nan, 1), (nan, 1), (nan, 1), (nan, 1), (nan, 1), (nan, 1), (nan, 1), (nan, 1), (nan, 1), (nan, 1), (nan, 1), (nan, 1), (nan, 1), (nan, 1), (nan, 1), (nan, 1), (nan, 1), (nan, 1), (nan, 1), (nan, 1), (nan, 1), (nan, 1), (nan, 1), (nan, 1), (nan, 1), (nan, 1), (nan, 1), (nan, 1), (nan, 1), (nan, 1), (nan, 1), (nan, 1), (nan, 1), (nan, 1), (nan, 1), (nan, 1), (nan, 1), (nan, 1), (nan, 1), (nan, 1), (nan, 1), (nan, 1), (nan, 1), (nan, 1), (nan, 1), (nan, 1), (nan, 1), (nan, 1), (nan, 1), (nan, 1), (nan, 1), (nan, 1), (nan, 1), (nan, 1), (nan, 1), (nan, 1), (nan, 1), (nan, 1), (nan, 1), (nan, 1), (nan, 1), (nan, 1), (nan, 1), (nan, 1), (nan, 1), (nan, 1), (nan, 1), (nan, 1), (nan, 1), (nan, 1), (nan, 1), (nan, 1), (nan, 1), (nan, 1), (nan, 1), (nan, 1), (nan, 1), (nan, 1), (nan, 1), (nan, 1), (nan, 1), (nan, 1), (nan, 1), (nan, 1), (nan, 1), (nan, 1), (nan, 1), (nan, 1), (nan, 1), (nan, 1), (nan, 1), (nan, 1), (nan, 1), (nan, 1), (nan, 1), (nan, 1), (nan, 1), (nan, 1), (nan, 1), (nan, 1), (nan, 1), (nan, 1), (nan, 1), (nan, 1), (nan, 1), (nan, 1), (nan, 1), (nan, 1), (nan, 1), (nan, 1), (nan, 1), (nan, 1), (nan, 1), (nan, 1), (nan, 1), (nan, 1), (nan, 1), (nan, 1), (nan, 1), (nan, 1), (nan, 1), (nan, 1), (nan, 1), (nan, 1), (nan, 1), (nan, 1), (nan, 1), (nan, 1), (nan, 1), (nan, 1), (nan, 1), (nan, 1), (nan, 1), (nan, 1), (nan, 1), (nan, 1), (nan, 1), (nan, 1), (nan, 1), (nan, 1), (nan, 1), (nan, 1), (nan, 1), (nan, 1), (nan, 1), (nan, 1), (nan, 1), (nan, 1), (nan, 1), (nan, 1), (nan, 1), (nan, 1), (nan, 1), (nan, 1), (nan, 1), (nan, 1), (nan, 1), (nan, 1), (nan, 1), (nan, 1), (nan, 1), (nan, 1), (nan, 1), (nan, 1), (nan, 1), (nan, 1), (nan, 1), (nan, 1), (nan, 1), (nan, 1), (nan, 1), (nan, 1), (nan, 1), (nan, 1), (nan, 1), (nan, 1), (nan, 1), (nan, 1), (nan, 1), (nan, 1), (nan, 1), (nan, 1), (nan, 1), (nan, 1), (nan, 1), (nan, 1), (nan, 1), (nan, 1), (nan, 1), (nan, 1), (nan, 1), (nan, 1), (nan, 1), (nan, 1), (nan, 1), (nan, 1), (nan, 1), (nan, 1), (nan, 1), (nan, 1), (nan, 1), (nan, 1), (nan, 1), (nan, 1), (nan, 1), (nan, 1), (nan, 1), (nan, 1), (nan, 1), (nan, 1), (nan, 1), (nan, 1), (nan, 1), (nan, 1), (nan, 1), (nan, 1), (nan, 1), (nan, 1), (nan, 1), (nan, 1), (nan, 1), (nan, 1), (nan, 1), (nan, 1), (nan, 1), (nan, 1), (nan, 1), (nan, 1), (nan, 1), (nan, 1), (nan, 1), (nan, 1), (nan, 1), (nan, 1), (nan, 1), (nan, 1), (nan, 1), (nan, 1), (nan, 1), (nan, 1), (nan, 1), (nan, 1), (nan, 1), (nan, 1), (nan, 1), (nan, 1), (nan, 1), (nan, 1), (nan, 1), (nan, 1), (nan, 1), (nan, 1), (nan, 1), (nan, 1), (nan, 1), (nan, 1), (nan, 1), (nan, 1), (nan, 1), (nan, 1), (nan, 1), (nan, 1), (nan, 1), (nan, 1), (nan, 1), (nan, 1), (nan, 1), (nan, 1), (nan, 1), (nan, 1), (nan, 1), (nan, 1), (nan, 1), (nan, 1), (nan, 1), (nan, 1), (nan, 1), (nan, 1), (nan, 1), (nan, 1), (nan, 1), (nan, 1), (nan, 1), (nan, 1), (nan, 1), (nan, 1), (nan, 1), (nan, 1), (nan, 1), (nan, 1), (nan, 1), (nan, 1), (nan, 1), (nan, 1), (nan, 1), (nan, 1), (nan, 1), (nan, 1), (nan, 1), (nan, 1), (nan, 1), (nan, 1), (nan, 1), (nan, 1), (nan, 1), (nan, 1), (nan, 1), (nan, 1), (nan, 1), (nan, 1), (nan, 1), (nan, 1), (nan, 1), (nan, 1), (nan, 1), (nan, 1), (nan, 1), (nan, 1), (nan, 1), (nan, 1), (nan, 1), (nan, 1), (nan, 1), (nan, 1), (nan, 1), (nan, 1), (nan, 1), (nan, 1), (nan, 1), (nan, 1), (nan, 1), (nan, 1), (nan, 1), (nan, 1), (nan, 1), (nan, 1), (nan, 1), (nan, 1), (nan, 1), (nan, 1), (nan, 1), (nan, 1), (nan, 1), (nan, 1), (nan, 1), (nan, 1), (nan, 1), (nan, 1), (nan, 1), (nan, 1), (nan, 1), (nan, 1), (nan, 1), (nan, 1), (nan, 1), (nan, 1), (nan, 1), (nan, 1), (nan, 1), (nan, 1), (nan, 1), (nan, 1), (nan, 1), (nan, 1), (nan, 1), (nan, 1), (nan, 1), (nan, 1), (nan, 1), (nan, 1), (nan, 1), (nan, 1), (nan, 1), (nan, 1), (nan, 1), (nan, 1), (nan, 1), (nan, 1), (nan, 1), (nan, 1), (nan, 1), (nan, 1), (nan, 1), (nan, 1), (nan, 1), (nan, 1), (nan, 1), (nan, 1), (nan, 1), (nan, 1), (nan, 1), (nan, 1), (nan, 1), (nan, 1), (nan, 1), (nan, 1), (nan, 1), (nan, 1), (nan, 1), (nan, 1), (nan, 1), (nan, 1), (nan, 1), (nan, 1), (nan, 1), (nan, 1), (nan, 1), (nan, 1), (nan, 1), (nan, 1), (nan, 1), (nan, 1), (nan, 1), (nan, 1), (nan, 1), (nan, 1), (nan, 1), (nan, 1), (nan, 1), (nan, 1), (nan, 1), (nan, 1), (nan, 1), (nan, 1), (nan, 1), (nan, 1), (nan, 1), (nan, 1), (nan, 1), (nan, 1), (nan, 1), (nan, 1), (nan, 1), (nan, 1), (nan, 1), (nan, 1), (nan, 1), (nan, 1), (nan, 1), (nan, 1), (nan, 1), (nan, 1), (nan, 1), (nan, 1), (nan, 1), (nan, 1), (nan, 1), (nan, 1), (nan, 1), (nan, 1), (nan, 1), (nan, 1), (nan, 1), (nan, 1), (nan, 1), (nan, 1), (nan, 1), (nan, 1), (nan, 1), (nan, 1), (nan, 1), (nan, 1), (nan, 1), (nan, 1), (nan, 1), (nan, 1), (nan, 1), (nan, 1), (nan, 1), (nan, 1), (nan, 1), (nan, 1), (nan, 1), (nan, 1), (nan, 1), (nan, 1), (nan, 1), (nan, 1), (nan, 1), (nan, 1), (nan, 1), (nan, 1), (nan, 1), (nan, 1), (nan, 1), (nan, 1), (nan, 1), (nan, 1), (nan, 1), (nan, 1), (nan, 1), (nan, 1), (nan, 1), (nan, 1), (nan, 1), (nan, 1), (nan, 1), (nan, 1), (nan, 1), (nan, 1), (nan, 1), (nan, 1), (nan, 1), (nan, 1), (nan, 1), (nan, 1), (nan, 1), (nan, 1), (nan, 1), (nan, 1), (nan, 1), (nan, 1), (nan, 1), (nan, 1), (nan, 1), (nan, 1), (nan, 1), (nan, 1), (nan, 1), (nan, 1), (nan, 1), (nan, 1), (nan, 1), (nan, 1), (nan, 1), (nan, 1), (nan, 1), (nan, 1), (nan, 1), (nan, 1), (nan, 1), (nan, 1), (nan, 1), (nan, 1), (nan, 1), (nan, 1), (nan, 1), (nan, 1), (nan, 1), (nan, 1), (nan, 1), (nan, 1), (nan, 1), (nan, 1), (nan, 1), (nan, 1), (nan, 1), (nan, 1), (nan, 1), (nan, 1), (nan, 1), (nan, 1), (nan, 1), (nan, 1), (nan, 1), (nan, 1), (nan, 1), (nan, 1), (nan, 1), (nan, 1), (nan, 1), (nan, 1), (nan, 1), (nan, 1), (nan, 1), (nan, 1), (nan, 1), (nan, 1), (nan, 1), (nan, 1), (nan, 1), (nan, 1), (nan, 1), (nan, 1), (nan, 1), (nan, 1), (nan, 1), (nan, 1), (nan, 1), (nan, 1), (nan, 1), (nan, 1), (nan, 1), (nan, 1), (nan, 1), (nan, 1), (nan, 1), (nan, 1), (nan, 1), (nan, 1), (nan, 1), (nan, 1), (nan, 1), (nan, 1), (nan, 1), (nan, 1), (nan, 1), (nan, 1), (nan, 1), (nan, 1), (nan, 1), (nan, 1), (nan, 1), (nan, 1), (nan, 1), (nan, 1), (nan, 1), (nan, 1), (nan, 1), (nan, 1), (nan, 1), (nan, 1), (nan, 1), (nan, 1), (nan, 1), (nan, 1), (nan, 1), (nan, 1), (nan, 1), (nan, 1), (nan, 1), (nan, 1), (nan, 1), (nan, 1), (nan, 1), (nan, 1), (nan, 1), (nan, 1), (nan, 1), (nan, 1), (nan, 1), (nan, 1), (nan, 1), (nan, 1), (nan, 1), (nan, 1), (nan, 1), (nan, 1), (nan, 1), (nan, 1), (nan, 1), (nan, 1), (nan, 1), (nan, 1), (nan, 1), (nan, 1), (nan, 1), (nan, 1), (nan, 1), (nan, 1), (nan, 1), (nan, 1), (nan, 1), (nan, 1), (nan, 1), (nan, 1), (nan, 1), (nan, 1), (nan, 1), (nan, 1), (nan, 1), (nan, 1), (nan, 1), (nan, 1), (nan, 1), (nan, 1), (nan, 1), (nan, 1), (nan, 1), (nan, 1), (nan, 1), (nan, 1), (nan, 1), (nan, 1), (nan, 1), (nan, 1), (nan, 1), (nan, 1), (nan, 1), (nan, 1), (nan, 1), (nan, 1), (nan, 1), (nan, 1), (nan, 1), (nan, 1), (nan, 1), (nan, 1), (nan, 1), (nan, 1), (nan, 1), (nan, 1), (nan, 1), (nan, 1), (nan, 1), (nan, 1), (nan, 1), (nan, 1), (nan, 1), (nan, 1), (nan, 1), (nan, 1), (nan, 1), (nan, 1), (nan, 1), (nan, 1), (nan, 1), (nan, 1), (nan, 1), (nan, 1), (nan, 1), (nan, 1), (nan, 1), (nan, 1), (nan, 1), (nan, 1), (nan, 1), (nan, 1), (nan, 1), (nan, 1), (nan, 1), (nan, 1), (nan, 1), (nan, 1), (nan, 1), (nan, 1), (nan, 1), (nan, 1), (nan, 1), (nan, 1), (nan, 1), (nan, 1), (nan, 1), (nan, 1), (nan, 1), (nan, 1), (nan, 1), (nan, 1), (nan, 1), (nan, 1), (nan, 1), (nan, 1), (nan, 1), (nan, 1), (nan, 1), (nan, 1), (nan, 1), (nan, 1), (nan, 1), (nan, 1), (nan, 1), (nan, 1), (nan, 1), (nan, 1), (nan, 1), (nan, 1), (nan, 1), (nan, 1), (nan, 1), (nan, 1), (nan, 1), (nan, 1), (nan, 1), (nan, 1), (nan, 1), (nan, 1), (nan, 1), (nan, 1), (nan, 1), (nan, 1), (nan, 1), (nan, 1), (nan, 1), (nan, 1), (nan, 1), (nan, 1), (nan, 1), (nan, 1), (nan, 1), (nan, 1), (nan, 1), (nan, 1), (nan, 1), (nan, 1), (nan, 1), (nan, 1), (nan, 1), (nan, 1), (nan, 1), (nan, 1), (nan, 1), (nan, 1), (nan, 1), (nan, 1), (nan, 1), (nan, 1), (nan, 1), (nan, 1), (nan, 1), (nan, 1), (nan, 1), (nan, 1), (nan, 1), (nan, 1), (nan, 1), (nan, 1), (nan, 1), (nan, 1), (nan, 1), (nan, 1), (nan, 1), (nan, 1), (nan, 1), (nan, 1), (nan, 1), (nan, 1), (nan, 1), (nan, 1), (nan, 1), (nan, 1), (nan, 1), (nan, 1), (nan, 1), (nan, 1), (nan, 1), (nan, 1), (nan, 1), (nan, 1), (nan, 1), (nan, 1), (nan, 1), (nan, 1), (nan, 1), (nan, 1), (nan, 1), (nan, 1), (nan, 1), (nan, 1), (nan, 1), (nan, 1), (nan, 1), (nan, 1), (nan, 1), (nan, 1), (nan, 1), (nan, 1), (nan, 1), (nan, 1), (nan, 1), (nan, 1), (nan, 1), (nan, 1), (nan, 1), (nan, 1), (nan, 1), (nan, 1), (nan, 1), (nan, 1), (nan, 1), (nan, 1), (nan, 1), (nan, 1), (nan, 1), (nan, 1), (nan, 1), (nan, 1), (nan, 1), (nan, 1), (nan, 1), (nan, 1), (nan, 1), (nan, 1), (nan, 1), (nan, 1), (nan, 1), (nan, 1), (nan, 1), (nan, 1), (nan, 1), (nan, 1), (nan, 1), (nan, 1), (nan, 1), (nan, 1), (nan, 1), (nan, 1), (nan, 1), (nan, 1), (nan, 1), (nan, 1), (nan, 1), (nan, 1), (nan, 1), (nan, 1), (nan, 1), (nan, 1), (nan, 1), (nan, 1), (nan, 1), (nan, 1), (nan, 1), (nan, 1), (nan, 1), (nan, 1), (nan, 1), (nan, 1), (nan, 1), (nan, 1), (nan, 1), (nan, 1), (nan, 1), (nan, 1), (nan, 1), (nan, 1), (nan, 1), (nan, 1), (nan, 1), (nan, 1), (nan, 1), (nan, 1), (nan, 1), (nan, 1), (nan, 1), (nan, 1), (nan, 1), (nan, 1), (nan, 1), (nan, 1), (nan, 1), (nan, 1), (nan, 1), (nan, 1), (nan, 1), (nan, 1), (nan, 1), (nan, 1), (nan, 1), (nan, 1), (nan, 1), (nan, 1), (nan, 1), (nan, 1), (nan, 1), (nan, 1), (nan, 1), (nan, 1), (nan, 1), (nan, 1), (nan, 1), (nan, 1), (nan, 1), (nan, 1), (nan, 1), (nan, 1), (nan, 1), (nan, 1), (nan, 1), (nan, 1), (nan, 1), (nan, 1), (nan, 1), (nan, 1), (nan, 1), (nan, 1), (nan, 1), (nan, 1), (nan, 1), (nan, 1), (nan, 1), (nan, 1), (nan, 1), (nan, 1), (nan, 1), (nan, 1), (nan, 1), (nan, 1), (nan, 1), (nan, 1), (nan, 1), (nan, 1), (nan, 1), (nan, 1), (nan, 1), (nan, 1), (nan, 1), (nan, 1), (nan, 1), (nan, 1), (nan, 1), (nan, 1), (nan, 1), (nan, 1), (nan, 1), (nan, 1), (nan, 1), (nan, 1), (nan, 1), (nan, 1), (nan, 1), (nan, 1), (nan, 1), (nan, 1), (nan, 1), (nan, 1), (nan, 1), (nan, 1), (nan, 1), (nan, 1), (nan, 1), (nan, 1), (nan, 1), (nan, 1), (nan, 1), (nan, 1), (nan, 1), (nan, 1), (nan, 1), (nan, 1), (nan, 1), (nan, 1), (nan, 1), (nan, 1), (nan, 1), (nan, 1), (nan, 1), (nan, 1), (nan, 1), (nan, 1), (nan, 1), (nan, 1), (nan, 1), (nan, 1), (nan, 1), (nan, 1), (nan, 1), (nan, 1), (nan, 1), (nan, 1), (nan, 1), (nan, 1), (nan, 1), (nan, 1), (nan, 1), (nan, 1), (nan, 1), (nan, 1), (nan, 1), (nan, 1), (nan, 1), (nan, 1), (nan, 1), (nan, 1), (nan, 1), (nan, 1), (nan, 1), (nan, 1), (nan, 1), (nan, 1), (nan, 1), (nan, 1), (nan, 1), (nan, 1), (nan, 1), (nan, 1), (nan, 1), (nan, 1), (nan, 1), (nan, 1), (nan, 1), (nan, 1), (nan, 1), (nan, 1), (nan, 1), (nan, 1), (nan, 1), (nan, 1), (nan, 1), (nan, 1), (nan, 1), (nan, 1), (nan, 1), (nan, 1), (nan, 1), (nan, 1), (nan, 1), (nan, 1), (nan, 1), (nan, 1), (nan, 1), (nan, 1), (nan, 1), (nan, 1), (nan, 1), (nan, 1), (nan, 1), (nan, 1), (nan, 1), (nan, 1), (nan, 1), (nan, 1), (nan, 1), (nan, 1), (nan, 1), (nan, 1), (nan, 1), (nan, 1), (nan, 1), (nan, 1), (nan, 1), (nan, 1), (nan, 1), (nan, 1), (nan, 1), (nan, 1), (nan, 1), (nan, 1), (nan, 1), (nan, 1), (nan, 1), (nan, 1), (nan, 1), (nan, 1), (nan, 1), (nan, 1), (nan, 1), (nan, 1), (nan, 1), (nan, 1), (nan, 1), (nan, 1), (nan, 1), (nan, 1), (nan, 1), (nan, 1), (nan, 1), (nan, 1), (nan, 1), (nan, 1), (nan, 1), (nan, 1), (nan, 1), (nan, 1), (nan, 1), (nan, 1), (nan, 1), (nan, 1), (nan, 1), (nan, 1), (nan, 1), (nan, 1), (nan, 1), (nan, 1), (nan, 1), (nan, 1), (nan, 1), (nan, 1), (nan, 1), (nan, 1), (nan, 1), (nan, 1), (nan, 1), (nan, 1), (nan, 1), (nan, 1), (nan, 1), (nan, 1), (nan, 1), (nan, 1), (nan, 1), (nan, 1), (nan, 1), (nan, 1), (nan, 1), (nan, 1), (nan, 1), (nan, 1), (nan, 1), (nan, 1), (nan, 1), (nan, 1), (nan, 1), (nan, 1), (nan, 1), (nan, 1), (nan, 1), (nan, 1), (nan, 1), (nan, 1), (nan, 1), (nan, 1), (nan, 1), (nan, 1), (nan, 1), (nan, 1), (nan, 1), (nan, 1), (nan, 1), (nan, 1), (nan, 1), (nan, 1), (nan, 1), (nan, 1), (nan, 1), (nan, 1), (nan, 1), (nan, 1), (nan, 1), (nan, 1), (nan, 1), (nan, 1), (nan, 1), (nan, 1), (nan, 1), (nan, 1), (nan, 1), (nan, 1), (nan, 1), (nan, 1), (nan, 1), (nan, 1), (nan, 1), (nan, 1), (nan, 1), (nan, 1), (nan, 1), (nan, 1), (nan, 1), (nan, 1), (nan, 1), (nan, 1), (nan, 1), (nan, 1), (nan, 1), (nan, 1), (nan, 1), (nan, 1), (nan, 1), (nan, 1), (nan, 1), (nan, 1), (nan, 1), (nan, 1), (nan, 1), (nan, 1), (nan, 1), (nan, 1), (nan, 1), (nan, 1), (nan, 1), (nan, 1), (nan, 1), (nan, 1), (nan, 1), (nan, 1), (nan, 1), (nan, 1), (nan, 1), (nan, 1), (nan, 1), (nan, 1), (nan, 1), (nan, 1), (nan, 1), (nan, 1), (nan, 1), (nan, 1), (nan, 1), (nan, 1), (nan, 1), (nan, 1), (nan, 1), (nan, 1), (nan, 1), (nan, 1), (nan, 1), (nan, 1), (nan, 1), (nan, 1), (nan, 1), (nan, 1), (nan, 1), (nan, 1), (nan, 1), (nan, 1), (nan, 1), (nan, 1), (nan, 1), (nan, 1), (nan, 1), (nan, 1), (nan, 1), (nan, 1), (nan, 1), (nan, 1), (nan, 1), (nan, 1), (nan, 1), (nan, 1), (nan, 1), (nan, 1), (nan, 1), (nan, 1), (nan, 1), (nan, 1), (nan, 1), (nan, 1), (nan, 1), (nan, 1), (nan, 1), (nan, 1), (nan, 1), (nan, 1), (nan, 1), (nan, 1), (nan, 1), (nan, 1), (nan, 1), (nan, 1), (nan, 1), (nan, 1), (nan, 1), (nan, 1), (nan, 1), (nan, 1), (nan, 1), (nan, 1), (nan, 1), (nan, 1), (nan, 1), (nan, 1), (nan, 1), (nan, 1), (nan, 1), (nan, 1), (nan, 1), (nan, 1), (nan, 1), (nan, 1), (nan, 1), (nan, 1), (nan, 1), (nan, 1), (nan, 1), (nan, 1), (nan, 1), (nan, 1), (nan, 1), (nan, 1), (nan, 1), (nan, 1), (nan, 1), (nan, 1), (nan, 1), (nan, 1), (nan, 1), (nan, 1), (nan, 1), (nan, 1), (nan, 1), (nan, 1), (nan, 1), (nan, 1), (nan, 1), (nan, 1), (nan, 1), (nan, 1), (nan, 1), (nan, 1), (nan, 1), (nan, 1), (nan, 1), (nan, 1), (nan, 1), (nan, 1), (nan, 1), (nan, 1), (nan, 1), (nan, 1), (nan, 1), (nan, 1), (nan, 1), (nan, 1), (nan, 1), (nan, 1), (nan, 1), (nan, 1), (nan, 1), (nan, 1), (nan, 1), (nan, 1), (nan, 1), (nan, 1), (nan, 1), (nan, 1), (nan, 1), (nan, 1), (nan, 1), (nan, 1), (nan, 1), (nan, 1), (nan, 1), (nan, 1), (nan, 1), (nan, 1), (nan, 1), (nan, 1), (nan, 1), (nan, 1), (nan, 1), (nan, 1), (nan, 1), (nan, 1), (nan, 1), (nan, 1), (nan, 1), (nan, 1), (nan, 1), (nan, 1), (nan, 1), (nan, 1), (nan, 1), (nan, 1), (nan, 1), (nan, 1), (nan, 1), (nan, 1), (nan, 1), (nan, 1), (nan, 1), (nan, 1), (nan, 1), (nan, 1), (nan, 1), (nan, 1), (nan, 1), (nan, 1), (nan, 1), (nan, 1), (nan, 1), (nan, 1), (nan, 1), (nan, 1), (nan, 1), (nan, 1), (nan, 1), (nan, 1), (nan, 1), (nan, 1), (nan, 1), (nan, 1), (nan, 1), (nan, 1), (nan, 1), (nan, 1), (nan, 1), (nan, 1), (nan, 1), (nan, 1), (nan, 1), (nan, 1), (nan, 1), (nan, 1), (nan, 1), (nan, 1), (nan, 1), (nan, 1), (nan, 1), (nan, 1), (nan, 1), (nan, 1), (nan, 1), (nan, 1), (nan, 1), (nan, 1), (nan, 1), (nan, 1), (nan, 1), (nan, 1), (nan, 1), (nan, 1), (nan, 1), (nan, 1), (nan, 1), (nan, 1), (nan, 1), (nan, 1), (nan, 1), (nan, 1), (nan, 1), (nan, 1), (nan, 1), (nan, 1), (nan, 1), (nan, 1), (nan, 1), (nan, 1), (nan, 1), (nan, 1), (nan, 1), (nan, 1), (nan, 1), (nan, 1), (nan, 1), (nan, 1), (nan, 1), (nan, 1), (nan, 1), (nan, 1), (nan, 1), (nan, 1), (nan, 1), (nan, 1), (nan, 1), (nan, 1), (nan, 1), (nan, 1), (nan, 1), (nan, 1), (nan, 1), (nan, 1), (nan, 1), (nan, 1), (nan, 1), (nan, 1), (nan, 1), (nan, 1), (nan, 1), (nan, 1), (nan, 1), (nan, 1), (nan, 1), (nan, 1), (nan, 1), (nan, 1), (nan, 1), (nan, 1), (nan, 1), (nan, 1), (nan, 1), (nan, 1), (nan, 1), (nan, 1), (nan, 1), (nan, 1), (nan, 1), (nan, 1), (nan, 1), (nan, 1), (nan, 1), (nan, 1), (nan, 1), (nan, 1), (nan, 1), (nan, 1), (nan, 1), (nan, 1), (nan, 1), (nan, 1), (nan, 1), (nan, 1), (nan, 1), (nan, 1), (nan, 1), (nan, 1), (nan, 1), (nan, 1), (nan, 1), (nan, 1), (nan, 1), (nan, 1), (nan, 1), (nan, 1), (nan, 1), (nan, 1), (nan, 1), (nan, 1), (nan, 1), (nan, 1), (nan, 1), (nan, 1), (nan, 1), (nan, 1), (nan, 1), (nan, 1), (nan, 1), (nan, 1), (nan, 1), (nan, 1), (nan, 1), (nan, 1), (nan, 1), (nan, 1), (nan, 1), (nan, 1), (nan, 1), (nan, 1), (nan, 1), (nan, 1), (nan, 1), (nan, 1), (nan, 1), (nan, 1), (nan, 1), (nan, 1), (nan, 1), (nan, 1), (nan, 1), (nan, 1), (nan, 1), (nan, 1), (nan, 1), (nan, 1), (nan, 1), (nan, 1), (nan, 1), (nan, 1), (nan, 1), (nan, 1), (nan, 1), (nan, 1), (nan, 1), (nan, 1), (nan, 1), (nan, 1), (nan, 1), (nan, 1), (nan, 1), (nan, 1), (nan, 1), (nan, 1), (nan, 1), (nan, 1), (nan, 1), (nan, 1), (nan, 1), (nan, 1), (nan, 1), (nan, 1), (nan, 1), (nan, 1), (nan, 1), (nan, 1), (nan, 1), (nan, 1), (nan, 1), (nan, 1), (nan, 1), (nan, 1), (nan, 1), (nan, 1), (nan, 1), (nan, 1), (nan, 1), (nan, 1), (nan, 1), (nan, 1), (nan, 1), (nan, 1), (nan, 1), (nan, 1), (nan, 1), (nan, 1), (nan, 1), (nan, 1), (nan, 1), (nan, 1), (nan, 1), (nan, 1), (nan, 1), (nan, 1), (nan, 1), (nan, 1), (nan, 1), (nan, 1), (nan, 1), (nan, 1), (nan, 1), (nan, 1), (nan, 1), (nan, 1), (nan, 1), (nan, 1), (nan, 1), (nan, 1), (nan, 1), (nan, 1), (nan, 1), (nan, 1), (nan, 1), (nan, 1), (nan, 1), (nan, 1), (nan, 1), (nan, 1), (nan, 1), (nan, 1), (nan, 1), (nan, 1), (nan, 1), (nan, 1), (nan, 1), (nan, 1), (nan, 1), (nan, 1), (nan, 1), (nan, 1), (nan, 1), (nan, 1), (nan, 1), (nan, 1), (nan, 1), (nan, 1), (nan, 1), (nan, 1), (nan, 1), (nan, 1), (nan, 1), (nan, 1), (nan, 1), (nan, 1), (nan, 1), (nan, 1), (nan, 1), (nan, 1), (nan, 1), (nan, 1), (nan, 1), (nan, 1), (nan, 1), (nan, 1), (nan, 1), (nan, 1), (nan, 1), (nan, 1), (nan, 1), (nan, 1), (nan, 1), (nan, 1), (nan, 1), (nan, 1), (nan, 1), (nan, 1), (nan, 1), (nan, 1), (nan, 1), (nan, 1), (nan, 1), (nan, 1), (nan, 1), (nan, 1), (nan, 1), (nan, 1), (nan, 1), (nan, 1), (nan, 1), (nan, 1), (nan, 1), (nan, 1), (nan, 1), (nan, 1), (nan, 1), (nan, 1), (nan, 1), (nan, 1), (nan, 1), (nan, 1), (nan, 1), (nan, 1)]\n"
          ]
        }
      ]
    },
    {
      "cell_type": "code",
      "source": [],
      "metadata": {
        "id": "zg1wvB0RwRYY"
      },
      "execution_count": null,
      "outputs": []
    },
    {
      "cell_type": "code",
      "source": [
        "import math\n",
        "nan_count = sum(1 for tup in count_issuance_app.most_common() if math.isnan(tup[0]) and tup[1] == 1)\n",
        "print(\"Number of (nan, 1) tuples:\", nan_count)"
      ],
      "metadata": {
        "colab": {
          "base_uri": "https://localhost:8080/"
        },
        "id": "YWtbF1AkPBHI",
        "outputId": "ae391f2f-88fd-4ef5-ee7d-4830080d6fe7"
      },
      "execution_count": null,
      "outputs": [
        {
          "output_type": "stream",
          "name": "stdout",
          "text": [
            "Number of (nan, 1) tuples: 6847\n"
          ]
        }
      ]
    },
    {
      "cell_type": "code",
      "source": [
        "f_df.isna().sum()"
      ],
      "metadata": {
        "colab": {
          "base_uri": "https://localhost:8080/"
        },
        "id": "eXOTqH_zwTIG",
        "outputId": "48025772-6c4f-44c0-f798-aa4087bce40a"
      },
      "execution_count": null,
      "outputs": [
        {
          "output_type": "execute_result",
          "data": {
            "text/plain": [
              "ΑΙΤΗΣΗ                                     1\n",
              "ΗΜΕΡΟΜΗΝΙΑ ΥΠΟΒΟΛΗΣ ΑΙΤΗΣΗΣ             6751\n",
              "ΕΤΑΙΡΕΙΑ                                   1\n",
              "AΡΙΘΜΟΣ ΜΗΤΡΩΟΥ ΑΔΕΙΩΝ                     1\n",
              "ΗΜΕΡΟΜΗΝΙΑ ΕΚΔ. ΑΔ.ΠΑΡΑΓΩΓΗΣ            4724\n",
              "ΗΜΕΡΟΜΗΝΙΑ ΛΗΞΗΣ ΑΔ.ΠΑΡΑΓΩΓΗΣ           3019\n",
              "ΠΕΡΙΦΕΡΕΙΑ                                 1\n",
              "ΠΕΡΙΦΕΡΕΙΑΚΗ ΕΝΟΤΗΤΑ                       1\n",
              "ΔΗΜΟΣ                                      1\n",
              "ΔΗΜΟΤΙΚΗ ΕΝΟΤΗΤΑ                           5\n",
              "ΘΕΣΗ                                       1\n",
              "ΜΕΓΙΣΤΗ ΙΣΧΥΣ (MW)                         1\n",
              "ΤΕΧΝΟΛΟΓΙΑ                                 1\n",
              "ΗΜΕΡΟΜΗΝΙΑ ΥΠΟΒΟΛΗ-ΕΚΔ. ΑΔ.ΠΑΡΑΓΩΓΗΣ    6847\n",
              "ΗΜΕΡΟΜΗΝΙΑ ΕΚΔ.-ΛΗΞΗ ΑΔ.ΠΑΡΑΓΩΓΗΣ       4739\n",
              "dtype: int64"
            ]
          },
          "metadata": {},
          "execution_count": 58
        }
      ]
    },
    {
      "cell_type": "code",
      "source": [
        "count_terminate_issuance = Counter(terminate_issuance) # πόσα χρόνια μεταξύ λ΄ήξης και έναρξης της επεξεργασίας\n",
        "print(count_terminate_issuance.most_common(30))\n",
        "nan_count_terminated = sum(1 for tup in count_terminate_issuance.most_common() if math.isnan(tup[0]) and tup[1] == 1)\n",
        "print('Nan values',nan_count_terminated)"
      ],
      "metadata": {
        "colab": {
          "base_uri": "https://localhost:8080/"
        },
        "id": "OgnWcVC4dgos",
        "outputId": "d479bf2f-4d29-4ac3-ac31-f65e915b247f"
      },
      "execution_count": null,
      "outputs": [
        {
          "output_type": "stream",
          "name": "stdout",
          "text": [
            "[(25.0, 10497), (15.0, 68), (40.0, 48), (0.0, 19), (50.0, 17), (37.0, 16), (38.0, 15), (19.0, 13), (16.0, 12), (39.0, 11), (20.0, 9), (27.0, 8), (-75.0, 7), (18.0, 7), (30.0, 7), (36.0, 6), (24.0, 5), (43.0, 5), (17.0, 5), (34.0, 4), (46.0, 3), (14.0, 3), (44.0, 2), (28.0, 2), (22.0, 2), (nan, 1), (23.0, 1), (nan, 1), (nan, 1), (nan, 1)]\n",
            "Nan values 4739\n"
          ]
        }
      ]
    },
    {
      "cell_type": "code",
      "source": [
        "#Αν και οι 2 ημερομηνείς είναι 0 τότε δεν μπορώ να κάνω κάτι\n",
        "same_time_nan = f_df.index[(f_df['ΗΜΕΡΟΜΗΝΙΑ ΛΗΞΗΣ ΑΔ.ΠΑΡΑΓΩΓΗΣ'].isna())&(f_df['ΗΜΕΡΟΜΗΝΙΑ ΕΚΔ. ΑΔ.ΠΑΡΑΓΩΓΗΣ'].isna())].tolist()\n",
        "print(len(same_time_nan))\n",
        "selected_nan_time_df = f_df[f_df.index.isin(same_time_nan)]\n",
        "clear_time_df = f_df.drop(same_time_nan)\n",
        "clear_time_df = clear_time_df.drop_duplicates(keep='first')\n",
        "clear_time_df.reset_index(drop=True,inplace=True)\n",
        "clear_time_df['ΗΜΕΡΟΜΗΝΙΑ ΕΚΔ.-ΛΗΞΗ ΑΔ.ΠΑΡΑΓΩΓΗΣ'] = clear_time_df['ΗΜΕΡΟΜΗΝΙΑ ΕΚΔ.-ΛΗΞΗ ΑΔ.ΠΑΡΑΓΩΓΗΣ'].round()\n",
        "index_minus_75= clear_time_df.index[clear_time_df['ΗΜΕΡΟΜΗΝΙΑ ΕΚΔ.-ΛΗΞΗ ΑΔ.ΠΑΡΑΓΩΓΗΣ']==-75.0]\n",
        "index_0 =  clear_time_df.index[clear_time_df['ΗΜΕΡΟΜΗΝΙΑ ΕΚΔ.-ΛΗΞΗ ΑΔ.ΠΑΡΑΓΩΓΗΣ']==0.0]"
      ],
      "metadata": {
        "colab": {
          "base_uri": "https://localhost:8080/"
        },
        "id": "Bi5sATIzd4Gd",
        "outputId": "509cba52-8466-4227-c121-b8d96164796e"
      },
      "execution_count": null,
      "outputs": [
        {
          "output_type": "stream",
          "name": "stdout",
          "text": [
            "3004\n"
          ]
        }
      ]
    },
    {
      "cell_type": "markdown",
      "source": [
        "some cleaning for negative values"
      ],
      "metadata": {
        "id": "1MgfztGSfNBy"
      }
    },
    {
      "cell_type": "code",
      "source": [
        "clear_time_df_copy = clear_time_df.copy()\n",
        "for inda in index_0:\n",
        "    clear_time_df_copy.loc[inda,'ΗΜΕΡΟΜΗΝΙΑ ΛΗΞΗΣ ΑΔ.ΠΑΡΑΓΩΓΗΣ'] = clear_time_df_copy.loc[inda,'ΗΜΕΡΟΜΗΝΙΑ ΕΚΔ. ΑΔ.ΠΑΡΑΓΩΓΗΣ'] + pd.DateOffset(years=25)\n",
        "\n",
        "some_results_0 = (clear_time_df_copy['ΗΜΕΡΟΜΗΝΙΑ ΛΗΞΗΣ ΑΔ.ΠΑΡΑΓΩΓΗΣ'] - clear_time_df_copy['ΗΜΕΡΟΜΗΝΙΑ ΕΚΔ. ΑΔ.ΠΑΡΑΓΩΓΗΣ']).dt.total_seconds().astype(float)\n",
        "some_results_0 = some_results_0/(3600*24*365)\n",
        "some_results_0=some_results_0.round()\n",
        "clear_time_df_copy['ΗΜΕΡΟΜΗΝΙΑ ΕΚΔ.-ΛΗΞΗ ΑΔ.ΠΑΡΑΓΩΓΗΣ'] = some_results_0\n",
        "\n",
        "for inda in index_minus_75:\n",
        "    clear_time_df_copy.loc[inda,'ΗΜΕΡΟΜΗΝΙΑ ΛΗΞΗΣ ΑΔ.ΠΑΡΑΓΩΓΗΣ'] = clear_time_df_copy.loc[inda,'ΗΜΕΡΟΜΗΝΙΑ ΕΚΔ. ΑΔ.ΠΑΡΑΓΩΓΗΣ'] + pd.DateOffset(years=25)\n",
        "some_results_75 = (clear_time_df_copy['ΗΜΕΡΟΜΗΝΙΑ ΛΗΞΗΣ ΑΔ.ΠΑΡΑΓΩΓΗΣ'] - clear_time_df_copy['ΗΜΕΡΟΜΗΝΙΑ ΕΚΔ. ΑΔ.ΠΑΡΑΓΩΓΗΣ']).dt.total_seconds().astype(float)\n",
        "some_results_75 = some_results_75/(3600*24*365)\n",
        "some_results_75=some_results_75.round()\n",
        "clear_time_df_copy['ΗΜΕΡΟΜΗΝΙΑ ΕΚΔ.-ΛΗΞΗ ΑΔ.ΠΑΡΑΓΩΓΗΣ'] = some_results_75\n",
        "index_submission_values = clear_time_df_copy.index[clear_time_df_copy['ΗΜΕΡΟΜΗΝΙΑ ΛΗΞΗΣ ΑΔ.ΠΑΡΑΓΩΓΗΣ'].isna()]\n",
        "index_termination_values =clear_time_df_copy.index[clear_time_df_copy['ΗΜΕΡΟΜΗΝΙΑ ΕΚΔ. ΑΔ.ΠΑΡΑΓΩΓΗΣ'].isna()]\n",
        "# print(index_termination_values)\n",
        "c_t_df = clear_time_df_copy.copy()\n",
        "for s_inde in index_submission_values:\n",
        "    c_t_df.loc[s_inde,'ΗΜΕΡΟΜΗΝΙΑ ΛΗΞΗΣ ΑΔ.ΠΑΡΑΓΩΓΗΣ'] = c_t_df.loc[s_inde,'ΗΜΕΡΟΜΗΝΙΑ ΕΚΔ. ΑΔ.ΠΑΡΑΓΩΓΗΣ'] + pd.DateOffset(years=25)\n",
        "\n",
        "for ter_inde in index_termination_values:\n",
        "    c_t_df.loc[ter_inde,'ΗΜΕΡΟΜΗΝΙΑ ΕΚΔ. ΑΔ.ΠΑΡΑΓΩΓΗΣ'] = c_t_df.loc[ter_inde,'ΗΜΕΡΟΜΗΝΙΑ ΛΗΞΗΣ ΑΔ.ΠΑΡΑΓΩΓΗΣ'] - pd.DateOffset(years=25)\n",
        "\n",
        "some_results_final = (c_t_df['ΗΜΕΡΟΜΗΝΙΑ ΛΗΞΗΣ ΑΔ.ΠΑΡΑΓΩΓΗΣ'] - c_t_df['ΗΜΕΡΟΜΗΝΙΑ ΕΚΔ. ΑΔ.ΠΑΡΑΓΩΓΗΣ']).dt.total_seconds().astype(float)\n",
        "some_results_final = some_results_final/(3600*24*365)\n",
        "some_results_final=some_results_final.round()\n",
        "c_t_df['ΗΜΕΡΟΜΗΝΙΑ ΕΚΔ.-ΛΗΞΗ ΑΔ.ΠΑΡΑΓΩΓΗΣ'] = some_results_final\n",
        "index_minus_2 = c_t_df.index[c_t_df['ΗΜΕΡΟΜΗΝΙΑ ΕΚΔ.-ΛΗΞΗ ΑΔ.ΠΑΡΑΓΩΓΗΣ']==-2.0]\n",
        "# print(c_t_df.loc[index_minus_2])\n",
        "for inda in index_minus_2:\n",
        "    c_t_df.loc[inda,'ΗΜΕΡΟΜΗΝΙΑ ΛΗΞΗΣ ΑΔ.ΠΑΡΑΓΩΓΗΣ'] = c_t_df.loc[inda,'ΗΜΕΡΟΜΗΝΙΑ ΕΚΔ. ΑΔ.ΠΑΡΑΓΩΓΗΣ'] + pd.DateOffset(years=25)\n",
        "some_results_2 = (c_t_df['ΗΜΕΡΟΜΗΝΙΑ ΛΗΞΗΣ ΑΔ.ΠΑΡΑΓΩΓΗΣ'] - c_t_df['ΗΜΕΡΟΜΗΝΙΑ ΕΚΔ. ΑΔ.ΠΑΡΑΓΩΓΗΣ']).dt.total_seconds().astype(float)\n",
        "some_results_2 = some_results_2/(3600*24*365)\n",
        "some_results_2=some_results_2.round()\n",
        "c_t_df['ΗΜΕΡΟΜΗΝΙΑ ΕΚΔ.-ΛΗΞΗ ΑΔ.ΠΑΡΑΓΩΓΗΣ'] = some_results_2"
      ],
      "metadata": {
        "id": "PIRjYPOfetHk"
      },
      "execution_count": null,
      "outputs": []
    },
    {
      "cell_type": "code",
      "source": [
        "print(c_t_df.isna().any())\n",
        "final_count = Counter(c_t_df['ΗΜΕΡΟΜΗΝΙΑ ΕΚΔ.-ΛΗΞΗ ΑΔ.ΠΑΡΑΓΩΓΗΣ'].values)\n",
        "print(final_count.most_common(30))\n"
      ],
      "metadata": {
        "colab": {
          "base_uri": "https://localhost:8080/"
        },
        "id": "jMhKHAOKfVbK",
        "outputId": "5684ae57-0179-4c26-cbd1-c0b5bf1e5e87"
      },
      "execution_count": null,
      "outputs": [
        {
          "output_type": "stream",
          "name": "stdout",
          "text": [
            "ΑΙΤΗΣΗ                                  False\n",
            "ΗΜΕΡΟΜΗΝΙΑ ΥΠΟΒΟΛΗΣ ΑΙΤΗΣΗΣ              True\n",
            "ΕΤΑΙΡΕΙΑ                                False\n",
            "AΡΙΘΜΟΣ ΜΗΤΡΩΟΥ ΑΔΕΙΩΝ                  False\n",
            "ΗΜΕΡΟΜΗΝΙΑ ΕΚΔ. ΑΔ.ΠΑΡΑΓΩΓΗΣ            False\n",
            "ΗΜΕΡΟΜΗΝΙΑ ΛΗΞΗΣ ΑΔ.ΠΑΡΑΓΩΓΗΣ           False\n",
            "ΠΕΡΙΦΕΡΕΙΑ                              False\n",
            "ΠΕΡΙΦΕΡΕΙΑΚΗ ΕΝΟΤΗΤΑ                    False\n",
            "ΔΗΜΟΣ                                   False\n",
            "ΔΗΜΟΤΙΚΗ ΕΝΟΤΗΤΑ                         True\n",
            "ΘΕΣΗ                                    False\n",
            "ΜΕΓΙΣΤΗ ΙΣΧΥΣ (MW)                      False\n",
            "ΤΕΧΝΟΛΟΓΙΑ                              False\n",
            "ΗΜΕΡΟΜΗΝΙΑ ΥΠΟΒΟΛΗ-ΕΚΔ. ΑΔ.ΠΑΡΑΓΩΓΗΣ     True\n",
            "ΗΜΕΡΟΜΗΝΙΑ ΕΚΔ.-ΛΗΞΗ ΑΔ.ΠΑΡΑΓΩΓΗΣ       False\n",
            "dtype: bool\n",
            "[(25.0, 12259), (15.0, 68), (40.0, 48), (50.0, 17), (37.0, 16), (38.0, 15), (19.0, 13), (16.0, 12), (39.0, 11), (20.0, 9), (27.0, 8), (18.0, 7), (30.0, 7), (36.0, 6), (24.0, 5), (43.0, 5), (17.0, 5), (34.0, 4), (46.0, 3), (14.0, 3), (44.0, 2), (28.0, 2), (22.0, 2), (23.0, 1), (52.0, 1), (47.0, 1), (51.0, 1), (31.0, 1), (35.0, 1), (11.0, 1)]\n"
          ]
        }
      ]
    },
    {
      "cell_type": "code",
      "source": [
        "c_t_df.drop_duplicates(keep='first',inplace=True)\n",
        "c_t_df.reset_index(drop=True,inplace=True)\n",
        "print(len(c_t_df))\n",
        "# c_t_df.to_csv('./timestamp_correction.csv')"
      ],
      "metadata": {
        "colab": {
          "base_uri": "https://localhost:8080/"
        },
        "id": "BpY2QoT5fXXh",
        "outputId": "35aab965-8e5e-494d-c4be-4091439e5583"
      },
      "execution_count": null,
      "outputs": [
        {
          "output_type": "stream",
          "name": "stdout",
          "text": [
            "12490\n"
          ]
        }
      ]
    },
    {
      "cell_type": "code",
      "source": [
        "# v_1_df = pd.read_csv('./timestamp_correction.csv',index_col=False)\n",
        "v_1_df = c_t_df\n",
        "v_1_df.loc[v_1_df['ΠΕΡΙΦΕΡΕΙΑ']=='ΣΤ ΕΛΛΑΔΑΣ','ΠΕΡΙΦΕΡΕΙΑ'] = 'ΣΤΕΡΕΑΣ ΕΛΛΑΔΟΣ'\n",
        "v_1_df.loc[v_1_df['ΠΕΡΙΦΕΡΕΙΑ']=='ΠΕΛΟΠΟΝΝΗΣΟΥ ','ΠΕΡΙΦΕΡΕΙΑ'] = 'ΠΕΛΟΠΟΝΝΗΣΟΥ'\n",
        "v_1_df.loc[v_1_df['ΠΕΡΙΦΕΡΕΙΑ']=='ΣΤΕΡΕΑΣ ΕΛΛΑΔΑΣ','ΠΕΡΙΦΕΡΕΙΑ'] = 'ΣΤΕΡΕΑΣ ΕΛΛΑΔΟΣ'\n",
        "v_1_df.loc[v_1_df['ΠΕΡΙΦΕΡΕΙΑ']=='ΔΥΤΙΚΗΣ ΕΛΛΑΔΑΣ','ΠΕΡΙΦΕΡΕΙΑ'] = 'ΔΥΤΙΚΗΣ ΕΛΛΑΔΟΣ'\n",
        "v_1_df.loc[v_1_df['ΠΕΡΙΦΕΡΕΙΑ']=='Κ ΜΑΚΕΔΟΝΙΑΣ','ΠΕΡΙΦΕΡΕΙΑ'] = 'ΚΕΝΤΡΙΚΗΣ ΜΑΚΕΔΟΝΙΑΣ'\n",
        "v_1_df.loc[v_1_df['ΠΕΡΙΦΕΡΕΙΑ']=='ΑΝ ΜΑΚΕΔΟΝΙΑΣ ΘΡΑΚΗΣ','ΠΕΡΙΦΕΡΕΙΑ'] = 'ΑΝΑΤΟΛΙΚΗΣ ΜΑΚΕΔΟΝΙΑΣ ΚΑΙ ΘΡΑΚΗΣ'\n",
        "v_1_df.loc[v_1_df['ΠΕΡΙΦΕΡΕΙΑ']=='Δ ΜΑΚΕΔΟΝΙΑΣ','ΠΕΡΙΦΕΡΕΙΑ'] = 'ΔΥΤΙΚΗΣ ΜΑΚΕΔΟΝΙΑΣ'\n",
        "v_1_df.loc[v_1_df['ΠΕΡΙΦΕΡΕΙΑ']=='Δ ΕΛΛΑΔΑΣ','ΠΕΡΙΦΕΡΕΙΑ'] = 'ΔΥΤΙΚΗΣ ΕΛΛΑΔΟΣ'\n",
        "v_1_df.loc[v_1_df['ΠΕΡΙΦΕΡΕΙΑ']=='ΑΝ. ΜΑΚΕΔΟΝΙΑΣ & ΘΡΑΚΗΣ','ΠΕΡΙΦΕΡΕΙΑ'] = 'ΑΝΑΤΟΛΙΚΗΣ ΜΑΚΕΔΟΝΙΑΣ ΚΑΙ ΘΡΑΚΗΣ'\n",
        "v_1_df.loc[v_1_df['ΠΕΡΙΦΕΡΕΙΑ']=='Ν ΑΙΓΑΙΟΥ','ΠΕΡΙΦΕΡΕΙΑ'] = 'ΝΟΤΙΟΥ ΑΙΓΑΙΟΥ'\n",
        "v_1_df.loc[v_1_df['ΠΕΡΙΦΕΡΕΙΑ']=='Β ΑΙΓΑΙΟΥ','ΠΕΡΙΦΕΡΕΙΑ'] = 'ΒΟΡΕΙΟΥ ΑΙΓΑΙΟΥ'\n",
        "v_1_df.loc[v_1_df['ΠΕΡΙΦΕΡΕΙΑ']=='ΑΝΑΤΟΛΙΚΗΣ ΜΑΚΕΔΟΝΙΑΣ & ΘΡΑΚΗΣ','ΠΕΡΙΦΕΡΕΙΑ'] = 'ΑΝΑΤΟΛΙΚΗΣ ΜΑΚΕΔΟΝΙΑΣ ΚΑΙ ΘΡΑΚΗΣ'\n",
        "v_1_df.loc[v_1_df['ΠΕΡΙΦΕΡΕΙΑ']=='ΙΟΝΙΩΝ ΝΗΣΩΝ','ΠΕΡΙΦΕΡΕΙΑ'] =  'ΙΟΝΙΩΝ ΝΗΣΙΩΝ'\n",
        "v_1_df.loc[v_1_df['ΠΕΡΙΦΕΡΕΙΑ']=='ΘΕΣΣΑΛΙΑΣ,ΣΤΕΡΕΑΣ ΕΛΛΑΔΑΣ','ΠΕΡΙΦΕΡΕΙΑ'] = 'ΘΕΣΣΑΛΙΑΣ ΚΑΙ ΣΤΕΡΕΑΣ ΕΛΛΑΔΟΣ'\n",
        "v_1_df.loc[v_1_df['ΠΕΡΙΦΕΡΕΙΑ']=='ΔΥΤΙΚΗΣ ΕΛΛΑΔΟΣ & ΣΤΕΡΕΑΣ ΕΛΛΑΔΟΣ','ΠΕΡΙΦΕΡΕΙΑ'] = 'ΔΥΤΙΚΗΣ ΕΛΛΑΔΟΣ ΚΑΙ ΣΤΕΡΕΑΣ ΕΛΛΑΔΟΣ'\n",
        "v_1_df.loc[v_1_df['ΠΕΡΙΦΕΡΕΙΑ']=='ΑΝΑΤΟΛΙΚΗΣ ΜΑΚΕΔΟΝΙΑΣ ΘΡΑΚΗΣ','ΠΕΡΙΦΕΡΕΙΑ'] = 'ΑΝΑΤΟΛΙΚΗΣ ΜΑΚΕΔΟΝΙΑΣ ΚΑΙ ΘΡΑΚΗΣ'\n",
        "v_1_df.loc[v_1_df['ΠΕΡΙΦΕΡΕΙΑ']=='ΘΕΣΣΑΛΙΑΣ,ΗΠΕΙΡΟΥ','ΠΕΡΙΦΕΡΕΙΑ'] = 'ΘΕΣΣΑΛΙΑΣ ΚΑΙ ΗΠΕΙΡΟΥ'\n",
        "v_1_df.loc[v_1_df['ΠΕΡΙΦΕΡΕΙΑ']=='ΣΤΕΡΕΑΣ ΕΛΛΑΔΟΣ','ΠΕΡΙΦΕΡΕΙΑ'] = 'ΣΤΕΡΕΑΣ ΕΛΛΑΔΟΣ'\n",
        "v_1_df.loc[v_1_df['ΠΕΡΙΦΕΡΕΙΑ']=='ΔΥΤΙΚΗΣ ΜΑΚΕΔΟΝΙΑΣ,ΚΕΝΤΡΙΚΗΣ ΜΑΚΕΔΟΝΙΑΣ ','ΠΕΡΙΦΕΡΕΙΑ'] = 'ΚΕΝΤΡΙΚΗΣ ΜΑΚΕΔΟΝΙΑΣ ΚΑΙ ΔΥΤΙΚΗΣ ΜΑΚΕΔΟΝΙΑΣ'\n",
        "v_1_df.loc[v_1_df['ΠΕΡΙΦΕΡΕΙΑ']=='ΑΤΤΙΚΗΣ,ΣΤΕΡΕΑΣ ΕΛΛΑΔΑΣ','ΠΕΡΙΦΕΡΕΙΑ'] = 'ΑΤΤΙΚΗΣ ΚΑΙ ΣΤΕΡΕΑΣ ΕΛΛΑΔΟΣ'\n",
        "v_1_df.loc[v_1_df['ΠΕΡΙΦΕΡΕΙΑ']=='ΔΥΤΙΚΗΣ ΕΛΛΑΔΟΣ ','ΠΕΡΙΦΕΡΕΙΑ'] = 'ΔΥΤΙΚΗΣ ΕΛΛΑΔΟΣ'\n",
        "v_1_df.loc[v_1_df['ΠΕΡΙΦΕΡΕΙΑ']=='ΗΠΕΙΡΟΥ','ΠΕΡΙΦΕΡΕΙΑ'] = 'ΗΠΕΙΡΟΥ '\n",
        "v_1_df.loc[v_1_df['ΠΕΡΙΦΕΡΕΙΑ']=='ΘΕΣΣΑΛΙΑΣ - ΣΤΕΡΕΑΣ ΕΛΛΑΔΑΣ','ΠΕΡΙΦΕΡΕΙΑ'] = 'ΘΕΣΣΑΛΙΑΣ ΚΑΙ ΣΤΕΡΕΑΣ ΕΛΛΑΔΟΣ'\n",
        "v_1_df.loc[v_1_df['ΠΕΡΙΦΕΡΕΙΑ']=='ΘΕΣΣΑΛΙΑΣ,ΔΥΤΙΚΗΣ ΜΑΚΕΔΟΝΙΑΣ','ΠΕΡΙΦΕΡΕΙΑ'] = 'ΘΕΣΣΑΛΙΑΣ ΚΑΙ ΔΥΤΙΚΗΣ ΜΑΚΕΔΟΝΙΑΣ'\n",
        "v_1_df.loc[v_1_df['ΠΕΡΙΦΕΡΕΙΑ']=='ΠΕΛΟΠΟΝΝΗΣΟΥ,ΔΥΤΙΚΗΣ ΕΛΛΑΔΑΣ','ΠΕΡΙΦΕΡΕΙΑ'] = 'ΠΕΛΟΠΟΝΝΗΣΟΥ ΚΑΙ ΔΥΤΙΚΗΣ ΕΛΛΑΔΟΣ'\n",
        "v_1_df.loc[v_1_df['ΠΕΡΙΦΕΡΕΙΑ']=='ΣΤΕΡΕΑΣ ΕΛΛΑΔΟΣ  -  ΑΤΤΙΚΗΣ','ΠΕΡΙΦΕΡΕΙΑ'] = 'ΑΤΤΙΚΗΣ ΚΑΙ ΣΤΕΡΕΑΣ ΕΛΛΑΔΟΣ'\n",
        "v_1_df.loc[v_1_df['ΠΕΡΙΦΕΡΕΙΑ']=='ΚΕΝΤΡΙΚΗΣ ΜΑΚΕΔΟΝΙΑΣ ','ΠΕΡΙΦΕΡΕΙΑ'] = 'ΚΕΝΤΡΙΚΗΣ ΜΑΚΕΔΟΝΙΑΣ'\n",
        "v_1_df.loc[v_1_df['ΠΕΡΙΦΕΡΕΙΑ']=='ΣΤΕΡΕΑΣ ΕΛΛΑΔΟΣ - ΘΕΣΣΑΛΙΑΣ','ΠΕΡΙΦΕΡΕΙΑ'] = 'ΘΕΣΣΑΛΙΑΣ ΚΑΙ ΣΤΕΡΕΑΣ ΕΛΛΑΔΟΣ'\n",
        "v_1_df.loc[v_1_df['ΠΕΡΙΦΕΡΕΙΑ']=='ΑΝ. ΜΑΚΕΔΟΝΙΑΣ & ΘΡΑΚΗΣ,ΚΕΝΤΡΙΚΗΣ ΜΑΚΕΔΟΝΙΑΣ','ΠΕΡΙΦΕΡΕΙΑ'] = 'ΑΝΑΤΟΛΙΚΗΣ ΜΑΚΕΔΟΝΙΑΣ ΚΑΙ ΘΡΑΚΗΣ'\n",
        "v_1_df.loc[v_1_df['ΠΕΡΙΦΕΡΕΙΑ']=='ΔΥΤΙΚΗΣ ΜΑΚΕΔΟΝΙΑΣ,ΘΕΣΣΑΛΙΑΣ','ΠΕΡΙΦΕΡΕΙΑ'] = 'ΘΕΣΣΑΛΙΑΣ ΚΑΙ ΔΥΤΙΚΗΣ ΜΑΚΕΔΟΝΙΑΣ'\n",
        "v_1_df.loc[v_1_df['ΠΕΡΙΦΕΡΕΙΑ']=='ΠΕΛΟΠΟΝΝΗΣΟΥ ','ΠΕΡΙΦΕΡΕΙΑ'] = 'ΠΕΛΟΠΟΝΝΗΣΟΥ'\n",
        "v_1_df.loc[v_1_df['ΠΕΡΙΦΕΡΕΙΑ']=='Δ. ΜΑΚΕΔΟΝΙΑΣ - Κ. ΜΑΚΕΔΟΝΙΑΣ','ΠΕΡΙΦΕΡΕΙΑ'] = 'ΚΕΝΤΡΙΚΗΣ ΜΑΚΕΔΟΝΙΑΣ'\n",
        "v_1_df.loc[v_1_df['ΠΕΡΙΦΕΡΕΙΑ']=='ΠΕΛΟΠΟΝΝΗΣΟΥ, ΑΤΤΙΚΗΣ','ΠΕΡΙΦΕΡΕΙΑ'] = 'ΑΤΤΙΚΗΣ ΚΑΙ ΠΕΛΟΠΟΝΝΗΣΟΥ'\n",
        "v_1_df.loc[v_1_df['ΠΕΡΙΦΕΡΕΙΑ']=='ΣΤΕΡΕΑ ΕΛΛΑΔΑ','ΠΕΡΙΦΕΡΕΙΑ'] = 'ΣΤΕΡΕΑΣ ΕΛΛΑΔΟΣ'\n",
        "v_1_df.loc[v_1_df['ΠΕΡΙΦΕΡΕΙΑ']=='ΔΥΤΙΚΗΣ ΕΛΛΑΔΑΣ & ΣΤΕΡΕΑΣ ΕΛΛΑΔΑΣ','ΠΕΡΙΦΕΡΕΙΑ'] = 'ΔΥΤΙΚΗΣ ΕΛΛΑΔΟΣ ΚΑΙ ΣΤΕΡΕΑΣ ΕΛΛΑΔΟΣ'\n",
        "v_1_df.loc[v_1_df['ΠΕΡΙΦΕΡΕΙΑ']=='ΗΠΕΙΡΟΥ - ΘΕΣΣΑΛΙΑΣ','ΠΕΡΙΦΕΡΕΙΑ'] = 'ΘΕΣΣΑΛΙΑΣ ΚΑΙ ΗΠΕΙΡΟΥ'\n",
        "v_1_df.loc[v_1_df['ΠΕΡΙΦΕΡΕΙΑ']=='ΔΥΤΙΚΗΣ ΕΛΛΑΔΑΣ,ΣΤΕΡΕΑΣ ΕΛΛΑΔΑΣ','ΠΕΡΙΦΕΡΕΙΑ'] = 'ΔΥΤΙΚΗΣ ΕΛΛΑΔΟΣ ΚΑΙ ΣΤΕΡΕΑΣ ΕΛΛΑΔΟΣ'\n",
        "v_1_df.loc[v_1_df['ΠΕΡΙΦΕΡΕΙΑ']=='ΚΕΝΤΡΙΚΗΣ ΜΑΚΕΔΟΝΙΑΣ,ΑΝ. ΜΑΚΕΔΟΝΙΑΣ & ΘΡΑΚΗΣ','ΠΕΡΙΦΕΡΕΙΑ'] = 'ΑΝΑΤΟΛΙΚΗΣ ΜΑΚΕΔΟΝΙΑΣ ΚΑΙ ΘΡΑΚΗΣ'\n",
        "v_1_df.loc[v_1_df['ΠΕΡΙΦΕΡΕΙΑ']=='ΑΤΤΙΚΗΣ ','ΠΕΡΙΦΕΡΕΙΑ'] = 'ΑΤΤΙΚΗΣ'\n",
        "v_1_df.loc[v_1_df['ΠΕΡΙΦΕΡΕΙΑ']=='ΠΕΛΟΠΟΝΝΗΣΟΥ - ΔΥΤΙΚΗΣ ΕΛΛΑΔΑΣ','ΠΕΡΙΦΕΡΕΙΑ'] = 'ΠΕΛΟΠΟΝΝΗΣΟΥ ΚΑΙ ΔΥΤΙΚΗΣ ΕΛΛΑΔOΣ'\n",
        "v_1_df.loc[v_1_df['ΠΕΡΙΦΕΡΕΙΑ']=='ΚΕΝΤΡΙΚΗΣ ΜΑΚΕΔΟΝΙΑΣ - ΘΕΣΣΑΛΙΑΣ','ΠΕΡΙΦΕΡΕΙΑ'] = 'ΘΕΣΣΑΛΙΑΣ ΚΑΙ ΚΕΝΤΡΙΚΗΣ ΜΑΚΕΔΟΝΙΑΣ'\n",
        "v_1_df.loc[v_1_df['ΠΕΡΙΦΕΡΕΙΑ']=='Δ ΜΑΚΕΔΟΝΙΑΣ - ΚΕΝΤΡΙΚΗΣ ΜΑΚΕΔΟΝΙΑΣ','ΠΕΡΙΦΕΡΕΙΑ'] = 'ΜΑΚΕΔΟΝΙΑΣ'\n",
        "v_1_df.loc[v_1_df['ΠΕΡΙΦΕΡΕΙΑ']=='ΔΥΤΙΚΗΣ ΜΑΚΕΔΟΝΙΑΣ,ΚΕΝΤΡΙΚΗΣ ΜΑΚΕΔΟΝΙΑΣ','ΠΕΡΙΦΕΡΕΙΑ'] = 'ΜΑΚΕΔΟΝΙΑΣ'\n",
        "v_1_df.loc[v_1_df['ΠΕΡΙΦΕΡΕΙΑ']=='Δ. ΕΛΛΑΔΑΣ','ΠΕΡΙΦΕΡΕΙΑ'] = 'ΔΥΤΙΚΗΣ ΕΛΛΑΔΟΣ'\n",
        "v_1_df.loc[v_1_df['ΠΕΡΙΦΕΡΕΙΑ']=='ΑΤΤΙΚΗΣ & ΣΤΕΡΕΑΣ ΕΛΛΑΔΟΣ','ΠΕΡΙΦΕΡΕΙΑ'] = 'ΑΤΤΙΚΗΣ ΚΑΙ ΣΤΕΡΕΑΣ ΕΛΛΑΔΟΣ'\n",
        "v_1_df.loc[v_1_df['ΠΕΡΙΦΕΡΕΙΑ']=='ΠΕΛΟΠΟΝΝΗΣΟΥ - ΑΤΤΙΚΗΣ','ΠΕΡΙΦΕΡΕΙΑ'] = 'ΑΤΤΙΚΗΣ ΚΑΙ ΠΕΛΟΠΟΝΝΗΣΟΥ'\n",
        "v_1_df.loc[v_1_df['ΠΕΡΙΦΕΡΕΙΑ']=='ΣΤΕΡΕΑΣ ΕΛΛΑΔΑΣ - ΘΕΣΣΑΛΙΑΣ','ΠΕΡΙΦΕΡΕΙΑ'] = 'ΘΕΣΣΑΛΙΑΣ ΚΑΙ ΣΤΕΡΕΑΣ ΕΛΛΑΔΟΣ'\n",
        "v_1_df.loc[v_1_df['ΠΕΡΙΦΕΡΕΙΑ']=='ΣΤΕΡΕΑΣ ΕΛΛΑΔΟΣ & ΘΕΣΣΑΛΙΑΣ','ΠΕΡΙΦΕΡΕΙΑ'] = 'ΘΕΣΣΑΛΙΑΣ ΚΑΙ ΣΤΕΡΕΑΣ ΕΛΛΑΔΟΣ'\n",
        "v_1_df.loc[v_1_df['ΠΕΡΙΦΕΡΕΙΑ']=='Δ ΜΑΚΕΔΟΝΙΑΣ - Κ ΜΑΚΕΔΟΝΙΑΣ','ΠΕΡΙΦΕΡΕΙΑ'] = 'ΚΕΝΤΡΙΚΗΣ ΜΑΚΕΔΟΝΙΑΣ'\n",
        "v_1_df.loc[v_1_df['ΠΕΡΙΦΕΡΕΙΑ']=='ΑΤΤΙΚΗΣ & ΣΤΕΡΕΑΣ ΕΛΛΑΔΟΣ ','ΠΕΡΙΦΕΡΕΙΑ'] = 'ΑΤΤΙΚΗΣ ΚΑΙ ΣΤΕΡΕΑΣ ΕΛΛΑΔΟΣ'\n",
        "v_1_df.loc[v_1_df['ΠΕΡΙΦΕΡΕΙΑ']=='ΔΥΤΙΚΗΣ ΕΛΛΑΔΟΣ -  ΚΕΝΤΡΙΚΗΣ  ΜΑΚΕΔΟΝΙΑΣ','ΠΕΡΙΦΕΡΕΙΑ'] = 'ΜΑΚΕΔΟΝΙΑΣ ΚΑΙ ΔΥΤΙΚΗΣ ΕΛΛΑΔΟΣ'\n",
        "v_1_df.loc[v_1_df['ΠΕΡΙΦΕΡΕΙΑ']=='ΘΕΣΣΑΛΙΑΣ & ΔΥΤΙΚΗΣ ΜΑΚΕΔΟΝΙΑΣ','ΠΕΡΙΦΕΡΕΙΑ'] = 'ΘΕΣΣΑΛΙΑΣ ΚΑΙ ΔΥΤΙΚΗΣ ΜΑΚΕΔΟΝΙΑΣ'\n",
        "v_1_df.loc[v_1_df['ΠΕΡΙΦΕΡΕΙΑ']=='ΘΕΣΣΑΛΙΑΣ & ΔΥΤΙΚΗΣ ΜΑΚΕΔΟΝΙΑΣ ','ΠΕΡΙΦΕΡΕΙΑ'] = 'ΘΕΣΣΑΛΙΑΣ ΚΑΙ ΔΥΤΙΚΗΣ ΜΑΚΕΔΟΝΙΑΣ'\n",
        "v_1_df.loc[v_1_df['ΠΕΡΙΦΕΡΕΙΑ']=='ΔΥΤΙΚΗΣ ΕΛΛΑΔΑΣ,ΠΕΛΟΠΟΝΝΗΣΟΥ','ΠΕΡΙΦΕΡΕΙΑ']='ΠΕΛΟΠΟΝΝΗΣΟΥ ΚΑΙ ΔΥΤΙΚΗΣ ΕΛΛΑΔΟΣ'\n",
        "v_1_df.loc[v_1_df['ΠΕΡΙΦΕΡΕΙΑ']=='ΑΝ. ΜΑΚΕΔΟΝΙΑΣ & ΘΡΑΚΗΣ ','ΠΕΡΙΦΕΡΕΙΑ']='ΑΝΑΤΟΛΙΚΗΣ ΜΑΚΕΔΟΝΙΑΣ ΚΑΙ ΘΡΑΚΗΣ'\n",
        "v_1_df.loc[v_1_df['ΠΕΡΙΦΕΡΕΙΑ']=='ΑΝΑΤΟΛΙΚΗΣ ΜΑΚΕΔΟΝΙΑΣ & ΘΡΑΚΗΣ ','ΠΕΡΙΦΕΡΕΙΑ']='ΑΝΑΤΟΛΙΚΗΣ ΜΑΚΕΔΟΝΙΑΣ ΚΑΙ ΘΡΑΚΗΣ'\n",
        "v_1_df.loc[v_1_df['ΠΕΡΙΦΕΡΕΙΑ']=='ΣΤΕΡΕΑΣ ΕΛΛΑΔΑΣ,ΘΕΣΣΑΛΙΑΣ','ΠΕΡΙΦΕΡΕΙΑ']= 'ΘΕΣΣΑΛΙΑΣ ΚΑΙ ΣΤΕΡΕΑΣ ΕΛΛΑΔΟΣ'\n",
        "v_1_df.loc[v_1_df['ΠΕΡΙΦΕΡΕΙΑ']=='ΣΤΕΡΕΑΣ ΕΛΛΑΔΟΣ ','ΠΕΡΙΦΕΡΕΙΑ']= 'ΣΤΕΡΕΑΣ ΕΛΛΑΔΟΣ'\n",
        "v_1_df.loc[v_1_df['ΠΕΡΙΦΕΡΕΙΑ']=='ΠΕΛΟΠΟΝΝΗΣΟΥ             ','ΠΕΡΙΦΕΡΕΙΑ']= 'ΠΕΛΟΠΟΝΝΗΣΟΥ'"
      ],
      "metadata": {
        "id": "gVrygAjgfh6L"
      },
      "execution_count": null,
      "outputs": []
    },
    {
      "cell_type": "code",
      "source": [
        "exam_regios = ['ΠΕΛΟΠΟΝΝΗΣΟΥ ΚΑΙ ΔΥΤΙΚΗΣ ΕΛΛΑΔΟΣ',\n",
        " 'ΜΑΚΕΔΟΝΙΑΣ',  'ΜΑΚΕΔΟΝΙΑΣ ΚΑΙ ΔΥΤΙΚΗΣ ΕΛΛΑΔΟΣ',\n",
        " 'ΘΕΣΣΑΛΙΑΣ ΚΑΙ ΣΤΕΡΕΑΣ ΕΛΛΑΔΟΣ','ΑΤΤΙΚΗΣ ΚΑΙ ΣΤΕΡΕΑΣ ΕΛΛΑΔΟΣ',\n",
        " 'ΘΕΣΣΑΛΙΑΣ ΚΑΙ ΔΥΤΙΚΗΣ ΜΑΚΕΔΟΝΙΑΣ','ΔΥΤΙΚΗΣ ΕΛΛΑΔΟΣ ΚΑΙ ΣΤΕΡΕΑΣ ΕΛΛΑΔΟΣ',\n",
        " 'ΑΤΤΙΚΗΣ ΚΑΙ ΠΕΛΟΠΟΝΝΗΣΟΥ','ΘΕΣΣΑΛΙΑΣ ΚΑΙ ΚΕΝΤΡΙΚΗΣ ΜΑΚΕΔΟΝΙΑΣ',\n",
        " 'ΠΕΛΟΠΟΝΝΗΣΟΥ ΚΑΙ ΔΥΤΙΚΗΣ ΕΛΛΑΔOΣ', 'ΘΕΣΣΑΛΙΑΣ ΚΑΙ ΗΠΕΙΡΟΥ',\n",
        " 'ΜΑΚΕΔΟΝΙΑΣ ΚΑΙ ΘΡΑΚΗΣ']\n",
        "find_cities = v_1_df.loc[v_1_df['ΠΕΡΙΦΕΡΕΙΑ'].isin(exam_regios)] # I will drop these values beacuse they belong to multi regions\n",
        "print(len(find_cities))\n",
        "v_2_df = v_1_df.loc[~v_1_df['ΠΕΡΙΦΕΡΕΙΑ'].isin(exam_regios)] #Select only the mandatory regions regions\n",
        "print(len(v_2_df))\n",
        "# drop_geo_columns = ['ΠΕΡΙΦΕΡΕΙΑΚΗ ΕΝΟΤΗΤΑ','ΔΗΜΟΣ ', 'ΘΕΣΗ','Unnamed: 0','ΑΙΤΗΣΗ']\n",
        "# v_2_df.drop(columns=drop_geo_columns,inplace=True)\n",
        "# print(len(v_2_df))\n",
        "# v_3_df =v_2_df.drop_duplicates(keep='first')\n",
        "# v_3_df.drop(columns = ['ΗΜΕΡΟΜΗΝΙΑ ΕΚΔ.-ΛΗΞΗ ΑΔ.ΠΑΡΑΓΩΓΗΣ'],inplace=True)\n",
        "# print(len(v_3_df))"
      ],
      "metadata": {
        "colab": {
          "base_uri": "https://localhost:8080/"
        },
        "id": "_zOR2zTSfsep",
        "outputId": "44f131f2-a490-49c4-d860-41f3fbdffdc7"
      },
      "execution_count": null,
      "outputs": [
        {
          "output_type": "stream",
          "name": "stdout",
          "text": [
            "72\n",
            "12418\n"
          ]
        }
      ]
    },
    {
      "cell_type": "code",
      "source": [
        "print(len(v_4_df['ΤΕΧΝΟΛΟΓΙΑ'].unique()))\n",
        "v_4_df.loc[v_4_df['ΤΕΧΝΟΛΟΓΙΑ']=='ΒΙΟΜΑΖΑ - ΒΙΟΑΕΡΙΟ','ΤΕΧΝΟΛΟΓΙΑ']= 'ΒΙΟΜΑΖΑ'\n",
        "v_4_df.loc[v_4_df['ΤΕΧΝΟΛΟΓΙΑ']=='ΒΙΟΑΕΡΙΟ','ΤΕΧΝΟΛΟΓΙΑ']= 'ΒΙΟΜΑΖΑ'\n",
        "v_4_df.loc[v_4_df['ΤΕΧΝΟΛΟΓΙΑ']=='ΒΙΟΜΑΖΑ-ΒΙΟΑΕΡΙΟ','ΤΕΧΝΟΛΟΓΙΑ']= 'ΒΙΟΜΑΖΑ'\n",
        "v_4_df.loc[v_4_df['ΤΕΧΝΟΛΟΓΙΑ']=='ΑΙΟΛΙΚΑ ','ΤΕΧΝΟΛΟΓΙΑ']= 'ΑΙΟΛΙΚΑ'\n",
        "v_4_df.loc[v_4_df['ΤΕΧΝΟΛΟΓΙΑ']=='ΑΙΟΛΙΚΑ ','ΤΕΧΝΟΛΟΓΙΑ']= 'ΑΙΟΛΙΚΑ'\n",
        "v_4_df.loc[v_4_df['ΤΕΧΝΟΛΟΓΙΑ']=='ΑΙΟΛΙΚΑ  ','ΤΕΧΝΟΛΟΓΙΑ']= 'ΑΙΟΛΙΚΑ'\n",
        "v_4_df.loc[v_4_df['ΤΕΧΝΟΛΟΓΙΑ']=='ΘΑΛ. ΑΙΟΛΙΚΑ ','ΤΕΧΝΟΛΟΓΙΑ']= 'ΑΙΟΛΙΚΑ'\n",
        "v_4_df.loc[v_4_df['ΤΕΧΝΟΛΟΓΙΑ']=='ΘΑΛ. ΑΙΟΛΙΚΑ','ΤΕΧΝΟΛΟΓΙΑ']= 'ΑΙΟΛΙΚΑ'\n",
        "v_4_df.loc[v_4_df['ΤΕΧΝΟΛΟΓΙΑ']=='ΓΕΩΘΕΡΜΙΑ','ΤΕΧΝΟΛΟΓΙΑ']= 'ΑΙΟΛΙΚΑ'\n",
        "v_4_df.loc[v_4_df['ΤΕΧΝΟΛΟΓΙΑ']=='ΒΙΟΜΑΖΑ-ΚΑΥΣΗ','ΤΕΧΝΟΛΟΓΙΑ']= 'ΒΙΟΜΑΖΑ'\n",
        "print(len(v_4_df['ΤΕΧΝΟΛΟΓΙΑ'].unique()))\n",
        "print(len(v_4_df))\n",
        "v_4_df.drop_duplicates(keep='first',inplace=True)\n",
        "print(len(v_4_df))\n",
        "v_4_df['ΗΜΕΡΟΜΗΝΙΑ ΕΚΔ. ΑΔ.ΠΑΡΑΓΩΓΗΣ'] = pd.to_datetime(v_4_df['ΗΜΕΡΟΜΗΝΙΑ ΕΚΔ. ΑΔ.ΠΑΡΑΓΩΓΗΣ'])\n",
        "#Generate the different time characteristics\n",
        "v_4_df['day_week']  = v_4_df['ΗΜΕΡΟΜΗΝΙΑ ΕΚΔ. ΑΔ.ΠΑΡΑΓΩΓΗΣ'].dt.dayofweek\n",
        "v_4_df['day_year'] = v_4_df['ΗΜΕΡΟΜΗΝΙΑ ΕΚΔ. ΑΔ.ΠΑΡΑΓΩΓΗΣ'].dt.day_of_year\n",
        "v_4_df['month'] = v_4_df['ΗΜΕΡΟΜΗΝΙΑ ΕΚΔ. ΑΔ.ΠΑΡΑΓΩΓΗΣ'].dt.month\n",
        "v_4_df['year'] = v_4_df['ΗΜΕΡΟΜΗΝΙΑ ΕΚΔ. ΑΔ.ΠΑΡΑΓΩΓΗΣ'].dt.year\n",
        "v_4_df['quarter'] = v_4_df['ΗΜΕΡΟΜΗΝΙΑ ΕΚΔ. ΑΔ.ΠΑΡΑΓΩΓΗΣ'].dt.quarter\n",
        "v_4_df['week_year'] = v_4_df['ΗΜΕΡΟΜΗΝΙΑ ΕΚΔ. ΑΔ.ΠΑΡΑΓΩΓΗΣ'].dt.isocalendar().week\n",
        "v_4_df.sort_values(by='ΗΜΕΡΟΜΗΝΙΑ ΕΚΔ. ΑΔ.ΠΑΡΑΓΩΓΗΣ',inplace=True)\n",
        "v_4_df.reset_index(inplace=True,drop=True)\n",
        "v_4_df['ΠΕΡΙΦΕΡΕΙΑ'].unique()\n",
        "mapping_region ={\n",
        "    'ΣΤΕΡΕΑΣ ΕΛΛΑΔΟΣ':'ΛΑΜΙΑ',\n",
        "    'ΝΟΤΙΟΥ ΑΙΓΑΙΟΥ':'ΕΡΜΟΥΠΟΛΗ',\n",
        "    'ΚΡΗΤΗΣ':'ΗΡΑΚΛΕΙΟ',\n",
        "    'ΒΟΡΕΙΟΥ ΑΙΓΑΙΟΥ':'ΜΥΤΙΛΗΝΗ',\n",
        "    'ΚΕΝΤΡΙΚΗΣ ΜΑΚΕΔΟΝΙΑΣ':'ΘΕΣΣΑΛΟΝΙΚΗ',\n",
        "    'ΘΕΣΣΑΛΙΑΣ':'ΛΑΡΙΣΑ',\n",
        "    'ΔΥΤΙΚΗΣ ΜΑΚΕΔΟΝΙΑΣ':'ΚΟΖΑΝΗ',\n",
        "    'ΗΠΕΙΡΟΥ ':'ΙΩΑΝΝΙΝΑ',\n",
        "    'ΑΝΑΤΟΛΙΚΗΣ ΜΑΚΕΔΟΝΙΑΣ ΚΑΙ ΘΡΑΚΗΣ':'ΚΟΜΟΤΗΝΗ',\n",
        "    'ΔΥΤΙΚΗΣ ΕΛΛΑΔΟΣ':'ΠΑΤΡΑ',\n",
        "    'ΠΕΛΟΠΟΝΝΗΣΟΥ':'ΤΡΙΠΟΛΗ',\n",
        "    'ΑΤΤΙΚΗΣ':'ΑΘΗΝΑ',\n",
        "    'ΙΟΝΙΩΝ ΝΗΣΙΩΝ':'ΚΕΡΚΥΡΑ'}\n",
        "v_4_df['ΠΟΛΗ'] = v_4_df['ΠΕΡΙΦΕΡΕΙΑ'].map(mapping_region)"
      ],
      "metadata": {
        "id": "43i_M7lNf2IC"
      },
      "execution_count": null,
      "outputs": []
    }
  ]
}